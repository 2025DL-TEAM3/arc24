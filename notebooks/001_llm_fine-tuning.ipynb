{
 "cells": [
  {
   "cell_type": "markdown",
   "metadata": {},
   "source": [
    "# LLM fine-tuning"
   ]
  },
  {
   "cell_type": "markdown",
   "metadata": {},
   "source": [
    "## Goal"
   ]
  },
  {
   "cell_type": "markdown",
   "metadata": {},
   "source": [
    "Fine-tune an LLM to learn to count objects in a grid, or to solve ARC tasks."
   ]
  },
  {
   "cell_type": "markdown",
   "metadata": {},
   "source": [
    "I might do 2 steps of fine-tuning:\n",
    "\n",
    "1. Learning priors, f.e. learning to count\n",
    "2. Solve ARC tasks"
   ]
  },
  {
   "cell_type": "markdown",
   "metadata": {},
   "source": [
    "## References"
   ]
  },
  {
   "cell_type": "markdown",
   "metadata": {},
   "source": [
    "- https://github.com/ironbar/prompt_recovery/blob/main/notebooks/012_fine-tune_llama.ipynb\n",
    "- https://www.kaggle.com/code/ironbar/few-shot-prompting-for-arc24"
   ]
  },
  {
   "cell_type": "markdown",
   "metadata": {},
   "source": [
    "## Imports"
   ]
  },
  {
   "cell_type": "code",
   "execution_count": 23,
   "metadata": {},
   "outputs": [],
   "source": [
    "import json\n",
    "from abc import ABC, abstractmethod\n",
    "import numpy as np\n",
    "from termcolor import colored\n",
    "from tqdm.auto import tqdm\n",
    "import matplotlib.pyplot as plt\n",
    "import matplotlib as mpl\n",
    "\n",
    "import torch\n",
    "from transformers import AutoModelForCausalLM, AutoTokenizer, TrainingArguments\n",
    "from peft import LoraConfig, PeftModel, prepare_model_for_kbit_training\n",
    "from trl import SFTTrainer, DataCollatorForCompletionOnlyLM\n",
    "from datasets import Dataset\n",
    "\n",
    "plt.plot()\n",
    "plt.close('all')\n",
    "plt.rcParams[\"figure.figsize\"] = (20, 5)  \n",
    "mpl.rcParams['lines.linewidth'] = 3\n",
    "mpl.rcParams['font.size'] = 16"
   ]
  },
  {
   "cell_type": "markdown",
   "metadata": {},
   "source": [
    "## Configuration"
   ]
  },
  {
   "cell_type": "code",
   "execution_count": 29,
   "metadata": {},
   "outputs": [],
   "source": [
    "class cfg:\n",
    "    model_path = \"/home/gbarbadillo/data/Phi-3-mini-128k-instruct\"\n",
    "    train_dataset = '/mnt/hdd0/Kaggle/arc24/data/learn_to_count_10000.json'\n",
    "    val_dataset = '/mnt/hdd0/Kaggle/arc24/data/learn_to_count_1000.json'\n",
    "    max_seq_len = 512\n",
    "    output_dir = '/mnt/hdd0/Kaggle/arc24/models/20240724_first_trainings/02_phi3_1e5_dataset'"
   ]
  },
  {
   "cell_type": "markdown",
   "metadata": {},
   "source": [
    "## Model"
   ]
  },
  {
   "cell_type": "code",
   "execution_count": 3,
   "metadata": {},
   "outputs": [
    {
     "data": {
      "application/vnd.jupyter.widget-view+json": {
       "model_id": "f11f36a8855649ea9df4d54dd532bf94",
       "version_major": 2,
       "version_minor": 0
      },
      "text/plain": [
       "Loading checkpoint shards:   0%|          | 0/2 [00:00<?, ?it/s]"
      ]
     },
     "metadata": {},
     "output_type": "display_data"
    }
   ],
   "source": [
    "model = AutoModelForCausalLM.from_pretrained(\n",
    "    cfg.model_path,\n",
    "    #quantization_config=bnb_config,\n",
    "    device_map='balanced',\n",
    "    trust_remote_code=True,\n",
    "    torch_dtype=torch.bfloat16,\n",
    "    )"
   ]
  },
  {
   "cell_type": "code",
   "execution_count": 4,
   "metadata": {},
   "outputs": [
    {
     "name": "stderr",
     "output_type": "stream",
     "text": [
      "Special tokens have been added in the vocabulary, make sure the associated word embeddings are fine-tuned or trained.\n"
     ]
    }
   ],
   "source": [
    "tokenizer = AutoTokenizer.from_pretrained(\n",
    "    cfg.model_path,\n",
    "    trust_remote_code=True)"
   ]
  },
  {
   "cell_type": "code",
   "execution_count": 5,
   "metadata": {},
   "outputs": [
    {
     "data": {
      "text/plain": [
       "{'bos_token': '<s>',\n",
       " 'eos_token': '<|endoftext|>',\n",
       " 'unk_token': '<unk>',\n",
       " 'pad_token': '<|endoftext|>'}"
      ]
     },
     "execution_count": 5,
     "metadata": {},
     "output_type": "execute_result"
    }
   ],
   "source": [
    "tokenizer.special_tokens_map"
   ]
  },
  {
   "cell_type": "code",
   "execution_count": 6,
   "metadata": {},
   "outputs": [
    {
     "name": "stdout",
     "output_type": "stream",
     "text": [
      "GPU 0 memory allocated: 3.6 GB, max memory allocated: 3.6 GB\n",
      "GPU 1 memory allocated: 3.6 GB, max memory allocated: 3.6 GB\n"
     ]
    }
   ],
   "source": [
    "def print_gpu_memory():\n",
    "    for device in range(torch.cuda.device_count()):\n",
    "        print(f'GPU {device} memory allocated: {torch.cuda.memory_allocated(device)/1024**3:.1f} GB, max memory allocated: {torch.cuda.max_memory_allocated(device)/1024**3:.1f} GB')\n",
    "print_gpu_memory()"
   ]
  },
  {
   "cell_type": "markdown",
   "metadata": {},
   "source": [
    "## Data"
   ]
  },
  {
   "cell_type": "markdown",
   "metadata": {},
   "source": [
    "### Grid encoders"
   ]
  },
  {
   "cell_type": "code",
   "execution_count": 7,
   "metadata": {},
   "outputs": [],
   "source": [
    "class GridEncoder(ABC):\n",
    "    @abstractmethod\n",
    "    def to_text(self, grid):\n",
    "        pass\n",
    "    \n",
    "    @abstractmethod\n",
    "    def to_grid(self, text):\n",
    "        pass"
   ]
  },
  {
   "cell_type": "code",
   "execution_count": 8,
   "metadata": {},
   "outputs": [],
   "source": [
    "sample_grid = np.eye(3, dtype=int).tolist()\n",
    "\n",
    "def test_translator(translator):\n",
    "    assert sample_grid == translator.to_grid(translator.to_text(sample_grid))\n",
    "    print(translator.to_text(sample_grid))"
   ]
  },
  {
   "cell_type": "code",
   "execution_count": 9,
   "metadata": {},
   "outputs": [
    {
     "name": "stdout",
     "output_type": "stream",
     "text": [
      "100\n",
      "010\n",
      "001\n"
     ]
    }
   ],
   "source": [
    "class MinimalGridEncoder(GridEncoder):\n",
    "    @staticmethod\n",
    "    def to_text(grid):\n",
    "        text = '\\n'.join([''.join([str(x) for x in line]) for line in grid])\n",
    "        return text\n",
    "    \n",
    "    @staticmethod\n",
    "    def to_grid(text):\n",
    "        lines = text.strip().splitlines()\n",
    "        grid = [[int(x) for x in line] for line in lines]\n",
    "        return grid\n",
    "        \n",
    "test_translator(MinimalGridEncoder())"
   ]
  },
  {
   "cell_type": "code",
   "execution_count": 10,
   "metadata": {},
   "outputs": [
    {
     "name": "stdout",
     "output_type": "stream",
     "text": [
      "1|0|0\n",
      "0|1|0\n",
      "0|0|1\n"
     ]
    }
   ],
   "source": [
    "class GridWithSeparationEncoder(GridEncoder):\n",
    "    def __init__(self, split_symbol):\n",
    "        self.split_symbol = split_symbol\n",
    "\n",
    "    def to_text(self, grid):\n",
    "        text = '\\n'.join([self.split_symbol.join([str(x) for x in line]) for line in grid])\n",
    "        return text\n",
    "\n",
    "    def to_grid(self, text):\n",
    "        lines = text.strip().splitlines()\n",
    "        grid = [[int(x) for x in line.split(self.split_symbol)] for line in lines]\n",
    "        return grid\n",
    "\n",
    "test_translator(GridWithSeparationEncoder('|'))"
   ]
  },
  {
   "cell_type": "code",
   "execution_count": 11,
   "metadata": {},
   "outputs": [
    {
     "name": "stdout",
     "output_type": "stream",
     "text": [
      "```grid\n",
      "100\n",
      "010\n",
      "001\n",
      "```\n",
      "```grid\n",
      "1|0|0\n",
      "0|1|0\n",
      "0|0|1\n",
      "```\n"
     ]
    }
   ],
   "source": [
    "class GridCodeBlockEncoder(GridEncoder):\n",
    "    def __init__(self, base_encoder):\n",
    "        self.encoder = base_encoder\n",
    "\n",
    "    def to_text(self, grid):\n",
    "        text = f'```grid\\n{self.encoder.to_text(grid)}\\n```'\n",
    "        return text\n",
    "\n",
    "    def to_grid(self, text):\n",
    "        grid_text = text.split('```grid\\n')[1].split('\\n```')[0]\n",
    "        grid = self.encoder.to_grid(grid_text)\n",
    "        return grid\n",
    "\n",
    "test_translator(GridCodeBlockEncoder(MinimalGridEncoder()))\n",
    "\n",
    "test_translator(GridCodeBlockEncoder(GridWithSeparationEncoder('|')))"
   ]
  },
  {
   "cell_type": "markdown",
   "metadata": {},
   "source": [
    "### Load data"
   ]
  },
  {
   "cell_type": "code",
   "execution_count": 12,
   "metadata": {},
   "outputs": [
    {
     "name": "stdout",
     "output_type": "stream",
     "text": [
      "There are 9995 samples in the dataset\n"
     ]
    }
   ],
   "source": [
    "with open(cfg.dataset) as f:\n",
    "    data = json.load(f)\n",
    "print(f'There are {len(data)} samples in the dataset')"
   ]
  },
  {
   "cell_type": "markdown",
   "metadata": {},
   "source": [
    "### Format data"
   ]
  },
  {
   "cell_type": "code",
   "execution_count": 30,
   "metadata": {},
   "outputs": [],
   "source": [
    "def create_dataset(filepath, grid_encoder):\n",
    "    with open(filepath, 'r') as f:\n",
    "        data = json.load(f)\n",
    "\n",
    "    prompts = []\n",
    "\n",
    "    for sample_id, sample in tqdm(data.items(), total=len(data)):\n",
    "        first_message = True\n",
    "        messages = [{'role': 'system', 'content': 'You are a helpful AI assistant'}]\n",
    "        for question, answer in sample['questions'].items():\n",
    "            if first_message:\n",
    "                content = grid_encoder.to_text(sample['grid']) + '\\n' + question\n",
    "                first_message = False\n",
    "            else:\n",
    "                content = question\n",
    "            messages.append({'role': 'user', 'content': content})\n",
    "            messages.append({'role': 'assistant', 'content': str(answer)})\n",
    "        prompt = tokenizer.apply_chat_template(messages,\n",
    "                                            tokenize=False,\n",
    "                                            add_generation_prompt=True)\n",
    "        prompts.append(prompt)\n",
    "\n",
    "    pretty_print_prompt(prompts[0])\n",
    "\n",
    "    prompt_lengths = [len(tokenizer.encode(prompt)) for prompt in tqdm(prompts)]\n",
    "    plt.hist(prompt_lengths, bins=100);\n",
    "    plt.title('Prompt length distribution')\n",
    "    plt.xlabel('Number of tokens');\n",
    "    plt.show()\n",
    "\n",
    "    prompts = [prompt for prompt, prompt_length in zip(prompts, prompt_lengths) if prompt_length < cfg.max_seq_len]\n",
    "    print(f'Using {len(prompts)} prompts after removing those longer than {cfg.max_seq_len} tokens')\n",
    "\n",
    "    dataset = Dataset.from_dict({'text': prompts})\n",
    "    return dataset\n",
    "\n",
    "def pretty_print_prompt(text, default_color='white'):\n",
    "    color = default_color\n",
    "    attrs = None\n",
    "    for line in text.splitlines():\n",
    "        if line.startswith('<|assistant|>'):\n",
    "            color = 'blue'\n",
    "        elif line.startswith('<|user|>'):\n",
    "            color = default_color\n",
    "        elif line.startswith('<|system|>'):\n",
    "            color = 'green'\n",
    "        if line.startswith('<'):\n",
    "            attrs = ['bold']\n",
    "        else:\n",
    "            attrs = None\n",
    "        print(colored(line, color, attrs=attrs))"
   ]
  },
  {
   "cell_type": "code",
   "execution_count": 31,
   "metadata": {},
   "outputs": [
    {
     "data": {
      "application/vnd.jupyter.widget-view+json": {
       "model_id": "714053f13ee742f59d50abf6da0287fa",
       "version_major": 2,
       "version_minor": 0
      },
      "text/plain": [
       "  0%|          | 0/9995 [00:00<?, ?it/s]"
      ]
     },
     "metadata": {},
     "output_type": "display_data"
    },
    {
     "name": "stdout",
     "output_type": "stream",
     "text": [
      "\u001b[1m\u001b[32m<|system|>\u001b[0m\n",
      "\u001b[32mYou are a helpful AI assistant<|end|>\u001b[0m\n",
      "\u001b[1m\u001b[97m<|user|>\u001b[0m\n",
      "\u001b[97m```grid\u001b[0m\n",
      "\u001b[97m00086\u001b[0m\n",
      "\u001b[97m02000\u001b[0m\n",
      "\u001b[97m02100\u001b[0m\n",
      "\u001b[97m21112\u001b[0m\n",
      "\u001b[97m20112\u001b[0m\n",
      "\u001b[97m```\u001b[0m\n",
      "\u001b[97mHow many objects are there in the grid?<|end|>\u001b[0m\n",
      "\u001b[1m\u001b[34m<|assistant|>\u001b[0m\n",
      "\u001b[34m5<|end|>\u001b[0m\n",
      "\u001b[1m\u001b[97m<|user|>\u001b[0m\n",
      "\u001b[97mPlease list the area of all the objects in the grid, in ascending order and separated by commas<|end|>\u001b[0m\n",
      "\u001b[1m\u001b[34m<|assistant|>\u001b[0m\n",
      "\u001b[34m1, 1, 2, 4, 6<|end|>\u001b[0m\n",
      "\u001b[1m\u001b[97m<|user|>\u001b[0m\n",
      "\u001b[97mWhat is the area of the biggest object in the grid?<|end|>\u001b[0m\n",
      "\u001b[1m\u001b[34m<|assistant|>\u001b[0m\n",
      "\u001b[34m6<|end|>\u001b[0m\n",
      "\u001b[1m\u001b[97m<|user|>\u001b[0m\n",
      "\u001b[97mWhat is the color of the biggest object in the grid?<|end|>\u001b[0m\n",
      "\u001b[1m\u001b[34m<|assistant|>\u001b[0m\n",
      "\u001b[34m1<|end|>\u001b[0m\n",
      "\u001b[1m\u001b[97m<|user|>\u001b[0m\n",
      "\u001b[97mWhat is the area of the smallest object in the grid?<|end|>\u001b[0m\n",
      "\u001b[1m\u001b[34m<|assistant|>\u001b[0m\n",
      "\u001b[34m1<|end|>\u001b[0m\n",
      "\u001b[1m\u001b[97m<|user|>\u001b[0m\n",
      "\u001b[97mHow many objects with color 1 are there in the grid?<|end|>\u001b[0m\n",
      "\u001b[1m\u001b[34m<|assistant|>\u001b[0m\n",
      "\u001b[34m1<|end|>\u001b[0m\n",
      "\u001b[1m\u001b[97m<|user|>\u001b[0m\n",
      "\u001b[97mHow many objects with color 2 are there in the grid?<|end|>\u001b[0m\n",
      "\u001b[1m\u001b[34m<|assistant|>\u001b[0m\n",
      "\u001b[34m2<|end|>\u001b[0m\n",
      "\u001b[1m\u001b[97m<|user|>\u001b[0m\n",
      "\u001b[97mHow many objects with color 6 are there in the grid?<|end|>\u001b[0m\n",
      "\u001b[1m\u001b[34m<|assistant|>\u001b[0m\n",
      "\u001b[34m1<|end|>\u001b[0m\n",
      "\u001b[1m\u001b[97m<|user|>\u001b[0m\n",
      "\u001b[97mHow many objects with color 8 are there in the grid?<|end|>\u001b[0m\n",
      "\u001b[1m\u001b[34m<|assistant|>\u001b[0m\n",
      "\u001b[34m1<|end|>\u001b[0m\n",
      "\u001b[1m\u001b[34m<|assistant|>\u001b[0m\n"
     ]
    },
    {
     "data": {
      "application/vnd.jupyter.widget-view+json": {
       "model_id": "b36a1d44f0f24aa29bb379fe9e5ac2d5",
       "version_major": 2,
       "version_minor": 0
      },
      "text/plain": [
       "  0%|          | 0/9995 [00:00<?, ?it/s]"
      ]
     },
     "metadata": {},
     "output_type": "display_data"
    },
    {
     "data": {
      "image/png": "[encoded data removed]",
      "text/plain": [
       "<Figure size 2000x500 with 1 Axes>"
      ]
     },
     "metadata": {},
     "output_type": "display_data"
    },
    {
     "name": "stdout",
     "output_type": "stream",
     "text": [
      "Using 9980 prompts after removing those longer than 512 tokens\n"
     ]
    }
   ],
   "source": [
    "grid_encoder = GridCodeBlockEncoder(MinimalGridEncoder())\n",
    "train_dataset = create_dataset(cfg.train_dataset, grid_encoder)"
   ]
  },
  {
   "cell_type": "code",
   "execution_count": 32,
   "metadata": {},
   "outputs": [
    {
     "data": {
      "application/vnd.jupyter.widget-view+json": {
       "model_id": "bd37c6495d014508a995eaa7c2ce56c5",
       "version_major": 2,
       "version_minor": 0
      },
      "text/plain": [
       "  0%|          | 0/999 [00:00<?, ?it/s]"
      ]
     },
     "metadata": {},
     "output_type": "display_data"
    },
    {
     "name": "stdout",
     "output_type": "stream",
     "text": [
      "\u001b[1m\u001b[32m<|system|>\u001b[0m\n",
      "\u001b[32mYou are a helpful AI assistant<|end|>\u001b[0m\n",
      "\u001b[1m\u001b[97m<|user|>\u001b[0m\n",
      "\u001b[97m```grid\u001b[0m\n",
      "\u001b[97m66060\u001b[0m\n",
      "\u001b[97m66660\u001b[0m\n",
      "\u001b[97m66666\u001b[0m\n",
      "\u001b[97m70088\u001b[0m\n",
      "\u001b[97m27000\u001b[0m\n",
      "\u001b[97m```\u001b[0m\n",
      "\u001b[97mHow many objects are there in the grid?<|end|>\u001b[0m\n",
      "\u001b[1m\u001b[34m<|assistant|>\u001b[0m\n",
      "\u001b[34m4<|end|>\u001b[0m\n",
      "\u001b[1m\u001b[97m<|user|>\u001b[0m\n",
      "\u001b[97mPlease list the area of all the objects in the grid, in ascending order and separated by commas<|end|>\u001b[0m\n",
      "\u001b[1m\u001b[34m<|assistant|>\u001b[0m\n",
      "\u001b[34m1, 2, 2, 12<|end|>\u001b[0m\n",
      "\u001b[1m\u001b[97m<|user|>\u001b[0m\n",
      "\u001b[97mWhat is the area of the biggest object in the grid?<|end|>\u001b[0m\n",
      "\u001b[1m\u001b[34m<|assistant|>\u001b[0m\n",
      "\u001b[34m12<|end|>\u001b[0m\n",
      "\u001b[1m\u001b[97m<|user|>\u001b[0m\n",
      "\u001b[97mWhat is the color of the biggest object in the grid?<|end|>\u001b[0m\n",
      "\u001b[1m\u001b[34m<|assistant|>\u001b[0m\n",
      "\u001b[34m6<|end|>\u001b[0m\n",
      "\u001b[1m\u001b[97m<|user|>\u001b[0m\n",
      "\u001b[97mWhat is the area of the smallest object in the grid?<|end|>\u001b[0m\n",
      "\u001b[1m\u001b[34m<|assistant|>\u001b[0m\n",
      "\u001b[34m1<|end|>\u001b[0m\n",
      "\u001b[1m\u001b[97m<|user|>\u001b[0m\n",
      "\u001b[97mWhat is the color of the smallest object in the grid?<|end|>\u001b[0m\n",
      "\u001b[1m\u001b[34m<|assistant|>\u001b[0m\n",
      "\u001b[34m2<|end|>\u001b[0m\n",
      "\u001b[1m\u001b[97m<|user|>\u001b[0m\n",
      "\u001b[97mHow many objects with color 2 are there in the grid?<|end|>\u001b[0m\n",
      "\u001b[1m\u001b[34m<|assistant|>\u001b[0m\n",
      "\u001b[34m1<|end|>\u001b[0m\n",
      "\u001b[1m\u001b[97m<|user|>\u001b[0m\n",
      "\u001b[97mHow many objects with color 6 are there in the grid?<|end|>\u001b[0m\n",
      "\u001b[1m\u001b[34m<|assistant|>\u001b[0m\n",
      "\u001b[34m1<|end|>\u001b[0m\n",
      "\u001b[1m\u001b[97m<|user|>\u001b[0m\n",
      "\u001b[97mHow many objects with color 7 are there in the grid?<|end|>\u001b[0m\n",
      "\u001b[1m\u001b[34m<|assistant|>\u001b[0m\n",
      "\u001b[34m1<|end|>\u001b[0m\n",
      "\u001b[1m\u001b[97m<|user|>\u001b[0m\n",
      "\u001b[97mHow many objects with color 8 are there in the grid?<|end|>\u001b[0m\n",
      "\u001b[1m\u001b[34m<|assistant|>\u001b[0m\n",
      "\u001b[34m1<|end|>\u001b[0m\n",
      "\u001b[1m\u001b[34m<|assistant|>\u001b[0m\n"
     ]
    },
    {
     "data": {
      "application/vnd.jupyter.widget-view+json": {
       "model_id": "1f4cfdb12dfc43c7928c1ede4b22bd98",
       "version_major": 2,
       "version_minor": 0
      },
      "text/plain": [
       "  0%|          | 0/999 [00:00<?, ?it/s]"
      ]
     },
     "metadata": {},
     "output_type": "display_data"
    },
    {
     "data": {
      "image/png": "[encoded data removed]",
      "text/plain": [
       "<Figure size 2000x500 with 1 Axes>"
      ]
     },
     "metadata": {},
     "output_type": "display_data"
    },
    {
     "name": "stdout",
     "output_type": "stream",
     "text": [
      "Using 999 prompts after removing those longer than 512 tokens\n"
     ]
    }
   ],
   "source": [
    "val_dataset = create_dataset(cfg.val_dataset, grid_encoder)"
   ]
  },
  {
   "cell_type": "markdown",
   "metadata": {},
   "source": [
    "## Train"
   ]
  },
  {
   "cell_type": "code",
   "execution_count": 21,
   "metadata": {},
   "outputs": [],
   "source": [
    "peft_config = LoraConfig(\n",
    "    # lora_alpha: LoRA scaling factor.\n",
    "    lora_alpha=64, #64,\n",
    "    lora_dropout=0.1, # 0.1, althought Vaca suggested to use 0.05 for big models\n",
    "    # r: the rank of the update matrices, expressed in int. Lower rank results in smaller update matrices with fewer trainable parameters.\n",
    "    r=16, #16\n",
    "    bias=\"none\",\n",
    "    task_type=\"CAUSAL_LM\",\n",
    "    # target_modules: The modules (for example, attention blocks) to apply the LoRA update matrices.\n",
    "    target_modules= ['k_proj', 'q_proj', 'v_proj', 'o_proj']\n",
    ")"
   ]
  },
  {
   "cell_type": "code",
   "execution_count": 25,
   "metadata": {},
   "outputs": [
    {
     "name": "stdout",
     "output_type": "stream",
     "text": [
      "Logging steps: 50\n"
     ]
    }
   ],
   "source": [
    "logging_steps = len(train_dataset)//16\n",
    "logging_steps = 50\n",
    "print(f'Logging steps: {logging_steps}')\n",
    "training_arguments = TrainingArguments(\n",
    "        output_dir=cfg.output_dir,\n",
    "        evaluation_strategy=\"steps\",\n",
    "        do_eval=True,\n",
    "        optim=\"paged_adamw_8bit\",\n",
    "        per_device_train_batch_size=8, # 4-16 should be fine for lora.\n",
    "        gradient_accumulation_steps=2,\n",
    "        per_device_eval_batch_size=8,\n",
    "        log_level=\"debug\",\n",
    "        save_steps=logging_steps, #50,\n",
    "        logging_steps=logging_steps, #50,\n",
    "        learning_rate=4e-5, # maybe we can increase this\n",
    "        eval_steps=logging_steps, #50,\n",
    "        max_steps=(len(train_dataset)//16)*10, #300,\n",
    "        warmup_steps=30,\n",
    "        lr_scheduler_type=\"linear\",\n",
    ")"
   ]
  },
  {
   "cell_type": "code",
   "execution_count": 27,
   "metadata": {},
   "outputs": [
    {
     "name": "stderr",
     "output_type": "stream",
     "text": [
      "/home/gbarbadillo/miniconda3/envs/prometeo/lib/python3.10/site-packages/trl/trainer/utils.py:110: UserWarning: The pad_token_id and eos_token_id values of this tokenizer are identical. If you are planning for multi-turn training, it can result in the model continuously generating questions and answers without eos token. To avoid this, set the pad_token_id to a different value.\n",
      "  warnings.warn(\n"
     ]
    }
   ],
   "source": [
    "data_collator = DataCollatorForCompletionOnlyLM(\n",
    "    tokenizer=tokenizer,\n",
    "    instruction_template='<|user|>',\n",
    "    response_template='<|assistant|>')"
   ]
  },
  {
   "cell_type": "code",
   "execution_count": 28,
   "metadata": {},
   "outputs": [
    {
     "name": "stderr",
     "output_type": "stream",
     "text": [
      "Special tokens have been added in the vocabulary, make sure the associated word embeddings are fine-tuned or trained.\n"
     ]
    },
    {
     "data": {
      "application/vnd.jupyter.widget-view+json": {
       "model_id": "352e9436e194407e82bf888662f02e2a",
       "version_major": 2,
       "version_minor": 0
      },
      "text/plain": [
       "Map:   0%|          | 0/8980 [00:00<?, ? examples/s]"
      ]
     },
     "metadata": {},
     "output_type": "display_data"
    },
    {
     "data": {
      "application/vnd.jupyter.widget-view+json": {
       "model_id": "cc5bf78cc3104f29851f0c2d14321d90",
       "version_major": 2,
       "version_minor": 0
      },
      "text/plain": [
       "Map:   0%|          | 0/1000 [00:00<?, ? examples/s]"
      ]
     },
     "metadata": {},
     "output_type": "display_data"
    },
    {
     "name": "stderr",
     "output_type": "stream",
     "text": [
      "/home/gbarbadillo/miniconda3/envs/prometeo/lib/python3.10/site-packages/trl/trainer/sft_trainer.py:294: UserWarning: You passed a tokenizer with `padding_side` not equal to `right` to the SFTTrainer. This might lead to some unexpected behaviour due to overflow issues when training a model in half-precision. You might consider adding `tokenizer.padding_side = 'right'` to your code.\n",
      "  warnings.warn(\n",
      "You have loaded a model on multiple GPUs. `is_model_parallel` attribute will be force-set to `True` to avoid any unexpected behavior such as device placement mismatching.\n",
      "max_steps is given, it will override any value given in num_train_epochs\n",
      "Currently training with a batch size of: 8\n",
      "***** Running training *****\n",
      "  Num examples = 8,980\n",
      "  Num Epochs = 10\n",
      "  Instantaneous batch size per device = 8\n",
      "  Total train batch size (w. parallel, distributed & accumulation) = 16\n",
      "  Gradient Accumulation steps = 2\n",
      "  Total optimization steps = 5,610\n",
      "  Number of trainable parameters = 3,145,728\n",
      "Automatic Weights & Biases logging enabled, to disable set os.environ[\"WANDB_DISABLED\"] = \"true\"\n",
      "Failed to detect the name of this notebook, you can set it manually with the WANDB_NOTEBOOK_NAME environment variable to enable code saving.\n",
      "\u001b[34m\u001b[1mwandb\u001b[0m: Currently logged in as: \u001b[33mguillermobarbadillo\u001b[0m. Use \u001b[1m`wandb login --relogin`\u001b[0m to force relogin\n"
     ]
    },
    {
     "data": {
      "text/html": [
       "wandb version 0.17.5 is available!  To upgrade, please run:\n",
       " $ pip install wandb --upgrade"
      ],
      "text/plain": [
       "<IPython.core.display.HTML object>"
      ]
     },
     "metadata": {},
     "output_type": "display_data"
    },
    {
     "data": {
      "text/html": [
       "Tracking run with wandb version 0.16.4"
      ],
      "text/plain": [
       "<IPython.core.display.HTML object>"
      ]
     },
     "metadata": {},
     "output_type": "display_data"
    },
    {
     "data": {
      "text/html": [
       "Run data is saved locally in <code>/mnt/hdd0/MEGA/AI/22_Kaggle/arc24/notebooks/wandb/run-20240725_090232-17cvbpuz</code>"
      ],
      "text/plain": [
       "<IPython.core.display.HTML object>"
      ]
     },
     "metadata": {},
     "output_type": "display_data"
    },
    {
     "data": {
      "text/html": [
       "Syncing run <strong><a href='https://wandb.ai/guillermobarbadillo/huggingface/runs/17cvbpuz' target=\"_blank\">comfy-snowball-35</a></strong> to <a href='https://wandb.ai/guillermobarbadillo/huggingface' target=\"_blank\">Weights & Biases</a> (<a href='https://wandb.me/run' target=\"_blank\">docs</a>)<br/>"
      ],
      "text/plain": [
       "<IPython.core.display.HTML object>"
      ]
     },
     "metadata": {},
     "output_type": "display_data"
    },
    {
     "data": {
      "text/html": [
       " View project at <a href='https://wandb.ai/guillermobarbadillo/huggingface' target=\"_blank\">https://wandb.ai/guillermobarbadillo/huggingface</a>"
      ],
      "text/plain": [
       "<IPython.core.display.HTML object>"
      ]
     },
     "metadata": {},
     "output_type": "display_data"
    },
    {
     "data": {
      "text/html": [
       " View run at <a href='https://wandb.ai/guillermobarbadillo/huggingface/runs/17cvbpuz' target=\"_blank\">https://wandb.ai/guillermobarbadillo/huggingface/runs/17cvbpuz</a>"
      ],
      "text/plain": [
       "<IPython.core.display.HTML object>"
      ]
     },
     "metadata": {},
     "output_type": "display_data"
    },
    {
     "data": {
      "application/vnd.jupyter.widget-view+json": {
       "model_id": "8c228f1a92fa466fa363b3966ffcbb24",
       "version_major": 2,
       "version_minor": 0
      },
      "text/plain": [
       "  0%|          | 0/5610 [00:00<?, ?it/s]"
      ]
     },
     "metadata": {},
     "output_type": "display_data"
    },
    {
     "name": "stderr",
     "output_type": "stream",
     "text": [
      "You are not running the flash-attention implementation, expect numerical differences.\n",
      "***** Running Evaluation *****\n",
      "  Num examples = 1000\n",
      "  Batch size = 8\n"
     ]
    },
    {
     "name": "stdout",
     "output_type": "stream",
     "text": [
      "{'loss': 1.0541, 'grad_norm': 0.5546875, 'learning_rate': 3.985663082437276e-05, 'epoch': 0.09}\n"
     ]
    },
    {
     "data": {
      "application/vnd.jupyter.widget-view+json": {
       "model_id": "10979f9dbf454ad59fd5c66d3d0582df",
       "version_major": 2,
       "version_minor": 0
      },
      "text/plain": [
       "  0%|          | 0/125 [00:00<?, ?it/s]"
      ]
     },
     "metadata": {},
     "output_type": "display_data"
    },
    {
     "name": "stderr",
     "output_type": "stream",
     "text": [
      "Saving model checkpoint to /mnt/hdd0/Kaggle/arc24/models/20240724_first_trainings/01_phi3_debug/tmp-checkpoint-50\n",
      "/home/gbarbadillo/miniconda3/envs/prometeo/lib/python3.10/site-packages/peft/utils/save_and_load.py:148: UserWarning: Could not find a config file in /home/gbarbadillo/data/Phi-3-mini-128k-instruct - will assume that the vocabulary was not modified.\n",
      "  warnings.warn(\n",
      "tokenizer config file saved in /mnt/hdd0/Kaggle/arc24/models/20240724_first_trainings/01_phi3_debug/tmp-checkpoint-50/tokenizer_config.json\n",
      "Special tokens file saved in /mnt/hdd0/Kaggle/arc24/models/20240724_first_trainings/01_phi3_debug/tmp-checkpoint-50/special_tokens_map.json\n"
     ]
    },
    {
     "name": "stdout",
     "output_type": "stream",
     "text": [
      "{'eval_loss': 0.38903215527534485, 'eval_runtime': 64.2024, 'eval_samples_per_second': 15.576, 'eval_steps_per_second': 1.947, 'epoch': 0.09}\n"
     ]
    },
    {
     "name": "stderr",
     "output_type": "stream",
     "text": [
      "***** Running Evaluation *****\n",
      "  Num examples = 1000\n",
      "  Batch size = 8\n"
     ]
    },
    {
     "name": "stdout",
     "output_type": "stream",
     "text": [
      "{'loss': 0.3384, 'grad_norm': 0.53125, 'learning_rate': 3.949820788530467e-05, 'epoch': 0.18}\n"
     ]
    },
    {
     "data": {
      "application/vnd.jupyter.widget-view+json": {
       "model_id": "e67e4ca8c5704e8f8a7a6928f6847f30",
       "version_major": 2,
       "version_minor": 0
      },
      "text/plain": [
       "  0%|          | 0/125 [00:00<?, ?it/s]"
      ]
     },
     "metadata": {},
     "output_type": "display_data"
    },
    {
     "name": "stderr",
     "output_type": "stream",
     "text": [
      "Saving model checkpoint to /mnt/hdd0/Kaggle/arc24/models/20240724_first_trainings/01_phi3_debug/tmp-checkpoint-100\n",
      "/home/gbarbadillo/miniconda3/envs/prometeo/lib/python3.10/site-packages/peft/utils/save_and_load.py:148: UserWarning: Could not find a config file in /home/gbarbadillo/data/Phi-3-mini-128k-instruct - will assume that the vocabulary was not modified.\n",
      "  warnings.warn(\n",
      "tokenizer config file saved in /mnt/hdd0/Kaggle/arc24/models/20240724_first_trainings/01_phi3_debug/tmp-checkpoint-100/tokenizer_config.json\n",
      "Special tokens file saved in /mnt/hdd0/Kaggle/arc24/models/20240724_first_trainings/01_phi3_debug/tmp-checkpoint-100/special_tokens_map.json\n"
     ]
    },
    {
     "name": "stdout",
     "output_type": "stream",
     "text": [
      "{'eval_loss': 0.3062984049320221, 'eval_runtime': 64.6079, 'eval_samples_per_second': 15.478, 'eval_steps_per_second': 1.935, 'epoch': 0.18}\n"
     ]
    },
    {
     "name": "stderr",
     "output_type": "stream",
     "text": [
      "***** Running Evaluation *****\n",
      "  Num examples = 1000\n",
      "  Batch size = 8\n"
     ]
    },
    {
     "name": "stdout",
     "output_type": "stream",
     "text": [
      "{'loss': 0.2849, 'grad_norm': 0.76953125, 'learning_rate': 3.913978494623656e-05, 'epoch': 0.27}\n"
     ]
    },
    {
     "data": {
      "application/vnd.jupyter.widget-view+json": {
       "model_id": "00aeb2a37c0846b387b2b93b9b7cf32b",
       "version_major": 2,
       "version_minor": 0
      },
      "text/plain": [
       "  0%|          | 0/125 [00:00<?, ?it/s]"
      ]
     },
     "metadata": {},
     "output_type": "display_data"
    },
    {
     "name": "stderr",
     "output_type": "stream",
     "text": [
      "Saving model checkpoint to /mnt/hdd0/Kaggle/arc24/models/20240724_first_trainings/01_phi3_debug/tmp-checkpoint-150\n",
      "/home/gbarbadillo/miniconda3/envs/prometeo/lib/python3.10/site-packages/peft/utils/save_and_load.py:148: UserWarning: Could not find a config file in /home/gbarbadillo/data/Phi-3-mini-128k-instruct - will assume that the vocabulary was not modified.\n",
      "  warnings.warn(\n",
      "tokenizer config file saved in /mnt/hdd0/Kaggle/arc24/models/20240724_first_trainings/01_phi3_debug/tmp-checkpoint-150/tokenizer_config.json\n",
      "Special tokens file saved in /mnt/hdd0/Kaggle/arc24/models/20240724_first_trainings/01_phi3_debug/tmp-checkpoint-150/special_tokens_map.json\n"
     ]
    },
    {
     "name": "stdout",
     "output_type": "stream",
     "text": [
      "{'eval_loss': 0.2822999358177185, 'eval_runtime': 64.6029, 'eval_samples_per_second': 15.479, 'eval_steps_per_second': 1.935, 'epoch': 0.27}\n"
     ]
    },
    {
     "name": "stderr",
     "output_type": "stream",
     "text": [
      "***** Running Evaluation *****\n",
      "  Num examples = 1000\n",
      "  Batch size = 8\n"
     ]
    },
    {
     "name": "stdout",
     "output_type": "stream",
     "text": [
      "{'loss': 0.2726, 'grad_norm': 1.0625, 'learning_rate': 3.8781362007168464e-05, 'epoch': 0.36}\n"
     ]
    },
    {
     "data": {
      "application/vnd.jupyter.widget-view+json": {
       "model_id": "ed82dd1d3522419b88dfac4d35022c40",
       "version_major": 2,
       "version_minor": 0
      },
      "text/plain": [
       "  0%|          | 0/125 [00:00<?, ?it/s]"
      ]
     },
     "metadata": {},
     "output_type": "display_data"
    },
    {
     "name": "stderr",
     "output_type": "stream",
     "text": [
      "Saving model checkpoint to /mnt/hdd0/Kaggle/arc24/models/20240724_first_trainings/01_phi3_debug/tmp-checkpoint-200\n",
      "/home/gbarbadillo/miniconda3/envs/prometeo/lib/python3.10/site-packages/peft/utils/save_and_load.py:148: UserWarning: Could not find a config file in /home/gbarbadillo/data/Phi-3-mini-128k-instruct - will assume that the vocabulary was not modified.\n",
      "  warnings.warn(\n",
      "tokenizer config file saved in /mnt/hdd0/Kaggle/arc24/models/20240724_first_trainings/01_phi3_debug/tmp-checkpoint-200/tokenizer_config.json\n",
      "Special tokens file saved in /mnt/hdd0/Kaggle/arc24/models/20240724_first_trainings/01_phi3_debug/tmp-checkpoint-200/special_tokens_map.json\n"
     ]
    },
    {
     "name": "stdout",
     "output_type": "stream",
     "text": [
      "{'eval_loss': 0.26311200857162476, 'eval_runtime': 64.2609, 'eval_samples_per_second': 15.562, 'eval_steps_per_second': 1.945, 'epoch': 0.36}\n"
     ]
    },
    {
     "name": "stderr",
     "output_type": "stream",
     "text": [
      "***** Running Evaluation *****\n",
      "  Num examples = 1000\n",
      "  Batch size = 8\n"
     ]
    },
    {
     "name": "stdout",
     "output_type": "stream",
     "text": [
      "{'loss': 0.2552, 'grad_norm': 1.1484375, 'learning_rate': 3.842293906810036e-05, 'epoch': 0.45}\n"
     ]
    },
    {
     "data": {
      "application/vnd.jupyter.widget-view+json": {
       "model_id": "5cfc754e1ee9421b9578da4df63d5176",
       "version_major": 2,
       "version_minor": 0
      },
      "text/plain": [
       "  0%|          | 0/125 [00:00<?, ?it/s]"
      ]
     },
     "metadata": {},
     "output_type": "display_data"
    },
    {
     "name": "stderr",
     "output_type": "stream",
     "text": [
      "Saving model checkpoint to /mnt/hdd0/Kaggle/arc24/models/20240724_first_trainings/01_phi3_debug/tmp-checkpoint-250\n",
      "/home/gbarbadillo/miniconda3/envs/prometeo/lib/python3.10/site-packages/peft/utils/save_and_load.py:148: UserWarning: Could not find a config file in /home/gbarbadillo/data/Phi-3-mini-128k-instruct - will assume that the vocabulary was not modified.\n",
      "  warnings.warn(\n",
      "tokenizer config file saved in /mnt/hdd0/Kaggle/arc24/models/20240724_first_trainings/01_phi3_debug/tmp-checkpoint-250/tokenizer_config.json\n",
      "Special tokens file saved in /mnt/hdd0/Kaggle/arc24/models/20240724_first_trainings/01_phi3_debug/tmp-checkpoint-250/special_tokens_map.json\n"
     ]
    },
    {
     "name": "stdout",
     "output_type": "stream",
     "text": [
      "{'eval_loss': 0.24817220866680145, 'eval_runtime': 64.7063, 'eval_samples_per_second': 15.454, 'eval_steps_per_second': 1.932, 'epoch': 0.45}\n"
     ]
    },
    {
     "name": "stderr",
     "output_type": "stream",
     "text": [
      "***** Running Evaluation *****\n",
      "  Num examples = 1000\n",
      "  Batch size = 8\n"
     ]
    },
    {
     "name": "stdout",
     "output_type": "stream",
     "text": [
      "{'loss': 0.241, 'grad_norm': 1.015625, 'learning_rate': 3.806451612903226e-05, 'epoch': 0.53}\n"
     ]
    },
    {
     "data": {
      "application/vnd.jupyter.widget-view+json": {
       "model_id": "f1af71be03f24fcb868727749554b1f3",
       "version_major": 2,
       "version_minor": 0
      },
      "text/plain": [
       "  0%|          | 0/125 [00:00<?, ?it/s]"
      ]
     },
     "metadata": {},
     "output_type": "display_data"
    },
    {
     "name": "stderr",
     "output_type": "stream",
     "text": [
      "Saving model checkpoint to /mnt/hdd0/Kaggle/arc24/models/20240724_first_trainings/01_phi3_debug/tmp-checkpoint-300\n",
      "/home/gbarbadillo/miniconda3/envs/prometeo/lib/python3.10/site-packages/peft/utils/save_and_load.py:148: UserWarning: Could not find a config file in /home/gbarbadillo/data/Phi-3-mini-128k-instruct - will assume that the vocabulary was not modified.\n",
      "  warnings.warn(\n",
      "tokenizer config file saved in /mnt/hdd0/Kaggle/arc24/models/20240724_first_trainings/01_phi3_debug/tmp-checkpoint-300/tokenizer_config.json\n",
      "Special tokens file saved in /mnt/hdd0/Kaggle/arc24/models/20240724_first_trainings/01_phi3_debug/tmp-checkpoint-300/special_tokens_map.json\n"
     ]
    },
    {
     "name": "stdout",
     "output_type": "stream",
     "text": [
      "{'eval_loss': 0.23969382047653198, 'eval_runtime': 64.1955, 'eval_samples_per_second': 15.577, 'eval_steps_per_second': 1.947, 'epoch': 0.53}\n"
     ]
    },
    {
     "name": "stderr",
     "output_type": "stream",
     "text": [
      "***** Running Evaluation *****\n",
      "  Num examples = 1000\n",
      "  Batch size = 8\n"
     ]
    },
    {
     "name": "stdout",
     "output_type": "stream",
     "text": [
      "{'loss': 0.2408, 'grad_norm': 1.9609375, 'learning_rate': 3.770609318996416e-05, 'epoch': 0.62}\n"
     ]
    },
    {
     "data": {
      "application/vnd.jupyter.widget-view+json": {
       "model_id": "6e4226ea5f2d4fa48bb1569c06dba866",
       "version_major": 2,
       "version_minor": 0
      },
      "text/plain": [
       "  0%|          | 0/125 [00:00<?, ?it/s]"
      ]
     },
     "metadata": {},
     "output_type": "display_data"
    },
    {
     "name": "stderr",
     "output_type": "stream",
     "text": [
      "Saving model checkpoint to /mnt/hdd0/Kaggle/arc24/models/20240724_first_trainings/01_phi3_debug/tmp-checkpoint-350\n",
      "/home/gbarbadillo/miniconda3/envs/prometeo/lib/python3.10/site-packages/peft/utils/save_and_load.py:148: UserWarning: Could not find a config file in /home/gbarbadillo/data/Phi-3-mini-128k-instruct - will assume that the vocabulary was not modified.\n",
      "  warnings.warn(\n",
      "tokenizer config file saved in /mnt/hdd0/Kaggle/arc24/models/20240724_first_trainings/01_phi3_debug/tmp-checkpoint-350/tokenizer_config.json\n",
      "Special tokens file saved in /mnt/hdd0/Kaggle/arc24/models/20240724_first_trainings/01_phi3_debug/tmp-checkpoint-350/special_tokens_map.json\n"
     ]
    },
    {
     "name": "stdout",
     "output_type": "stream",
     "text": [
      "{'eval_loss': 0.23747818171977997, 'eval_runtime': 64.4094, 'eval_samples_per_second': 15.526, 'eval_steps_per_second': 1.941, 'epoch': 0.62}\n"
     ]
    },
    {
     "name": "stderr",
     "output_type": "stream",
     "text": [
      "***** Running Evaluation *****\n",
      "  Num examples = 1000\n",
      "  Batch size = 8\n"
     ]
    },
    {
     "name": "stdout",
     "output_type": "stream",
     "text": [
      "{'loss': 0.2228, 'grad_norm': 3.5625, 'learning_rate': 3.734767025089606e-05, 'epoch': 0.71}\n"
     ]
    },
    {
     "data": {
      "application/vnd.jupyter.widget-view+json": {
       "model_id": "611342bbc0464668bd21891f123f4491",
       "version_major": 2,
       "version_minor": 0
      },
      "text/plain": [
       "  0%|          | 0/125 [00:00<?, ?it/s]"
      ]
     },
     "metadata": {},
     "output_type": "display_data"
    },
    {
     "name": "stderr",
     "output_type": "stream",
     "text": [
      "Saving model checkpoint to /mnt/hdd0/Kaggle/arc24/models/20240724_first_trainings/01_phi3_debug/tmp-checkpoint-400\n",
      "/home/gbarbadillo/miniconda3/envs/prometeo/lib/python3.10/site-packages/peft/utils/save_and_load.py:148: UserWarning: Could not find a config file in /home/gbarbadillo/data/Phi-3-mini-128k-instruct - will assume that the vocabulary was not modified.\n",
      "  warnings.warn(\n",
      "tokenizer config file saved in /mnt/hdd0/Kaggle/arc24/models/20240724_first_trainings/01_phi3_debug/tmp-checkpoint-400/tokenizer_config.json\n",
      "Special tokens file saved in /mnt/hdd0/Kaggle/arc24/models/20240724_first_trainings/01_phi3_debug/tmp-checkpoint-400/special_tokens_map.json\n"
     ]
    },
    {
     "name": "stdout",
     "output_type": "stream",
     "text": [
      "{'eval_loss': 0.23234085738658905, 'eval_runtime': 63.6353, 'eval_samples_per_second': 15.715, 'eval_steps_per_second': 1.964, 'epoch': 0.71}\n"
     ]
    },
    {
     "name": "stderr",
     "output_type": "stream",
     "text": [
      "***** Running Evaluation *****\n",
      "  Num examples = 1000\n",
      "  Batch size = 8\n"
     ]
    },
    {
     "name": "stdout",
     "output_type": "stream",
     "text": [
      "{'loss': 0.2207, 'grad_norm': 1.21875, 'learning_rate': 3.698924731182796e-05, 'epoch': 0.8}\n"
     ]
    },
    {
     "data": {
      "application/vnd.jupyter.widget-view+json": {
       "model_id": "6804aced217f46a49fcca2bef43c9007",
       "version_major": 2,
       "version_minor": 0
      },
      "text/plain": [
       "  0%|          | 0/125 [00:00<?, ?it/s]"
      ]
     },
     "metadata": {},
     "output_type": "display_data"
    },
    {
     "name": "stderr",
     "output_type": "stream",
     "text": [
      "Saving model checkpoint to /mnt/hdd0/Kaggle/arc24/models/20240724_first_trainings/01_phi3_debug/tmp-checkpoint-450\n",
      "/home/gbarbadillo/miniconda3/envs/prometeo/lib/python3.10/site-packages/peft/utils/save_and_load.py:148: UserWarning: Could not find a config file in /home/gbarbadillo/data/Phi-3-mini-128k-instruct - will assume that the vocabulary was not modified.\n",
      "  warnings.warn(\n",
      "tokenizer config file saved in /mnt/hdd0/Kaggle/arc24/models/20240724_first_trainings/01_phi3_debug/tmp-checkpoint-450/tokenizer_config.json\n",
      "Special tokens file saved in /mnt/hdd0/Kaggle/arc24/models/20240724_first_trainings/01_phi3_debug/tmp-checkpoint-450/special_tokens_map.json\n"
     ]
    },
    {
     "name": "stdout",
     "output_type": "stream",
     "text": [
      "{'eval_loss': 0.22255969047546387, 'eval_runtime': 64.4335, 'eval_samples_per_second': 15.52, 'eval_steps_per_second': 1.94, 'epoch': 0.8}\n"
     ]
    },
    {
     "name": "stderr",
     "output_type": "stream",
     "text": [
      "***** Running Evaluation *****\n",
      "  Num examples = 1000\n",
      "  Batch size = 8\n"
     ]
    },
    {
     "name": "stdout",
     "output_type": "stream",
     "text": [
      "{'loss': 0.2202, 'grad_norm': 1.65625, 'learning_rate': 3.663082437275986e-05, 'epoch': 0.89}\n"
     ]
    },
    {
     "data": {
      "application/vnd.jupyter.widget-view+json": {
       "model_id": "b008a0cb77c840149f1d9c9a2ddaea36",
       "version_major": 2,
       "version_minor": 0
      },
      "text/plain": [
       "  0%|          | 0/125 [00:00<?, ?it/s]"
      ]
     },
     "metadata": {},
     "output_type": "display_data"
    },
    {
     "name": "stderr",
     "output_type": "stream",
     "text": [
      "Saving model checkpoint to /mnt/hdd0/Kaggle/arc24/models/20240724_first_trainings/01_phi3_debug/tmp-checkpoint-500\n",
      "/home/gbarbadillo/miniconda3/envs/prometeo/lib/python3.10/site-packages/peft/utils/save_and_load.py:148: UserWarning: Could not find a config file in /home/gbarbadillo/data/Phi-3-mini-128k-instruct - will assume that the vocabulary was not modified.\n",
      "  warnings.warn(\n",
      "tokenizer config file saved in /mnt/hdd0/Kaggle/arc24/models/20240724_first_trainings/01_phi3_debug/tmp-checkpoint-500/tokenizer_config.json\n",
      "Special tokens file saved in /mnt/hdd0/Kaggle/arc24/models/20240724_first_trainings/01_phi3_debug/tmp-checkpoint-500/special_tokens_map.json\n"
     ]
    },
    {
     "name": "stdout",
     "output_type": "stream",
     "text": [
      "{'eval_loss': 0.2227870672941208, 'eval_runtime': 63.9391, 'eval_samples_per_second': 15.64, 'eval_steps_per_second': 1.955, 'epoch': 0.89}\n"
     ]
    },
    {
     "name": "stderr",
     "output_type": "stream",
     "text": [
      "***** Running Evaluation *****\n",
      "  Num examples = 1000\n",
      "  Batch size = 8\n"
     ]
    },
    {
     "name": "stdout",
     "output_type": "stream",
     "text": [
      "{'loss': 0.2205, 'grad_norm': 2.859375, 'learning_rate': 3.6272401433691756e-05, 'epoch': 0.98}\n"
     ]
    },
    {
     "data": {
      "application/vnd.jupyter.widget-view+json": {
       "model_id": "1d415dc8138e4029bb7809ad8e3ac391",
       "version_major": 2,
       "version_minor": 0
      },
      "text/plain": [
       "  0%|          | 0/125 [00:00<?, ?it/s]"
      ]
     },
     "metadata": {},
     "output_type": "display_data"
    },
    {
     "name": "stderr",
     "output_type": "stream",
     "text": [
      "Saving model checkpoint to /mnt/hdd0/Kaggle/arc24/models/20240724_first_trainings/01_phi3_debug/tmp-checkpoint-550\n",
      "/home/gbarbadillo/miniconda3/envs/prometeo/lib/python3.10/site-packages/peft/utils/save_and_load.py:148: UserWarning: Could not find a config file in /home/gbarbadillo/data/Phi-3-mini-128k-instruct - will assume that the vocabulary was not modified.\n",
      "  warnings.warn(\n",
      "tokenizer config file saved in /mnt/hdd0/Kaggle/arc24/models/20240724_first_trainings/01_phi3_debug/tmp-checkpoint-550/tokenizer_config.json\n",
      "Special tokens file saved in /mnt/hdd0/Kaggle/arc24/models/20240724_first_trainings/01_phi3_debug/tmp-checkpoint-550/special_tokens_map.json\n"
     ]
    },
    {
     "name": "stdout",
     "output_type": "stream",
     "text": [
      "{'eval_loss': 0.22627106308937073, 'eval_runtime': 65.563, 'eval_samples_per_second': 15.253, 'eval_steps_per_second': 1.907, 'epoch': 0.98}\n"
     ]
    },
    {
     "name": "stderr",
     "output_type": "stream",
     "text": [
      "***** Running Evaluation *****\n",
      "  Num examples = 1000\n",
      "  Batch size = 8\n"
     ]
    },
    {
     "name": "stdout",
     "output_type": "stream",
     "text": [
      "{'loss': 0.2147, 'grad_norm': 4.5625, 'learning_rate': 3.591397849462366e-05, 'epoch': 1.07}\n"
     ]
    },
    {
     "data": {
      "application/vnd.jupyter.widget-view+json": {
       "model_id": "01a8be3ec402445bb8388813011c4f66",
       "version_major": 2,
       "version_minor": 0
      },
      "text/plain": [
       "  0%|          | 0/125 [00:00<?, ?it/s]"
      ]
     },
     "metadata": {},
     "output_type": "display_data"
    },
    {
     "name": "stderr",
     "output_type": "stream",
     "text": [
      "Saving model checkpoint to /mnt/hdd0/Kaggle/arc24/models/20240724_first_trainings/01_phi3_debug/tmp-checkpoint-600\n",
      "/home/gbarbadillo/miniconda3/envs/prometeo/lib/python3.10/site-packages/peft/utils/save_and_load.py:148: UserWarning: Could not find a config file in /home/gbarbadillo/data/Phi-3-mini-128k-instruct - will assume that the vocabulary was not modified.\n",
      "  warnings.warn(\n",
      "tokenizer config file saved in /mnt/hdd0/Kaggle/arc24/models/20240724_first_trainings/01_phi3_debug/tmp-checkpoint-600/tokenizer_config.json\n",
      "Special tokens file saved in /mnt/hdd0/Kaggle/arc24/models/20240724_first_trainings/01_phi3_debug/tmp-checkpoint-600/special_tokens_map.json\n"
     ]
    },
    {
     "name": "stdout",
     "output_type": "stream",
     "text": [
      "{'eval_loss': 0.2270834594964981, 'eval_runtime': 64.5373, 'eval_samples_per_second': 15.495, 'eval_steps_per_second': 1.937, 'epoch': 1.07}\n"
     ]
    },
    {
     "name": "stderr",
     "output_type": "stream",
     "text": [
      "***** Running Evaluation *****\n",
      "  Num examples = 1000\n",
      "  Batch size = 8\n"
     ]
    },
    {
     "name": "stdout",
     "output_type": "stream",
     "text": [
      "{'loss': 0.2128, 'grad_norm': 2.46875, 'learning_rate': 3.555555555555555e-05, 'epoch': 1.16}\n"
     ]
    },
    {
     "data": {
      "application/vnd.jupyter.widget-view+json": {
       "model_id": "7dacfde05b9c46a5b489478d1ea164af",
       "version_major": 2,
       "version_minor": 0
      },
      "text/plain": [
       "  0%|          | 0/125 [00:00<?, ?it/s]"
      ]
     },
     "metadata": {},
     "output_type": "display_data"
    },
    {
     "name": "stderr",
     "output_type": "stream",
     "text": [
      "Saving model checkpoint to /mnt/hdd0/Kaggle/arc24/models/20240724_first_trainings/01_phi3_debug/tmp-checkpoint-650\n",
      "/home/gbarbadillo/miniconda3/envs/prometeo/lib/python3.10/site-packages/peft/utils/save_and_load.py:148: UserWarning: Could not find a config file in /home/gbarbadillo/data/Phi-3-mini-128k-instruct - will assume that the vocabulary was not modified.\n",
      "  warnings.warn(\n",
      "tokenizer config file saved in /mnt/hdd0/Kaggle/arc24/models/20240724_first_trainings/01_phi3_debug/tmp-checkpoint-650/tokenizer_config.json\n",
      "Special tokens file saved in /mnt/hdd0/Kaggle/arc24/models/20240724_first_trainings/01_phi3_debug/tmp-checkpoint-650/special_tokens_map.json\n"
     ]
    },
    {
     "name": "stdout",
     "output_type": "stream",
     "text": [
      "{'eval_loss': 0.22873461246490479, 'eval_runtime': 64.3291, 'eval_samples_per_second': 15.545, 'eval_steps_per_second': 1.943, 'epoch': 1.16}\n"
     ]
    },
    {
     "name": "stderr",
     "output_type": "stream",
     "text": [
      "***** Running Evaluation *****\n",
      "  Num examples = 1000\n",
      "  Batch size = 8\n"
     ]
    },
    {
     "name": "stdout",
     "output_type": "stream",
     "text": [
      "{'loss': 0.2127, 'grad_norm': 3.8125, 'learning_rate': 3.519713261648746e-05, 'epoch': 1.25}\n"
     ]
    },
    {
     "data": {
      "application/vnd.jupyter.widget-view+json": {
       "model_id": "5cdaa879f4e541f49ff37ba52014f9f3",
       "version_major": 2,
       "version_minor": 0
      },
      "text/plain": [
       "  0%|          | 0/125 [00:00<?, ?it/s]"
      ]
     },
     "metadata": {},
     "output_type": "display_data"
    },
    {
     "name": "stderr",
     "output_type": "stream",
     "text": [
      "Saving model checkpoint to /mnt/hdd0/Kaggle/arc24/models/20240724_first_trainings/01_phi3_debug/tmp-checkpoint-700\n",
      "/home/gbarbadillo/miniconda3/envs/prometeo/lib/python3.10/site-packages/peft/utils/save_and_load.py:148: UserWarning: Could not find a config file in /home/gbarbadillo/data/Phi-3-mini-128k-instruct - will assume that the vocabulary was not modified.\n",
      "  warnings.warn(\n",
      "tokenizer config file saved in /mnt/hdd0/Kaggle/arc24/models/20240724_first_trainings/01_phi3_debug/tmp-checkpoint-700/tokenizer_config.json\n",
      "Special tokens file saved in /mnt/hdd0/Kaggle/arc24/models/20240724_first_trainings/01_phi3_debug/tmp-checkpoint-700/special_tokens_map.json\n"
     ]
    },
    {
     "name": "stdout",
     "output_type": "stream",
     "text": [
      "{'eval_loss': 0.20716291666030884, 'eval_runtime': 64.3079, 'eval_samples_per_second': 15.55, 'eval_steps_per_second': 1.944, 'epoch': 1.25}\n"
     ]
    },
    {
     "name": "stderr",
     "output_type": "stream",
     "text": [
      "***** Running Evaluation *****\n",
      "  Num examples = 1000\n",
      "  Batch size = 8\n"
     ]
    },
    {
     "name": "stdout",
     "output_type": "stream",
     "text": [
      "{'loss': 0.2064, 'grad_norm': 4.5625, 'learning_rate': 3.483870967741936e-05, 'epoch': 1.34}\n"
     ]
    },
    {
     "data": {
      "application/vnd.jupyter.widget-view+json": {
       "model_id": "54c07828eebc4efd9b9849e96a986088",
       "version_major": 2,
       "version_minor": 0
      },
      "text/plain": [
       "  0%|          | 0/125 [00:00<?, ?it/s]"
      ]
     },
     "metadata": {},
     "output_type": "display_data"
    },
    {
     "name": "stderr",
     "output_type": "stream",
     "text": [
      "Saving model checkpoint to /mnt/hdd0/Kaggle/arc24/models/20240724_first_trainings/01_phi3_debug/tmp-checkpoint-750\n",
      "/home/gbarbadillo/miniconda3/envs/prometeo/lib/python3.10/site-packages/peft/utils/save_and_load.py:148: UserWarning: Could not find a config file in /home/gbarbadillo/data/Phi-3-mini-128k-instruct - will assume that the vocabulary was not modified.\n",
      "  warnings.warn(\n",
      "tokenizer config file saved in /mnt/hdd0/Kaggle/arc24/models/20240724_first_trainings/01_phi3_debug/tmp-checkpoint-750/tokenizer_config.json\n",
      "Special tokens file saved in /mnt/hdd0/Kaggle/arc24/models/20240724_first_trainings/01_phi3_debug/tmp-checkpoint-750/special_tokens_map.json\n"
     ]
    },
    {
     "name": "stdout",
     "output_type": "stream",
     "text": [
      "{'eval_loss': 0.21001046895980835, 'eval_runtime': 61.4454, 'eval_samples_per_second': 16.275, 'eval_steps_per_second': 2.034, 'epoch': 1.34}\n"
     ]
    },
    {
     "name": "stderr",
     "output_type": "stream",
     "text": [
      "***** Running Evaluation *****\n",
      "  Num examples = 1000\n",
      "  Batch size = 8\n"
     ]
    },
    {
     "name": "stdout",
     "output_type": "stream",
     "text": [
      "{'loss': 0.2031, 'grad_norm': 1.9453125, 'learning_rate': 3.448028673835126e-05, 'epoch': 1.42}\n"
     ]
    },
    {
     "data": {
      "application/vnd.jupyter.widget-view+json": {
       "model_id": "381fec18aafa46aba200b9d1650ba981",
       "version_major": 2,
       "version_minor": 0
      },
      "text/plain": [
       "  0%|          | 0/125 [00:00<?, ?it/s]"
      ]
     },
     "metadata": {},
     "output_type": "display_data"
    },
    {
     "name": "stderr",
     "output_type": "stream",
     "text": [
      "Saving model checkpoint to /mnt/hdd0/Kaggle/arc24/models/20240724_first_trainings/01_phi3_debug/tmp-checkpoint-800\n",
      "/home/gbarbadillo/miniconda3/envs/prometeo/lib/python3.10/site-packages/peft/utils/save_and_load.py:148: UserWarning: Could not find a config file in /home/gbarbadillo/data/Phi-3-mini-128k-instruct - will assume that the vocabulary was not modified.\n",
      "  warnings.warn(\n",
      "tokenizer config file saved in /mnt/hdd0/Kaggle/arc24/models/20240724_first_trainings/01_phi3_debug/tmp-checkpoint-800/tokenizer_config.json\n",
      "Special tokens file saved in /mnt/hdd0/Kaggle/arc24/models/20240724_first_trainings/01_phi3_debug/tmp-checkpoint-800/special_tokens_map.json\n"
     ]
    },
    {
     "name": "stdout",
     "output_type": "stream",
     "text": [
      "{'eval_loss': 0.21212027966976166, 'eval_runtime': 61.4836, 'eval_samples_per_second': 16.265, 'eval_steps_per_second': 2.033, 'epoch': 1.42}\n"
     ]
    },
    {
     "name": "stderr",
     "output_type": "stream",
     "text": [
      "***** Running Evaluation *****\n",
      "  Num examples = 1000\n",
      "  Batch size = 8\n"
     ]
    },
    {
     "name": "stdout",
     "output_type": "stream",
     "text": [
      "{'loss': 0.2086, 'grad_norm': 3.109375, 'learning_rate': 3.4121863799283154e-05, 'epoch': 1.51}\n"
     ]
    },
    {
     "data": {
      "application/vnd.jupyter.widget-view+json": {
       "model_id": "8c0e6860f0214c6387b7af0ba7d2ec42",
       "version_major": 2,
       "version_minor": 0
      },
      "text/plain": [
       "  0%|          | 0/125 [00:00<?, ?it/s]"
      ]
     },
     "metadata": {},
     "output_type": "display_data"
    },
    {
     "name": "stderr",
     "output_type": "stream",
     "text": [
      "Saving model checkpoint to /mnt/hdd0/Kaggle/arc24/models/20240724_first_trainings/01_phi3_debug/tmp-checkpoint-850\n",
      "/home/gbarbadillo/miniconda3/envs/prometeo/lib/python3.10/site-packages/peft/utils/save_and_load.py:148: UserWarning: Could not find a config file in /home/gbarbadillo/data/Phi-3-mini-128k-instruct - will assume that the vocabulary was not modified.\n",
      "  warnings.warn(\n",
      "tokenizer config file saved in /mnt/hdd0/Kaggle/arc24/models/20240724_first_trainings/01_phi3_debug/tmp-checkpoint-850/tokenizer_config.json\n",
      "Special tokens file saved in /mnt/hdd0/Kaggle/arc24/models/20240724_first_trainings/01_phi3_debug/tmp-checkpoint-850/special_tokens_map.json\n"
     ]
    },
    {
     "name": "stdout",
     "output_type": "stream",
     "text": [
      "{'eval_loss': 0.20082704722881317, 'eval_runtime': 61.5247, 'eval_samples_per_second': 16.254, 'eval_steps_per_second': 2.032, 'epoch': 1.51}\n"
     ]
    },
    {
     "name": "stderr",
     "output_type": "stream",
     "text": [
      "***** Running Evaluation *****\n",
      "  Num examples = 1000\n",
      "  Batch size = 8\n"
     ]
    },
    {
     "name": "stdout",
     "output_type": "stream",
     "text": [
      "{'loss': 0.2086, 'grad_norm': 3.203125, 'learning_rate': 3.3763440860215055e-05, 'epoch': 1.6}\n"
     ]
    },
    {
     "data": {
      "application/vnd.jupyter.widget-view+json": {
       "model_id": "8bca55f9afe140b29be71a33866db374",
       "version_major": 2,
       "version_minor": 0
      },
      "text/plain": [
       "  0%|          | 0/125 [00:00<?, ?it/s]"
      ]
     },
     "metadata": {},
     "output_type": "display_data"
    },
    {
     "name": "stderr",
     "output_type": "stream",
     "text": [
      "Saving model checkpoint to /mnt/hdd0/Kaggle/arc24/models/20240724_first_trainings/01_phi3_debug/tmp-checkpoint-900\n",
      "/home/gbarbadillo/miniconda3/envs/prometeo/lib/python3.10/site-packages/peft/utils/save_and_load.py:148: UserWarning: Could not find a config file in /home/gbarbadillo/data/Phi-3-mini-128k-instruct - will assume that the vocabulary was not modified.\n",
      "  warnings.warn(\n",
      "tokenizer config file saved in /mnt/hdd0/Kaggle/arc24/models/20240724_first_trainings/01_phi3_debug/tmp-checkpoint-900/tokenizer_config.json\n",
      "Special tokens file saved in /mnt/hdd0/Kaggle/arc24/models/20240724_first_trainings/01_phi3_debug/tmp-checkpoint-900/special_tokens_map.json\n"
     ]
    },
    {
     "name": "stdout",
     "output_type": "stream",
     "text": [
      "{'eval_loss': 0.20299917459487915, 'eval_runtime': 61.5165, 'eval_samples_per_second': 16.256, 'eval_steps_per_second': 2.032, 'epoch': 1.6}\n"
     ]
    },
    {
     "name": "stderr",
     "output_type": "stream",
     "text": [
      "***** Running Evaluation *****\n",
      "  Num examples = 1000\n",
      "  Batch size = 8\n"
     ]
    },
    {
     "name": "stdout",
     "output_type": "stream",
     "text": [
      "{'loss': 0.2007, 'grad_norm': 2.34375, 'learning_rate': 3.340501792114696e-05, 'epoch': 1.69}\n"
     ]
    },
    {
     "data": {
      "application/vnd.jupyter.widget-view+json": {
       "model_id": "0f80b6def35c4efe94e6316ec74f1ee0",
       "version_major": 2,
       "version_minor": 0
      },
      "text/plain": [
       "  0%|          | 0/125 [00:00<?, ?it/s]"
      ]
     },
     "metadata": {},
     "output_type": "display_data"
    },
    {
     "name": "stderr",
     "output_type": "stream",
     "text": [
      "Saving model checkpoint to /mnt/hdd0/Kaggle/arc24/models/20240724_first_trainings/01_phi3_debug/tmp-checkpoint-950\n",
      "/home/gbarbadillo/miniconda3/envs/prometeo/lib/python3.10/site-packages/peft/utils/save_and_load.py:148: UserWarning: Could not find a config file in /home/gbarbadillo/data/Phi-3-mini-128k-instruct - will assume that the vocabulary was not modified.\n",
      "  warnings.warn(\n",
      "tokenizer config file saved in /mnt/hdd0/Kaggle/arc24/models/20240724_first_trainings/01_phi3_debug/tmp-checkpoint-950/tokenizer_config.json\n",
      "Special tokens file saved in /mnt/hdd0/Kaggle/arc24/models/20240724_first_trainings/01_phi3_debug/tmp-checkpoint-950/special_tokens_map.json\n"
     ]
    },
    {
     "name": "stdout",
     "output_type": "stream",
     "text": [
      "{'eval_loss': 0.19850662350654602, 'eval_runtime': 61.4627, 'eval_samples_per_second': 16.27, 'eval_steps_per_second': 2.034, 'epoch': 1.69}\n"
     ]
    },
    {
     "name": "stderr",
     "output_type": "stream",
     "text": [
      "***** Running Evaluation *****\n",
      "  Num examples = 1000\n",
      "  Batch size = 8\n"
     ]
    },
    {
     "name": "stdout",
     "output_type": "stream",
     "text": [
      "{'loss': 0.2009, 'grad_norm': 4.8125, 'learning_rate': 3.304659498207885e-05, 'epoch': 1.78}\n"
     ]
    },
    {
     "data": {
      "application/vnd.jupyter.widget-view+json": {
       "model_id": "2a6c14b22c5d47828fefe0934705056e",
       "version_major": 2,
       "version_minor": 0
      },
      "text/plain": [
       "  0%|          | 0/125 [00:00<?, ?it/s]"
      ]
     },
     "metadata": {},
     "output_type": "display_data"
    },
    {
     "name": "stderr",
     "output_type": "stream",
     "text": [
      "Saving model checkpoint to /mnt/hdd0/Kaggle/arc24/models/20240724_first_trainings/01_phi3_debug/tmp-checkpoint-1000\n",
      "/home/gbarbadillo/miniconda3/envs/prometeo/lib/python3.10/site-packages/peft/utils/save_and_load.py:148: UserWarning: Could not find a config file in /home/gbarbadillo/data/Phi-3-mini-128k-instruct - will assume that the vocabulary was not modified.\n",
      "  warnings.warn(\n",
      "tokenizer config file saved in /mnt/hdd0/Kaggle/arc24/models/20240724_first_trainings/01_phi3_debug/tmp-checkpoint-1000/tokenizer_config.json\n",
      "Special tokens file saved in /mnt/hdd0/Kaggle/arc24/models/20240724_first_trainings/01_phi3_debug/tmp-checkpoint-1000/special_tokens_map.json\n"
     ]
    },
    {
     "name": "stdout",
     "output_type": "stream",
     "text": [
      "{'eval_loss': 0.21096238493919373, 'eval_runtime': 61.5491, 'eval_samples_per_second': 16.247, 'eval_steps_per_second': 2.031, 'epoch': 1.78}\n"
     ]
    },
    {
     "name": "stderr",
     "output_type": "stream",
     "text": [
      "***** Running Evaluation *****\n",
      "  Num examples = 1000\n",
      "  Batch size = 8\n"
     ]
    },
    {
     "name": "stdout",
     "output_type": "stream",
     "text": [
      "{'loss': 0.2003, 'grad_norm': 3.4375, 'learning_rate': 3.2688172043010754e-05, 'epoch': 1.87}\n"
     ]
    },
    {
     "data": {
      "application/vnd.jupyter.widget-view+json": {
       "model_id": "6cd1928fb05f44e187f1dddd898c4f2a",
       "version_major": 2,
       "version_minor": 0
      },
      "text/plain": [
       "  0%|          | 0/125 [00:00<?, ?it/s]"
      ]
     },
     "metadata": {},
     "output_type": "display_data"
    },
    {
     "name": "stderr",
     "output_type": "stream",
     "text": [
      "Saving model checkpoint to /mnt/hdd0/Kaggle/arc24/models/20240724_first_trainings/01_phi3_debug/tmp-checkpoint-1050\n",
      "/home/gbarbadillo/miniconda3/envs/prometeo/lib/python3.10/site-packages/peft/utils/save_and_load.py:148: UserWarning: Could not find a config file in /home/gbarbadillo/data/Phi-3-mini-128k-instruct - will assume that the vocabulary was not modified.\n",
      "  warnings.warn(\n",
      "tokenizer config file saved in /mnt/hdd0/Kaggle/arc24/models/20240724_first_trainings/01_phi3_debug/tmp-checkpoint-1050/tokenizer_config.json\n",
      "Special tokens file saved in /mnt/hdd0/Kaggle/arc24/models/20240724_first_trainings/01_phi3_debug/tmp-checkpoint-1050/special_tokens_map.json\n"
     ]
    },
    {
     "name": "stdout",
     "output_type": "stream",
     "text": [
      "{'eval_loss': 0.19512584805488586, 'eval_runtime': 61.5658, 'eval_samples_per_second': 16.243, 'eval_steps_per_second': 2.03, 'epoch': 1.87}\n"
     ]
    },
    {
     "name": "stderr",
     "output_type": "stream",
     "text": [
      "***** Running Evaluation *****\n",
      "  Num examples = 1000\n",
      "  Batch size = 8\n"
     ]
    },
    {
     "name": "stdout",
     "output_type": "stream",
     "text": [
      "{'loss': 0.1976, 'grad_norm': 5.9375, 'learning_rate': 3.2329749103942656e-05, 'epoch': 1.96}\n"
     ]
    },
    {
     "data": {
      "application/vnd.jupyter.widget-view+json": {
       "model_id": "ec186b87ceb64a94a26b305b2cf1fcef",
       "version_major": 2,
       "version_minor": 0
      },
      "text/plain": [
       "  0%|          | 0/125 [00:00<?, ?it/s]"
      ]
     },
     "metadata": {},
     "output_type": "display_data"
    },
    {
     "name": "stderr",
     "output_type": "stream",
     "text": [
      "Saving model checkpoint to /mnt/hdd0/Kaggle/arc24/models/20240724_first_trainings/01_phi3_debug/tmp-checkpoint-1100\n",
      "/home/gbarbadillo/miniconda3/envs/prometeo/lib/python3.10/site-packages/peft/utils/save_and_load.py:148: UserWarning: Could not find a config file in /home/gbarbadillo/data/Phi-3-mini-128k-instruct - will assume that the vocabulary was not modified.\n",
      "  warnings.warn(\n",
      "tokenizer config file saved in /mnt/hdd0/Kaggle/arc24/models/20240724_first_trainings/01_phi3_debug/tmp-checkpoint-1100/tokenizer_config.json\n",
      "Special tokens file saved in /mnt/hdd0/Kaggle/arc24/models/20240724_first_trainings/01_phi3_debug/tmp-checkpoint-1100/special_tokens_map.json\n"
     ]
    },
    {
     "name": "stdout",
     "output_type": "stream",
     "text": [
      "{'eval_loss': 0.19209171831607819, 'eval_runtime': 61.5283, 'eval_samples_per_second': 16.253, 'eval_steps_per_second': 2.032, 'epoch': 1.96}\n"
     ]
    },
    {
     "name": "stderr",
     "output_type": "stream",
     "text": [
      "***** Running Evaluation *****\n",
      "  Num examples = 1000\n",
      "  Batch size = 8\n"
     ]
    },
    {
     "name": "stdout",
     "output_type": "stream",
     "text": [
      "{'loss': 0.1838, 'grad_norm': 3.140625, 'learning_rate': 3.197132616487455e-05, 'epoch': 2.05}\n"
     ]
    },
    {
     "data": {
      "application/vnd.jupyter.widget-view+json": {
       "model_id": "771dfca8bcd540c5a23f4625c9482636",
       "version_major": 2,
       "version_minor": 0
      },
      "text/plain": [
       "  0%|          | 0/125 [00:00<?, ?it/s]"
      ]
     },
     "metadata": {},
     "output_type": "display_data"
    },
    {
     "name": "stderr",
     "output_type": "stream",
     "text": [
      "Saving model checkpoint to /mnt/hdd0/Kaggle/arc24/models/20240724_first_trainings/01_phi3_debug/tmp-checkpoint-1150\n",
      "/home/gbarbadillo/miniconda3/envs/prometeo/lib/python3.10/site-packages/peft/utils/save_and_load.py:148: UserWarning: Could not find a config file in /home/gbarbadillo/data/Phi-3-mini-128k-instruct - will assume that the vocabulary was not modified.\n",
      "  warnings.warn(\n",
      "tokenizer config file saved in /mnt/hdd0/Kaggle/arc24/models/20240724_first_trainings/01_phi3_debug/tmp-checkpoint-1150/tokenizer_config.json\n",
      "Special tokens file saved in /mnt/hdd0/Kaggle/arc24/models/20240724_first_trainings/01_phi3_debug/tmp-checkpoint-1150/special_tokens_map.json\n"
     ]
    },
    {
     "name": "stdout",
     "output_type": "stream",
     "text": [
      "{'eval_loss': 0.19916701316833496, 'eval_runtime': 61.5034, 'eval_samples_per_second': 16.259, 'eval_steps_per_second': 2.032, 'epoch': 2.05}\n"
     ]
    },
    {
     "name": "stderr",
     "output_type": "stream",
     "text": [
      "***** Running Evaluation *****\n",
      "  Num examples = 1000\n",
      "  Batch size = 8\n"
     ]
    },
    {
     "name": "stdout",
     "output_type": "stream",
     "text": [
      "{'loss': 0.19, 'grad_norm': 8.6875, 'learning_rate': 3.161290322580645e-05, 'epoch': 2.14}\n"
     ]
    },
    {
     "data": {
      "application/vnd.jupyter.widget-view+json": {
       "model_id": "733310a9376d476b8dac53302b6159bf",
       "version_major": 2,
       "version_minor": 0
      },
      "text/plain": [
       "  0%|          | 0/125 [00:00<?, ?it/s]"
      ]
     },
     "metadata": {},
     "output_type": "display_data"
    },
    {
     "name": "stderr",
     "output_type": "stream",
     "text": [
      "Saving model checkpoint to /mnt/hdd0/Kaggle/arc24/models/20240724_first_trainings/01_phi3_debug/tmp-checkpoint-1200\n",
      "/home/gbarbadillo/miniconda3/envs/prometeo/lib/python3.10/site-packages/peft/utils/save_and_load.py:148: UserWarning: Could not find a config file in /home/gbarbadillo/data/Phi-3-mini-128k-instruct - will assume that the vocabulary was not modified.\n",
      "  warnings.warn(\n",
      "tokenizer config file saved in /mnt/hdd0/Kaggle/arc24/models/20240724_first_trainings/01_phi3_debug/tmp-checkpoint-1200/tokenizer_config.json\n",
      "Special tokens file saved in /mnt/hdd0/Kaggle/arc24/models/20240724_first_trainings/01_phi3_debug/tmp-checkpoint-1200/special_tokens_map.json\n"
     ]
    },
    {
     "name": "stdout",
     "output_type": "stream",
     "text": [
      "{'eval_loss': 0.20638342201709747, 'eval_runtime': 61.5482, 'eval_samples_per_second': 16.247, 'eval_steps_per_second': 2.031, 'epoch': 2.14}\n"
     ]
    },
    {
     "name": "stderr",
     "output_type": "stream",
     "text": [
      "***** Running Evaluation *****\n",
      "  Num examples = 1000\n",
      "  Batch size = 8\n"
     ]
    },
    {
     "name": "stdout",
     "output_type": "stream",
     "text": [
      "{'loss': 0.2038, 'grad_norm': 2.046875, 'learning_rate': 3.1254480286738355e-05, 'epoch': 2.23}\n"
     ]
    },
    {
     "data": {
      "application/vnd.jupyter.widget-view+json": {
       "model_id": "a3fe135ee7724af4a52d170794622961",
       "version_major": 2,
       "version_minor": 0
      },
      "text/plain": [
       "  0%|          | 0/125 [00:00<?, ?it/s]"
      ]
     },
     "metadata": {},
     "output_type": "display_data"
    },
    {
     "name": "stderr",
     "output_type": "stream",
     "text": [
      "Saving model checkpoint to /mnt/hdd0/Kaggle/arc24/models/20240724_first_trainings/01_phi3_debug/tmp-checkpoint-1250\n",
      "/home/gbarbadillo/miniconda3/envs/prometeo/lib/python3.10/site-packages/peft/utils/save_and_load.py:148: UserWarning: Could not find a config file in /home/gbarbadillo/data/Phi-3-mini-128k-instruct - will assume that the vocabulary was not modified.\n",
      "  warnings.warn(\n",
      "tokenizer config file saved in /mnt/hdd0/Kaggle/arc24/models/20240724_first_trainings/01_phi3_debug/tmp-checkpoint-1250/tokenizer_config.json\n",
      "Special tokens file saved in /mnt/hdd0/Kaggle/arc24/models/20240724_first_trainings/01_phi3_debug/tmp-checkpoint-1250/special_tokens_map.json\n"
     ]
    },
    {
     "name": "stdout",
     "output_type": "stream",
     "text": [
      "{'eval_loss': 0.1938580423593521, 'eval_runtime': 61.5712, 'eval_samples_per_second': 16.241, 'eval_steps_per_second': 2.03, 'epoch': 2.23}\n"
     ]
    },
    {
     "name": "stderr",
     "output_type": "stream",
     "text": [
      "***** Running Evaluation *****\n",
      "  Num examples = 1000\n",
      "  Batch size = 8\n"
     ]
    },
    {
     "name": "stdout",
     "output_type": "stream",
     "text": [
      "{'loss': 0.1868, 'grad_norm': 5.65625, 'learning_rate': 3.0896057347670256e-05, 'epoch': 2.32}\n"
     ]
    },
    {
     "data": {
      "application/vnd.jupyter.widget-view+json": {
       "model_id": "5156a94105da4c7a8e5f106e84139b4d",
       "version_major": 2,
       "version_minor": 0
      },
      "text/plain": [
       "  0%|          | 0/125 [00:00<?, ?it/s]"
      ]
     },
     "metadata": {},
     "output_type": "display_data"
    },
    {
     "name": "stderr",
     "output_type": "stream",
     "text": [
      "Saving model checkpoint to /mnt/hdd0/Kaggle/arc24/models/20240724_first_trainings/01_phi3_debug/tmp-checkpoint-1300\n",
      "/home/gbarbadillo/miniconda3/envs/prometeo/lib/python3.10/site-packages/peft/utils/save_and_load.py:148: UserWarning: Could not find a config file in /home/gbarbadillo/data/Phi-3-mini-128k-instruct - will assume that the vocabulary was not modified.\n",
      "  warnings.warn(\n",
      "tokenizer config file saved in /mnt/hdd0/Kaggle/arc24/models/20240724_first_trainings/01_phi3_debug/tmp-checkpoint-1300/tokenizer_config.json\n",
      "Special tokens file saved in /mnt/hdd0/Kaggle/arc24/models/20240724_first_trainings/01_phi3_debug/tmp-checkpoint-1300/special_tokens_map.json\n"
     ]
    },
    {
     "name": "stdout",
     "output_type": "stream",
     "text": [
      "{'eval_loss': 0.18933923542499542, 'eval_runtime': 61.3999, 'eval_samples_per_second': 16.287, 'eval_steps_per_second': 2.036, 'epoch': 2.32}\n"
     ]
    },
    {
     "name": "stderr",
     "output_type": "stream",
     "text": [
      "***** Running Evaluation *****\n",
      "  Num examples = 1000\n",
      "  Batch size = 8\n"
     ]
    },
    {
     "name": "stdout",
     "output_type": "stream",
     "text": [
      "{'loss': 0.1989, 'grad_norm': 1.1953125, 'learning_rate': 3.053763440860215e-05, 'epoch': 2.4}\n"
     ]
    },
    {
     "data": {
      "application/vnd.jupyter.widget-view+json": {
       "model_id": "b535d26b5c3c4377a0be7f41dc338ec2",
       "version_major": 2,
       "version_minor": 0
      },
      "text/plain": [
       "  0%|          | 0/125 [00:00<?, ?it/s]"
      ]
     },
     "metadata": {},
     "output_type": "display_data"
    },
    {
     "name": "stderr",
     "output_type": "stream",
     "text": [
      "Saving model checkpoint to /mnt/hdd0/Kaggle/arc24/models/20240724_first_trainings/01_phi3_debug/tmp-checkpoint-1350\n",
      "/home/gbarbadillo/miniconda3/envs/prometeo/lib/python3.10/site-packages/peft/utils/save_and_load.py:148: UserWarning: Could not find a config file in /home/gbarbadillo/data/Phi-3-mini-128k-instruct - will assume that the vocabulary was not modified.\n",
      "  warnings.warn(\n",
      "tokenizer config file saved in /mnt/hdd0/Kaggle/arc24/models/20240724_first_trainings/01_phi3_debug/tmp-checkpoint-1350/tokenizer_config.json\n",
      "Special tokens file saved in /mnt/hdd0/Kaggle/arc24/models/20240724_first_trainings/01_phi3_debug/tmp-checkpoint-1350/special_tokens_map.json\n"
     ]
    },
    {
     "name": "stdout",
     "output_type": "stream",
     "text": [
      "{'eval_loss': 0.19016452133655548, 'eval_runtime': 61.3238, 'eval_samples_per_second': 16.307, 'eval_steps_per_second': 2.038, 'epoch': 2.4}\n"
     ]
    },
    {
     "name": "stderr",
     "output_type": "stream",
     "text": [
      "***** Running Evaluation *****\n",
      "  Num examples = 1000\n",
      "  Batch size = 8\n"
     ]
    },
    {
     "name": "stdout",
     "output_type": "stream",
     "text": [
      "{'loss': 0.194, 'grad_norm': 3.484375, 'learning_rate': 3.017921146953405e-05, 'epoch': 2.49}\n"
     ]
    },
    {
     "data": {
      "application/vnd.jupyter.widget-view+json": {
       "model_id": "645111d1ddd34916a54c949232bfaa41",
       "version_major": 2,
       "version_minor": 0
      },
      "text/plain": [
       "  0%|          | 0/125 [00:00<?, ?it/s]"
      ]
     },
     "metadata": {},
     "output_type": "display_data"
    },
    {
     "name": "stderr",
     "output_type": "stream",
     "text": [
      "Saving model checkpoint to /mnt/hdd0/Kaggle/arc24/models/20240724_first_trainings/01_phi3_debug/tmp-checkpoint-1400\n",
      "/home/gbarbadillo/miniconda3/envs/prometeo/lib/python3.10/site-packages/peft/utils/save_and_load.py:148: UserWarning: Could not find a config file in /home/gbarbadillo/data/Phi-3-mini-128k-instruct - will assume that the vocabulary was not modified.\n",
      "  warnings.warn(\n",
      "tokenizer config file saved in /mnt/hdd0/Kaggle/arc24/models/20240724_first_trainings/01_phi3_debug/tmp-checkpoint-1400/tokenizer_config.json\n",
      "Special tokens file saved in /mnt/hdd0/Kaggle/arc24/models/20240724_first_trainings/01_phi3_debug/tmp-checkpoint-1400/special_tokens_map.json\n"
     ]
    },
    {
     "name": "stdout",
     "output_type": "stream",
     "text": [
      "{'eval_loss': 0.18972615897655487, 'eval_runtime': 61.3893, 'eval_samples_per_second': 16.289, 'eval_steps_per_second': 2.036, 'epoch': 2.49}\n"
     ]
    },
    {
     "name": "stderr",
     "output_type": "stream",
     "text": [
      "***** Running Evaluation *****\n",
      "  Num examples = 1000\n",
      "  Batch size = 8\n"
     ]
    },
    {
     "name": "stdout",
     "output_type": "stream",
     "text": [
      "{'loss': 0.184, 'grad_norm': 2.296875, 'learning_rate': 2.9820788530465955e-05, 'epoch': 2.58}\n"
     ]
    },
    {
     "data": {
      "application/vnd.jupyter.widget-view+json": {
       "model_id": "ba51cd2239934e3eb111f7102c1da9d8",
       "version_major": 2,
       "version_minor": 0
      },
      "text/plain": [
       "  0%|          | 0/125 [00:00<?, ?it/s]"
      ]
     },
     "metadata": {},
     "output_type": "display_data"
    },
    {
     "name": "stderr",
     "output_type": "stream",
     "text": [
      "Saving model checkpoint to /mnt/hdd0/Kaggle/arc24/models/20240724_first_trainings/01_phi3_debug/tmp-checkpoint-1450\n",
      "/home/gbarbadillo/miniconda3/envs/prometeo/lib/python3.10/site-packages/peft/utils/save_and_load.py:148: UserWarning: Could not find a config file in /home/gbarbadillo/data/Phi-3-mini-128k-instruct - will assume that the vocabulary was not modified.\n",
      "  warnings.warn(\n",
      "tokenizer config file saved in /mnt/hdd0/Kaggle/arc24/models/20240724_first_trainings/01_phi3_debug/tmp-checkpoint-1450/tokenizer_config.json\n",
      "Special tokens file saved in /mnt/hdd0/Kaggle/arc24/models/20240724_first_trainings/01_phi3_debug/tmp-checkpoint-1450/special_tokens_map.json\n"
     ]
    },
    {
     "name": "stdout",
     "output_type": "stream",
     "text": [
      "{'eval_loss': 0.2045641839504242, 'eval_runtime': 61.3178, 'eval_samples_per_second': 16.308, 'eval_steps_per_second': 2.039, 'epoch': 2.58}\n"
     ]
    },
    {
     "name": "stderr",
     "output_type": "stream",
     "text": [
      "***** Running Evaluation *****\n",
      "  Num examples = 1000\n",
      "  Batch size = 8\n"
     ]
    },
    {
     "name": "stdout",
     "output_type": "stream",
     "text": [
      "{'loss': 0.1937, 'grad_norm': 4.5625, 'learning_rate': 2.9462365591397853e-05, 'epoch': 2.67}\n"
     ]
    },
    {
     "data": {
      "application/vnd.jupyter.widget-view+json": {
       "model_id": "b956e9c15ecf4244b7412de4b29e8275",
       "version_major": 2,
       "version_minor": 0
      },
      "text/plain": [
       "  0%|          | 0/125 [00:00<?, ?it/s]"
      ]
     },
     "metadata": {},
     "output_type": "display_data"
    },
    {
     "name": "stderr",
     "output_type": "stream",
     "text": [
      "Saving model checkpoint to /mnt/hdd0/Kaggle/arc24/models/20240724_first_trainings/01_phi3_debug/tmp-checkpoint-1500\n",
      "/home/gbarbadillo/miniconda3/envs/prometeo/lib/python3.10/site-packages/peft/utils/save_and_load.py:148: UserWarning: Could not find a config file in /home/gbarbadillo/data/Phi-3-mini-128k-instruct - will assume that the vocabulary was not modified.\n",
      "  warnings.warn(\n",
      "tokenizer config file saved in /mnt/hdd0/Kaggle/arc24/models/20240724_first_trainings/01_phi3_debug/tmp-checkpoint-1500/tokenizer_config.json\n",
      "Special tokens file saved in /mnt/hdd0/Kaggle/arc24/models/20240724_first_trainings/01_phi3_debug/tmp-checkpoint-1500/special_tokens_map.json\n"
     ]
    },
    {
     "name": "stdout",
     "output_type": "stream",
     "text": [
      "{'eval_loss': 0.19456326961517334, 'eval_runtime': 61.3916, 'eval_samples_per_second': 16.289, 'eval_steps_per_second': 2.036, 'epoch': 2.67}\n"
     ]
    },
    {
     "name": "stderr",
     "output_type": "stream",
     "text": [
      "***** Running Evaluation *****\n",
      "  Num examples = 1000\n",
      "  Batch size = 8\n"
     ]
    },
    {
     "name": "stdout",
     "output_type": "stream",
     "text": [
      "{'loss': 0.1927, 'grad_norm': 1.9140625, 'learning_rate': 2.9103942652329752e-05, 'epoch': 2.76}\n"
     ]
    },
    {
     "data": {
      "application/vnd.jupyter.widget-view+json": {
       "model_id": "6389afdb75444f99b98e37618c185929",
       "version_major": 2,
       "version_minor": 0
      },
      "text/plain": [
       "  0%|          | 0/125 [00:00<?, ?it/s]"
      ]
     },
     "metadata": {},
     "output_type": "display_data"
    },
    {
     "name": "stderr",
     "output_type": "stream",
     "text": [
      "Saving model checkpoint to /mnt/hdd0/Kaggle/arc24/models/20240724_first_trainings/01_phi3_debug/tmp-checkpoint-1550\n",
      "/home/gbarbadillo/miniconda3/envs/prometeo/lib/python3.10/site-packages/peft/utils/save_and_load.py:148: UserWarning: Could not find a config file in /home/gbarbadillo/data/Phi-3-mini-128k-instruct - will assume that the vocabulary was not modified.\n",
      "  warnings.warn(\n",
      "tokenizer config file saved in /mnt/hdd0/Kaggle/arc24/models/20240724_first_trainings/01_phi3_debug/tmp-checkpoint-1550/tokenizer_config.json\n",
      "Special tokens file saved in /mnt/hdd0/Kaggle/arc24/models/20240724_first_trainings/01_phi3_debug/tmp-checkpoint-1550/special_tokens_map.json\n"
     ]
    },
    {
     "name": "stdout",
     "output_type": "stream",
     "text": [
      "{'eval_loss': 0.19160793721675873, 'eval_runtime': 61.4507, 'eval_samples_per_second': 16.273, 'eval_steps_per_second': 2.034, 'epoch': 2.76}\n"
     ]
    },
    {
     "name": "stderr",
     "output_type": "stream",
     "text": [
      "***** Running Evaluation *****\n",
      "  Num examples = 1000\n",
      "  Batch size = 8\n"
     ]
    },
    {
     "name": "stdout",
     "output_type": "stream",
     "text": [
      "{'loss': 0.1926, 'grad_norm': 3.015625, 'learning_rate': 2.874551971326165e-05, 'epoch': 2.85}\n"
     ]
    },
    {
     "data": {
      "application/vnd.jupyter.widget-view+json": {
       "model_id": "b330e1d6123b4b8a97e6e77804f75484",
       "version_major": 2,
       "version_minor": 0
      },
      "text/plain": [
       "  0%|          | 0/125 [00:00<?, ?it/s]"
      ]
     },
     "metadata": {},
     "output_type": "display_data"
    },
    {
     "name": "stderr",
     "output_type": "stream",
     "text": [
      "Saving model checkpoint to /mnt/hdd0/Kaggle/arc24/models/20240724_first_trainings/01_phi3_debug/tmp-checkpoint-1600\n",
      "/home/gbarbadillo/miniconda3/envs/prometeo/lib/python3.10/site-packages/peft/utils/save_and_load.py:148: UserWarning: Could not find a config file in /home/gbarbadillo/data/Phi-3-mini-128k-instruct - will assume that the vocabulary was not modified.\n",
      "  warnings.warn(\n",
      "tokenizer config file saved in /mnt/hdd0/Kaggle/arc24/models/20240724_first_trainings/01_phi3_debug/tmp-checkpoint-1600/tokenizer_config.json\n",
      "Special tokens file saved in /mnt/hdd0/Kaggle/arc24/models/20240724_first_trainings/01_phi3_debug/tmp-checkpoint-1600/special_tokens_map.json\n"
     ]
    },
    {
     "name": "stdout",
     "output_type": "stream",
     "text": [
      "{'eval_loss': 0.18720699846744537, 'eval_runtime': 61.3484, 'eval_samples_per_second': 16.3, 'eval_steps_per_second': 2.038, 'epoch': 2.85}\n"
     ]
    },
    {
     "name": "stderr",
     "output_type": "stream",
     "text": [
      "***** Running Evaluation *****\n",
      "  Num examples = 1000\n",
      "  Batch size = 8\n"
     ]
    },
    {
     "name": "stdout",
     "output_type": "stream",
     "text": [
      "{'loss': 0.1914, 'grad_norm': 6.3125, 'learning_rate': 2.8387096774193552e-05, 'epoch': 2.94}\n"
     ]
    },
    {
     "data": {
      "application/vnd.jupyter.widget-view+json": {
       "model_id": "8a271256f225447694eaa15cd20140bb",
       "version_major": 2,
       "version_minor": 0
      },
      "text/plain": [
       "  0%|          | 0/125 [00:00<?, ?it/s]"
      ]
     },
     "metadata": {},
     "output_type": "display_data"
    },
    {
     "name": "stderr",
     "output_type": "stream",
     "text": [
      "Saving model checkpoint to /mnt/hdd0/Kaggle/arc24/models/20240724_first_trainings/01_phi3_debug/tmp-checkpoint-1650\n",
      "/home/gbarbadillo/miniconda3/envs/prometeo/lib/python3.10/site-packages/peft/utils/save_and_load.py:148: UserWarning: Could not find a config file in /home/gbarbadillo/data/Phi-3-mini-128k-instruct - will assume that the vocabulary was not modified.\n",
      "  warnings.warn(\n",
      "tokenizer config file saved in /mnt/hdd0/Kaggle/arc24/models/20240724_first_trainings/01_phi3_debug/tmp-checkpoint-1650/tokenizer_config.json\n",
      "Special tokens file saved in /mnt/hdd0/Kaggle/arc24/models/20240724_first_trainings/01_phi3_debug/tmp-checkpoint-1650/special_tokens_map.json\n"
     ]
    },
    {
     "name": "stdout",
     "output_type": "stream",
     "text": [
      "{'eval_loss': 0.19231851398944855, 'eval_runtime': 61.4133, 'eval_samples_per_second': 16.283, 'eval_steps_per_second': 2.035, 'epoch': 2.94}\n"
     ]
    },
    {
     "name": "stderr",
     "output_type": "stream",
     "text": [
      "***** Running Evaluation *****\n",
      "  Num examples = 1000\n",
      "  Batch size = 8\n"
     ]
    },
    {
     "name": "stdout",
     "output_type": "stream",
     "text": [
      "{'loss': 0.1867, 'grad_norm': 5.09375, 'learning_rate': 2.802867383512545e-05, 'epoch': 3.03}\n"
     ]
    },
    {
     "data": {
      "application/vnd.jupyter.widget-view+json": {
       "model_id": "cd79676c7e3c466e88ca445688c2d62a",
       "version_major": 2,
       "version_minor": 0
      },
      "text/plain": [
       "  0%|          | 0/125 [00:00<?, ?it/s]"
      ]
     },
     "metadata": {},
     "output_type": "display_data"
    },
    {
     "name": "stderr",
     "output_type": "stream",
     "text": [
      "Saving model checkpoint to /mnt/hdd0/Kaggle/arc24/models/20240724_first_trainings/01_phi3_debug/tmp-checkpoint-1700\n",
      "/home/gbarbadillo/miniconda3/envs/prometeo/lib/python3.10/site-packages/peft/utils/save_and_load.py:148: UserWarning: Could not find a config file in /home/gbarbadillo/data/Phi-3-mini-128k-instruct - will assume that the vocabulary was not modified.\n",
      "  warnings.warn(\n",
      "tokenizer config file saved in /mnt/hdd0/Kaggle/arc24/models/20240724_first_trainings/01_phi3_debug/tmp-checkpoint-1700/tokenizer_config.json\n",
      "Special tokens file saved in /mnt/hdd0/Kaggle/arc24/models/20240724_first_trainings/01_phi3_debug/tmp-checkpoint-1700/special_tokens_map.json\n"
     ]
    },
    {
     "name": "stdout",
     "output_type": "stream",
     "text": [
      "{'eval_loss': 0.18457433581352234, 'eval_runtime': 61.4657, 'eval_samples_per_second': 16.269, 'eval_steps_per_second': 2.034, 'epoch': 3.03}\n"
     ]
    },
    {
     "name": "stderr",
     "output_type": "stream",
     "text": [
      "***** Running Evaluation *****\n",
      "  Num examples = 1000\n",
      "  Batch size = 8\n"
     ]
    },
    {
     "name": "stdout",
     "output_type": "stream",
     "text": [
      "{'loss': 0.1809, 'grad_norm': 2.46875, 'learning_rate': 2.767025089605735e-05, 'epoch': 3.12}\n"
     ]
    },
    {
     "data": {
      "application/vnd.jupyter.widget-view+json": {
       "model_id": "ed4e240c1c7743edb5055d5f5431a9f0",
       "version_major": 2,
       "version_minor": 0
      },
      "text/plain": [
       "  0%|          | 0/125 [00:00<?, ?it/s]"
      ]
     },
     "metadata": {},
     "output_type": "display_data"
    },
    {
     "name": "stderr",
     "output_type": "stream",
     "text": [
      "Saving model checkpoint to /mnt/hdd0/Kaggle/arc24/models/20240724_first_trainings/01_phi3_debug/tmp-checkpoint-1750\n",
      "/home/gbarbadillo/miniconda3/envs/prometeo/lib/python3.10/site-packages/peft/utils/save_and_load.py:148: UserWarning: Could not find a config file in /home/gbarbadillo/data/Phi-3-mini-128k-instruct - will assume that the vocabulary was not modified.\n",
      "  warnings.warn(\n",
      "tokenizer config file saved in /mnt/hdd0/Kaggle/arc24/models/20240724_first_trainings/01_phi3_debug/tmp-checkpoint-1750/tokenizer_config.json\n",
      "Special tokens file saved in /mnt/hdd0/Kaggle/arc24/models/20240724_first_trainings/01_phi3_debug/tmp-checkpoint-1750/special_tokens_map.json\n"
     ]
    },
    {
     "name": "stdout",
     "output_type": "stream",
     "text": [
      "{'eval_loss': 0.18205276131629944, 'eval_runtime': 61.5923, 'eval_samples_per_second': 16.236, 'eval_steps_per_second': 2.029, 'epoch': 3.12}\n"
     ]
    },
    {
     "name": "stderr",
     "output_type": "stream",
     "text": [
      "***** Running Evaluation *****\n",
      "  Num examples = 1000\n",
      "  Batch size = 8\n"
     ]
    },
    {
     "name": "stdout",
     "output_type": "stream",
     "text": [
      "{'loss': 0.1857, 'grad_norm': 4.21875, 'learning_rate': 2.7311827956989247e-05, 'epoch': 3.21}\n"
     ]
    },
    {
     "data": {
      "application/vnd.jupyter.widget-view+json": {
       "model_id": "8f2428184eff4632b16a023b3bd5df69",
       "version_major": 2,
       "version_minor": 0
      },
      "text/plain": [
       "  0%|          | 0/125 [00:00<?, ?it/s]"
      ]
     },
     "metadata": {},
     "output_type": "display_data"
    },
    {
     "name": "stderr",
     "output_type": "stream",
     "text": [
      "Saving model checkpoint to /mnt/hdd0/Kaggle/arc24/models/20240724_first_trainings/01_phi3_debug/tmp-checkpoint-1800\n",
      "/home/gbarbadillo/miniconda3/envs/prometeo/lib/python3.10/site-packages/peft/utils/save_and_load.py:148: UserWarning: Could not find a config file in /home/gbarbadillo/data/Phi-3-mini-128k-instruct - will assume that the vocabulary was not modified.\n",
      "  warnings.warn(\n",
      "tokenizer config file saved in /mnt/hdd0/Kaggle/arc24/models/20240724_first_trainings/01_phi3_debug/tmp-checkpoint-1800/tokenizer_config.json\n",
      "Special tokens file saved in /mnt/hdd0/Kaggle/arc24/models/20240724_first_trainings/01_phi3_debug/tmp-checkpoint-1800/special_tokens_map.json\n"
     ]
    },
    {
     "name": "stdout",
     "output_type": "stream",
     "text": [
      "{'eval_loss': 0.18236258625984192, 'eval_runtime': 61.5386, 'eval_samples_per_second': 16.25, 'eval_steps_per_second': 2.031, 'epoch': 3.21}\n"
     ]
    },
    {
     "name": "stderr",
     "output_type": "stream",
     "text": [
      "***** Running Evaluation *****\n",
      "  Num examples = 1000\n",
      "  Batch size = 8\n"
     ]
    },
    {
     "name": "stdout",
     "output_type": "stream",
     "text": [
      "{'loss': 0.1902, 'grad_norm': 2.375, 'learning_rate': 2.695340501792115e-05, 'epoch': 3.29}\n"
     ]
    },
    {
     "data": {
      "application/vnd.jupyter.widget-view+json": {
       "model_id": "21106b3d8d72487691d7f477f67a3807",
       "version_major": 2,
       "version_minor": 0
      },
      "text/plain": [
       "  0%|          | 0/125 [00:00<?, ?it/s]"
      ]
     },
     "metadata": {},
     "output_type": "display_data"
    },
    {
     "name": "stderr",
     "output_type": "stream",
     "text": [
      "Saving model checkpoint to /mnt/hdd0/Kaggle/arc24/models/20240724_first_trainings/01_phi3_debug/tmp-checkpoint-1850\n",
      "/home/gbarbadillo/miniconda3/envs/prometeo/lib/python3.10/site-packages/peft/utils/save_and_load.py:148: UserWarning: Could not find a config file in /home/gbarbadillo/data/Phi-3-mini-128k-instruct - will assume that the vocabulary was not modified.\n",
      "  warnings.warn(\n",
      "tokenizer config file saved in /mnt/hdd0/Kaggle/arc24/models/20240724_first_trainings/01_phi3_debug/tmp-checkpoint-1850/tokenizer_config.json\n",
      "Special tokens file saved in /mnt/hdd0/Kaggle/arc24/models/20240724_first_trainings/01_phi3_debug/tmp-checkpoint-1850/special_tokens_map.json\n"
     ]
    },
    {
     "name": "stdout",
     "output_type": "stream",
     "text": [
      "{'eval_loss': 0.18554821610450745, 'eval_runtime': 61.3892, 'eval_samples_per_second': 16.289, 'eval_steps_per_second': 2.036, 'epoch': 3.29}\n"
     ]
    },
    {
     "name": "stderr",
     "output_type": "stream",
     "text": [
      "***** Running Evaluation *****\n",
      "  Num examples = 1000\n",
      "  Batch size = 8\n"
     ]
    },
    {
     "name": "stdout",
     "output_type": "stream",
     "text": [
      "{'loss': 0.1787, 'grad_norm': 3.78125, 'learning_rate': 2.6594982078853048e-05, 'epoch': 3.38}\n"
     ]
    },
    {
     "data": {
      "application/vnd.jupyter.widget-view+json": {
       "model_id": "f027216722334a84b15ebe3eb7b52561",
       "version_major": 2,
       "version_minor": 0
      },
      "text/plain": [
       "  0%|          | 0/125 [00:00<?, ?it/s]"
      ]
     },
     "metadata": {},
     "output_type": "display_data"
    },
    {
     "name": "stderr",
     "output_type": "stream",
     "text": [
      "Saving model checkpoint to /mnt/hdd0/Kaggle/arc24/models/20240724_first_trainings/01_phi3_debug/tmp-checkpoint-1900\n",
      "/home/gbarbadillo/miniconda3/envs/prometeo/lib/python3.10/site-packages/peft/utils/save_and_load.py:148: UserWarning: Could not find a config file in /home/gbarbadillo/data/Phi-3-mini-128k-instruct - will assume that the vocabulary was not modified.\n",
      "  warnings.warn(\n",
      "tokenizer config file saved in /mnt/hdd0/Kaggle/arc24/models/20240724_first_trainings/01_phi3_debug/tmp-checkpoint-1900/tokenizer_config.json\n",
      "Special tokens file saved in /mnt/hdd0/Kaggle/arc24/models/20240724_first_trainings/01_phi3_debug/tmp-checkpoint-1900/special_tokens_map.json\n"
     ]
    },
    {
     "name": "stdout",
     "output_type": "stream",
     "text": [
      "{'eval_loss': 0.18439605832099915, 'eval_runtime': 61.4289, 'eval_samples_per_second': 16.279, 'eval_steps_per_second': 2.035, 'epoch': 3.38}\n"
     ]
    },
    {
     "name": "stderr",
     "output_type": "stream",
     "text": [
      "***** Running Evaluation *****\n",
      "  Num examples = 1000\n",
      "  Batch size = 8\n"
     ]
    },
    {
     "name": "stdout",
     "output_type": "stream",
     "text": [
      "{'loss': 0.1748, 'grad_norm': 5.46875, 'learning_rate': 2.6236559139784946e-05, 'epoch': 3.47}\n"
     ]
    },
    {
     "data": {
      "application/vnd.jupyter.widget-view+json": {
       "model_id": "39ef360e940b4b9c8b11a2dd1c6e8d77",
       "version_major": 2,
       "version_minor": 0
      },
      "text/plain": [
       "  0%|          | 0/125 [00:00<?, ?it/s]"
      ]
     },
     "metadata": {},
     "output_type": "display_data"
    },
    {
     "name": "stderr",
     "output_type": "stream",
     "text": [
      "Saving model checkpoint to /mnt/hdd0/Kaggle/arc24/models/20240724_first_trainings/01_phi3_debug/tmp-checkpoint-1950\n",
      "/home/gbarbadillo/miniconda3/envs/prometeo/lib/python3.10/site-packages/peft/utils/save_and_load.py:148: UserWarning: Could not find a config file in /home/gbarbadillo/data/Phi-3-mini-128k-instruct - will assume that the vocabulary was not modified.\n",
      "  warnings.warn(\n",
      "tokenizer config file saved in /mnt/hdd0/Kaggle/arc24/models/20240724_first_trainings/01_phi3_debug/tmp-checkpoint-1950/tokenizer_config.json\n",
      "Special tokens file saved in /mnt/hdd0/Kaggle/arc24/models/20240724_first_trainings/01_phi3_debug/tmp-checkpoint-1950/special_tokens_map.json\n"
     ]
    },
    {
     "name": "stdout",
     "output_type": "stream",
     "text": [
      "{'eval_loss': 0.18485675752162933, 'eval_runtime': 61.3686, 'eval_samples_per_second': 16.295, 'eval_steps_per_second': 2.037, 'epoch': 3.47}\n"
     ]
    },
    {
     "name": "stderr",
     "output_type": "stream",
     "text": [
      "***** Running Evaluation *****\n",
      "  Num examples = 1000\n",
      "  Batch size = 8\n"
     ]
    },
    {
     "name": "stdout",
     "output_type": "stream",
     "text": [
      "{'loss': 0.1873, 'grad_norm': 4.40625, 'learning_rate': 2.587813620071685e-05, 'epoch': 3.56}\n"
     ]
    },
    {
     "data": {
      "application/vnd.jupyter.widget-view+json": {
       "model_id": "40d6668d094a4c099a69223a29e42e17",
       "version_major": 2,
       "version_minor": 0
      },
      "text/plain": [
       "  0%|          | 0/125 [00:00<?, ?it/s]"
      ]
     },
     "metadata": {},
     "output_type": "display_data"
    },
    {
     "name": "stderr",
     "output_type": "stream",
     "text": [
      "Saving model checkpoint to /mnt/hdd0/Kaggle/arc24/models/20240724_first_trainings/01_phi3_debug/tmp-checkpoint-2000\n",
      "/home/gbarbadillo/miniconda3/envs/prometeo/lib/python3.10/site-packages/peft/utils/save_and_load.py:148: UserWarning: Could not find a config file in /home/gbarbadillo/data/Phi-3-mini-128k-instruct - will assume that the vocabulary was not modified.\n",
      "  warnings.warn(\n",
      "tokenizer config file saved in /mnt/hdd0/Kaggle/arc24/models/20240724_first_trainings/01_phi3_debug/tmp-checkpoint-2000/tokenizer_config.json\n",
      "Special tokens file saved in /mnt/hdd0/Kaggle/arc24/models/20240724_first_trainings/01_phi3_debug/tmp-checkpoint-2000/special_tokens_map.json\n"
     ]
    },
    {
     "name": "stdout",
     "output_type": "stream",
     "text": [
      "{'eval_loss': 0.18755611777305603, 'eval_runtime': 61.4011, 'eval_samples_per_second': 16.286, 'eval_steps_per_second': 2.036, 'epoch': 3.56}\n"
     ]
    },
    {
     "name": "stderr",
     "output_type": "stream",
     "text": [
      "***** Running Evaluation *****\n",
      "  Num examples = 1000\n",
      "  Batch size = 8\n"
     ]
    },
    {
     "name": "stdout",
     "output_type": "stream",
     "text": [
      "{'loss': 0.181, 'grad_norm': 18.75, 'learning_rate': 2.551971326164875e-05, 'epoch': 3.65}\n"
     ]
    },
    {
     "data": {
      "application/vnd.jupyter.widget-view+json": {
       "model_id": "9275a341a5024967877c4ba1d5307115",
       "version_major": 2,
       "version_minor": 0
      },
      "text/plain": [
       "  0%|          | 0/125 [00:00<?, ?it/s]"
      ]
     },
     "metadata": {},
     "output_type": "display_data"
    },
    {
     "name": "stderr",
     "output_type": "stream",
     "text": [
      "Saving model checkpoint to /mnt/hdd0/Kaggle/arc24/models/20240724_first_trainings/01_phi3_debug/tmp-checkpoint-2050\n",
      "/home/gbarbadillo/miniconda3/envs/prometeo/lib/python3.10/site-packages/peft/utils/save_and_load.py:148: UserWarning: Could not find a config file in /home/gbarbadillo/data/Phi-3-mini-128k-instruct - will assume that the vocabulary was not modified.\n",
      "  warnings.warn(\n",
      "tokenizer config file saved in /mnt/hdd0/Kaggle/arc24/models/20240724_first_trainings/01_phi3_debug/tmp-checkpoint-2050/tokenizer_config.json\n",
      "Special tokens file saved in /mnt/hdd0/Kaggle/arc24/models/20240724_first_trainings/01_phi3_debug/tmp-checkpoint-2050/special_tokens_map.json\n"
     ]
    },
    {
     "name": "stdout",
     "output_type": "stream",
     "text": [
      "{'eval_loss': 0.23197466135025024, 'eval_runtime': 61.4341, 'eval_samples_per_second': 16.278, 'eval_steps_per_second': 2.035, 'epoch': 3.65}\n"
     ]
    },
    {
     "name": "stderr",
     "output_type": "stream",
     "text": [
      "***** Running Evaluation *****\n",
      "  Num examples = 1000\n",
      "  Batch size = 8\n"
     ]
    },
    {
     "name": "stdout",
     "output_type": "stream",
     "text": [
      "{'loss': 0.1977, 'grad_norm': 4.34375, 'learning_rate': 2.5161290322580648e-05, 'epoch': 3.74}\n"
     ]
    },
    {
     "data": {
      "application/vnd.jupyter.widget-view+json": {
       "model_id": "e018be1a2d2544c2b93c03751d397d96",
       "version_major": 2,
       "version_minor": 0
      },
      "text/plain": [
       "  0%|          | 0/125 [00:00<?, ?it/s]"
      ]
     },
     "metadata": {},
     "output_type": "display_data"
    },
    {
     "name": "stderr",
     "output_type": "stream",
     "text": [
      "Saving model checkpoint to /mnt/hdd0/Kaggle/arc24/models/20240724_first_trainings/01_phi3_debug/tmp-checkpoint-2100\n",
      "/home/gbarbadillo/miniconda3/envs/prometeo/lib/python3.10/site-packages/peft/utils/save_and_load.py:148: UserWarning: Could not find a config file in /home/gbarbadillo/data/Phi-3-mini-128k-instruct - will assume that the vocabulary was not modified.\n",
      "  warnings.warn(\n",
      "tokenizer config file saved in /mnt/hdd0/Kaggle/arc24/models/20240724_first_trainings/01_phi3_debug/tmp-checkpoint-2100/tokenizer_config.json\n",
      "Special tokens file saved in /mnt/hdd0/Kaggle/arc24/models/20240724_first_trainings/01_phi3_debug/tmp-checkpoint-2100/special_tokens_map.json\n"
     ]
    },
    {
     "name": "stdout",
     "output_type": "stream",
     "text": [
      "{'eval_loss': 0.18724311888217926, 'eval_runtime': 61.4311, 'eval_samples_per_second': 16.278, 'eval_steps_per_second': 2.035, 'epoch': 3.74}\n"
     ]
    },
    {
     "name": "stderr",
     "output_type": "stream",
     "text": [
      "***** Running Evaluation *****\n",
      "  Num examples = 1000\n",
      "  Batch size = 8\n"
     ]
    },
    {
     "name": "stdout",
     "output_type": "stream",
     "text": [
      "{'loss': 0.1872, 'grad_norm': 2.453125, 'learning_rate': 2.4802867383512547e-05, 'epoch': 3.83}\n"
     ]
    },
    {
     "data": {
      "application/vnd.jupyter.widget-view+json": {
       "model_id": "48c5f83fbb5247efbd2bc2f0ca8fcabd",
       "version_major": 2,
       "version_minor": 0
      },
      "text/plain": [
       "  0%|          | 0/125 [00:00<?, ?it/s]"
      ]
     },
     "metadata": {},
     "output_type": "display_data"
    },
    {
     "name": "stderr",
     "output_type": "stream",
     "text": [
      "Saving model checkpoint to /mnt/hdd0/Kaggle/arc24/models/20240724_first_trainings/01_phi3_debug/tmp-checkpoint-2150\n",
      "/home/gbarbadillo/miniconda3/envs/prometeo/lib/python3.10/site-packages/peft/utils/save_and_load.py:148: UserWarning: Could not find a config file in /home/gbarbadillo/data/Phi-3-mini-128k-instruct - will assume that the vocabulary was not modified.\n",
      "  warnings.warn(\n",
      "tokenizer config file saved in /mnt/hdd0/Kaggle/arc24/models/20240724_first_trainings/01_phi3_debug/tmp-checkpoint-2150/tokenizer_config.json\n",
      "Special tokens file saved in /mnt/hdd0/Kaggle/arc24/models/20240724_first_trainings/01_phi3_debug/tmp-checkpoint-2150/special_tokens_map.json\n"
     ]
    },
    {
     "name": "stdout",
     "output_type": "stream",
     "text": [
      "{'eval_loss': 0.17993444204330444, 'eval_runtime': 61.4117, 'eval_samples_per_second': 16.284, 'eval_steps_per_second': 2.035, 'epoch': 3.83}\n"
     ]
    },
    {
     "name": "stderr",
     "output_type": "stream",
     "text": [
      "***** Running Evaluation *****\n",
      "  Num examples = 1000\n",
      "  Batch size = 8\n"
     ]
    },
    {
     "name": "stdout",
     "output_type": "stream",
     "text": [
      "{'loss': 0.1794, 'grad_norm': 5.4375, 'learning_rate': 2.444444444444445e-05, 'epoch': 3.92}\n"
     ]
    },
    {
     "data": {
      "application/vnd.jupyter.widget-view+json": {
       "model_id": "019e657fc5474503aa5f5942e0ef7a6f",
       "version_major": 2,
       "version_minor": 0
      },
      "text/plain": [
       "  0%|          | 0/125 [00:00<?, ?it/s]"
      ]
     },
     "metadata": {},
     "output_type": "display_data"
    },
    {
     "name": "stderr",
     "output_type": "stream",
     "text": [
      "Saving model checkpoint to /mnt/hdd0/Kaggle/arc24/models/20240724_first_trainings/01_phi3_debug/tmp-checkpoint-2200\n",
      "/home/gbarbadillo/miniconda3/envs/prometeo/lib/python3.10/site-packages/peft/utils/save_and_load.py:148: UserWarning: Could not find a config file in /home/gbarbadillo/data/Phi-3-mini-128k-instruct - will assume that the vocabulary was not modified.\n",
      "  warnings.warn(\n",
      "tokenizer config file saved in /mnt/hdd0/Kaggle/arc24/models/20240724_first_trainings/01_phi3_debug/tmp-checkpoint-2200/tokenizer_config.json\n",
      "Special tokens file saved in /mnt/hdd0/Kaggle/arc24/models/20240724_first_trainings/01_phi3_debug/tmp-checkpoint-2200/special_tokens_map.json\n"
     ]
    },
    {
     "name": "stdout",
     "output_type": "stream",
     "text": [
      "{'eval_loss': 0.17977334558963776, 'eval_runtime': 61.4455, 'eval_samples_per_second': 16.275, 'eval_steps_per_second': 2.034, 'epoch': 3.92}\n"
     ]
    },
    {
     "name": "stderr",
     "output_type": "stream",
     "text": [
      "***** Running Evaluation *****\n",
      "  Num examples = 1000\n",
      "  Batch size = 8\n"
     ]
    },
    {
     "name": "stdout",
     "output_type": "stream",
     "text": [
      "{'loss': 0.1844, 'grad_norm': 4.625, 'learning_rate': 2.4086021505376347e-05, 'epoch': 4.01}\n"
     ]
    },
    {
     "data": {
      "application/vnd.jupyter.widget-view+json": {
       "model_id": "8cd4b2baddd34be9b5521ece12f4c524",
       "version_major": 2,
       "version_minor": 0
      },
      "text/plain": [
       "  0%|          | 0/125 [00:00<?, ?it/s]"
      ]
     },
     "metadata": {},
     "output_type": "display_data"
    },
    {
     "name": "stderr",
     "output_type": "stream",
     "text": [
      "Saving model checkpoint to /mnt/hdd0/Kaggle/arc24/models/20240724_first_trainings/01_phi3_debug/tmp-checkpoint-2250\n",
      "/home/gbarbadillo/miniconda3/envs/prometeo/lib/python3.10/site-packages/peft/utils/save_and_load.py:148: UserWarning: Could not find a config file in /home/gbarbadillo/data/Phi-3-mini-128k-instruct - will assume that the vocabulary was not modified.\n",
      "  warnings.warn(\n",
      "tokenizer config file saved in /mnt/hdd0/Kaggle/arc24/models/20240724_first_trainings/01_phi3_debug/tmp-checkpoint-2250/tokenizer_config.json\n",
      "Special tokens file saved in /mnt/hdd0/Kaggle/arc24/models/20240724_first_trainings/01_phi3_debug/tmp-checkpoint-2250/special_tokens_map.json\n"
     ]
    },
    {
     "name": "stdout",
     "output_type": "stream",
     "text": [
      "{'eval_loss': 0.17928889393806458, 'eval_runtime': 61.4403, 'eval_samples_per_second': 16.276, 'eval_steps_per_second': 2.034, 'epoch': 4.01}\n"
     ]
    },
    {
     "name": "stderr",
     "output_type": "stream",
     "text": [
      "***** Running Evaluation *****\n",
      "  Num examples = 1000\n",
      "  Batch size = 8\n"
     ]
    },
    {
     "name": "stdout",
     "output_type": "stream",
     "text": [
      "{'loss': 0.1759, 'grad_norm': 13.1875, 'learning_rate': 2.3727598566308245e-05, 'epoch': 4.1}\n"
     ]
    },
    {
     "data": {
      "application/vnd.jupyter.widget-view+json": {
       "model_id": "858541802a734d448d54dc4fe75037c3",
       "version_major": 2,
       "version_minor": 0
      },
      "text/plain": [
       "  0%|          | 0/125 [00:00<?, ?it/s]"
      ]
     },
     "metadata": {},
     "output_type": "display_data"
    },
    {
     "name": "stderr",
     "output_type": "stream",
     "text": [
      "Saving model checkpoint to /mnt/hdd0/Kaggle/arc24/models/20240724_first_trainings/01_phi3_debug/tmp-checkpoint-2300\n",
      "/home/gbarbadillo/miniconda3/envs/prometeo/lib/python3.10/site-packages/peft/utils/save_and_load.py:148: UserWarning: Could not find a config file in /home/gbarbadillo/data/Phi-3-mini-128k-instruct - will assume that the vocabulary was not modified.\n",
      "  warnings.warn(\n",
      "tokenizer config file saved in /mnt/hdd0/Kaggle/arc24/models/20240724_first_trainings/01_phi3_debug/tmp-checkpoint-2300/tokenizer_config.json\n",
      "Special tokens file saved in /mnt/hdd0/Kaggle/arc24/models/20240724_first_trainings/01_phi3_debug/tmp-checkpoint-2300/special_tokens_map.json\n"
     ]
    },
    {
     "name": "stdout",
     "output_type": "stream",
     "text": [
      "{'eval_loss': 0.1937161087989807, 'eval_runtime': 61.5103, 'eval_samples_per_second': 16.257, 'eval_steps_per_second': 2.032, 'epoch': 4.1}\n"
     ]
    },
    {
     "name": "stderr",
     "output_type": "stream",
     "text": [
      "***** Running Evaluation *****\n",
      "  Num examples = 1000\n",
      "  Batch size = 8\n"
     ]
    },
    {
     "name": "stdout",
     "output_type": "stream",
     "text": [
      "{'loss': 0.1771, 'grad_norm': 3.828125, 'learning_rate': 2.3369175627240144e-05, 'epoch': 4.19}\n"
     ]
    },
    {
     "data": {
      "application/vnd.jupyter.widget-view+json": {
       "model_id": "9837c9eea67f4619ad0aca40df42f3af",
       "version_major": 2,
       "version_minor": 0
      },
      "text/plain": [
       "  0%|          | 0/125 [00:00<?, ?it/s]"
      ]
     },
     "metadata": {},
     "output_type": "display_data"
    },
    {
     "name": "stderr",
     "output_type": "stream",
     "text": [
      "Saving model checkpoint to /mnt/hdd0/Kaggle/arc24/models/20240724_first_trainings/01_phi3_debug/tmp-checkpoint-2350\n",
      "/home/gbarbadillo/miniconda3/envs/prometeo/lib/python3.10/site-packages/peft/utils/save_and_load.py:148: UserWarning: Could not find a config file in /home/gbarbadillo/data/Phi-3-mini-128k-instruct - will assume that the vocabulary was not modified.\n",
      "  warnings.warn(\n",
      "tokenizer config file saved in /mnt/hdd0/Kaggle/arc24/models/20240724_first_trainings/01_phi3_debug/tmp-checkpoint-2350/tokenizer_config.json\n",
      "Special tokens file saved in /mnt/hdd0/Kaggle/arc24/models/20240724_first_trainings/01_phi3_debug/tmp-checkpoint-2350/special_tokens_map.json\n"
     ]
    },
    {
     "name": "stdout",
     "output_type": "stream",
     "text": [
      "{'eval_loss': 0.1871155947446823, 'eval_runtime': 61.5265, 'eval_samples_per_second': 16.253, 'eval_steps_per_second': 2.032, 'epoch': 4.19}\n"
     ]
    },
    {
     "name": "stderr",
     "output_type": "stream",
     "text": [
      "***** Running Evaluation *****\n",
      "  Num examples = 1000\n",
      "  Batch size = 8\n"
     ]
    },
    {
     "name": "stdout",
     "output_type": "stream",
     "text": [
      "{'loss': 0.1769, 'grad_norm': 4.90625, 'learning_rate': 2.3010752688172045e-05, 'epoch': 4.27}\n"
     ]
    },
    {
     "data": {
      "application/vnd.jupyter.widget-view+json": {
       "model_id": "5d4872c8fd404e78b6c43929354433ce",
       "version_major": 2,
       "version_minor": 0
      },
      "text/plain": [
       "  0%|          | 0/125 [00:00<?, ?it/s]"
      ]
     },
     "metadata": {},
     "output_type": "display_data"
    },
    {
     "name": "stderr",
     "output_type": "stream",
     "text": [
      "Saving model checkpoint to /mnt/hdd0/Kaggle/arc24/models/20240724_first_trainings/01_phi3_debug/tmp-checkpoint-2400\n",
      "/home/gbarbadillo/miniconda3/envs/prometeo/lib/python3.10/site-packages/peft/utils/save_and_load.py:148: UserWarning: Could not find a config file in /home/gbarbadillo/data/Phi-3-mini-128k-instruct - will assume that the vocabulary was not modified.\n",
      "  warnings.warn(\n",
      "tokenizer config file saved in /mnt/hdd0/Kaggle/arc24/models/20240724_first_trainings/01_phi3_debug/tmp-checkpoint-2400/tokenizer_config.json\n",
      "Special tokens file saved in /mnt/hdd0/Kaggle/arc24/models/20240724_first_trainings/01_phi3_debug/tmp-checkpoint-2400/special_tokens_map.json\n"
     ]
    },
    {
     "name": "stdout",
     "output_type": "stream",
     "text": [
      "{'eval_loss': 0.1777055859565735, 'eval_runtime': 61.4029, 'eval_samples_per_second': 16.286, 'eval_steps_per_second': 2.036, 'epoch': 4.27}\n"
     ]
    },
    {
     "name": "stderr",
     "output_type": "stream",
     "text": [
      "***** Running Evaluation *****\n",
      "  Num examples = 1000\n",
      "  Batch size = 8\n"
     ]
    },
    {
     "name": "stdout",
     "output_type": "stream",
     "text": [
      "{'loss': 0.1708, 'grad_norm': 8.75, 'learning_rate': 2.2652329749103944e-05, 'epoch': 4.36}\n"
     ]
    },
    {
     "data": {
      "application/vnd.jupyter.widget-view+json": {
       "model_id": "a3a47f6d87154a7989c029c32ca75e69",
       "version_major": 2,
       "version_minor": 0
      },
      "text/plain": [
       "  0%|          | 0/125 [00:00<?, ?it/s]"
      ]
     },
     "metadata": {},
     "output_type": "display_data"
    },
    {
     "name": "stderr",
     "output_type": "stream",
     "text": [
      "Saving model checkpoint to /mnt/hdd0/Kaggle/arc24/models/20240724_first_trainings/01_phi3_debug/tmp-checkpoint-2450\n",
      "/home/gbarbadillo/miniconda3/envs/prometeo/lib/python3.10/site-packages/peft/utils/save_and_load.py:148: UserWarning: Could not find a config file in /home/gbarbadillo/data/Phi-3-mini-128k-instruct - will assume that the vocabulary was not modified.\n",
      "  warnings.warn(\n",
      "tokenizer config file saved in /mnt/hdd0/Kaggle/arc24/models/20240724_first_trainings/01_phi3_debug/tmp-checkpoint-2450/tokenizer_config.json\n",
      "Special tokens file saved in /mnt/hdd0/Kaggle/arc24/models/20240724_first_trainings/01_phi3_debug/tmp-checkpoint-2450/special_tokens_map.json\n"
     ]
    },
    {
     "name": "stdout",
     "output_type": "stream",
     "text": [
      "{'eval_loss': 0.17613843083381653, 'eval_runtime': 61.3893, 'eval_samples_per_second': 16.289, 'eval_steps_per_second': 2.036, 'epoch': 4.36}\n"
     ]
    },
    {
     "name": "stderr",
     "output_type": "stream",
     "text": [
      "***** Running Evaluation *****\n",
      "  Num examples = 1000\n",
      "  Batch size = 8\n"
     ]
    },
    {
     "name": "stdout",
     "output_type": "stream",
     "text": [
      "{'loss': 0.1768, 'grad_norm': 4.9375, 'learning_rate': 2.2293906810035842e-05, 'epoch': 4.45}\n"
     ]
    },
    {
     "data": {
      "application/vnd.jupyter.widget-view+json": {
       "model_id": "7f845f70073c4f8ea8f18479bd223bde",
       "version_major": 2,
       "version_minor": 0
      },
      "text/plain": [
       "  0%|          | 0/125 [00:00<?, ?it/s]"
      ]
     },
     "metadata": {},
     "output_type": "display_data"
    },
    {
     "name": "stderr",
     "output_type": "stream",
     "text": [
      "Saving model checkpoint to /mnt/hdd0/Kaggle/arc24/models/20240724_first_trainings/01_phi3_debug/tmp-checkpoint-2500\n",
      "/home/gbarbadillo/miniconda3/envs/prometeo/lib/python3.10/site-packages/peft/utils/save_and_load.py:148: UserWarning: Could not find a config file in /home/gbarbadillo/data/Phi-3-mini-128k-instruct - will assume that the vocabulary was not modified.\n",
      "  warnings.warn(\n",
      "tokenizer config file saved in /mnt/hdd0/Kaggle/arc24/models/20240724_first_trainings/01_phi3_debug/tmp-checkpoint-2500/tokenizer_config.json\n",
      "Special tokens file saved in /mnt/hdd0/Kaggle/arc24/models/20240724_first_trainings/01_phi3_debug/tmp-checkpoint-2500/special_tokens_map.json\n"
     ]
    },
    {
     "name": "stdout",
     "output_type": "stream",
     "text": [
      "{'eval_loss': 0.17605823278427124, 'eval_runtime': 61.3677, 'eval_samples_per_second': 16.295, 'eval_steps_per_second': 2.037, 'epoch': 4.45}\n"
     ]
    },
    {
     "name": "stderr",
     "output_type": "stream",
     "text": [
      "***** Running Evaluation *****\n",
      "  Num examples = 1000\n",
      "  Batch size = 8\n"
     ]
    },
    {
     "name": "stdout",
     "output_type": "stream",
     "text": [
      "{'loss': 0.1713, 'grad_norm': 2.65625, 'learning_rate': 2.193548387096774e-05, 'epoch': 4.54}\n"
     ]
    },
    {
     "data": {
      "application/vnd.jupyter.widget-view+json": {
       "model_id": "b9a6cb56756b4641bb87a2bfbc639240",
       "version_major": 2,
       "version_minor": 0
      },
      "text/plain": [
       "  0%|          | 0/125 [00:00<?, ?it/s]"
      ]
     },
     "metadata": {},
     "output_type": "display_data"
    },
    {
     "name": "stderr",
     "output_type": "stream",
     "text": [
      "Saving model checkpoint to /mnt/hdd0/Kaggle/arc24/models/20240724_first_trainings/01_phi3_debug/tmp-checkpoint-2550\n",
      "/home/gbarbadillo/miniconda3/envs/prometeo/lib/python3.10/site-packages/peft/utils/save_and_load.py:148: UserWarning: Could not find a config file in /home/gbarbadillo/data/Phi-3-mini-128k-instruct - will assume that the vocabulary was not modified.\n",
      "  warnings.warn(\n",
      "tokenizer config file saved in /mnt/hdd0/Kaggle/arc24/models/20240724_first_trainings/01_phi3_debug/tmp-checkpoint-2550/tokenizer_config.json\n",
      "Special tokens file saved in /mnt/hdd0/Kaggle/arc24/models/20240724_first_trainings/01_phi3_debug/tmp-checkpoint-2550/special_tokens_map.json\n"
     ]
    },
    {
     "name": "stdout",
     "output_type": "stream",
     "text": [
      "{'eval_loss': 0.17733453214168549, 'eval_runtime': 61.3326, 'eval_samples_per_second': 16.305, 'eval_steps_per_second': 2.038, 'epoch': 4.54}\n"
     ]
    },
    {
     "name": "stderr",
     "output_type": "stream",
     "text": [
      "***** Running Evaluation *****\n",
      "  Num examples = 1000\n",
      "  Batch size = 8\n"
     ]
    },
    {
     "name": "stdout",
     "output_type": "stream",
     "text": [
      "{'loss': 0.1815, 'grad_norm': 2.734375, 'learning_rate': 2.1577060931899646e-05, 'epoch': 4.63}\n"
     ]
    },
    {
     "data": {
      "application/vnd.jupyter.widget-view+json": {
       "model_id": "b2d8cfb2a0714ba8bb48c7350dcdd2f4",
       "version_major": 2,
       "version_minor": 0
      },
      "text/plain": [
       "  0%|          | 0/125 [00:00<?, ?it/s]"
      ]
     },
     "metadata": {},
     "output_type": "display_data"
    },
    {
     "name": "stderr",
     "output_type": "stream",
     "text": [
      "Saving model checkpoint to /mnt/hdd0/Kaggle/arc24/models/20240724_first_trainings/01_phi3_debug/tmp-checkpoint-2600\n",
      "/home/gbarbadillo/miniconda3/envs/prometeo/lib/python3.10/site-packages/peft/utils/save_and_load.py:148: UserWarning: Could not find a config file in /home/gbarbadillo/data/Phi-3-mini-128k-instruct - will assume that the vocabulary was not modified.\n",
      "  warnings.warn(\n",
      "tokenizer config file saved in /mnt/hdd0/Kaggle/arc24/models/20240724_first_trainings/01_phi3_debug/tmp-checkpoint-2600/tokenizer_config.json\n",
      "Special tokens file saved in /mnt/hdd0/Kaggle/arc24/models/20240724_first_trainings/01_phi3_debug/tmp-checkpoint-2600/special_tokens_map.json\n"
     ]
    },
    {
     "name": "stdout",
     "output_type": "stream",
     "text": [
      "{'eval_loss': 0.17628350853919983, 'eval_runtime': 61.3967, 'eval_samples_per_second': 16.288, 'eval_steps_per_second': 2.036, 'epoch': 4.63}\n"
     ]
    },
    {
     "name": "stderr",
     "output_type": "stream",
     "text": [
      "***** Running Evaluation *****\n",
      "  Num examples = 1000\n",
      "  Batch size = 8\n"
     ]
    },
    {
     "name": "stdout",
     "output_type": "stream",
     "text": [
      "{'loss': 0.1808, 'grad_norm': 1.96875, 'learning_rate': 2.1218637992831544e-05, 'epoch': 4.72}\n"
     ]
    },
    {
     "data": {
      "application/vnd.jupyter.widget-view+json": {
       "model_id": "b0bed9fd49c84d94a33c63d87235909e",
       "version_major": 2,
       "version_minor": 0
      },
      "text/plain": [
       "  0%|          | 0/125 [00:00<?, ?it/s]"
      ]
     },
     "metadata": {},
     "output_type": "display_data"
    },
    {
     "name": "stderr",
     "output_type": "stream",
     "text": [
      "Saving model checkpoint to /mnt/hdd0/Kaggle/arc24/models/20240724_first_trainings/01_phi3_debug/tmp-checkpoint-2650\n",
      "/home/gbarbadillo/miniconda3/envs/prometeo/lib/python3.10/site-packages/peft/utils/save_and_load.py:148: UserWarning: Could not find a config file in /home/gbarbadillo/data/Phi-3-mini-128k-instruct - will assume that the vocabulary was not modified.\n",
      "  warnings.warn(\n",
      "tokenizer config file saved in /mnt/hdd0/Kaggle/arc24/models/20240724_first_trainings/01_phi3_debug/tmp-checkpoint-2650/tokenizer_config.json\n",
      "Special tokens file saved in /mnt/hdd0/Kaggle/arc24/models/20240724_first_trainings/01_phi3_debug/tmp-checkpoint-2650/special_tokens_map.json\n"
     ]
    },
    {
     "name": "stdout",
     "output_type": "stream",
     "text": [
      "{'eval_loss': 0.1751950979232788, 'eval_runtime': 61.3343, 'eval_samples_per_second': 16.304, 'eval_steps_per_second': 2.038, 'epoch': 4.72}\n"
     ]
    },
    {
     "name": "stderr",
     "output_type": "stream",
     "text": [
      "***** Running Evaluation *****\n",
      "  Num examples = 1000\n",
      "  Batch size = 8\n"
     ]
    },
    {
     "name": "stdout",
     "output_type": "stream",
     "text": [
      "{'loss': 0.1691, 'grad_norm': 4.21875, 'learning_rate': 2.0860215053763443e-05, 'epoch': 4.81}\n"
     ]
    },
    {
     "data": {
      "application/vnd.jupyter.widget-view+json": {
       "model_id": "3c76f6e5d5a54fc98be72701a73ed2e9",
       "version_major": 2,
       "version_minor": 0
      },
      "text/plain": [
       "  0%|          | 0/125 [00:00<?, ?it/s]"
      ]
     },
     "metadata": {},
     "output_type": "display_data"
    },
    {
     "name": "stderr",
     "output_type": "stream",
     "text": [
      "Saving model checkpoint to /mnt/hdd0/Kaggle/arc24/models/20240724_first_trainings/01_phi3_debug/tmp-checkpoint-2700\n",
      "/home/gbarbadillo/miniconda3/envs/prometeo/lib/python3.10/site-packages/peft/utils/save_and_load.py:148: UserWarning: Could not find a config file in /home/gbarbadillo/data/Phi-3-mini-128k-instruct - will assume that the vocabulary was not modified.\n",
      "  warnings.warn(\n",
      "tokenizer config file saved in /mnt/hdd0/Kaggle/arc24/models/20240724_first_trainings/01_phi3_debug/tmp-checkpoint-2700/tokenizer_config.json\n",
      "Special tokens file saved in /mnt/hdd0/Kaggle/arc24/models/20240724_first_trainings/01_phi3_debug/tmp-checkpoint-2700/special_tokens_map.json\n"
     ]
    },
    {
     "name": "stdout",
     "output_type": "stream",
     "text": [
      "{'eval_loss': 0.17673788964748383, 'eval_runtime': 61.3978, 'eval_samples_per_second': 16.287, 'eval_steps_per_second': 2.036, 'epoch': 4.81}\n"
     ]
    },
    {
     "name": "stderr",
     "output_type": "stream",
     "text": [
      "***** Running Evaluation *****\n",
      "  Num examples = 1000\n",
      "  Batch size = 8\n"
     ]
    },
    {
     "name": "stdout",
     "output_type": "stream",
     "text": [
      "{'loss': 0.1692, 'grad_norm': 3.828125, 'learning_rate': 2.050179211469534e-05, 'epoch': 4.9}\n"
     ]
    },
    {
     "data": {
      "application/vnd.jupyter.widget-view+json": {
       "model_id": "9ef9519b39ac4a16a23f2d3d5121b623",
       "version_major": 2,
       "version_minor": 0
      },
      "text/plain": [
       "  0%|          | 0/125 [00:00<?, ?it/s]"
      ]
     },
     "metadata": {},
     "output_type": "display_data"
    },
    {
     "name": "stderr",
     "output_type": "stream",
     "text": [
      "Saving model checkpoint to /mnt/hdd0/Kaggle/arc24/models/20240724_first_trainings/01_phi3_debug/tmp-checkpoint-2750\n",
      "/home/gbarbadillo/miniconda3/envs/prometeo/lib/python3.10/site-packages/peft/utils/save_and_load.py:148: UserWarning: Could not find a config file in /home/gbarbadillo/data/Phi-3-mini-128k-instruct - will assume that the vocabulary was not modified.\n",
      "  warnings.warn(\n",
      "tokenizer config file saved in /mnt/hdd0/Kaggle/arc24/models/20240724_first_trainings/01_phi3_debug/tmp-checkpoint-2750/tokenizer_config.json\n",
      "Special tokens file saved in /mnt/hdd0/Kaggle/arc24/models/20240724_first_trainings/01_phi3_debug/tmp-checkpoint-2750/special_tokens_map.json\n"
     ]
    },
    {
     "name": "stdout",
     "output_type": "stream",
     "text": [
      "{'eval_loss': 0.17913126945495605, 'eval_runtime': 61.3552, 'eval_samples_per_second': 16.299, 'eval_steps_per_second': 2.037, 'epoch': 4.9}\n"
     ]
    },
    {
     "name": "stderr",
     "output_type": "stream",
     "text": [
      "***** Running Evaluation *****\n",
      "  Num examples = 1000\n",
      "  Batch size = 8\n"
     ]
    },
    {
     "name": "stdout",
     "output_type": "stream",
     "text": [
      "{'loss': 0.1859, 'grad_norm': 2.71875, 'learning_rate': 2.0143369175627243e-05, 'epoch': 4.99}\n"
     ]
    },
    {
     "data": {
      "application/vnd.jupyter.widget-view+json": {
       "model_id": "649ab6d0baaa4d26a9ca76b6c28baa2f",
       "version_major": 2,
       "version_minor": 0
      },
      "text/plain": [
       "  0%|          | 0/125 [00:00<?, ?it/s]"
      ]
     },
     "metadata": {},
     "output_type": "display_data"
    },
    {
     "name": "stderr",
     "output_type": "stream",
     "text": [
      "Saving model checkpoint to /mnt/hdd0/Kaggle/arc24/models/20240724_first_trainings/01_phi3_debug/tmp-checkpoint-2800\n",
      "/home/gbarbadillo/miniconda3/envs/prometeo/lib/python3.10/site-packages/peft/utils/save_and_load.py:148: UserWarning: Could not find a config file in /home/gbarbadillo/data/Phi-3-mini-128k-instruct - will assume that the vocabulary was not modified.\n",
      "  warnings.warn(\n",
      "tokenizer config file saved in /mnt/hdd0/Kaggle/arc24/models/20240724_first_trainings/01_phi3_debug/tmp-checkpoint-2800/tokenizer_config.json\n",
      "Special tokens file saved in /mnt/hdd0/Kaggle/arc24/models/20240724_first_trainings/01_phi3_debug/tmp-checkpoint-2800/special_tokens_map.json\n"
     ]
    },
    {
     "name": "stdout",
     "output_type": "stream",
     "text": [
      "{'eval_loss': 0.18069162964820862, 'eval_runtime': 61.3612, 'eval_samples_per_second': 16.297, 'eval_steps_per_second': 2.037, 'epoch': 4.99}\n"
     ]
    },
    {
     "name": "stderr",
     "output_type": "stream",
     "text": [
      "***** Running Evaluation *****\n",
      "  Num examples = 1000\n",
      "  Batch size = 8\n"
     ]
    },
    {
     "name": "stdout",
     "output_type": "stream",
     "text": [
      "{'loss': 0.1794, 'grad_norm': 11.375, 'learning_rate': 1.978494623655914e-05, 'epoch': 5.08}\n"
     ]
    },
    {
     "data": {
      "application/vnd.jupyter.widget-view+json": {
       "model_id": "ac96df9c6a2c4472970bc12201cb77f7",
       "version_major": 2,
       "version_minor": 0
      },
      "text/plain": [
       "  0%|          | 0/125 [00:00<?, ?it/s]"
      ]
     },
     "metadata": {},
     "output_type": "display_data"
    },
    {
     "name": "stderr",
     "output_type": "stream",
     "text": [
      "Saving model checkpoint to /mnt/hdd0/Kaggle/arc24/models/20240724_first_trainings/01_phi3_debug/tmp-checkpoint-2850\n",
      "/home/gbarbadillo/miniconda3/envs/prometeo/lib/python3.10/site-packages/peft/utils/save_and_load.py:148: UserWarning: Could not find a config file in /home/gbarbadillo/data/Phi-3-mini-128k-instruct - will assume that the vocabulary was not modified.\n",
      "  warnings.warn(\n",
      "tokenizer config file saved in /mnt/hdd0/Kaggle/arc24/models/20240724_first_trainings/01_phi3_debug/tmp-checkpoint-2850/tokenizer_config.json\n",
      "Special tokens file saved in /mnt/hdd0/Kaggle/arc24/models/20240724_first_trainings/01_phi3_debug/tmp-checkpoint-2850/special_tokens_map.json\n"
     ]
    },
    {
     "name": "stdout",
     "output_type": "stream",
     "text": [
      "{'eval_loss': 0.18412722647190094, 'eval_runtime': 61.4203, 'eval_samples_per_second': 16.281, 'eval_steps_per_second': 2.035, 'epoch': 5.08}\n"
     ]
    },
    {
     "name": "stderr",
     "output_type": "stream",
     "text": [
      "***** Running Evaluation *****\n",
      "  Num examples = 1000\n",
      "  Batch size = 8\n"
     ]
    },
    {
     "name": "stdout",
     "output_type": "stream",
     "text": [
      "{'loss': 0.1712, 'grad_norm': 2.140625, 'learning_rate': 1.942652329749104e-05, 'epoch': 5.16}\n"
     ]
    },
    {
     "data": {
      "application/vnd.jupyter.widget-view+json": {
       "model_id": "6055d084c3364ca8bbaa80d76bc09a59",
       "version_major": 2,
       "version_minor": 0
      },
      "text/plain": [
       "  0%|          | 0/125 [00:00<?, ?it/s]"
      ]
     },
     "metadata": {},
     "output_type": "display_data"
    },
    {
     "name": "stderr",
     "output_type": "stream",
     "text": [
      "Saving model checkpoint to /mnt/hdd0/Kaggle/arc24/models/20240724_first_trainings/01_phi3_debug/tmp-checkpoint-2900\n",
      "/home/gbarbadillo/miniconda3/envs/prometeo/lib/python3.10/site-packages/peft/utils/save_and_load.py:148: UserWarning: Could not find a config file in /home/gbarbadillo/data/Phi-3-mini-128k-instruct - will assume that the vocabulary was not modified.\n",
      "  warnings.warn(\n",
      "tokenizer config file saved in /mnt/hdd0/Kaggle/arc24/models/20240724_first_trainings/01_phi3_debug/tmp-checkpoint-2900/tokenizer_config.json\n",
      "Special tokens file saved in /mnt/hdd0/Kaggle/arc24/models/20240724_first_trainings/01_phi3_debug/tmp-checkpoint-2900/special_tokens_map.json\n"
     ]
    },
    {
     "name": "stdout",
     "output_type": "stream",
     "text": [
      "{'eval_loss': 0.1771233230829239, 'eval_runtime': 61.4981, 'eval_samples_per_second': 16.261, 'eval_steps_per_second': 2.033, 'epoch': 5.16}\n"
     ]
    },
    {
     "name": "stderr",
     "output_type": "stream",
     "text": [
      "***** Running Evaluation *****\n",
      "  Num examples = 1000\n",
      "  Batch size = 8\n"
     ]
    },
    {
     "name": "stdout",
     "output_type": "stream",
     "text": [
      "{'loss': 0.1667, 'grad_norm': 4.3125, 'learning_rate': 1.906810035842294e-05, 'epoch': 5.25}\n"
     ]
    },
    {
     "data": {
      "application/vnd.jupyter.widget-view+json": {
       "model_id": "3d787ca58481468b8fd0840b01523ba8",
       "version_major": 2,
       "version_minor": 0
      },
      "text/plain": [
       "  0%|          | 0/125 [00:00<?, ?it/s]"
      ]
     },
     "metadata": {},
     "output_type": "display_data"
    },
    {
     "name": "stderr",
     "output_type": "stream",
     "text": [
      "Saving model checkpoint to /mnt/hdd0/Kaggle/arc24/models/20240724_first_trainings/01_phi3_debug/tmp-checkpoint-2950\n",
      "/home/gbarbadillo/miniconda3/envs/prometeo/lib/python3.10/site-packages/peft/utils/save_and_load.py:148: UserWarning: Could not find a config file in /home/gbarbadillo/data/Phi-3-mini-128k-instruct - will assume that the vocabulary was not modified.\n",
      "  warnings.warn(\n",
      "tokenizer config file saved in /mnt/hdd0/Kaggle/arc24/models/20240724_first_trainings/01_phi3_debug/tmp-checkpoint-2950/tokenizer_config.json\n",
      "Special tokens file saved in /mnt/hdd0/Kaggle/arc24/models/20240724_first_trainings/01_phi3_debug/tmp-checkpoint-2950/special_tokens_map.json\n"
     ]
    },
    {
     "name": "stdout",
     "output_type": "stream",
     "text": [
      "{'eval_loss': 0.17638950049877167, 'eval_runtime': 61.3851, 'eval_samples_per_second': 16.291, 'eval_steps_per_second': 2.036, 'epoch': 5.25}\n"
     ]
    },
    {
     "name": "stderr",
     "output_type": "stream",
     "text": [
      "***** Running Evaluation *****\n",
      "  Num examples = 1000\n",
      "  Batch size = 8\n"
     ]
    },
    {
     "name": "stdout",
     "output_type": "stream",
     "text": [
      "{'loss': 0.1722, 'grad_norm': 2.046875, 'learning_rate': 1.870967741935484e-05, 'epoch': 5.34}\n"
     ]
    },
    {
     "data": {
      "application/vnd.jupyter.widget-view+json": {
       "model_id": "15c0075859784ed5823593de0679a131",
       "version_major": 2,
       "version_minor": 0
      },
      "text/plain": [
       "  0%|          | 0/125 [00:00<?, ?it/s]"
      ]
     },
     "metadata": {},
     "output_type": "display_data"
    },
    {
     "name": "stderr",
     "output_type": "stream",
     "text": [
      "Saving model checkpoint to /mnt/hdd0/Kaggle/arc24/models/20240724_first_trainings/01_phi3_debug/tmp-checkpoint-3000\n",
      "/home/gbarbadillo/miniconda3/envs/prometeo/lib/python3.10/site-packages/peft/utils/save_and_load.py:148: UserWarning: Could not find a config file in /home/gbarbadillo/data/Phi-3-mini-128k-instruct - will assume that the vocabulary was not modified.\n",
      "  warnings.warn(\n",
      "tokenizer config file saved in /mnt/hdd0/Kaggle/arc24/models/20240724_first_trainings/01_phi3_debug/tmp-checkpoint-3000/tokenizer_config.json\n",
      "Special tokens file saved in /mnt/hdd0/Kaggle/arc24/models/20240724_first_trainings/01_phi3_debug/tmp-checkpoint-3000/special_tokens_map.json\n"
     ]
    },
    {
     "name": "stdout",
     "output_type": "stream",
     "text": [
      "{'eval_loss': 0.17804181575775146, 'eval_runtime': 61.3441, 'eval_samples_per_second': 16.301, 'eval_steps_per_second': 2.038, 'epoch': 5.34}\n"
     ]
    },
    {
     "name": "stderr",
     "output_type": "stream",
     "text": [
      "***** Running Evaluation *****\n",
      "  Num examples = 1000\n",
      "  Batch size = 8\n"
     ]
    },
    {
     "name": "stdout",
     "output_type": "stream",
     "text": [
      "{'loss': 0.1709, 'grad_norm': 8.1875, 'learning_rate': 1.835125448028674e-05, 'epoch': 5.43}\n"
     ]
    },
    {
     "data": {
      "application/vnd.jupyter.widget-view+json": {
       "model_id": "f173e5a431824a76a1ce9b0ea09ccefa",
       "version_major": 2,
       "version_minor": 0
      },
      "text/plain": [
       "  0%|          | 0/125 [00:00<?, ?it/s]"
      ]
     },
     "metadata": {},
     "output_type": "display_data"
    },
    {
     "name": "stderr",
     "output_type": "stream",
     "text": [
      "Saving model checkpoint to /mnt/hdd0/Kaggle/arc24/models/20240724_first_trainings/01_phi3_debug/tmp-checkpoint-3050\n",
      "/home/gbarbadillo/miniconda3/envs/prometeo/lib/python3.10/site-packages/peft/utils/save_and_load.py:148: UserWarning: Could not find a config file in /home/gbarbadillo/data/Phi-3-mini-128k-instruct - will assume that the vocabulary was not modified.\n",
      "  warnings.warn(\n",
      "tokenizer config file saved in /mnt/hdd0/Kaggle/arc24/models/20240724_first_trainings/01_phi3_debug/tmp-checkpoint-3050/tokenizer_config.json\n",
      "Special tokens file saved in /mnt/hdd0/Kaggle/arc24/models/20240724_first_trainings/01_phi3_debug/tmp-checkpoint-3050/special_tokens_map.json\n"
     ]
    },
    {
     "name": "stdout",
     "output_type": "stream",
     "text": [
      "{'eval_loss': 0.18040858209133148, 'eval_runtime': 61.2312, 'eval_samples_per_second': 16.332, 'eval_steps_per_second': 2.041, 'epoch': 5.43}\n"
     ]
    },
    {
     "name": "stderr",
     "output_type": "stream",
     "text": [
      "***** Running Evaluation *****\n",
      "  Num examples = 1000\n",
      "  Batch size = 8\n"
     ]
    },
    {
     "name": "stdout",
     "output_type": "stream",
     "text": [
      "{'loss': 0.1713, 'grad_norm': 6.4375, 'learning_rate': 1.799283154121864e-05, 'epoch': 5.52}\n"
     ]
    },
    {
     "data": {
      "application/vnd.jupyter.widget-view+json": {
       "model_id": "f8c79797b54c40c2852e6a988b3f5837",
       "version_major": 2,
       "version_minor": 0
      },
      "text/plain": [
       "  0%|          | 0/125 [00:00<?, ?it/s]"
      ]
     },
     "metadata": {},
     "output_type": "display_data"
    },
    {
     "name": "stderr",
     "output_type": "stream",
     "text": [
      "Saving model checkpoint to /mnt/hdd0/Kaggle/arc24/models/20240724_first_trainings/01_phi3_debug/tmp-checkpoint-3100\n",
      "/home/gbarbadillo/miniconda3/envs/prometeo/lib/python3.10/site-packages/peft/utils/save_and_load.py:148: UserWarning: Could not find a config file in /home/gbarbadillo/data/Phi-3-mini-128k-instruct - will assume that the vocabulary was not modified.\n",
      "  warnings.warn(\n",
      "tokenizer config file saved in /mnt/hdd0/Kaggle/arc24/models/20240724_first_trainings/01_phi3_debug/tmp-checkpoint-3100/tokenizer_config.json\n",
      "Special tokens file saved in /mnt/hdd0/Kaggle/arc24/models/20240724_first_trainings/01_phi3_debug/tmp-checkpoint-3100/special_tokens_map.json\n"
     ]
    },
    {
     "name": "stdout",
     "output_type": "stream",
     "text": [
      "{'eval_loss': 0.1723422259092331, 'eval_runtime': 61.3301, 'eval_samples_per_second': 16.305, 'eval_steps_per_second': 2.038, 'epoch': 5.52}\n"
     ]
    },
    {
     "name": "stderr",
     "output_type": "stream",
     "text": [
      "***** Running Evaluation *****\n",
      "  Num examples = 1000\n",
      "  Batch size = 8\n"
     ]
    },
    {
     "name": "stdout",
     "output_type": "stream",
     "text": [
      "{'loss': 0.1707, 'grad_norm': 13.125, 'learning_rate': 1.763440860215054e-05, 'epoch': 5.61}\n"
     ]
    },
    {
     "data": {
      "application/vnd.jupyter.widget-view+json": {
       "model_id": "f1d869fb7c4e47f2b9bf487612eb07f4",
       "version_major": 2,
       "version_minor": 0
      },
      "text/plain": [
       "  0%|          | 0/125 [00:00<?, ?it/s]"
      ]
     },
     "metadata": {},
     "output_type": "display_data"
    },
    {
     "name": "stderr",
     "output_type": "stream",
     "text": [
      "Saving model checkpoint to /mnt/hdd0/Kaggle/arc24/models/20240724_first_trainings/01_phi3_debug/tmp-checkpoint-3150\n",
      "/home/gbarbadillo/miniconda3/envs/prometeo/lib/python3.10/site-packages/peft/utils/save_and_load.py:148: UserWarning: Could not find a config file in /home/gbarbadillo/data/Phi-3-mini-128k-instruct - will assume that the vocabulary was not modified.\n",
      "  warnings.warn(\n",
      "tokenizer config file saved in /mnt/hdd0/Kaggle/arc24/models/20240724_first_trainings/01_phi3_debug/tmp-checkpoint-3150/tokenizer_config.json\n",
      "Special tokens file saved in /mnt/hdd0/Kaggle/arc24/models/20240724_first_trainings/01_phi3_debug/tmp-checkpoint-3150/special_tokens_map.json\n"
     ]
    },
    {
     "name": "stdout",
     "output_type": "stream",
     "text": [
      "{'eval_loss': 0.18424437940120697, 'eval_runtime': 61.3576, 'eval_samples_per_second': 16.298, 'eval_steps_per_second': 2.037, 'epoch': 5.61}\n"
     ]
    },
    {
     "name": "stderr",
     "output_type": "stream",
     "text": [
      "***** Running Evaluation *****\n",
      "  Num examples = 1000\n",
      "  Batch size = 8\n"
     ]
    },
    {
     "name": "stdout",
     "output_type": "stream",
     "text": [
      "{'loss': 0.1679, 'grad_norm': 4.78125, 'learning_rate': 1.727598566308244e-05, 'epoch': 5.7}\n"
     ]
    },
    {
     "data": {
      "application/vnd.jupyter.widget-view+json": {
       "model_id": "57400e253f324b0388405496c1c0eed1",
       "version_major": 2,
       "version_minor": 0
      },
      "text/plain": [
       "  0%|          | 0/125 [00:00<?, ?it/s]"
      ]
     },
     "metadata": {},
     "output_type": "display_data"
    },
    {
     "name": "stderr",
     "output_type": "stream",
     "text": [
      "Saving model checkpoint to /mnt/hdd0/Kaggle/arc24/models/20240724_first_trainings/01_phi3_debug/tmp-checkpoint-3200\n",
      "/home/gbarbadillo/miniconda3/envs/prometeo/lib/python3.10/site-packages/peft/utils/save_and_load.py:148: UserWarning: Could not find a config file in /home/gbarbadillo/data/Phi-3-mini-128k-instruct - will assume that the vocabulary was not modified.\n",
      "  warnings.warn(\n",
      "tokenizer config file saved in /mnt/hdd0/Kaggle/arc24/models/20240724_first_trainings/01_phi3_debug/tmp-checkpoint-3200/tokenizer_config.json\n",
      "Special tokens file saved in /mnt/hdd0/Kaggle/arc24/models/20240724_first_trainings/01_phi3_debug/tmp-checkpoint-3200/special_tokens_map.json\n"
     ]
    },
    {
     "name": "stdout",
     "output_type": "stream",
     "text": [
      "{'eval_loss': 0.17330017685890198, 'eval_runtime': 61.4374, 'eval_samples_per_second': 16.277, 'eval_steps_per_second': 2.035, 'epoch': 5.7}\n"
     ]
    },
    {
     "name": "stderr",
     "output_type": "stream",
     "text": [
      "***** Running Evaluation *****\n",
      "  Num examples = 1000\n",
      "  Batch size = 8\n"
     ]
    },
    {
     "name": "stdout",
     "output_type": "stream",
     "text": [
      "{'loss': 0.1728, 'grad_norm': 8.3125, 'learning_rate': 1.691756272401434e-05, 'epoch': 5.79}\n"
     ]
    },
    {
     "data": {
      "application/vnd.jupyter.widget-view+json": {
       "model_id": "eee0b364e58442c7a9773648735b0de3",
       "version_major": 2,
       "version_minor": 0
      },
      "text/plain": [
       "  0%|          | 0/125 [00:00<?, ?it/s]"
      ]
     },
     "metadata": {},
     "output_type": "display_data"
    },
    {
     "name": "stderr",
     "output_type": "stream",
     "text": [
      "Saving model checkpoint to /mnt/hdd0/Kaggle/arc24/models/20240724_first_trainings/01_phi3_debug/tmp-checkpoint-3250\n",
      "/home/gbarbadillo/miniconda3/envs/prometeo/lib/python3.10/site-packages/peft/utils/save_and_load.py:148: UserWarning: Could not find a config file in /home/gbarbadillo/data/Phi-3-mini-128k-instruct - will assume that the vocabulary was not modified.\n",
      "  warnings.warn(\n",
      "tokenizer config file saved in /mnt/hdd0/Kaggle/arc24/models/20240724_first_trainings/01_phi3_debug/tmp-checkpoint-3250/tokenizer_config.json\n",
      "Special tokens file saved in /mnt/hdd0/Kaggle/arc24/models/20240724_first_trainings/01_phi3_debug/tmp-checkpoint-3250/special_tokens_map.json\n"
     ]
    },
    {
     "name": "stdout",
     "output_type": "stream",
     "text": [
      "{'eval_loss': 0.17184309661388397, 'eval_runtime': 61.4082, 'eval_samples_per_second': 16.284, 'eval_steps_per_second': 2.036, 'epoch': 5.79}\n"
     ]
    },
    {
     "name": "stderr",
     "output_type": "stream",
     "text": [
      "***** Running Evaluation *****\n",
      "  Num examples = 1000\n",
      "  Batch size = 8\n"
     ]
    },
    {
     "name": "stdout",
     "output_type": "stream",
     "text": [
      "{'loss': 0.1659, 'grad_norm': 6.9375, 'learning_rate': 1.6559139784946237e-05, 'epoch': 5.88}\n"
     ]
    },
    {
     "data": {
      "application/vnd.jupyter.widget-view+json": {
       "model_id": "6968114fc86145d3b727fe3e987d28c1",
       "version_major": 2,
       "version_minor": 0
      },
      "text/plain": [
       "  0%|          | 0/125 [00:00<?, ?it/s]"
      ]
     },
     "metadata": {},
     "output_type": "display_data"
    },
    {
     "name": "stderr",
     "output_type": "stream",
     "text": [
      "Saving model checkpoint to /mnt/hdd0/Kaggle/arc24/models/20240724_first_trainings/01_phi3_debug/tmp-checkpoint-3300\n",
      "/home/gbarbadillo/miniconda3/envs/prometeo/lib/python3.10/site-packages/peft/utils/save_and_load.py:148: UserWarning: Could not find a config file in /home/gbarbadillo/data/Phi-3-mini-128k-instruct - will assume that the vocabulary was not modified.\n",
      "  warnings.warn(\n",
      "tokenizer config file saved in /mnt/hdd0/Kaggle/arc24/models/20240724_first_trainings/01_phi3_debug/tmp-checkpoint-3300/tokenizer_config.json\n",
      "Special tokens file saved in /mnt/hdd0/Kaggle/arc24/models/20240724_first_trainings/01_phi3_debug/tmp-checkpoint-3300/special_tokens_map.json\n"
     ]
    },
    {
     "name": "stdout",
     "output_type": "stream",
     "text": [
      "{'eval_loss': 0.1796661615371704, 'eval_runtime': 61.4186, 'eval_samples_per_second': 16.282, 'eval_steps_per_second': 2.035, 'epoch': 5.88}\n"
     ]
    },
    {
     "name": "stderr",
     "output_type": "stream",
     "text": [
      "***** Running Evaluation *****\n",
      "  Num examples = 1000\n",
      "  Batch size = 8\n"
     ]
    },
    {
     "name": "stdout",
     "output_type": "stream",
     "text": [
      "{'loss': 0.1672, 'grad_norm': 4.46875, 'learning_rate': 1.6200716845878136e-05, 'epoch': 5.97}\n"
     ]
    },
    {
     "data": {
      "application/vnd.jupyter.widget-view+json": {
       "model_id": "286e275fe81f4905883d2a7e6f0d87ce",
       "version_major": 2,
       "version_minor": 0
      },
      "text/plain": [
       "  0%|          | 0/125 [00:00<?, ?it/s]"
      ]
     },
     "metadata": {},
     "output_type": "display_data"
    },
    {
     "name": "stderr",
     "output_type": "stream",
     "text": [
      "Saving model checkpoint to /mnt/hdd0/Kaggle/arc24/models/20240724_first_trainings/01_phi3_debug/tmp-checkpoint-3350\n",
      "/home/gbarbadillo/miniconda3/envs/prometeo/lib/python3.10/site-packages/peft/utils/save_and_load.py:148: UserWarning: Could not find a config file in /home/gbarbadillo/data/Phi-3-mini-128k-instruct - will assume that the vocabulary was not modified.\n",
      "  warnings.warn(\n",
      "tokenizer config file saved in /mnt/hdd0/Kaggle/arc24/models/20240724_first_trainings/01_phi3_debug/tmp-checkpoint-3350/tokenizer_config.json\n",
      "Special tokens file saved in /mnt/hdd0/Kaggle/arc24/models/20240724_first_trainings/01_phi3_debug/tmp-checkpoint-3350/special_tokens_map.json\n"
     ]
    },
    {
     "name": "stdout",
     "output_type": "stream",
     "text": [
      "{'eval_loss': 0.17205151915550232, 'eval_runtime': 61.4383, 'eval_samples_per_second': 16.276, 'eval_steps_per_second': 2.035, 'epoch': 5.97}\n"
     ]
    },
    {
     "name": "stderr",
     "output_type": "stream",
     "text": [
      "***** Running Evaluation *****\n",
      "  Num examples = 1000\n",
      "  Batch size = 8\n"
     ]
    },
    {
     "name": "stdout",
     "output_type": "stream",
     "text": [
      "{'loss': 0.1707, 'grad_norm': 6.90625, 'learning_rate': 1.5842293906810038e-05, 'epoch': 6.06}\n"
     ]
    },
    {
     "data": {
      "application/vnd.jupyter.widget-view+json": {
       "model_id": "b2953f7cb3154a1b98d0252a18fcf104",
       "version_major": 2,
       "version_minor": 0
      },
      "text/plain": [
       "  0%|          | 0/125 [00:00<?, ?it/s]"
      ]
     },
     "metadata": {},
     "output_type": "display_data"
    },
    {
     "name": "stderr",
     "output_type": "stream",
     "text": [
      "Saving model checkpoint to /mnt/hdd0/Kaggle/arc24/models/20240724_first_trainings/01_phi3_debug/tmp-checkpoint-3400\n",
      "/home/gbarbadillo/miniconda3/envs/prometeo/lib/python3.10/site-packages/peft/utils/save_and_load.py:148: UserWarning: Could not find a config file in /home/gbarbadillo/data/Phi-3-mini-128k-instruct - will assume that the vocabulary was not modified.\n",
      "  warnings.warn(\n",
      "tokenizer config file saved in /mnt/hdd0/Kaggle/arc24/models/20240724_first_trainings/01_phi3_debug/tmp-checkpoint-3400/tokenizer_config.json\n",
      "Special tokens file saved in /mnt/hdd0/Kaggle/arc24/models/20240724_first_trainings/01_phi3_debug/tmp-checkpoint-3400/special_tokens_map.json\n"
     ]
    },
    {
     "name": "stdout",
     "output_type": "stream",
     "text": [
      "{'eval_loss': 0.1742355078458786, 'eval_runtime': 61.5192, 'eval_samples_per_second': 16.255, 'eval_steps_per_second': 2.032, 'epoch': 6.06}\n"
     ]
    },
    {
     "name": "stderr",
     "output_type": "stream",
     "text": [
      "***** Running Evaluation *****\n",
      "  Num examples = 1000\n",
      "  Batch size = 8\n"
     ]
    },
    {
     "name": "stdout",
     "output_type": "stream",
     "text": [
      "{'loss': 0.1684, 'grad_norm': 14.625, 'learning_rate': 1.5483870967741936e-05, 'epoch': 6.14}\n"
     ]
    },
    {
     "data": {
      "application/vnd.jupyter.widget-view+json": {
       "model_id": "6d4c16388f7443bf9a8a2f479d09b41e",
       "version_major": 2,
       "version_minor": 0
      },
      "text/plain": [
       "  0%|          | 0/125 [00:00<?, ?it/s]"
      ]
     },
     "metadata": {},
     "output_type": "display_data"
    },
    {
     "name": "stderr",
     "output_type": "stream",
     "text": [
      "Saving model checkpoint to /mnt/hdd0/Kaggle/arc24/models/20240724_first_trainings/01_phi3_debug/tmp-checkpoint-3450\n",
      "/home/gbarbadillo/miniconda3/envs/prometeo/lib/python3.10/site-packages/peft/utils/save_and_load.py:148: UserWarning: Could not find a config file in /home/gbarbadillo/data/Phi-3-mini-128k-instruct - will assume that the vocabulary was not modified.\n",
      "  warnings.warn(\n",
      "tokenizer config file saved in /mnt/hdd0/Kaggle/arc24/models/20240724_first_trainings/01_phi3_debug/tmp-checkpoint-3450/tokenizer_config.json\n",
      "Special tokens file saved in /mnt/hdd0/Kaggle/arc24/models/20240724_first_trainings/01_phi3_debug/tmp-checkpoint-3450/special_tokens_map.json\n"
     ]
    },
    {
     "name": "stdout",
     "output_type": "stream",
     "text": [
      "{'eval_loss': 0.17941971123218536, 'eval_runtime': 61.4076, 'eval_samples_per_second': 16.285, 'eval_steps_per_second': 2.036, 'epoch': 6.14}\n"
     ]
    },
    {
     "name": "stderr",
     "output_type": "stream",
     "text": [
      "***** Running Evaluation *****\n",
      "  Num examples = 1000\n",
      "  Batch size = 8\n"
     ]
    },
    {
     "name": "stdout",
     "output_type": "stream",
     "text": [
      "{'loss': 0.1636, 'grad_norm': 4.65625, 'learning_rate': 1.5125448028673838e-05, 'epoch': 6.23}\n"
     ]
    },
    {
     "data": {
      "application/vnd.jupyter.widget-view+json": {
       "model_id": "14cf691bf313462ebe1a218475381530",
       "version_major": 2,
       "version_minor": 0
      },
      "text/plain": [
       "  0%|          | 0/125 [00:00<?, ?it/s]"
      ]
     },
     "metadata": {},
     "output_type": "display_data"
    },
    {
     "name": "stderr",
     "output_type": "stream",
     "text": [
      "Saving model checkpoint to /mnt/hdd0/Kaggle/arc24/models/20240724_first_trainings/01_phi3_debug/tmp-checkpoint-3500\n",
      "/home/gbarbadillo/miniconda3/envs/prometeo/lib/python3.10/site-packages/peft/utils/save_and_load.py:148: UserWarning: Could not find a config file in /home/gbarbadillo/data/Phi-3-mini-128k-instruct - will assume that the vocabulary was not modified.\n",
      "  warnings.warn(\n",
      "tokenizer config file saved in /mnt/hdd0/Kaggle/arc24/models/20240724_first_trainings/01_phi3_debug/tmp-checkpoint-3500/tokenizer_config.json\n",
      "Special tokens file saved in /mnt/hdd0/Kaggle/arc24/models/20240724_first_trainings/01_phi3_debug/tmp-checkpoint-3500/special_tokens_map.json\n"
     ]
    },
    {
     "name": "stdout",
     "output_type": "stream",
     "text": [
      "{'eval_loss': 0.1733252853155136, 'eval_runtime': 61.3768, 'eval_samples_per_second': 16.293, 'eval_steps_per_second': 2.037, 'epoch': 6.23}\n"
     ]
    },
    {
     "name": "stderr",
     "output_type": "stream",
     "text": [
      "***** Running Evaluation *****\n",
      "  Num examples = 1000\n",
      "  Batch size = 8\n"
     ]
    },
    {
     "name": "stdout",
     "output_type": "stream",
     "text": [
      "{'loss': 0.1667, 'grad_norm': 3.96875, 'learning_rate': 1.4767025089605736e-05, 'epoch': 6.32}\n"
     ]
    },
    {
     "data": {
      "application/vnd.jupyter.widget-view+json": {
       "model_id": "cebea11c05934600be2dab7d7cf689af",
       "version_major": 2,
       "version_minor": 0
      },
      "text/plain": [
       "  0%|          | 0/125 [00:00<?, ?it/s]"
      ]
     },
     "metadata": {},
     "output_type": "display_data"
    },
    {
     "name": "stderr",
     "output_type": "stream",
     "text": [
      "Saving model checkpoint to /mnt/hdd0/Kaggle/arc24/models/20240724_first_trainings/01_phi3_debug/tmp-checkpoint-3550\n",
      "/home/gbarbadillo/miniconda3/envs/prometeo/lib/python3.10/site-packages/peft/utils/save_and_load.py:148: UserWarning: Could not find a config file in /home/gbarbadillo/data/Phi-3-mini-128k-instruct - will assume that the vocabulary was not modified.\n",
      "  warnings.warn(\n",
      "tokenizer config file saved in /mnt/hdd0/Kaggle/arc24/models/20240724_first_trainings/01_phi3_debug/tmp-checkpoint-3550/tokenizer_config.json\n",
      "Special tokens file saved in /mnt/hdd0/Kaggle/arc24/models/20240724_first_trainings/01_phi3_debug/tmp-checkpoint-3550/special_tokens_map.json\n"
     ]
    },
    {
     "name": "stdout",
     "output_type": "stream",
     "text": [
      "{'eval_loss': 0.17311905324459076, 'eval_runtime': 61.3725, 'eval_samples_per_second': 16.294, 'eval_steps_per_second': 2.037, 'epoch': 6.32}\n"
     ]
    },
    {
     "name": "stderr",
     "output_type": "stream",
     "text": [
      "***** Running Evaluation *****\n",
      "  Num examples = 1000\n",
      "  Batch size = 8\n"
     ]
    },
    {
     "name": "stdout",
     "output_type": "stream",
     "text": [
      "{'loss': 0.1739, 'grad_norm': 6.78125, 'learning_rate': 1.4408602150537636e-05, 'epoch': 6.41}\n"
     ]
    },
    {
     "data": {
      "application/vnd.jupyter.widget-view+json": {
       "model_id": "44e793af3dff4035a8cfe24cd89f11b0",
       "version_major": 2,
       "version_minor": 0
      },
      "text/plain": [
       "  0%|          | 0/125 [00:00<?, ?it/s]"
      ]
     },
     "metadata": {},
     "output_type": "display_data"
    },
    {
     "name": "stderr",
     "output_type": "stream",
     "text": [
      "Saving model checkpoint to /mnt/hdd0/Kaggle/arc24/models/20240724_first_trainings/01_phi3_debug/tmp-checkpoint-3600\n",
      "/home/gbarbadillo/miniconda3/envs/prometeo/lib/python3.10/site-packages/peft/utils/save_and_load.py:148: UserWarning: Could not find a config file in /home/gbarbadillo/data/Phi-3-mini-128k-instruct - will assume that the vocabulary was not modified.\n",
      "  warnings.warn(\n",
      "tokenizer config file saved in /mnt/hdd0/Kaggle/arc24/models/20240724_first_trainings/01_phi3_debug/tmp-checkpoint-3600/tokenizer_config.json\n",
      "Special tokens file saved in /mnt/hdd0/Kaggle/arc24/models/20240724_first_trainings/01_phi3_debug/tmp-checkpoint-3600/special_tokens_map.json\n"
     ]
    },
    {
     "name": "stdout",
     "output_type": "stream",
     "text": [
      "{'eval_loss': 0.17197035253047943, 'eval_runtime': 61.4015, 'eval_samples_per_second': 16.286, 'eval_steps_per_second': 2.036, 'epoch': 6.41}\n"
     ]
    },
    {
     "name": "stderr",
     "output_type": "stream",
     "text": [
      "***** Running Evaluation *****\n",
      "  Num examples = 1000\n",
      "  Batch size = 8\n"
     ]
    },
    {
     "name": "stdout",
     "output_type": "stream",
     "text": [
      "{'loss': 0.1686, 'grad_norm': 2.625, 'learning_rate': 1.4050179211469535e-05, 'epoch': 6.5}\n"
     ]
    },
    {
     "data": {
      "application/vnd.jupyter.widget-view+json": {
       "model_id": "ead22942bbac4ebaa15fd1237967f6f4",
       "version_major": 2,
       "version_minor": 0
      },
      "text/plain": [
       "  0%|          | 0/125 [00:00<?, ?it/s]"
      ]
     },
     "metadata": {},
     "output_type": "display_data"
    },
    {
     "name": "stderr",
     "output_type": "stream",
     "text": [
      "Saving model checkpoint to /mnt/hdd0/Kaggle/arc24/models/20240724_first_trainings/01_phi3_debug/tmp-checkpoint-3650\n",
      "/home/gbarbadillo/miniconda3/envs/prometeo/lib/python3.10/site-packages/peft/utils/save_and_load.py:148: UserWarning: Could not find a config file in /home/gbarbadillo/data/Phi-3-mini-128k-instruct - will assume that the vocabulary was not modified.\n",
      "  warnings.warn(\n",
      "tokenizer config file saved in /mnt/hdd0/Kaggle/arc24/models/20240724_first_trainings/01_phi3_debug/tmp-checkpoint-3650/tokenizer_config.json\n",
      "Special tokens file saved in /mnt/hdd0/Kaggle/arc24/models/20240724_first_trainings/01_phi3_debug/tmp-checkpoint-3650/special_tokens_map.json\n"
     ]
    },
    {
     "name": "stdout",
     "output_type": "stream",
     "text": [
      "{'eval_loss': 0.17161449790000916, 'eval_runtime': 61.3767, 'eval_samples_per_second': 16.293, 'eval_steps_per_second': 2.037, 'epoch': 6.5}\n"
     ]
    },
    {
     "name": "stderr",
     "output_type": "stream",
     "text": [
      "***** Running Evaluation *****\n",
      "  Num examples = 1000\n",
      "  Batch size = 8\n"
     ]
    },
    {
     "name": "stdout",
     "output_type": "stream",
     "text": [
      "{'loss': 0.1727, 'grad_norm': 5.40625, 'learning_rate': 1.3691756272401435e-05, 'epoch': 6.59}\n"
     ]
    },
    {
     "data": {
      "application/vnd.jupyter.widget-view+json": {
       "model_id": "42d5ac1a69484804b0de0bebbb6a0124",
       "version_major": 2,
       "version_minor": 0
      },
      "text/plain": [
       "  0%|          | 0/125 [00:00<?, ?it/s]"
      ]
     },
     "metadata": {},
     "output_type": "display_data"
    },
    {
     "name": "stderr",
     "output_type": "stream",
     "text": [
      "Saving model checkpoint to /mnt/hdd0/Kaggle/arc24/models/20240724_first_trainings/01_phi3_debug/tmp-checkpoint-3700\n",
      "/home/gbarbadillo/miniconda3/envs/prometeo/lib/python3.10/site-packages/peft/utils/save_and_load.py:148: UserWarning: Could not find a config file in /home/gbarbadillo/data/Phi-3-mini-128k-instruct - will assume that the vocabulary was not modified.\n",
      "  warnings.warn(\n",
      "tokenizer config file saved in /mnt/hdd0/Kaggle/arc24/models/20240724_first_trainings/01_phi3_debug/tmp-checkpoint-3700/tokenizer_config.json\n",
      "Special tokens file saved in /mnt/hdd0/Kaggle/arc24/models/20240724_first_trainings/01_phi3_debug/tmp-checkpoint-3700/special_tokens_map.json\n"
     ]
    },
    {
     "name": "stdout",
     "output_type": "stream",
     "text": [
      "{'eval_loss': 0.17405930161476135, 'eval_runtime': 61.3565, 'eval_samples_per_second': 16.298, 'eval_steps_per_second': 2.037, 'epoch': 6.59}\n"
     ]
    },
    {
     "name": "stderr",
     "output_type": "stream",
     "text": [
      "***** Running Evaluation *****\n",
      "  Num examples = 1000\n",
      "  Batch size = 8\n"
     ]
    },
    {
     "name": "stdout",
     "output_type": "stream",
     "text": [
      "{'loss': 0.1676, 'grad_norm': 2.734375, 'learning_rate': 1.3333333333333333e-05, 'epoch': 6.68}\n"
     ]
    },
    {
     "data": {
      "application/vnd.jupyter.widget-view+json": {
       "model_id": "142951faf22d4eb1aebb1626fb699991",
       "version_major": 2,
       "version_minor": 0
      },
      "text/plain": [
       "  0%|          | 0/125 [00:00<?, ?it/s]"
      ]
     },
     "metadata": {},
     "output_type": "display_data"
    },
    {
     "name": "stderr",
     "output_type": "stream",
     "text": [
      "Saving model checkpoint to /mnt/hdd0/Kaggle/arc24/models/20240724_first_trainings/01_phi3_debug/tmp-checkpoint-3750\n",
      "/home/gbarbadillo/miniconda3/envs/prometeo/lib/python3.10/site-packages/peft/utils/save_and_load.py:148: UserWarning: Could not find a config file in /home/gbarbadillo/data/Phi-3-mini-128k-instruct - will assume that the vocabulary was not modified.\n",
      "  warnings.warn(\n",
      "tokenizer config file saved in /mnt/hdd0/Kaggle/arc24/models/20240724_first_trainings/01_phi3_debug/tmp-checkpoint-3750/tokenizer_config.json\n",
      "Special tokens file saved in /mnt/hdd0/Kaggle/arc24/models/20240724_first_trainings/01_phi3_debug/tmp-checkpoint-3750/special_tokens_map.json\n"
     ]
    },
    {
     "name": "stdout",
     "output_type": "stream",
     "text": [
      "{'eval_loss': 0.16963626444339752, 'eval_runtime': 61.4397, 'eval_samples_per_second': 16.276, 'eval_steps_per_second': 2.035, 'epoch': 6.68}\n"
     ]
    },
    {
     "name": "stderr",
     "output_type": "stream",
     "text": [
      "***** Running Evaluation *****\n",
      "  Num examples = 1000\n",
      "  Batch size = 8\n"
     ]
    },
    {
     "name": "stdout",
     "output_type": "stream",
     "text": [
      "{'loss': 0.1601, 'grad_norm': 1.828125, 'learning_rate': 1.2974910394265235e-05, 'epoch': 6.77}\n"
     ]
    },
    {
     "data": {
      "application/vnd.jupyter.widget-view+json": {
       "model_id": "278ba1e384674853a7a001317e51a4fd",
       "version_major": 2,
       "version_minor": 0
      },
      "text/plain": [
       "  0%|          | 0/125 [00:00<?, ?it/s]"
      ]
     },
     "metadata": {},
     "output_type": "display_data"
    },
    {
     "name": "stderr",
     "output_type": "stream",
     "text": [
      "Saving model checkpoint to /mnt/hdd0/Kaggle/arc24/models/20240724_first_trainings/01_phi3_debug/tmp-checkpoint-3800\n",
      "/home/gbarbadillo/miniconda3/envs/prometeo/lib/python3.10/site-packages/peft/utils/save_and_load.py:148: UserWarning: Could not find a config file in /home/gbarbadillo/data/Phi-3-mini-128k-instruct - will assume that the vocabulary was not modified.\n",
      "  warnings.warn(\n",
      "tokenizer config file saved in /mnt/hdd0/Kaggle/arc24/models/20240724_first_trainings/01_phi3_debug/tmp-checkpoint-3800/tokenizer_config.json\n",
      "Special tokens file saved in /mnt/hdd0/Kaggle/arc24/models/20240724_first_trainings/01_phi3_debug/tmp-checkpoint-3800/special_tokens_map.json\n"
     ]
    },
    {
     "name": "stdout",
     "output_type": "stream",
     "text": [
      "{'eval_loss': 0.18935886025428772, 'eval_runtime': 61.4717, 'eval_samples_per_second': 16.268, 'eval_steps_per_second': 2.033, 'epoch': 6.77}\n"
     ]
    },
    {
     "name": "stderr",
     "output_type": "stream",
     "text": [
      "***** Running Evaluation *****\n",
      "  Num examples = 1000\n",
      "  Batch size = 8\n"
     ]
    },
    {
     "name": "stdout",
     "output_type": "stream",
     "text": [
      "{'loss': 0.174, 'grad_norm': 5.46875, 'learning_rate': 1.2616487455197134e-05, 'epoch': 6.86}\n"
     ]
    },
    {
     "data": {
      "application/vnd.jupyter.widget-view+json": {
       "model_id": "a040b2dbf348452bb2ee0d10a2364c12",
       "version_major": 2,
       "version_minor": 0
      },
      "text/plain": [
       "  0%|          | 0/125 [00:00<?, ?it/s]"
      ]
     },
     "metadata": {},
     "output_type": "display_data"
    },
    {
     "name": "stderr",
     "output_type": "stream",
     "text": [
      "Saving model checkpoint to /mnt/hdd0/Kaggle/arc24/models/20240724_first_trainings/01_phi3_debug/tmp-checkpoint-3850\n",
      "/home/gbarbadillo/miniconda3/envs/prometeo/lib/python3.10/site-packages/peft/utils/save_and_load.py:148: UserWarning: Could not find a config file in /home/gbarbadillo/data/Phi-3-mini-128k-instruct - will assume that the vocabulary was not modified.\n",
      "  warnings.warn(\n",
      "tokenizer config file saved in /mnt/hdd0/Kaggle/arc24/models/20240724_first_trainings/01_phi3_debug/tmp-checkpoint-3850/tokenizer_config.json\n",
      "Special tokens file saved in /mnt/hdd0/Kaggle/arc24/models/20240724_first_trainings/01_phi3_debug/tmp-checkpoint-3850/special_tokens_map.json\n"
     ]
    },
    {
     "name": "stdout",
     "output_type": "stream",
     "text": [
      "{'eval_loss': 0.16941791772842407, 'eval_runtime': 61.4136, 'eval_samples_per_second': 16.283, 'eval_steps_per_second': 2.035, 'epoch': 6.86}\n"
     ]
    },
    {
     "name": "stderr",
     "output_type": "stream",
     "text": [
      "***** Running Evaluation *****\n",
      "  Num examples = 1000\n",
      "  Batch size = 8\n"
     ]
    },
    {
     "name": "stdout",
     "output_type": "stream",
     "text": [
      "{'loss': 0.163, 'grad_norm': 4.0, 'learning_rate': 1.2258064516129034e-05, 'epoch': 6.95}\n"
     ]
    },
    {
     "data": {
      "application/vnd.jupyter.widget-view+json": {
       "model_id": "4801477788ff49aba75048655d96ed31",
       "version_major": 2,
       "version_minor": 0
      },
      "text/plain": [
       "  0%|          | 0/125 [00:00<?, ?it/s]"
      ]
     },
     "metadata": {},
     "output_type": "display_data"
    },
    {
     "name": "stderr",
     "output_type": "stream",
     "text": [
      "Saving model checkpoint to /mnt/hdd0/Kaggle/arc24/models/20240724_first_trainings/01_phi3_debug/tmp-checkpoint-3900\n",
      "/home/gbarbadillo/miniconda3/envs/prometeo/lib/python3.10/site-packages/peft/utils/save_and_load.py:148: UserWarning: Could not find a config file in /home/gbarbadillo/data/Phi-3-mini-128k-instruct - will assume that the vocabulary was not modified.\n",
      "  warnings.warn(\n",
      "tokenizer config file saved in /mnt/hdd0/Kaggle/arc24/models/20240724_first_trainings/01_phi3_debug/tmp-checkpoint-3900/tokenizer_config.json\n",
      "Special tokens file saved in /mnt/hdd0/Kaggle/arc24/models/20240724_first_trainings/01_phi3_debug/tmp-checkpoint-3900/special_tokens_map.json\n"
     ]
    },
    {
     "name": "stdout",
     "output_type": "stream",
     "text": [
      "{'eval_loss': 0.17023301124572754, 'eval_runtime': 61.4234, 'eval_samples_per_second': 16.28, 'eval_steps_per_second': 2.035, 'epoch': 6.95}\n"
     ]
    },
    {
     "name": "stderr",
     "output_type": "stream",
     "text": [
      "***** Running Evaluation *****\n",
      "  Num examples = 1000\n",
      "  Batch size = 8\n"
     ]
    },
    {
     "name": "stdout",
     "output_type": "stream",
     "text": [
      "{'loss': 0.1627, 'grad_norm': 6.53125, 'learning_rate': 1.1899641577060932e-05, 'epoch': 7.03}\n"
     ]
    },
    {
     "data": {
      "application/vnd.jupyter.widget-view+json": {
       "model_id": "7c501bb525b845cbabcab683f9da1fb4",
       "version_major": 2,
       "version_minor": 0
      },
      "text/plain": [
       "  0%|          | 0/125 [00:00<?, ?it/s]"
      ]
     },
     "metadata": {},
     "output_type": "display_data"
    },
    {
     "name": "stderr",
     "output_type": "stream",
     "text": [
      "Saving model checkpoint to /mnt/hdd0/Kaggle/arc24/models/20240724_first_trainings/01_phi3_debug/tmp-checkpoint-3950\n",
      "/home/gbarbadillo/miniconda3/envs/prometeo/lib/python3.10/site-packages/peft/utils/save_and_load.py:148: UserWarning: Could not find a config file in /home/gbarbadillo/data/Phi-3-mini-128k-instruct - will assume that the vocabulary was not modified.\n",
      "  warnings.warn(\n",
      "tokenizer config file saved in /mnt/hdd0/Kaggle/arc24/models/20240724_first_trainings/01_phi3_debug/tmp-checkpoint-3950/tokenizer_config.json\n",
      "Special tokens file saved in /mnt/hdd0/Kaggle/arc24/models/20240724_first_trainings/01_phi3_debug/tmp-checkpoint-3950/special_tokens_map.json\n"
     ]
    },
    {
     "name": "stdout",
     "output_type": "stream",
     "text": [
      "{'eval_loss': 0.17064742743968964, 'eval_runtime': 61.4452, 'eval_samples_per_second': 16.275, 'eval_steps_per_second': 2.034, 'epoch': 7.03}\n"
     ]
    },
    {
     "name": "stderr",
     "output_type": "stream",
     "text": [
      "***** Running Evaluation *****\n",
      "  Num examples = 1000\n",
      "  Batch size = 8\n"
     ]
    },
    {
     "name": "stdout",
     "output_type": "stream",
     "text": [
      "{'loss': 0.1636, 'grad_norm': 3.328125, 'learning_rate': 1.1541218637992832e-05, 'epoch': 7.12}\n"
     ]
    },
    {
     "data": {
      "application/vnd.jupyter.widget-view+json": {
       "model_id": "93bff225c8214d76ad40ca1543397e77",
       "version_major": 2,
       "version_minor": 0
      },
      "text/plain": [
       "  0%|          | 0/125 [00:00<?, ?it/s]"
      ]
     },
     "metadata": {},
     "output_type": "display_data"
    },
    {
     "name": "stderr",
     "output_type": "stream",
     "text": [
      "Saving model checkpoint to /mnt/hdd0/Kaggle/arc24/models/20240724_first_trainings/01_phi3_debug/tmp-checkpoint-4000\n",
      "/home/gbarbadillo/miniconda3/envs/prometeo/lib/python3.10/site-packages/peft/utils/save_and_load.py:148: UserWarning: Could not find a config file in /home/gbarbadillo/data/Phi-3-mini-128k-instruct - will assume that the vocabulary was not modified.\n",
      "  warnings.warn(\n",
      "tokenizer config file saved in /mnt/hdd0/Kaggle/arc24/models/20240724_first_trainings/01_phi3_debug/tmp-checkpoint-4000/tokenizer_config.json\n",
      "Special tokens file saved in /mnt/hdd0/Kaggle/arc24/models/20240724_first_trainings/01_phi3_debug/tmp-checkpoint-4000/special_tokens_map.json\n"
     ]
    },
    {
     "name": "stdout",
     "output_type": "stream",
     "text": [
      "{'eval_loss': 0.16913695633411407, 'eval_runtime': 61.3381, 'eval_samples_per_second': 16.303, 'eval_steps_per_second': 2.038, 'epoch': 7.12}\n"
     ]
    },
    {
     "name": "stderr",
     "output_type": "stream",
     "text": [
      "***** Running Evaluation *****\n",
      "  Num examples = 1000\n",
      "  Batch size = 8\n"
     ]
    },
    {
     "name": "stdout",
     "output_type": "stream",
     "text": [
      "{'loss': 0.1704, 'grad_norm': 2.046875, 'learning_rate': 1.118279569892473e-05, 'epoch': 7.21}\n"
     ]
    },
    {
     "data": {
      "application/vnd.jupyter.widget-view+json": {
       "model_id": "3c7cfa4cc22d4f86957c65d507992cde",
       "version_major": 2,
       "version_minor": 0
      },
      "text/plain": [
       "  0%|          | 0/125 [00:00<?, ?it/s]"
      ]
     },
     "metadata": {},
     "output_type": "display_data"
    },
    {
     "name": "stderr",
     "output_type": "stream",
     "text": [
      "Saving model checkpoint to /mnt/hdd0/Kaggle/arc24/models/20240724_first_trainings/01_phi3_debug/tmp-checkpoint-4050\n",
      "/home/gbarbadillo/miniconda3/envs/prometeo/lib/python3.10/site-packages/peft/utils/save_and_load.py:148: UserWarning: Could not find a config file in /home/gbarbadillo/data/Phi-3-mini-128k-instruct - will assume that the vocabulary was not modified.\n",
      "  warnings.warn(\n",
      "tokenizer config file saved in /mnt/hdd0/Kaggle/arc24/models/20240724_first_trainings/01_phi3_debug/tmp-checkpoint-4050/tokenizer_config.json\n",
      "Special tokens file saved in /mnt/hdd0/Kaggle/arc24/models/20240724_first_trainings/01_phi3_debug/tmp-checkpoint-4050/special_tokens_map.json\n"
     ]
    },
    {
     "name": "stdout",
     "output_type": "stream",
     "text": [
      "{'eval_loss': 0.16997884213924408, 'eval_runtime': 61.2632, 'eval_samples_per_second': 16.323, 'eval_steps_per_second': 2.04, 'epoch': 7.21}\n"
     ]
    },
    {
     "name": "stderr",
     "output_type": "stream",
     "text": [
      "***** Running Evaluation *****\n",
      "  Num examples = 1000\n",
      "  Batch size = 8\n"
     ]
    },
    {
     "name": "stdout",
     "output_type": "stream",
     "text": [
      "{'loss': 0.1611, 'grad_norm': 5.25, 'learning_rate': 1.0824372759856632e-05, 'epoch': 7.3}\n"
     ]
    },
    {
     "data": {
      "application/vnd.jupyter.widget-view+json": {
       "model_id": "0e5394fe88534d6f83e49818e99f32f2",
       "version_major": 2,
       "version_minor": 0
      },
      "text/plain": [
       "  0%|          | 0/125 [00:00<?, ?it/s]"
      ]
     },
     "metadata": {},
     "output_type": "display_data"
    },
    {
     "name": "stderr",
     "output_type": "stream",
     "text": [
      "Saving model checkpoint to /mnt/hdd0/Kaggle/arc24/models/20240724_first_trainings/01_phi3_debug/tmp-checkpoint-4100\n",
      "/home/gbarbadillo/miniconda3/envs/prometeo/lib/python3.10/site-packages/peft/utils/save_and_load.py:148: UserWarning: Could not find a config file in /home/gbarbadillo/data/Phi-3-mini-128k-instruct - will assume that the vocabulary was not modified.\n",
      "  warnings.warn(\n",
      "tokenizer config file saved in /mnt/hdd0/Kaggle/arc24/models/20240724_first_trainings/01_phi3_debug/tmp-checkpoint-4100/tokenizer_config.json\n",
      "Special tokens file saved in /mnt/hdd0/Kaggle/arc24/models/20240724_first_trainings/01_phi3_debug/tmp-checkpoint-4100/special_tokens_map.json\n"
     ]
    },
    {
     "name": "stdout",
     "output_type": "stream",
     "text": [
      "{'eval_loss': 0.16975750029087067, 'eval_runtime': 61.3004, 'eval_samples_per_second': 16.313, 'eval_steps_per_second': 2.039, 'epoch': 7.3}\n"
     ]
    },
    {
     "name": "stderr",
     "output_type": "stream",
     "text": [
      "***** Running Evaluation *****\n",
      "  Num examples = 1000\n",
      "  Batch size = 8\n"
     ]
    },
    {
     "name": "stdout",
     "output_type": "stream",
     "text": [
      "{'loss': 0.1573, 'grad_norm': 11.125, 'learning_rate': 1.0465949820788533e-05, 'epoch': 7.39}\n"
     ]
    },
    {
     "data": {
      "application/vnd.jupyter.widget-view+json": {
       "model_id": "343109f7a2564f0b903c18b0d1fe6511",
       "version_major": 2,
       "version_minor": 0
      },
      "text/plain": [
       "  0%|          | 0/125 [00:00<?, ?it/s]"
      ]
     },
     "metadata": {},
     "output_type": "display_data"
    },
    {
     "name": "stderr",
     "output_type": "stream",
     "text": [
      "Saving model checkpoint to /mnt/hdd0/Kaggle/arc24/models/20240724_first_trainings/01_phi3_debug/tmp-checkpoint-4150\n",
      "/home/gbarbadillo/miniconda3/envs/prometeo/lib/python3.10/site-packages/peft/utils/save_and_load.py:148: UserWarning: Could not find a config file in /home/gbarbadillo/data/Phi-3-mini-128k-instruct - will assume that the vocabulary was not modified.\n",
      "  warnings.warn(\n",
      "tokenizer config file saved in /mnt/hdd0/Kaggle/arc24/models/20240724_first_trainings/01_phi3_debug/tmp-checkpoint-4150/tokenizer_config.json\n",
      "Special tokens file saved in /mnt/hdd0/Kaggle/arc24/models/20240724_first_trainings/01_phi3_debug/tmp-checkpoint-4150/special_tokens_map.json\n"
     ]
    },
    {
     "name": "stdout",
     "output_type": "stream",
     "text": [
      "{'eval_loss': 0.17415755987167358, 'eval_runtime': 61.2731, 'eval_samples_per_second': 16.32, 'eval_steps_per_second': 2.04, 'epoch': 7.39}\n"
     ]
    },
    {
     "name": "stderr",
     "output_type": "stream",
     "text": [
      "***** Running Evaluation *****\n",
      "  Num examples = 1000\n",
      "  Batch size = 8\n"
     ]
    },
    {
     "name": "stdout",
     "output_type": "stream",
     "text": [
      "{'loss': 0.1619, 'grad_norm': 6.59375, 'learning_rate': 1.0107526881720431e-05, 'epoch': 7.48}\n"
     ]
    },
    {
     "data": {
      "application/vnd.jupyter.widget-view+json": {
       "model_id": "eb22ccd0a92a41528b14266cceaa0d32",
       "version_major": 2,
       "version_minor": 0
      },
      "text/plain": [
       "  0%|          | 0/125 [00:00<?, ?it/s]"
      ]
     },
     "metadata": {},
     "output_type": "display_data"
    },
    {
     "name": "stderr",
     "output_type": "stream",
     "text": [
      "Saving model checkpoint to /mnt/hdd0/Kaggle/arc24/models/20240724_first_trainings/01_phi3_debug/tmp-checkpoint-4200\n",
      "/home/gbarbadillo/miniconda3/envs/prometeo/lib/python3.10/site-packages/peft/utils/save_and_load.py:148: UserWarning: Could not find a config file in /home/gbarbadillo/data/Phi-3-mini-128k-instruct - will assume that the vocabulary was not modified.\n",
      "  warnings.warn(\n",
      "tokenizer config file saved in /mnt/hdd0/Kaggle/arc24/models/20240724_first_trainings/01_phi3_debug/tmp-checkpoint-4200/tokenizer_config.json\n",
      "Special tokens file saved in /mnt/hdd0/Kaggle/arc24/models/20240724_first_trainings/01_phi3_debug/tmp-checkpoint-4200/special_tokens_map.json\n"
     ]
    },
    {
     "name": "stdout",
     "output_type": "stream",
     "text": [
      "{'eval_loss': 0.17134469747543335, 'eval_runtime': 61.3683, 'eval_samples_per_second': 16.295, 'eval_steps_per_second': 2.037, 'epoch': 7.48}\n"
     ]
    },
    {
     "name": "stderr",
     "output_type": "stream",
     "text": [
      "***** Running Evaluation *****\n",
      "  Num examples = 1000\n",
      "  Batch size = 8\n"
     ]
    },
    {
     "name": "stdout",
     "output_type": "stream",
     "text": [
      "{'loss': 0.163, 'grad_norm': 7.375, 'learning_rate': 9.749103942652331e-06, 'epoch': 7.57}\n"
     ]
    },
    {
     "data": {
      "application/vnd.jupyter.widget-view+json": {
       "model_id": "add404eeafbc4eb79a89f11a6784ddb7",
       "version_major": 2,
       "version_minor": 0
      },
      "text/plain": [
       "  0%|          | 0/125 [00:00<?, ?it/s]"
      ]
     },
     "metadata": {},
     "output_type": "display_data"
    },
    {
     "name": "stderr",
     "output_type": "stream",
     "text": [
      "Saving model checkpoint to /mnt/hdd0/Kaggle/arc24/models/20240724_first_trainings/01_phi3_debug/tmp-checkpoint-4250\n",
      "/home/gbarbadillo/miniconda3/envs/prometeo/lib/python3.10/site-packages/peft/utils/save_and_load.py:148: UserWarning: Could not find a config file in /home/gbarbadillo/data/Phi-3-mini-128k-instruct - will assume that the vocabulary was not modified.\n",
      "  warnings.warn(\n",
      "tokenizer config file saved in /mnt/hdd0/Kaggle/arc24/models/20240724_first_trainings/01_phi3_debug/tmp-checkpoint-4250/tokenizer_config.json\n",
      "Special tokens file saved in /mnt/hdd0/Kaggle/arc24/models/20240724_first_trainings/01_phi3_debug/tmp-checkpoint-4250/special_tokens_map.json\n"
     ]
    },
    {
     "name": "stdout",
     "output_type": "stream",
     "text": [
      "{'eval_loss': 0.17041058838367462, 'eval_runtime': 61.3898, 'eval_samples_per_second': 16.289, 'eval_steps_per_second': 2.036, 'epoch': 7.57}\n"
     ]
    },
    {
     "name": "stderr",
     "output_type": "stream",
     "text": [
      "***** Running Evaluation *****\n",
      "  Num examples = 1000\n",
      "  Batch size = 8\n"
     ]
    },
    {
     "name": "stdout",
     "output_type": "stream",
     "text": [
      "{'loss': 0.1655, 'grad_norm': 3.203125, 'learning_rate': 9.39068100358423e-06, 'epoch': 7.66}\n"
     ]
    },
    {
     "data": {
      "application/vnd.jupyter.widget-view+json": {
       "model_id": "e2cf4878896140d5a2991773e862bee9",
       "version_major": 2,
       "version_minor": 0
      },
      "text/plain": [
       "  0%|          | 0/125 [00:00<?, ?it/s]"
      ]
     },
     "metadata": {},
     "output_type": "display_data"
    },
    {
     "name": "stderr",
     "output_type": "stream",
     "text": [
      "Saving model checkpoint to /mnt/hdd0/Kaggle/arc24/models/20240724_first_trainings/01_phi3_debug/tmp-checkpoint-4300\n",
      "/home/gbarbadillo/miniconda3/envs/prometeo/lib/python3.10/site-packages/peft/utils/save_and_load.py:148: UserWarning: Could not find a config file in /home/gbarbadillo/data/Phi-3-mini-128k-instruct - will assume that the vocabulary was not modified.\n",
      "  warnings.warn(\n",
      "tokenizer config file saved in /mnt/hdd0/Kaggle/arc24/models/20240724_first_trainings/01_phi3_debug/tmp-checkpoint-4300/tokenizer_config.json\n",
      "Special tokens file saved in /mnt/hdd0/Kaggle/arc24/models/20240724_first_trainings/01_phi3_debug/tmp-checkpoint-4300/special_tokens_map.json\n"
     ]
    },
    {
     "name": "stdout",
     "output_type": "stream",
     "text": [
      "{'eval_loss': 0.1677195429801941, 'eval_runtime': 61.3822, 'eval_samples_per_second': 16.291, 'eval_steps_per_second': 2.036, 'epoch': 7.66}\n"
     ]
    },
    {
     "name": "stderr",
     "output_type": "stream",
     "text": [
      "***** Running Evaluation *****\n",
      "  Num examples = 1000\n",
      "  Batch size = 8\n"
     ]
    },
    {
     "name": "stdout",
     "output_type": "stream",
     "text": [
      "{'loss': 0.1645, 'grad_norm': 3.3125, 'learning_rate': 9.03225806451613e-06, 'epoch': 7.75}\n"
     ]
    },
    {
     "data": {
      "application/vnd.jupyter.widget-view+json": {
       "model_id": "43e86a500568446f8654b71fb322415f",
       "version_major": 2,
       "version_minor": 0
      },
      "text/plain": [
       "  0%|          | 0/125 [00:00<?, ?it/s]"
      ]
     },
     "metadata": {},
     "output_type": "display_data"
    },
    {
     "name": "stderr",
     "output_type": "stream",
     "text": [
      "Saving model checkpoint to /mnt/hdd0/Kaggle/arc24/models/20240724_first_trainings/01_phi3_debug/tmp-checkpoint-4350\n",
      "/home/gbarbadillo/miniconda3/envs/prometeo/lib/python3.10/site-packages/peft/utils/save_and_load.py:148: UserWarning: Could not find a config file in /home/gbarbadillo/data/Phi-3-mini-128k-instruct - will assume that the vocabulary was not modified.\n",
      "  warnings.warn(\n",
      "tokenizer config file saved in /mnt/hdd0/Kaggle/arc24/models/20240724_first_trainings/01_phi3_debug/tmp-checkpoint-4350/tokenizer_config.json\n",
      "Special tokens file saved in /mnt/hdd0/Kaggle/arc24/models/20240724_first_trainings/01_phi3_debug/tmp-checkpoint-4350/special_tokens_map.json\n"
     ]
    },
    {
     "name": "stdout",
     "output_type": "stream",
     "text": [
      "{'eval_loss': 0.16823184490203857, 'eval_runtime': 61.42, 'eval_samples_per_second': 16.281, 'eval_steps_per_second': 2.035, 'epoch': 7.75}\n"
     ]
    },
    {
     "name": "stderr",
     "output_type": "stream",
     "text": [
      "***** Running Evaluation *****\n",
      "  Num examples = 1000\n",
      "  Batch size = 8\n"
     ]
    },
    {
     "name": "stdout",
     "output_type": "stream",
     "text": [
      "{'loss': 0.1674, 'grad_norm': 11.1875, 'learning_rate': 8.67383512544803e-06, 'epoch': 7.84}\n"
     ]
    },
    {
     "data": {
      "application/vnd.jupyter.widget-view+json": {
       "model_id": "814fbfffd0774ebaaf8e4a8b0fe29880",
       "version_major": 2,
       "version_minor": 0
      },
      "text/plain": [
       "  0%|          | 0/125 [00:00<?, ?it/s]"
      ]
     },
     "metadata": {},
     "output_type": "display_data"
    },
    {
     "name": "stderr",
     "output_type": "stream",
     "text": [
      "Saving model checkpoint to /mnt/hdd0/Kaggle/arc24/models/20240724_first_trainings/01_phi3_debug/tmp-checkpoint-4400\n",
      "/home/gbarbadillo/miniconda3/envs/prometeo/lib/python3.10/site-packages/peft/utils/save_and_load.py:148: UserWarning: Could not find a config file in /home/gbarbadillo/data/Phi-3-mini-128k-instruct - will assume that the vocabulary was not modified.\n",
      "  warnings.warn(\n",
      "tokenizer config file saved in /mnt/hdd0/Kaggle/arc24/models/20240724_first_trainings/01_phi3_debug/tmp-checkpoint-4400/tokenizer_config.json\n",
      "Special tokens file saved in /mnt/hdd0/Kaggle/arc24/models/20240724_first_trainings/01_phi3_debug/tmp-checkpoint-4400/special_tokens_map.json\n"
     ]
    },
    {
     "name": "stdout",
     "output_type": "stream",
     "text": [
      "{'eval_loss': 0.16847796738147736, 'eval_runtime': 61.4331, 'eval_samples_per_second': 16.278, 'eval_steps_per_second': 2.035, 'epoch': 7.84}\n"
     ]
    },
    {
     "name": "stderr",
     "output_type": "stream",
     "text": [
      "***** Running Evaluation *****\n",
      "  Num examples = 1000\n",
      "  Batch size = 8\n"
     ]
    },
    {
     "name": "stdout",
     "output_type": "stream",
     "text": [
      "{'loss': 0.1598, 'grad_norm': 4.84375, 'learning_rate': 8.315412186379928e-06, 'epoch': 7.93}\n"
     ]
    },
    {
     "data": {
      "application/vnd.jupyter.widget-view+json": {
       "model_id": "32116d6dd7d94025a0ca639b038324f1",
       "version_major": 2,
       "version_minor": 0
      },
      "text/plain": [
       "  0%|          | 0/125 [00:00<?, ?it/s]"
      ]
     },
     "metadata": {},
     "output_type": "display_data"
    },
    {
     "name": "stderr",
     "output_type": "stream",
     "text": [
      "Saving model checkpoint to /mnt/hdd0/Kaggle/arc24/models/20240724_first_trainings/01_phi3_debug/tmp-checkpoint-4450\n",
      "/home/gbarbadillo/miniconda3/envs/prometeo/lib/python3.10/site-packages/peft/utils/save_and_load.py:148: UserWarning: Could not find a config file in /home/gbarbadillo/data/Phi-3-mini-128k-instruct - will assume that the vocabulary was not modified.\n",
      "  warnings.warn(\n",
      "tokenizer config file saved in /mnt/hdd0/Kaggle/arc24/models/20240724_first_trainings/01_phi3_debug/tmp-checkpoint-4450/tokenizer_config.json\n",
      "Special tokens file saved in /mnt/hdd0/Kaggle/arc24/models/20240724_first_trainings/01_phi3_debug/tmp-checkpoint-4450/special_tokens_map.json\n"
     ]
    },
    {
     "name": "stdout",
     "output_type": "stream",
     "text": [
      "{'eval_loss': 0.16797399520874023, 'eval_runtime': 61.4299, 'eval_samples_per_second': 16.279, 'eval_steps_per_second': 2.035, 'epoch': 7.93}\n"
     ]
    },
    {
     "name": "stderr",
     "output_type": "stream",
     "text": [
      "***** Running Evaluation *****\n",
      "  Num examples = 1000\n",
      "  Batch size = 8\n"
     ]
    },
    {
     "name": "stdout",
     "output_type": "stream",
     "text": [
      "{'loss': 0.1614, 'grad_norm': 4.84375, 'learning_rate': 7.956989247311828e-06, 'epoch': 8.01}\n"
     ]
    },
    {
     "data": {
      "application/vnd.jupyter.widget-view+json": {
       "model_id": "7a877eb3dc7245179181b49818a04b80",
       "version_major": 2,
       "version_minor": 0
      },
      "text/plain": [
       "  0%|          | 0/125 [00:00<?, ?it/s]"
      ]
     },
     "metadata": {},
     "output_type": "display_data"
    },
    {
     "name": "stderr",
     "output_type": "stream",
     "text": [
      "Saving model checkpoint to /mnt/hdd0/Kaggle/arc24/models/20240724_first_trainings/01_phi3_debug/tmp-checkpoint-4500\n",
      "/home/gbarbadillo/miniconda3/envs/prometeo/lib/python3.10/site-packages/peft/utils/save_and_load.py:148: UserWarning: Could not find a config file in /home/gbarbadillo/data/Phi-3-mini-128k-instruct - will assume that the vocabulary was not modified.\n",
      "  warnings.warn(\n",
      "tokenizer config file saved in /mnt/hdd0/Kaggle/arc24/models/20240724_first_trainings/01_phi3_debug/tmp-checkpoint-4500/tokenizer_config.json\n",
      "Special tokens file saved in /mnt/hdd0/Kaggle/arc24/models/20240724_first_trainings/01_phi3_debug/tmp-checkpoint-4500/special_tokens_map.json\n"
     ]
    },
    {
     "name": "stdout",
     "output_type": "stream",
     "text": [
      "{'eval_loss': 0.16720892488956451, 'eval_runtime': 61.4902, 'eval_samples_per_second': 16.263, 'eval_steps_per_second': 2.033, 'epoch': 8.01}\n"
     ]
    },
    {
     "name": "stderr",
     "output_type": "stream",
     "text": [
      "***** Running Evaluation *****\n",
      "  Num examples = 1000\n",
      "  Batch size = 8\n"
     ]
    },
    {
     "name": "stdout",
     "output_type": "stream",
     "text": [
      "{'loss': 0.1528, 'grad_norm': 2.921875, 'learning_rate': 7.5985663082437275e-06, 'epoch': 8.1}\n"
     ]
    },
    {
     "data": {
      "application/vnd.jupyter.widget-view+json": {
       "model_id": "e04fa8917beb4b17b602729febce6cd6",
       "version_major": 2,
       "version_minor": 0
      },
      "text/plain": [
       "  0%|          | 0/125 [00:00<?, ?it/s]"
      ]
     },
     "metadata": {},
     "output_type": "display_data"
    },
    {
     "name": "stderr",
     "output_type": "stream",
     "text": [
      "Saving model checkpoint to /mnt/hdd0/Kaggle/arc24/models/20240724_first_trainings/01_phi3_debug/tmp-checkpoint-4550\n",
      "/home/gbarbadillo/miniconda3/envs/prometeo/lib/python3.10/site-packages/peft/utils/save_and_load.py:148: UserWarning: Could not find a config file in /home/gbarbadillo/data/Phi-3-mini-128k-instruct - will assume that the vocabulary was not modified.\n",
      "  warnings.warn(\n",
      "tokenizer config file saved in /mnt/hdd0/Kaggle/arc24/models/20240724_first_trainings/01_phi3_debug/tmp-checkpoint-4550/tokenizer_config.json\n",
      "Special tokens file saved in /mnt/hdd0/Kaggle/arc24/models/20240724_first_trainings/01_phi3_debug/tmp-checkpoint-4550/special_tokens_map.json\n"
     ]
    },
    {
     "name": "stdout",
     "output_type": "stream",
     "text": [
      "{'eval_loss': 0.1674610674381256, 'eval_runtime': 61.3502, 'eval_samples_per_second': 16.3, 'eval_steps_per_second': 2.037, 'epoch': 8.1}\n"
     ]
    },
    {
     "name": "stderr",
     "output_type": "stream",
     "text": [
      "***** Running Evaluation *****\n",
      "  Num examples = 1000\n",
      "  Batch size = 8\n"
     ]
    },
    {
     "name": "stdout",
     "output_type": "stream",
     "text": [
      "{'loss': 0.1623, 'grad_norm': 3.203125, 'learning_rate': 7.240143369175628e-06, 'epoch': 8.19}\n"
     ]
    },
    {
     "data": {
      "application/vnd.jupyter.widget-view+json": {
       "model_id": "9d42fbea1003447da180cd09da000775",
       "version_major": 2,
       "version_minor": 0
      },
      "text/plain": [
       "  0%|          | 0/125 [00:00<?, ?it/s]"
      ]
     },
     "metadata": {},
     "output_type": "display_data"
    },
    {
     "name": "stderr",
     "output_type": "stream",
     "text": [
      "Saving model checkpoint to /mnt/hdd0/Kaggle/arc24/models/20240724_first_trainings/01_phi3_debug/tmp-checkpoint-4600\n",
      "/home/gbarbadillo/miniconda3/envs/prometeo/lib/python3.10/site-packages/peft/utils/save_and_load.py:148: UserWarning: Could not find a config file in /home/gbarbadillo/data/Phi-3-mini-128k-instruct - will assume that the vocabulary was not modified.\n",
      "  warnings.warn(\n",
      "tokenizer config file saved in /mnt/hdd0/Kaggle/arc24/models/20240724_first_trainings/01_phi3_debug/tmp-checkpoint-4600/tokenizer_config.json\n",
      "Special tokens file saved in /mnt/hdd0/Kaggle/arc24/models/20240724_first_trainings/01_phi3_debug/tmp-checkpoint-4600/special_tokens_map.json\n"
     ]
    },
    {
     "name": "stdout",
     "output_type": "stream",
     "text": [
      "{'eval_loss': 0.16982004046440125, 'eval_runtime': 61.4002, 'eval_samples_per_second': 16.287, 'eval_steps_per_second': 2.036, 'epoch': 8.19}\n"
     ]
    },
    {
     "name": "stderr",
     "output_type": "stream",
     "text": [
      "***** Running Evaluation *****\n",
      "  Num examples = 1000\n",
      "  Batch size = 8\n"
     ]
    },
    {
     "name": "stdout",
     "output_type": "stream",
     "text": [
      "{'loss': 0.1642, 'grad_norm': 6.03125, 'learning_rate': 6.881720430107528e-06, 'epoch': 8.28}\n"
     ]
    },
    {
     "data": {
      "application/vnd.jupyter.widget-view+json": {
       "model_id": "1424a01105d84ff79388105a70659abb",
       "version_major": 2,
       "version_minor": 0
      },
      "text/plain": [
       "  0%|          | 0/125 [00:00<?, ?it/s]"
      ]
     },
     "metadata": {},
     "output_type": "display_data"
    },
    {
     "name": "stderr",
     "output_type": "stream",
     "text": [
      "Saving model checkpoint to /mnt/hdd0/Kaggle/arc24/models/20240724_first_trainings/01_phi3_debug/tmp-checkpoint-4650\n",
      "/home/gbarbadillo/miniconda3/envs/prometeo/lib/python3.10/site-packages/peft/utils/save_and_load.py:148: UserWarning: Could not find a config file in /home/gbarbadillo/data/Phi-3-mini-128k-instruct - will assume that the vocabulary was not modified.\n",
      "  warnings.warn(\n",
      "tokenizer config file saved in /mnt/hdd0/Kaggle/arc24/models/20240724_first_trainings/01_phi3_debug/tmp-checkpoint-4650/tokenizer_config.json\n",
      "Special tokens file saved in /mnt/hdd0/Kaggle/arc24/models/20240724_first_trainings/01_phi3_debug/tmp-checkpoint-4650/special_tokens_map.json\n"
     ]
    },
    {
     "name": "stdout",
     "output_type": "stream",
     "text": [
      "{'eval_loss': 0.1689913123846054, 'eval_runtime': 61.3515, 'eval_samples_per_second': 16.3, 'eval_steps_per_second': 2.037, 'epoch': 8.28}\n"
     ]
    },
    {
     "name": "stderr",
     "output_type": "stream",
     "text": [
      "***** Running Evaluation *****\n",
      "  Num examples = 1000\n",
      "  Batch size = 8\n"
     ]
    },
    {
     "name": "stdout",
     "output_type": "stream",
     "text": [
      "{'loss': 0.1594, 'grad_norm': 7.28125, 'learning_rate': 6.523297491039428e-06, 'epoch': 8.37}\n"
     ]
    },
    {
     "data": {
      "application/vnd.jupyter.widget-view+json": {
       "model_id": "a7880ff1a7d94142963ddec390dc0b1b",
       "version_major": 2,
       "version_minor": 0
      },
      "text/plain": [
       "  0%|          | 0/125 [00:00<?, ?it/s]"
      ]
     },
     "metadata": {},
     "output_type": "display_data"
    },
    {
     "name": "stderr",
     "output_type": "stream",
     "text": [
      "Saving model checkpoint to /mnt/hdd0/Kaggle/arc24/models/20240724_first_trainings/01_phi3_debug/tmp-checkpoint-4700\n",
      "/home/gbarbadillo/miniconda3/envs/prometeo/lib/python3.10/site-packages/peft/utils/save_and_load.py:148: UserWarning: Could not find a config file in /home/gbarbadillo/data/Phi-3-mini-128k-instruct - will assume that the vocabulary was not modified.\n",
      "  warnings.warn(\n",
      "tokenizer config file saved in /mnt/hdd0/Kaggle/arc24/models/20240724_first_trainings/01_phi3_debug/tmp-checkpoint-4700/tokenizer_config.json\n",
      "Special tokens file saved in /mnt/hdd0/Kaggle/arc24/models/20240724_first_trainings/01_phi3_debug/tmp-checkpoint-4700/special_tokens_map.json\n"
     ]
    },
    {
     "name": "stdout",
     "output_type": "stream",
     "text": [
      "{'eval_loss': 0.16773614287376404, 'eval_runtime': 61.399, 'eval_samples_per_second': 16.287, 'eval_steps_per_second': 2.036, 'epoch': 8.37}\n"
     ]
    },
    {
     "name": "stderr",
     "output_type": "stream",
     "text": [
      "***** Running Evaluation *****\n",
      "  Num examples = 1000\n",
      "  Batch size = 8\n"
     ]
    },
    {
     "name": "stdout",
     "output_type": "stream",
     "text": [
      "{'loss': 0.1614, 'grad_norm': 4.9375, 'learning_rate': 6.164874551971327e-06, 'epoch': 8.46}\n"
     ]
    },
    {
     "data": {
      "application/vnd.jupyter.widget-view+json": {
       "model_id": "1622fbe7459b47f6887f95caae1999d6",
       "version_major": 2,
       "version_minor": 0
      },
      "text/plain": [
       "  0%|          | 0/125 [00:00<?, ?it/s]"
      ]
     },
     "metadata": {},
     "output_type": "display_data"
    },
    {
     "name": "stderr",
     "output_type": "stream",
     "text": [
      "Saving model checkpoint to /mnt/hdd0/Kaggle/arc24/models/20240724_first_trainings/01_phi3_debug/tmp-checkpoint-4750\n",
      "/home/gbarbadillo/miniconda3/envs/prometeo/lib/python3.10/site-packages/peft/utils/save_and_load.py:148: UserWarning: Could not find a config file in /home/gbarbadillo/data/Phi-3-mini-128k-instruct - will assume that the vocabulary was not modified.\n",
      "  warnings.warn(\n",
      "tokenizer config file saved in /mnt/hdd0/Kaggle/arc24/models/20240724_first_trainings/01_phi3_debug/tmp-checkpoint-4750/tokenizer_config.json\n",
      "Special tokens file saved in /mnt/hdd0/Kaggle/arc24/models/20240724_first_trainings/01_phi3_debug/tmp-checkpoint-4750/special_tokens_map.json\n"
     ]
    },
    {
     "name": "stdout",
     "output_type": "stream",
     "text": [
      "{'eval_loss': 0.16697391867637634, 'eval_runtime': 61.351, 'eval_samples_per_second': 16.3, 'eval_steps_per_second': 2.037, 'epoch': 8.46}\n"
     ]
    },
    {
     "name": "stderr",
     "output_type": "stream",
     "text": [
      "***** Running Evaluation *****\n",
      "  Num examples = 1000\n",
      "  Batch size = 8\n"
     ]
    },
    {
     "name": "stdout",
     "output_type": "stream",
     "text": [
      "{'loss': 0.1608, 'grad_norm': 2.953125, 'learning_rate': 5.806451612903226e-06, 'epoch': 8.55}\n"
     ]
    },
    {
     "data": {
      "application/vnd.jupyter.widget-view+json": {
       "model_id": "217938a9d6c84a50b36c5c294ead2f0c",
       "version_major": 2,
       "version_minor": 0
      },
      "text/plain": [
       "  0%|          | 0/125 [00:00<?, ?it/s]"
      ]
     },
     "metadata": {},
     "output_type": "display_data"
    },
    {
     "name": "stderr",
     "output_type": "stream",
     "text": [
      "Saving model checkpoint to /mnt/hdd0/Kaggle/arc24/models/20240724_first_trainings/01_phi3_debug/tmp-checkpoint-4800\n",
      "/home/gbarbadillo/miniconda3/envs/prometeo/lib/python3.10/site-packages/peft/utils/save_and_load.py:148: UserWarning: Could not find a config file in /home/gbarbadillo/data/Phi-3-mini-128k-instruct - will assume that the vocabulary was not modified.\n",
      "  warnings.warn(\n",
      "tokenizer config file saved in /mnt/hdd0/Kaggle/arc24/models/20240724_first_trainings/01_phi3_debug/tmp-checkpoint-4800/tokenizer_config.json\n",
      "Special tokens file saved in /mnt/hdd0/Kaggle/arc24/models/20240724_first_trainings/01_phi3_debug/tmp-checkpoint-4800/special_tokens_map.json\n"
     ]
    },
    {
     "name": "stdout",
     "output_type": "stream",
     "text": [
      "{'eval_loss': 0.16715042293071747, 'eval_runtime': 61.4265, 'eval_samples_per_second': 16.28, 'eval_steps_per_second': 2.035, 'epoch': 8.55}\n"
     ]
    },
    {
     "name": "stderr",
     "output_type": "stream",
     "text": [
      "***** Running Evaluation *****\n",
      "  Num examples = 1000\n",
      "  Batch size = 8\n"
     ]
    },
    {
     "name": "stdout",
     "output_type": "stream",
     "text": [
      "{'loss': 0.1594, 'grad_norm': 4.3125, 'learning_rate': 5.4480286738351265e-06, 'epoch': 8.64}\n"
     ]
    },
    {
     "data": {
      "application/vnd.jupyter.widget-view+json": {
       "model_id": "58a64f02b6b04f64a57f0580b4f68666",
       "version_major": 2,
       "version_minor": 0
      },
      "text/plain": [
       "  0%|          | 0/125 [00:00<?, ?it/s]"
      ]
     },
     "metadata": {},
     "output_type": "display_data"
    },
    {
     "name": "stderr",
     "output_type": "stream",
     "text": [
      "Saving model checkpoint to /mnt/hdd0/Kaggle/arc24/models/20240724_first_trainings/01_phi3_debug/tmp-checkpoint-4850\n",
      "/home/gbarbadillo/miniconda3/envs/prometeo/lib/python3.10/site-packages/peft/utils/save_and_load.py:148: UserWarning: Could not find a config file in /home/gbarbadillo/data/Phi-3-mini-128k-instruct - will assume that the vocabulary was not modified.\n",
      "  warnings.warn(\n",
      "tokenizer config file saved in /mnt/hdd0/Kaggle/arc24/models/20240724_first_trainings/01_phi3_debug/tmp-checkpoint-4850/tokenizer_config.json\n",
      "Special tokens file saved in /mnt/hdd0/Kaggle/arc24/models/20240724_first_trainings/01_phi3_debug/tmp-checkpoint-4850/special_tokens_map.json\n"
     ]
    },
    {
     "name": "stdout",
     "output_type": "stream",
     "text": [
      "{'eval_loss': 0.16796472668647766, 'eval_runtime': 61.4217, 'eval_samples_per_second': 16.281, 'eval_steps_per_second': 2.035, 'epoch': 8.64}\n"
     ]
    },
    {
     "name": "stderr",
     "output_type": "stream",
     "text": [
      "***** Running Evaluation *****\n",
      "  Num examples = 1000\n",
      "  Batch size = 8\n"
     ]
    },
    {
     "name": "stdout",
     "output_type": "stream",
     "text": [
      "{'loss': 0.1625, 'grad_norm': 4.71875, 'learning_rate': 5.089605734767026e-06, 'epoch': 8.73}\n"
     ]
    },
    {
     "data": {
      "application/vnd.jupyter.widget-view+json": {
       "model_id": "4a5fc75b208f44889bea53be4e38c234",
       "version_major": 2,
       "version_minor": 0
      },
      "text/plain": [
       "  0%|          | 0/125 [00:00<?, ?it/s]"
      ]
     },
     "metadata": {},
     "output_type": "display_data"
    },
    {
     "name": "stderr",
     "output_type": "stream",
     "text": [
      "Saving model checkpoint to /mnt/hdd0/Kaggle/arc24/models/20240724_first_trainings/01_phi3_debug/tmp-checkpoint-4900\n",
      "/home/gbarbadillo/miniconda3/envs/prometeo/lib/python3.10/site-packages/peft/utils/save_and_load.py:148: UserWarning: Could not find a config file in /home/gbarbadillo/data/Phi-3-mini-128k-instruct - will assume that the vocabulary was not modified.\n",
      "  warnings.warn(\n",
      "tokenizer config file saved in /mnt/hdd0/Kaggle/arc24/models/20240724_first_trainings/01_phi3_debug/tmp-checkpoint-4900/tokenizer_config.json\n",
      "Special tokens file saved in /mnt/hdd0/Kaggle/arc24/models/20240724_first_trainings/01_phi3_debug/tmp-checkpoint-4900/special_tokens_map.json\n"
     ]
    },
    {
     "name": "stdout",
     "output_type": "stream",
     "text": [
      "{'eval_loss': 0.16886840760707855, 'eval_runtime': 61.4459, 'eval_samples_per_second': 16.274, 'eval_steps_per_second': 2.034, 'epoch': 8.73}\n"
     ]
    },
    {
     "name": "stderr",
     "output_type": "stream",
     "text": [
      "***** Running Evaluation *****\n",
      "  Num examples = 1000\n",
      "  Batch size = 8\n"
     ]
    },
    {
     "name": "stdout",
     "output_type": "stream",
     "text": [
      "{'loss': 0.1642, 'grad_norm': 6.65625, 'learning_rate': 4.731182795698925e-06, 'epoch': 8.82}\n"
     ]
    },
    {
     "data": {
      "application/vnd.jupyter.widget-view+json": {
       "model_id": "b60e85478f20432a8fd98177345aedd0",
       "version_major": 2,
       "version_minor": 0
      },
      "text/plain": [
       "  0%|          | 0/125 [00:00<?, ?it/s]"
      ]
     },
     "metadata": {},
     "output_type": "display_data"
    },
    {
     "name": "stderr",
     "output_type": "stream",
     "text": [
      "Saving model checkpoint to /mnt/hdd0/Kaggle/arc24/models/20240724_first_trainings/01_phi3_debug/tmp-checkpoint-4950\n",
      "/home/gbarbadillo/miniconda3/envs/prometeo/lib/python3.10/site-packages/peft/utils/save_and_load.py:148: UserWarning: Could not find a config file in /home/gbarbadillo/data/Phi-3-mini-128k-instruct - will assume that the vocabulary was not modified.\n",
      "  warnings.warn(\n",
      "tokenizer config file saved in /mnt/hdd0/Kaggle/arc24/models/20240724_first_trainings/01_phi3_debug/tmp-checkpoint-4950/tokenizer_config.json\n",
      "Special tokens file saved in /mnt/hdd0/Kaggle/arc24/models/20240724_first_trainings/01_phi3_debug/tmp-checkpoint-4950/special_tokens_map.json\n"
     ]
    },
    {
     "name": "stdout",
     "output_type": "stream",
     "text": [
      "{'eval_loss': 0.1670956164598465, 'eval_runtime': 61.422, 'eval_samples_per_second': 16.281, 'eval_steps_per_second': 2.035, 'epoch': 8.82}\n"
     ]
    },
    {
     "name": "stderr",
     "output_type": "stream",
     "text": [
      "***** Running Evaluation *****\n",
      "  Num examples = 1000\n",
      "  Batch size = 8\n"
     ]
    },
    {
     "name": "stdout",
     "output_type": "stream",
     "text": [
      "{'loss': 0.1626, 'grad_norm': 4.1875, 'learning_rate': 4.372759856630825e-06, 'epoch': 8.9}\n"
     ]
    },
    {
     "data": {
      "application/vnd.jupyter.widget-view+json": {
       "model_id": "03a13236156e4dd7b5550545faa4a644",
       "version_major": 2,
       "version_minor": 0
      },
      "text/plain": [
       "  0%|          | 0/125 [00:00<?, ?it/s]"
      ]
     },
     "metadata": {},
     "output_type": "display_data"
    },
    {
     "name": "stderr",
     "output_type": "stream",
     "text": [
      "Saving model checkpoint to /mnt/hdd0/Kaggle/arc24/models/20240724_first_trainings/01_phi3_debug/tmp-checkpoint-5000\n",
      "/home/gbarbadillo/miniconda3/envs/prometeo/lib/python3.10/site-packages/peft/utils/save_and_load.py:148: UserWarning: Could not find a config file in /home/gbarbadillo/data/Phi-3-mini-128k-instruct - will assume that the vocabulary was not modified.\n",
      "  warnings.warn(\n",
      "tokenizer config file saved in /mnt/hdd0/Kaggle/arc24/models/20240724_first_trainings/01_phi3_debug/tmp-checkpoint-5000/tokenizer_config.json\n",
      "Special tokens file saved in /mnt/hdd0/Kaggle/arc24/models/20240724_first_trainings/01_phi3_debug/tmp-checkpoint-5000/special_tokens_map.json\n"
     ]
    },
    {
     "name": "stdout",
     "output_type": "stream",
     "text": [
      "{'eval_loss': 0.16685642302036285, 'eval_runtime': 61.4602, 'eval_samples_per_second': 16.271, 'eval_steps_per_second': 2.034, 'epoch': 8.9}\n"
     ]
    },
    {
     "name": "stderr",
     "output_type": "stream",
     "text": [
      "***** Running Evaluation *****\n",
      "  Num examples = 1000\n",
      "  Batch size = 8\n"
     ]
    },
    {
     "name": "stdout",
     "output_type": "stream",
     "text": [
      "{'loss': 0.1562, 'grad_norm': 2.734375, 'learning_rate': 4.0143369175627245e-06, 'epoch': 8.99}\n"
     ]
    },
    {
     "data": {
      "application/vnd.jupyter.widget-view+json": {
       "model_id": "4e685dadd4834c8996f92db2b2a985aa",
       "version_major": 2,
       "version_minor": 0
      },
      "text/plain": [
       "  0%|          | 0/125 [00:00<?, ?it/s]"
      ]
     },
     "metadata": {},
     "output_type": "display_data"
    },
    {
     "name": "stderr",
     "output_type": "stream",
     "text": [
      "Saving model checkpoint to /mnt/hdd0/Kaggle/arc24/models/20240724_first_trainings/01_phi3_debug/tmp-checkpoint-5050\n",
      "/home/gbarbadillo/miniconda3/envs/prometeo/lib/python3.10/site-packages/peft/utils/save_and_load.py:148: UserWarning: Could not find a config file in /home/gbarbadillo/data/Phi-3-mini-128k-instruct - will assume that the vocabulary was not modified.\n",
      "  warnings.warn(\n",
      "tokenizer config file saved in /mnt/hdd0/Kaggle/arc24/models/20240724_first_trainings/01_phi3_debug/tmp-checkpoint-5050/tokenizer_config.json\n",
      "Special tokens file saved in /mnt/hdd0/Kaggle/arc24/models/20240724_first_trainings/01_phi3_debug/tmp-checkpoint-5050/special_tokens_map.json\n"
     ]
    },
    {
     "name": "stdout",
     "output_type": "stream",
     "text": [
      "{'eval_loss': 0.16666045784950256, 'eval_runtime': 61.3797, 'eval_samples_per_second': 16.292, 'eval_steps_per_second': 2.037, 'epoch': 8.99}\n"
     ]
    },
    {
     "name": "stderr",
     "output_type": "stream",
     "text": [
      "***** Running Evaluation *****\n",
      "  Num examples = 1000\n",
      "  Batch size = 8\n"
     ]
    },
    {
     "name": "stdout",
     "output_type": "stream",
     "text": [
      "{'loss': 0.1563, 'grad_norm': 4.125, 'learning_rate': 3.655913978494624e-06, 'epoch': 9.08}\n"
     ]
    },
    {
     "data": {
      "application/vnd.jupyter.widget-view+json": {
       "model_id": "bea27de2cb3d4e3d912c415448a753a6",
       "version_major": 2,
       "version_minor": 0
      },
      "text/plain": [
       "  0%|          | 0/125 [00:00<?, ?it/s]"
      ]
     },
     "metadata": {},
     "output_type": "display_data"
    },
    {
     "name": "stderr",
     "output_type": "stream",
     "text": [
      "Saving model checkpoint to /mnt/hdd0/Kaggle/arc24/models/20240724_first_trainings/01_phi3_debug/tmp-checkpoint-5100\n",
      "/home/gbarbadillo/miniconda3/envs/prometeo/lib/python3.10/site-packages/peft/utils/save_and_load.py:148: UserWarning: Could not find a config file in /home/gbarbadillo/data/Phi-3-mini-128k-instruct - will assume that the vocabulary was not modified.\n",
      "  warnings.warn(\n",
      "tokenizer config file saved in /mnt/hdd0/Kaggle/arc24/models/20240724_first_trainings/01_phi3_debug/tmp-checkpoint-5100/tokenizer_config.json\n",
      "Special tokens file saved in /mnt/hdd0/Kaggle/arc24/models/20240724_first_trainings/01_phi3_debug/tmp-checkpoint-5100/special_tokens_map.json\n"
     ]
    },
    {
     "name": "stdout",
     "output_type": "stream",
     "text": [
      "{'eval_loss': 0.1666136234998703, 'eval_runtime': 61.3522, 'eval_samples_per_second': 16.299, 'eval_steps_per_second': 2.037, 'epoch': 9.08}\n"
     ]
    },
    {
     "name": "stderr",
     "output_type": "stream",
     "text": [
      "***** Running Evaluation *****\n",
      "  Num examples = 1000\n",
      "  Batch size = 8\n"
     ]
    },
    {
     "name": "stdout",
     "output_type": "stream",
     "text": [
      "{'loss': 0.1652, 'grad_norm': 5.90625, 'learning_rate': 3.2974910394265234e-06, 'epoch': 9.17}\n"
     ]
    },
    {
     "data": {
      "application/vnd.jupyter.widget-view+json": {
       "model_id": "549b6c98e7af4fe8952c2900a2c79e8f",
       "version_major": 2,
       "version_minor": 0
      },
      "text/plain": [
       "  0%|          | 0/125 [00:00<?, ?it/s]"
      ]
     },
     "metadata": {},
     "output_type": "display_data"
    },
    {
     "name": "stderr",
     "output_type": "stream",
     "text": [
      "Saving model checkpoint to /mnt/hdd0/Kaggle/arc24/models/20240724_first_trainings/01_phi3_debug/tmp-checkpoint-5150\n",
      "/home/gbarbadillo/miniconda3/envs/prometeo/lib/python3.10/site-packages/peft/utils/save_and_load.py:148: UserWarning: Could not find a config file in /home/gbarbadillo/data/Phi-3-mini-128k-instruct - will assume that the vocabulary was not modified.\n",
      "  warnings.warn(\n",
      "tokenizer config file saved in /mnt/hdd0/Kaggle/arc24/models/20240724_first_trainings/01_phi3_debug/tmp-checkpoint-5150/tokenizer_config.json\n",
      "Special tokens file saved in /mnt/hdd0/Kaggle/arc24/models/20240724_first_trainings/01_phi3_debug/tmp-checkpoint-5150/special_tokens_map.json\n"
     ]
    },
    {
     "name": "stdout",
     "output_type": "stream",
     "text": [
      "{'eval_loss': 0.16654200851917267, 'eval_runtime': 61.3378, 'eval_samples_per_second': 16.303, 'eval_steps_per_second': 2.038, 'epoch': 9.17}\n"
     ]
    },
    {
     "name": "stderr",
     "output_type": "stream",
     "text": [
      "***** Running Evaluation *****\n",
      "  Num examples = 1000\n",
      "  Batch size = 8\n"
     ]
    },
    {
     "name": "stdout",
     "output_type": "stream",
     "text": [
      "{'loss': 0.1583, 'grad_norm': 2.828125, 'learning_rate': 2.939068100358423e-06, 'epoch': 9.26}\n"
     ]
    },
    {
     "data": {
      "application/vnd.jupyter.widget-view+json": {
       "model_id": "e9e99f5dfebb41b0ad522c9b6b7490a8",
       "version_major": 2,
       "version_minor": 0
      },
      "text/plain": [
       "  0%|          | 0/125 [00:00<?, ?it/s]"
      ]
     },
     "metadata": {},
     "output_type": "display_data"
    },
    {
     "name": "stderr",
     "output_type": "stream",
     "text": [
      "Saving model checkpoint to /mnt/hdd0/Kaggle/arc24/models/20240724_first_trainings/01_phi3_debug/tmp-checkpoint-5200\n",
      "/home/gbarbadillo/miniconda3/envs/prometeo/lib/python3.10/site-packages/peft/utils/save_and_load.py:148: UserWarning: Could not find a config file in /home/gbarbadillo/data/Phi-3-mini-128k-instruct - will assume that the vocabulary was not modified.\n",
      "  warnings.warn(\n",
      "tokenizer config file saved in /mnt/hdd0/Kaggle/arc24/models/20240724_first_trainings/01_phi3_debug/tmp-checkpoint-5200/tokenizer_config.json\n",
      "Special tokens file saved in /mnt/hdd0/Kaggle/arc24/models/20240724_first_trainings/01_phi3_debug/tmp-checkpoint-5200/special_tokens_map.json\n"
     ]
    },
    {
     "name": "stdout",
     "output_type": "stream",
     "text": [
      "{'eval_loss': 0.166574627161026, 'eval_runtime': 61.3489, 'eval_samples_per_second': 16.3, 'eval_steps_per_second': 2.038, 'epoch': 9.26}\n"
     ]
    },
    {
     "name": "stderr",
     "output_type": "stream",
     "text": [
      "***** Running Evaluation *****\n",
      "  Num examples = 1000\n",
      "  Batch size = 8\n"
     ]
    },
    {
     "name": "stdout",
     "output_type": "stream",
     "text": [
      "{'loss': 0.1624, 'grad_norm': 2.890625, 'learning_rate': 2.580645161290323e-06, 'epoch': 9.35}\n"
     ]
    },
    {
     "data": {
      "application/vnd.jupyter.widget-view+json": {
       "model_id": "5a5276d801a549fa96be51cd2a7bfb5a",
       "version_major": 2,
       "version_minor": 0
      },
      "text/plain": [
       "  0%|          | 0/125 [00:00<?, ?it/s]"
      ]
     },
     "metadata": {},
     "output_type": "display_data"
    },
    {
     "name": "stderr",
     "output_type": "stream",
     "text": [
      "Saving model checkpoint to /mnt/hdd0/Kaggle/arc24/models/20240724_first_trainings/01_phi3_debug/tmp-checkpoint-5250\n",
      "/home/gbarbadillo/miniconda3/envs/prometeo/lib/python3.10/site-packages/peft/utils/save_and_load.py:148: UserWarning: Could not find a config file in /home/gbarbadillo/data/Phi-3-mini-128k-instruct - will assume that the vocabulary was not modified.\n",
      "  warnings.warn(\n",
      "tokenizer config file saved in /mnt/hdd0/Kaggle/arc24/models/20240724_first_trainings/01_phi3_debug/tmp-checkpoint-5250/tokenizer_config.json\n",
      "Special tokens file saved in /mnt/hdd0/Kaggle/arc24/models/20240724_first_trainings/01_phi3_debug/tmp-checkpoint-5250/special_tokens_map.json\n"
     ]
    },
    {
     "name": "stdout",
     "output_type": "stream",
     "text": [
      "{'eval_loss': 0.16615374386310577, 'eval_runtime': 63.6822, 'eval_samples_per_second': 15.703, 'eval_steps_per_second': 1.963, 'epoch': 9.35}\n"
     ]
    },
    {
     "name": "stderr",
     "output_type": "stream",
     "text": [
      "***** Running Evaluation *****\n",
      "  Num examples = 1000\n",
      "  Batch size = 8\n"
     ]
    },
    {
     "name": "stdout",
     "output_type": "stream",
     "text": [
      "{'loss': 0.1589, 'grad_norm': 3.984375, 'learning_rate': 2.222222222222222e-06, 'epoch': 9.44}\n"
     ]
    },
    {
     "data": {
      "application/vnd.jupyter.widget-view+json": {
       "model_id": "9042e44fda23420dad577a88015dc574",
       "version_major": 2,
       "version_minor": 0
      },
      "text/plain": [
       "  0%|          | 0/125 [00:00<?, ?it/s]"
      ]
     },
     "metadata": {},
     "output_type": "display_data"
    },
    {
     "name": "stderr",
     "output_type": "stream",
     "text": [
      "Saving model checkpoint to /mnt/hdd0/Kaggle/arc24/models/20240724_first_trainings/01_phi3_debug/tmp-checkpoint-5300\n",
      "/home/gbarbadillo/miniconda3/envs/prometeo/lib/python3.10/site-packages/peft/utils/save_and_load.py:148: UserWarning: Could not find a config file in /home/gbarbadillo/data/Phi-3-mini-128k-instruct - will assume that the vocabulary was not modified.\n",
      "  warnings.warn(\n",
      "tokenizer config file saved in /mnt/hdd0/Kaggle/arc24/models/20240724_first_trainings/01_phi3_debug/tmp-checkpoint-5300/tokenizer_config.json\n",
      "Special tokens file saved in /mnt/hdd0/Kaggle/arc24/models/20240724_first_trainings/01_phi3_debug/tmp-checkpoint-5300/special_tokens_map.json\n"
     ]
    },
    {
     "name": "stdout",
     "output_type": "stream",
     "text": [
      "{'eval_loss': 0.16670535504817963, 'eval_runtime': 61.4495, 'eval_samples_per_second': 16.274, 'eval_steps_per_second': 2.034, 'epoch': 9.44}\n"
     ]
    },
    {
     "name": "stderr",
     "output_type": "stream",
     "text": [
      "***** Running Evaluation *****\n",
      "  Num examples = 1000\n",
      "  Batch size = 8\n"
     ]
    },
    {
     "name": "stdout",
     "output_type": "stream",
     "text": [
      "{'loss': 0.1633, 'grad_norm': 2.703125, 'learning_rate': 1.8637992831541222e-06, 'epoch': 9.53}\n"
     ]
    },
    {
     "data": {
      "application/vnd.jupyter.widget-view+json": {
       "model_id": "a600e432df1d4d20a1ff332106d3b99f",
       "version_major": 2,
       "version_minor": 0
      },
      "text/plain": [
       "  0%|          | 0/125 [00:00<?, ?it/s]"
      ]
     },
     "metadata": {},
     "output_type": "display_data"
    },
    {
     "name": "stderr",
     "output_type": "stream",
     "text": [
      "Saving model checkpoint to /mnt/hdd0/Kaggle/arc24/models/20240724_first_trainings/01_phi3_debug/tmp-checkpoint-5350\n",
      "/home/gbarbadillo/miniconda3/envs/prometeo/lib/python3.10/site-packages/peft/utils/save_and_load.py:148: UserWarning: Could not find a config file in /home/gbarbadillo/data/Phi-3-mini-128k-instruct - will assume that the vocabulary was not modified.\n",
      "  warnings.warn(\n",
      "tokenizer config file saved in /mnt/hdd0/Kaggle/arc24/models/20240724_first_trainings/01_phi3_debug/tmp-checkpoint-5350/tokenizer_config.json\n",
      "Special tokens file saved in /mnt/hdd0/Kaggle/arc24/models/20240724_first_trainings/01_phi3_debug/tmp-checkpoint-5350/special_tokens_map.json\n"
     ]
    },
    {
     "name": "stdout",
     "output_type": "stream",
     "text": [
      "{'eval_loss': 0.1667366623878479, 'eval_runtime': 61.4074, 'eval_samples_per_second': 16.285, 'eval_steps_per_second': 2.036, 'epoch': 9.53}\n"
     ]
    },
    {
     "name": "stderr",
     "output_type": "stream",
     "text": [
      "***** Running Evaluation *****\n",
      "  Num examples = 1000\n",
      "  Batch size = 8\n"
     ]
    },
    {
     "name": "stdout",
     "output_type": "stream",
     "text": [
      "{'loss': 0.1496, 'grad_norm': 2.65625, 'learning_rate': 1.5053763440860217e-06, 'epoch': 9.62}\n"
     ]
    },
    {
     "data": {
      "application/vnd.jupyter.widget-view+json": {
       "model_id": "d26cdbefef2641278e07b93b12ead389",
       "version_major": 2,
       "version_minor": 0
      },
      "text/plain": [
       "  0%|          | 0/125 [00:00<?, ?it/s]"
      ]
     },
     "metadata": {},
     "output_type": "display_data"
    },
    {
     "name": "stderr",
     "output_type": "stream",
     "text": [
      "Saving model checkpoint to /mnt/hdd0/Kaggle/arc24/models/20240724_first_trainings/01_phi3_debug/tmp-checkpoint-5400\n",
      "/home/gbarbadillo/miniconda3/envs/prometeo/lib/python3.10/site-packages/peft/utils/save_and_load.py:148: UserWarning: Could not find a config file in /home/gbarbadillo/data/Phi-3-mini-128k-instruct - will assume that the vocabulary was not modified.\n",
      "  warnings.warn(\n",
      "tokenizer config file saved in /mnt/hdd0/Kaggle/arc24/models/20240724_first_trainings/01_phi3_debug/tmp-checkpoint-5400/tokenizer_config.json\n",
      "Special tokens file saved in /mnt/hdd0/Kaggle/arc24/models/20240724_first_trainings/01_phi3_debug/tmp-checkpoint-5400/special_tokens_map.json\n"
     ]
    },
    {
     "name": "stdout",
     "output_type": "stream",
     "text": [
      "{'eval_loss': 0.16616171598434448, 'eval_runtime': 61.4566, 'eval_samples_per_second': 16.272, 'eval_steps_per_second': 2.034, 'epoch': 9.62}\n"
     ]
    },
    {
     "name": "stderr",
     "output_type": "stream",
     "text": [
      "***** Running Evaluation *****\n",
      "  Num examples = 1000\n",
      "  Batch size = 8\n"
     ]
    },
    {
     "name": "stdout",
     "output_type": "stream",
     "text": [
      "{'loss': 0.1559, 'grad_norm': 3.6875, 'learning_rate': 1.1469534050179212e-06, 'epoch': 9.71}\n"
     ]
    },
    {
     "data": {
      "application/vnd.jupyter.widget-view+json": {
       "model_id": "074b4a867a1c4f9e8edc312caf370337",
       "version_major": 2,
       "version_minor": 0
      },
      "text/plain": [
       "  0%|          | 0/125 [00:00<?, ?it/s]"
      ]
     },
     "metadata": {},
     "output_type": "display_data"
    },
    {
     "name": "stderr",
     "output_type": "stream",
     "text": [
      "Saving model checkpoint to /mnt/hdd0/Kaggle/arc24/models/20240724_first_trainings/01_phi3_debug/tmp-checkpoint-5450\n",
      "/home/gbarbadillo/miniconda3/envs/prometeo/lib/python3.10/site-packages/peft/utils/save_and_load.py:148: UserWarning: Could not find a config file in /home/gbarbadillo/data/Phi-3-mini-128k-instruct - will assume that the vocabulary was not modified.\n",
      "  warnings.warn(\n",
      "tokenizer config file saved in /mnt/hdd0/Kaggle/arc24/models/20240724_first_trainings/01_phi3_debug/tmp-checkpoint-5450/tokenizer_config.json\n",
      "Special tokens file saved in /mnt/hdd0/Kaggle/arc24/models/20240724_first_trainings/01_phi3_debug/tmp-checkpoint-5450/special_tokens_map.json\n"
     ]
    },
    {
     "name": "stdout",
     "output_type": "stream",
     "text": [
      "{'eval_loss': 0.16625045239925385, 'eval_runtime': 61.4723, 'eval_samples_per_second': 16.267, 'eval_steps_per_second': 2.033, 'epoch': 9.71}\n"
     ]
    },
    {
     "name": "stderr",
     "output_type": "stream",
     "text": [
      "***** Running Evaluation *****\n",
      "  Num examples = 1000\n",
      "  Batch size = 8\n"
     ]
    },
    {
     "name": "stdout",
     "output_type": "stream",
     "text": [
      "{'loss': 0.1616, 'grad_norm': 2.1875, 'learning_rate': 7.885304659498208e-07, 'epoch': 9.8}\n"
     ]
    },
    {
     "data": {
      "application/vnd.jupyter.widget-view+json": {
       "model_id": "fdaaeee7ca264739b2107f09e2a0fecd",
       "version_major": 2,
       "version_minor": 0
      },
      "text/plain": [
       "  0%|          | 0/125 [00:00<?, ?it/s]"
      ]
     },
     "metadata": {},
     "output_type": "display_data"
    },
    {
     "name": "stderr",
     "output_type": "stream",
     "text": [
      "Saving model checkpoint to /mnt/hdd0/Kaggle/arc24/models/20240724_first_trainings/01_phi3_debug/tmp-checkpoint-5500\n",
      "/home/gbarbadillo/miniconda3/envs/prometeo/lib/python3.10/site-packages/peft/utils/save_and_load.py:148: UserWarning: Could not find a config file in /home/gbarbadillo/data/Phi-3-mini-128k-instruct - will assume that the vocabulary was not modified.\n",
      "  warnings.warn(\n",
      "tokenizer config file saved in /mnt/hdd0/Kaggle/arc24/models/20240724_first_trainings/01_phi3_debug/tmp-checkpoint-5500/tokenizer_config.json\n",
      "Special tokens file saved in /mnt/hdd0/Kaggle/arc24/models/20240724_first_trainings/01_phi3_debug/tmp-checkpoint-5500/special_tokens_map.json\n"
     ]
    },
    {
     "name": "stdout",
     "output_type": "stream",
     "text": [
      "{'eval_loss': 0.16647006571292877, 'eval_runtime': 61.4221, 'eval_samples_per_second': 16.281, 'eval_steps_per_second': 2.035, 'epoch': 9.8}\n"
     ]
    },
    {
     "name": "stderr",
     "output_type": "stream",
     "text": [
      "***** Running Evaluation *****\n",
      "  Num examples = 1000\n",
      "  Batch size = 8\n"
     ]
    },
    {
     "name": "stdout",
     "output_type": "stream",
     "text": [
      "{'loss': 0.1572, 'grad_norm': 5.21875, 'learning_rate': 4.301075268817205e-07, 'epoch': 9.88}\n"
     ]
    },
    {
     "data": {
      "application/vnd.jupyter.widget-view+json": {
       "model_id": "a2b50743c1e94cb3997aa43c411c0cb7",
       "version_major": 2,
       "version_minor": 0
      },
      "text/plain": [
       "  0%|          | 0/125 [00:00<?, ?it/s]"
      ]
     },
     "metadata": {},
     "output_type": "display_data"
    },
    {
     "name": "stderr",
     "output_type": "stream",
     "text": [
      "Saving model checkpoint to /mnt/hdd0/Kaggle/arc24/models/20240724_first_trainings/01_phi3_debug/tmp-checkpoint-5550\n",
      "/home/gbarbadillo/miniconda3/envs/prometeo/lib/python3.10/site-packages/peft/utils/save_and_load.py:148: UserWarning: Could not find a config file in /home/gbarbadillo/data/Phi-3-mini-128k-instruct - will assume that the vocabulary was not modified.\n",
      "  warnings.warn(\n",
      "tokenizer config file saved in /mnt/hdd0/Kaggle/arc24/models/20240724_first_trainings/01_phi3_debug/tmp-checkpoint-5550/tokenizer_config.json\n",
      "Special tokens file saved in /mnt/hdd0/Kaggle/arc24/models/20240724_first_trainings/01_phi3_debug/tmp-checkpoint-5550/special_tokens_map.json\n"
     ]
    },
    {
     "name": "stdout",
     "output_type": "stream",
     "text": [
      "{'eval_loss': 0.16618789732456207, 'eval_runtime': 61.44, 'eval_samples_per_second': 16.276, 'eval_steps_per_second': 2.035, 'epoch': 9.88}\n"
     ]
    },
    {
     "name": "stderr",
     "output_type": "stream",
     "text": [
      "***** Running Evaluation *****\n",
      "  Num examples = 1000\n",
      "  Batch size = 8\n"
     ]
    },
    {
     "name": "stdout",
     "output_type": "stream",
     "text": [
      "{'loss': 0.159, 'grad_norm': 3.03125, 'learning_rate': 7.168458781362007e-08, 'epoch': 9.97}\n"
     ]
    },
    {
     "data": {
      "application/vnd.jupyter.widget-view+json": {
       "model_id": "cb3b8d584d7a4ec681aa690aaeaa1d0d",
       "version_major": 2,
       "version_minor": 0
      },
      "text/plain": [
       "  0%|          | 0/125 [00:00<?, ?it/s]"
      ]
     },
     "metadata": {},
     "output_type": "display_data"
    },
    {
     "name": "stderr",
     "output_type": "stream",
     "text": [
      "Saving model checkpoint to /mnt/hdd0/Kaggle/arc24/models/20240724_first_trainings/01_phi3_debug/tmp-checkpoint-5600\n",
      "/home/gbarbadillo/miniconda3/envs/prometeo/lib/python3.10/site-packages/peft/utils/save_and_load.py:148: UserWarning: Could not find a config file in /home/gbarbadillo/data/Phi-3-mini-128k-instruct - will assume that the vocabulary was not modified.\n",
      "  warnings.warn(\n",
      "tokenizer config file saved in /mnt/hdd0/Kaggle/arc24/models/20240724_first_trainings/01_phi3_debug/tmp-checkpoint-5600/tokenizer_config.json\n",
      "Special tokens file saved in /mnt/hdd0/Kaggle/arc24/models/20240724_first_trainings/01_phi3_debug/tmp-checkpoint-5600/special_tokens_map.json\n"
     ]
    },
    {
     "name": "stdout",
     "output_type": "stream",
     "text": [
      "{'eval_loss': 0.16654208302497864, 'eval_runtime': 61.3775, 'eval_samples_per_second': 16.293, 'eval_steps_per_second': 2.037, 'epoch': 9.97}\n"
     ]
    },
    {
     "name": "stderr",
     "output_type": "stream",
     "text": [
      "\n",
      "\n",
      "Training completed. Do not forget to share your model on huggingface.co/models =)\n",
      "\n",
      "\n"
     ]
    },
    {
     "name": "stdout",
     "output_type": "stream",
     "text": [
      "{'train_runtime': 18385.222, 'train_samples_per_second': 4.882, 'train_steps_per_second': 0.305, 'train_loss': 0.19006722083916214, 'epoch': 9.99}\n"
     ]
    },
    {
     "data": {
      "text/plain": [
       "TrainOutput(global_step=5610, training_loss=0.19006722083916214, metrics={'train_runtime': 18385.222, 'train_samples_per_second': 4.882, 'train_steps_per_second': 0.305, 'train_loss': 0.19006722083916214, 'epoch': 9.99})"
      ]
     },
     "execution_count": 28,
     "metadata": {},
     "output_type": "execute_result"
    }
   ],
   "source": [
    "trainer = SFTTrainer(\n",
    "    model=model,\n",
    "    train_dataset=train_dataset,\n",
    "    eval_dataset=val_dataset,\n",
    "    peft_config=peft_config,\n",
    "    dataset_text_field=\"text\",\n",
    "    max_seq_length=cfg.max_seq_len,\n",
    "    data_collator=data_collator,\n",
    "    args=training_arguments,\n",
    ")\n",
    "\n",
    "trainer.train()"
   ]
  },
  {
   "cell_type": "markdown",
   "metadata": {},
   "source": [
    "- Evaluation for 1k samples is taking around 1 minute.\n",
    "- One epoch has taken around 30 minutes, with around 11 evaluations. Thus 1/3 of the time was spend evaluating. (550 steps, eval every 50 steps)\n",
    "- Training for 10 epochs took 5 hours. I set the temperature of the AC to 27ºC and the room was at 22ºC, probably 28ºC is fine.\n",
    "- Eval loss was 0.1665, without signs of overfit"
   ]
  },
  {
   "cell_type": "markdown",
   "metadata": {},
   "source": [
    "## TODO"
   ]
  },
  {
   "cell_type": "markdown",
   "metadata": {},
   "source": [
    "- [ ] Fixed val dataset\n",
    "- [ ] The pad_token_id and eos_token_id values of this tokenizer are identical. If you are planning for multi-turn training, it can result in the model continuously generating questions and answers without eos token. To avoid this, set the pad_token_id to a different value.\n",
    "- [ ] Flash attention?\n",
    "- [ ] Batch size?\n",
    "- [ ] Better WANDB configuration\n",
    "- [ ] Training parameters?"
   ]
  },
  {
   "cell_type": "markdown",
   "metadata": {},
   "source": []
  }
 ],
 "metadata": {
  "kernelspec": {
   "display_name": "prometeo",
   "language": "python",
   "name": "python3"
  },
  "language_info": {
   "codemirror_mode": {
    "name": "ipython",
    "version": 3
   },
   "file_extension": ".py",
   "mimetype": "text/x-python",
   "name": "python",
   "nbconvert_exporter": "python",
   "pygments_lexer": "ipython3",
   "version": "3.10.13"
  }
 },
 "nbformat": 4,
 "nbformat_minor": 2
}
