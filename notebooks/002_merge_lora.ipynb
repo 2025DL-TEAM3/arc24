{
 "cells": [
  {
   "cell_type": "code",
   "execution_count": null,
   "metadata": {},
   "outputs": [],
   "source": [
    "import os\n",
    "import glob\n",
    "import torch\n",
    "from transformers import AutoModelForCausalLM, AutoTokenizer\n",
    "from peft import PeftModel\n",
    "import shutil\n",
    "\n",
    "base_model_path = '/home/gbarbadillo/data/llama-3.1-transformers-8b-instruct-v1'\n",
    "lora_path = '/mnt/hdd0/Kaggle/arc24/models/20240724_first_trainings/22_llama31_lr1e-4_1e5dataset_r32/checkpoint-6553'\n",
    "output_path = '/home/gbarbadillo/data/llama-3.1-count'\n",
    "\n",
    "base_model_path = \"/home/gbarbadillo/data/Phi-3-mini-128k-instruct\"\n",
    "lora_path = '/mnt/hdd0/Kaggle/arc24/models/20240724_first_trainings/15_continue_training_phi3_4e5/checkpoint-22800'\n",
    "lora_path = '/mnt/hdd0/Kaggle/arc24/models/20240724_first_trainings/22_random_question_lr1e-4_1e5dataset/checkpoint-6228'\n",
    "lora_path = '/mnt/hdd0/Kaggle/arc24/models/20240729_arc_fine_tuning/01_phi-3_3epochs_train_lr2e-4/checkpoint-400'\n",
    "lora_path = '/mnt/hdd0/Kaggle/arc24/models/20240729_arc_fine_tuning/04_phi-3_3epochs_train_lr2e-4_even_more_augmentation/checkpoint-1090'\n",
    "lora_path = '/mnt/hdd0/Kaggle/arc24/models/20240729_arc_fine_tuning/06_phi-3_add_color_swaps_continue_2/checkpoint-2898'\n",
    "lora_path = '/mnt/hdd0/Kaggle/arc24/models/20240729_arc_fine_tuning/02_phi-3_24epochs_train_lr2e-4_no_augmentation_continue_3/checkpoint-288'\n",
    "# lora_path = '/mnt/hdd0/Kaggle/arc24/models/20240729_arc_fine_tuning/11_phi-3_overfit-to-train_continue_lr1e-5_longer/checkpoint-1200'\n",
    "lora_path = '/mnt/hdd0/Kaggle/arc24/models/20240729_arc_fine_tuning/10_phi-3_1rearc100_2train_lr5e-5_color-swap-no-preserve_continue/checkpoint-1000/'\n",
    "lora_path = '/mnt/hdd0/Kaggle/arc24/models/20240802_test_time_fine-tuning/01_baseline_no_data_augmentation_lr5e-5/checkpoint-150'\n",
    "lora_path = '/mnt/hdd0/Kaggle/arc24/models/20240802_test_time_fine-tuning/03_data_augmentation_color_swap_lr5e-5_5e3steps/checkpoint-5000'\n",
    "lora_path = '/mnt/hdd0/Kaggle/arc24/models/20240802_test_time_fine-tuning/02_data_augmentation_lr5e-5_3e3steps/checkpoint-2400'\n",
    "output_path = \"/home/gbarbadillo/data/Phi-3-arc\"\n",
    "\n",
    "base_model_path = '/home/gbarbadillo/data/Qwen2-0.5B-Instruct'\n",
    "lora_path = '/mnt/hdd0/Kaggle/arc24/models/20240809_smaller_models/04_Qwen2-0.5B-Instruct_lr2e-4_r128_8e3steps/checkpoint-6700'\n",
    "lora_path = '/mnt/hdd0/Kaggle/arc24/models/20240809_smaller_models/04_Qwen2-0.5B-Instruct_lr5e-5_r128_8e3steps/checkpoint-4900'\n",
    "lora_path = '/mnt/hdd0/Kaggle/arc24/models/20240812_smaller_models_test-time_fine-tuning/01_Qwen2-0.5B-Instruct_lr1e-4_r128_2e3steps/checkpoint-2000'\n",
    "output_path = \"/home/gbarbadillo/data/Qwen2-0.5B-arc\"\n",
    "\n",
    "base_model_path = '/home/gbarbadillo/data/Qwen2-1.5B-Instruct'\n",
    "lora_path = '/mnt/hdd0/Kaggle/arc24/models/20240809_smaller_models/05_Qwen2-1.5B-Instruct_lr1e-4_r32_8e3steps/checkpoint-4000'\n",
    "lora_path = '/mnt/hdd0/Kaggle/arc24/models/20240812_smaller_models_test-time_fine-tuning/03_Qwen2-1.5B-Instruct_lr1e-4_r32_2e3steps_c/checkpoint-2000'\n",
    "output_path = \"/home/gbarbadillo/data/Qwen2-1.5B-arc\"\n",
    "\n",
    "base_model = AutoModelForCausalLM.from_pretrained(base_model_path, torch_dtype=torch.float16)\n",
    "tokenizer = AutoTokenizer.from_pretrained(base_model_path, trust_remote_code=True)\n",
    "if 'llama' in base_model_path:\n",
    "    tokenizer.add_special_tokens({'pad_token': '<|pad|>'})\n",
    "    base_model.resize_token_embeddings(len(tokenizer))\n",
    "\n",
    "\n",
    "model = PeftModel.from_pretrained(base_model, lora_path)\n",
    "merged_model = model.merge_and_unload()\n",
    "print('Saving the merged model to the output path')\n",
    "merged_model.save_pretrained(output_path)\n",
    "\n",
    "for filepath in glob.glob(os.path.join(base_model_path, '*')):\n",
    "    dst = os.path.join(output_path, os.path.basename(filepath))\n",
    "    if not os.path.exists(dst):\n",
    "        print('Copying', filepath)\n",
    "        shutil.copy(filepath, dst)\n",
    "\n",
    "print('Done!')"
   ]
  }
 ],
 "metadata": {
  "kernelspec": {
   "display_name": "arc",
   "language": "python",
   "name": "python3"
  },
  "language_info": {
   "codemirror_mode": {
    "name": "ipython",
    "version": 3
   },
   "file_extension": ".py",
   "mimetype": "text/x-python",
   "name": "python",
   "nbconvert_exporter": "python",
   "pygments_lexer": "ipython3",
   "version": "3.10.14"
  }
 },
 "nbformat": 4,
 "nbformat_minor": 2
}
