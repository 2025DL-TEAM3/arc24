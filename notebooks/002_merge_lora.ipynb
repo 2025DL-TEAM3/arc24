{
 "cells": [
  {
   "cell_type": "code",
   "execution_count": null,
   "metadata": {},
   "outputs": [],
   "source": [
    "import torch\n",
    "from transformers import AutoModelForCausalLM, AutoTokenizer\n",
    "from peft import PeftModel\n",
    "import shutil\n",
    "\n",
    "base_model_path = \"/home/gbarbadillo/data/Phi-3-mini-128k-instruct\"\n",
    "lora_path = '/mnt/hdd0/Kaggle/arc24/models/20240724_first_trainings/15_continue_training_phi3_4e5/checkpoint-22800'\n",
    "lora_path = '/mnt/hdd0/Kaggle/arc24/models/20240724_first_trainings/22_random_question_lr1e-4_1e5dataset/checkpoint-6228'\n",
    "output_path = \"/home/gbarbadillo/data/Phi-3-count\"\n",
    "\n",
    "\n",
    "base_model_path = '/home/gbarbadillo/data/llama-3.1-transformers-8b-instruct-v1'\n",
    "lora_path = '/mnt/hdd0/Kaggle/arc24/models/20240724_first_trainings/22_llama31_lr1e-4_1e5dataset_r32/checkpoint-6553'\n",
    "output_path = '/home/gbarbadillo/data/llama-3.1-count'\n",
    "\n",
    "base_model = AutoModelForCausalLM.from_pretrained(base_model_path, torch_dtype=torch.float16)\n",
    "tokenizer = AutoTokenizer.from_pretrained(base_model_path, trust_remote_code=True)\n",
    "if 'llama' in base_model_path:\n",
    "    tokenizer.add_special_tokens({'pad_token': '<|pad|>'})\n",
    "    base_model.resize_token_embeddings(len(tokenizer))\n",
    "\n",
    "\n",
    "model = PeftModel.from_pretrained(base_model, lora_path)\n",
    "merged_model = model.merge_and_unload()\n",
    "print('Copying the base model to the output path')\n",
    "shutil.copytree(base_model_path, output_path)\n",
    "print('Saving the merged model to the output path')\n",
    "merged_model.save_pretrained(output_path)"
   ]
  }
 ],
 "metadata": {
  "kernelspec": {
   "display_name": "arc",
   "language": "python",
   "name": "python3"
  },
  "language_info": {
   "codemirror_mode": {
    "name": "ipython",
    "version": 3
   },
   "file_extension": ".py",
   "mimetype": "text/x-python",
   "name": "python",
   "nbconvert_exporter": "python",
   "pygments_lexer": "ipython3",
   "version": "3.10.14"
  }
 },
 "nbformat": 4,
 "nbformat_minor": 2
}
