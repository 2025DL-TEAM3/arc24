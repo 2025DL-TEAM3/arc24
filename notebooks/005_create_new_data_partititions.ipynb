{
 "cells": [
  {
   "cell_type": "markdown",
   "metadata": {},
   "source": [
    "# Create new data partitions"
   ]
  },
  {
   "cell_type": "markdown",
   "metadata": {},
   "source": [
    "## Goal"
   ]
  },
  {
   "cell_type": "markdown",
   "metadata": {},
   "source": [
    "Let's create a new train/val partition that leaves only 100 eval samples for validation. That way I could use more data for training and I will better parametrize the test-time fine-tuning."
   ]
  },
  {
   "cell_type": "markdown",
   "metadata": {},
   "source": [
    "## Imports"
   ]
  },
  {
   "cell_type": "code",
   "execution_count": null,
   "metadata": {},
   "outputs": [],
   "source": [
    "import os\n",
    "import json\n",
    "import random\n",
    "import matplotlib.pyplot as plt\n",
    "from matplotlib import colors\n",
    "import matplotlib as mpl\n",
    "import numpy as np\n",
    "\n",
    "plt.plot()\n",
    "plt.close('all')\n",
    "plt.rcParams[\"figure.figsize\"] = (20, 5)\n",
    "mpl.rcParams['lines.linewidth'] = 3\n",
    "mpl.rcParams['font.size'] = 16"
   ]
  },
  {
   "cell_type": "markdown",
   "metadata": {},
   "source": [
    "## Load data"
   ]
  },
  {
   "cell_type": "code",
   "execution_count": null,
   "metadata": {},
   "outputs": [],
   "source": [
    "def load_arc_data_with_solutions(filepath):\n",
    "    with open(filepath, 'r') as f:\n",
    "        data = json.load(f)\n",
    "    solutions_filepath = filepath.replace('challenges.json', 'solutions.json')\n",
    "    if filepath != solutions_filepath and os.path.exists(solutions_filepath):\n",
    "        with open(solutions_filepath, 'r') as f:\n",
    "            solutions = json.load(f)\n",
    "        for sample_id, task in data.items():\n",
    "            for idx, sample in enumerate(task['test']):\n",
    "                sample['output'] = solutions[sample_id][idx]\n",
    "    else:\n",
    "        print('No solutions file found, the solutions should already be in the data')\n",
    "    return data"
   ]
  },
  {
   "cell_type": "code",
   "execution_count": null,
   "metadata": {},
   "outputs": [],
   "source": [
    "eval_data = load_arc_data_with_solutions('/mnt/hdd0/Kaggle/arc24/data/arc-agi_evaluation_challenges.json')\n",
    "train_data = load_arc_data_with_solutions('/mnt/hdd0/Kaggle/arc24/data/arc-agi_training_challenges.json')\n",
    "len(eval_data), len(train_data)"
   ]
  },
  {
   "cell_type": "code",
   "execution_count": null,
   "metadata": {},
   "outputs": [],
   "source": [
    "output_dir = '/mnt/hdd0/Kaggle/arc24/data/new_partitions'\n",
    "os.makedirs(output_dir, exist_ok=True)"
   ]
  },
  {
   "cell_type": "code",
   "execution_count": null,
   "metadata": {},
   "outputs": [],
   "source": [
    "all_data = {**eval_data, **train_data}\n",
    "with open(f'{output_dir}/arc-agi_all_challenges.json', 'w') as f:\n",
    "    json.dump(all_data, f)"
   ]
  },
  {
   "cell_type": "markdown",
   "metadata": {},
   "source": [
    "## Create new partition"
   ]
  },
  {
   "cell_type": "code",
   "execution_count": null,
   "metadata": {},
   "outputs": [],
   "source": [
    "def create_new_partition(random_seed, n_val=100):\n",
    "    np.random.seed(random_seed)\n",
    "    val_ids = np.random.choice(list(eval_data.keys()), n_val, replace=False)\n",
    "\n",
    "    val_data = {k: eval_data[k] for k in val_ids}\n",
    "    new_train_data = train_data.copy()\n",
    "    new_train_data.update({k: value for k, value in eval_data.items() if k not in val_ids})\n",
    "\n",
    "    with open(f'{output_dir}/val_rs{random_seed}.json', 'w') as f:\n",
    "        json.dump(val_data, f)\n",
    "    \n",
    "    with open(f'{output_dir}/train_rs{random_seed}.json', 'w') as f:\n",
    "        json.dump(new_train_data, f)\n",
    "\n",
    "    print(f'Created partition {random_seed}')\n",
    "    print(f'Val size: {len(val_data)}')\n",
    "    print(f'Train size: {len(new_train_data)}')\n"
   ]
  },
  {
   "cell_type": "code",
   "execution_count": null,
   "metadata": {},
   "outputs": [],
   "source": [
    "create_new_partition(7)"
   ]
  },
  {
   "cell_type": "markdown",
   "metadata": {},
   "source": []
  }
 ],
 "metadata": {
  "kernelspec": {
   "display_name": "arc",
   "language": "python",
   "name": "python3"
  },
  "language_info": {
   "codemirror_mode": {
    "name": "ipython",
    "version": 3
   },
   "file_extension": ".py",
   "mimetype": "text/x-python",
   "name": "python",
   "nbconvert_exporter": "python",
   "pygments_lexer": "ipython3",
   "version": "3.10.14"
  }
 },
 "nbformat": 4,
 "nbformat_minor": 2
}
