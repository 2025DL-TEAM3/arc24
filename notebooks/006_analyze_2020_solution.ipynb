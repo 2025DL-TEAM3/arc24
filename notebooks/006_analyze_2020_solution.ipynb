{
 "cells": [
  {
   "cell_type": "markdown",
   "metadata": {},
   "source": [
    "# Analyze 2020 solution"
   ]
  },
  {
   "cell_type": "markdown",
   "metadata": {},
   "source": [
    "## Goal"
   ]
  },
  {
   "cell_type": "markdown",
   "metadata": {},
   "source": [
    "Analyze the 2020 solution to see how easy is to create an ensemble with it."
   ]
  },
  {
   "cell_type": "markdown",
   "metadata": {},
   "source": [
    "## Imports"
   ]
  },
  {
   "cell_type": "code",
   "execution_count": null,
   "metadata": {},
   "outputs": [],
   "source": [
    "import os\n",
    "import json\n",
    "import random\n",
    "import matplotlib.pyplot as plt\n",
    "from matplotlib import colors\n",
    "import matplotlib as mpl\n",
    "import numpy as np\n",
    "\n",
    "plt.plot()\n",
    "plt.close('all')\n",
    "plt.rcParams[\"figure.figsize\"] = (15, 4)\n",
    "mpl.rcParams['lines.linewidth'] = 3\n",
    "mpl.rcParams['font.size'] = 16"
   ]
  },
  {
   "cell_type": "markdown",
   "metadata": {},
   "source": [
    "## Code"
   ]
  },
  {
   "cell_type": "code",
   "execution_count": null,
   "metadata": {},
   "outputs": [],
   "source": [
    "def plot_task(task, task_id):\n",
    "    all_samples = task['train'] + task['test']\n",
    "    for plot_idx, sample in enumerate(all_samples):\n",
    "        plt.subplot(1, len(all_samples), plot_idx+1)\n",
    "        plot_grid(sample['input'])\n",
    "        if plot_idx < len(task['train']):\n",
    "            plt.title(f'train {plot_idx}')\n",
    "        else:\n",
    "            plt.title(f'test {plot_idx-len(task[\"train\"])}')\n",
    "    plt.suptitle(f'Inputs for task {task_id}')\n",
    "    plt.show()\n",
    "    for plot_idx, sample in enumerate(all_samples):\n",
    "        plt.subplot(1, len(all_samples), plot_idx+1)\n",
    "        plot_grid(sample['output'])\n",
    "        if plot_idx < len(task['train']):\n",
    "            plt.title(f'train {plot_idx}')\n",
    "        else:\n",
    "            plt.title(f'test {plot_idx-len(task[\"train\"])}')\n",
    "    plt.suptitle(f'Outputs for task {task_id}')\n",
    "    plt.show()\n",
    "\n",
    "\n",
    "def plot_grid(grid):\n",
    "    grid = np.array(grid, dtype=int)\n",
    "    cmap = colors.ListedColormap(\n",
    "        ['#000000', '#0074D9','#FF4136','#2ECC40','#FFDC00',\n",
    "         '#AAAAAA', '#F012BE', '#FF851B', '#7FDBFF', '#870C25'])\n",
    "    norm = colors.Normalize(vmin=0, vmax=9)\n",
    "    plt.imshow(grid, cmap=cmap, norm=norm)\n",
    "    plt.grid(True,which='both',color='lightgrey', linewidth=0.5)\n",
    "    plt.xticks(np.arange(-0.5, grid.shape[1]), [])\n",
    "    plt.yticks(np.arange(-0.5, grid.shape[0]), [])\n",
    "    plt.xlim(-0.5, grid.shape[1]-0.5)\n",
    "\n",
    "    for i in range(grid.shape[0]):\n",
    "        for j in range(grid.shape[1]):\n",
    "            plt.text(j, i, grid[i, j], ha='center', va='center')"
   ]
  },
  {
   "cell_type": "code",
   "execution_count": null,
   "metadata": {},
   "outputs": [],
   "source": [
    "def plot_solution(solution, title):\n",
    "    for plot_idx, sample in enumerate(solution.values()):\n",
    "        plt.subplot(1, len(solution), plot_idx+1)\n",
    "        plot_grid(sample)\n",
    "        plt.title(f'attempt {plot_idx + 1}')\n",
    "    plt.suptitle(title)\n",
    "    plt.show()"
   ]
  },
  {
   "cell_type": "code",
   "execution_count": null,
   "metadata": {},
   "outputs": [],
   "source": [
    "def analyze_submission(submission_filepath, solutions_filepath):\n",
    "    with open(submission_filepath, 'r') as f:\n",
    "        submission = json.load(f)\n",
    "    with open(solutions_filepath, 'r') as f:\n",
    "        solutions = json.load(f)\n",
    "    remove_repeated_attempts(submission)\n",
    "    verify_second_attempt_is_empty_if_first_is_empty(submission)\n",
    "    # remove_repeated_attempts(submission)\n",
    "    # print('not_empty', measure_not_empty_attempts(submission))\n",
    "    # print('correct', measure_accuracy(submission, solutions))\n",
    "    compute_metrics(submission, solutions)\n",
    "\n",
    "def compute_metrics(submission, solution):\n",
    "    correct = dict(attempt_1=0, attempt_2=0)\n",
    "    answered = dict(attempt_1=0, attempt_2=0)\n",
    "    total = 0\n",
    "    for task_id, values in submission.items():\n",
    "        for sample_id, sample in enumerate(values):\n",
    "            total += 1\n",
    "            for key in correct.keys():\n",
    "                if sample[key] == solution[task_id][sample_id]:\n",
    "                    correct[key] += 1\n",
    "                if sample[key]:\n",
    "                    answered[key] += 1\n",
    "    print(f'Total number of samples: {total}')\n",
    "    for key in correct.keys():\n",
    "        print(f'{key} recall: {answered[key] / total:.1%} precision: {correct[key] / answered[key]:.1%} accuracy: {correct[key] / total:.1%}')\n",
    "\n",
    "def measure_not_empty_attempts(submission):\n",
    "    accuracy = dict(attempt_1=0, attempt_2=0)\n",
    "    for task_id, values in submission.items():\n",
    "        for sample_id, sample in enumerate(values):\n",
    "            for key in accuracy.keys():\n",
    "                if sample[key]:\n",
    "                    accuracy[key] += 1\n",
    "    return accuracy\n",
    "\n",
    "def measure_accuracy(submission, solution):\n",
    "    accuracy = dict(attempt_1=0, attempt_2=0)\n",
    "    for task_id, values in submission.items():\n",
    "        for sample_id, sample in enumerate(values):\n",
    "            for key in accuracy.keys():\n",
    "                if sample[key] == solution[task_id][sample_id]:\n",
    "                    accuracy[key] += 1\n",
    "    return accuracy\n",
    "\n",
    "def remove_repeated_attempts(submission):\n",
    "    repetitions = 0\n",
    "    for task_id, values in submission.items():\n",
    "        for sample_id, sample in enumerate(values):\n",
    "            if sample['attempt_1'] and sample['attempt_1'] == sample['attempt_2']:\n",
    "                repetitions += 1\n",
    "                sample['attempt_2'] = []\n",
    "    print(f'There were {repetitions} repeated attempts')\n",
    "\n",
    "def verify_second_attempt_is_empty_if_first_is_empty(submission):\n",
    "    errors = 0\n",
    "    for task_id, values in submission.items():\n",
    "        for sample_id, sample in enumerate(values):\n",
    "            if not sample['attempt_1'] and sample['attempt_2']:\n",
    "                errors += 1\n",
    "    if errors:\n",
    "        print(f'There were {errors} errors where the first attempt was empty but the second was not')"
   ]
  },
  {
   "cell_type": "markdown",
   "metadata": {},
   "source": [
    "## Analysis"
   ]
  },
  {
   "cell_type": "code",
   "execution_count": null,
   "metadata": {},
   "outputs": [],
   "source": [
    "analyze_submission('/mnt/hdd0/Kaggle/arc24/submissions/submission_2020_solution.json',\n",
    "                   '/mnt/hdd0/Kaggle/arc24/data/arc-agi_training_solutions.json')"
   ]
  },
  {
   "cell_type": "code",
   "execution_count": null,
   "metadata": {},
   "outputs": [],
   "source": [
    "analyze_submission('/mnt/hdd0/Kaggle/arc24/submissions/sub_icecube.json',\n",
    "                   '/mnt/hdd0/Kaggle/arc24/data/arc-agi_training_solutions.json')"
   ]
  },
  {
   "cell_type": "code",
   "execution_count": null,
   "metadata": {},
   "outputs": [],
   "source": [
    "analyze_submission('/mnt/hdd0/Kaggle/arc24/submissions/program_search_submission.json',\n",
    "                   '/mnt/hdd0/Kaggle/arc24/data/arc-agi_training_solutions.json')"
   ]
  }
 ],
 "metadata": {
  "kernelspec": {
   "display_name": "arc",
   "language": "python",
   "name": "python3"
  },
  "language_info": {
   "codemirror_mode": {
    "name": "ipython",
    "version": 3
   },
   "file_extension": ".py",
   "mimetype": "text/x-python",
   "name": "python",
   "nbconvert_exporter": "python",
   "pygments_lexer": "ipython3",
   "version": "3.10.14"
  }
 },
 "nbformat": 4,
 "nbformat_minor": 2
}
