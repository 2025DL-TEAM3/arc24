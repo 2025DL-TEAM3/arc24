{
 "cells": [
  {
   "cell_type": "markdown",
   "metadata": {},
   "source": [
    "# Analyze 2020 solution"
   ]
  },
  {
   "cell_type": "markdown",
   "metadata": {},
   "source": [
    "## Goal"
   ]
  },
  {
   "cell_type": "markdown",
   "metadata": {},
   "source": [
    "Analyze the 2020 solution to see how easy is to create an ensemble with it."
   ]
  },
  {
   "cell_type": "markdown",
   "metadata": {},
   "source": [
    "## Imports"
   ]
  },
  {
   "cell_type": "code",
   "execution_count": null,
   "metadata": {},
   "outputs": [],
   "source": [
    "import os\n",
    "import json\n",
    "import random\n",
    "import matplotlib.pyplot as plt\n",
    "from matplotlib import colors\n",
    "import matplotlib as mpl\n",
    "import numpy as np\n",
    "\n",
    "plt.plot()\n",
    "plt.close('all')\n",
    "plt.rcParams[\"figure.figsize\"] = (15, 4)\n",
    "mpl.rcParams['lines.linewidth'] = 3\n",
    "mpl.rcParams['font.size'] = 16"
   ]
  },
  {
   "cell_type": "markdown",
   "metadata": {},
   "source": [
    "## Code"
   ]
  },
  {
   "cell_type": "code",
   "execution_count": null,
   "metadata": {},
   "outputs": [],
   "source": [
    "def plot_task(task, task_id):\n",
    "    all_samples = task['train'] + task['test']\n",
    "    for plot_idx, sample in enumerate(all_samples):\n",
    "        plt.subplot(1, len(all_samples), plot_idx+1)\n",
    "        plot_grid(sample['input'])\n",
    "        if plot_idx < len(task['train']):\n",
    "            plt.title(f'train {plot_idx}')\n",
    "        else:\n",
    "            plt.title(f'test {plot_idx-len(task[\"train\"])}')\n",
    "    plt.suptitle(f'Inputs for task {task_id}')\n",
    "    plt.show()\n",
    "    for plot_idx, sample in enumerate(all_samples):\n",
    "        plt.subplot(1, len(all_samples), plot_idx+1)\n",
    "        plot_grid(sample['output'])\n",
    "        if plot_idx < len(task['train']):\n",
    "            plt.title(f'train {plot_idx}')\n",
    "        else:\n",
    "            plt.title(f'test {plot_idx-len(task[\"train\"])}')\n",
    "    plt.suptitle(f'Outputs for task {task_id}')\n",
    "    plt.show()\n",
    "\n",
    "\n",
    "def plot_grid(grid):\n",
    "    grid = np.array(grid, dtype=int)\n",
    "    cmap = colors.ListedColormap(\n",
    "        ['#000000', '#0074D9','#FF4136','#2ECC40','#FFDC00',\n",
    "         '#AAAAAA', '#F012BE', '#FF851B', '#7FDBFF', '#870C25'])\n",
    "    norm = colors.Normalize(vmin=0, vmax=9)\n",
    "    plt.imshow(grid, cmap=cmap, norm=norm)\n",
    "    plt.grid(True,which='both',color='lightgrey', linewidth=0.5)\n",
    "    plt.xticks(np.arange(-0.5, grid.shape[1]), [])\n",
    "    plt.yticks(np.arange(-0.5, grid.shape[0]), [])\n",
    "    plt.xlim(-0.5, grid.shape[1]-0.5)\n",
    "\n",
    "    for i in range(grid.shape[0]):\n",
    "        for j in range(grid.shape[1]):\n",
    "            plt.text(j, i, grid[i, j], ha='center', va='center')"
   ]
  },
  {
   "cell_type": "code",
   "execution_count": null,
   "metadata": {},
   "outputs": [],
   "source": [
    "def plot_solution(solution, title):\n",
    "    for plot_idx, sample in enumerate(solution.values()):\n",
    "        plt.subplot(1, len(solution), plot_idx+1)\n",
    "        plot_grid(sample)\n",
    "        plt.title(f'attempt {plot_idx + 1}')\n",
    "    plt.suptitle(title)\n",
    "    plt.show()"
   ]
  },
  {
   "cell_type": "markdown",
   "metadata": {},
   "source": [
    "## Analysis"
   ]
  },
  {
   "cell_type": "code",
   "execution_count": null,
   "metadata": {},
   "outputs": [],
   "source": [
    "with open('/mnt/hdd0/Kaggle/arc24/submissions/submission_2020_solution.json', 'r') as f:\n",
    "    data = json.load(f)"
   ]
  },
  {
   "cell_type": "code",
   "execution_count": null,
   "metadata": {},
   "outputs": [],
   "source": [
    "len(data)"
   ]
  },
  {
   "cell_type": "code",
   "execution_count": null,
   "metadata": {},
   "outputs": [],
   "source": [
    "np.unique([len(values[0]) for values in data.values()], return_counts=True)"
   ]
  },
  {
   "cell_type": "markdown",
   "metadata": {},
   "source": [
    "It seems that all tasks received two attempts, but are they different?"
   ]
  },
  {
   "cell_type": "code",
   "execution_count": null,
   "metadata": {},
   "outputs": [],
   "source": [
    "for task_id, values in data.items():\n",
    "    for sample_id, sample in enumerate(values):\n",
    "        if sample['attempt_1'] == sample['attempt_2']:\n",
    "            print(task_id, sample_id)"
   ]
  },
  {
   "cell_type": "markdown",
   "metadata": {},
   "source": [
    "Only one of the submissions has repeated the same grid. It seems that the ensemble is not going to be trivial."
   ]
  },
  {
   "cell_type": "markdown",
   "metadata": {},
   "source": [
    "## Checking the accuracy of the attempts"
   ]
  },
  {
   "cell_type": "code",
   "execution_count": null,
   "metadata": {},
   "outputs": [],
   "source": [
    "with open('/mnt/hdd0/Kaggle/arc24/data/arc-agi_training_solutions.json', 'r') as f:\n",
    "    solutions = json.load(f)"
   ]
  },
  {
   "cell_type": "code",
   "execution_count": null,
   "metadata": {},
   "outputs": [],
   "source": [
    "def measure_accuracy(submission, solution):\n",
    "    accuracy = dict(attempt_1=0, attempt_2=0)\n",
    "    for task_id, values in submission.items():\n",
    "        for sample_id, sample in enumerate(values):\n",
    "            for key in accuracy.keys():\n",
    "                if sample[key] == solution[task_id][sample_id]:\n",
    "                    accuracy[key] += 1\n",
    "\n",
    "    return accuracy"
   ]
  },
  {
   "cell_type": "code",
   "execution_count": null,
   "metadata": {},
   "outputs": [],
   "source": [
    "measure_accuracy(data, solutions)"
   ]
  },
  {
   "cell_type": "markdown",
   "metadata": {},
   "source": [
    "The first attempt is right 50 times, the second is only 9. So we could try to make a submission with just the first attempt.\n",
    "\n",
    "That is not optimal, but to make it better I should understand how the solution is generated."
   ]
  }
 ],
 "metadata": {
  "kernelspec": {
   "display_name": "arc",
   "language": "python",
   "name": "python3"
  },
  "language_info": {
   "codemirror_mode": {
    "name": "ipython",
    "version": 3
   },
   "file_extension": ".py",
   "mimetype": "text/x-python",
   "name": "python",
   "nbconvert_exporter": "python",
   "pygments_lexer": "ipython3",
   "version": "3.10.14"
  }
 },
 "nbformat": 4,
 "nbformat_minor": 2
}
