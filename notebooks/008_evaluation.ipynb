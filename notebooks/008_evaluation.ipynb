{
 "cells": [
  {
   "cell_type": "markdown",
   "metadata": {},
   "source": [
    "# Evaluation"
   ]
  },
  {
   "cell_type": "markdown",
   "metadata": {},
   "source": [
    "## Goal"
   ]
  },
  {
   "cell_type": "markdown",
   "metadata": {},
   "source": [
    "This notebook will take the inference of a model and evaluate and visualize it.\n",
    "\n",
    "This will help to:\n",
    "\n",
    "- understand the failures of the model\n",
    "- find a better way to combine the model predictions"
   ]
  },
  {
   "cell_type": "markdown",
   "metadata": {},
   "source": [
    "## Imports"
   ]
  },
  {
   "cell_type": "code",
   "execution_count": null,
   "metadata": {},
   "outputs": [],
   "source": [
    "import os\n",
    "import json\n",
    "import numpy as np\n",
    "import matplotlib.pyplot as plt\n",
    "from matplotlib import colors\n",
    "import matplotlib as mpl\n",
    "\n",
    "plt.plot()\n",
    "plt.close('all')\n",
    "plt.rcParams[\"figure.figsize\"] = (15, 4)\n",
    "mpl.rcParams['lines.linewidth'] = 3\n",
    "mpl.rcParams['font.size'] = 16"
   ]
  },
  {
   "cell_type": "markdown",
   "metadata": {},
   "source": [
    "## Configuration"
   ]
  },
  {
   "cell_type": "code",
   "execution_count": null,
   "metadata": {},
   "outputs": [],
   "source": [
    "class cfg:\n",
    "    solutions_filepath: str = '/mnt/hdd0/MEGA/AI/22_Kaggle/arc24/scripts/submission_10.json'\n",
    "    solutions_filepath: str = '/mnt/hdd0/MEGA/AI/22_Kaggle/arc24/scripts/submission.json'\n",
    "    dataset_filepath: str = '/mnt/hdd0/Kaggle/arc24/data/arc-agi_evaluation_challenges.json'"
   ]
  },
  {
   "cell_type": "markdown",
   "metadata": {},
   "source": [
    "## Code"
   ]
  },
  {
   "cell_type": "markdown",
   "metadata": {},
   "source": [
    "### Data"
   ]
  },
  {
   "cell_type": "code",
   "execution_count": null,
   "metadata": {},
   "outputs": [],
   "source": [
    "def load_arc_data_with_solutions(filepath):\n",
    "    with open(filepath, 'r') as f:\n",
    "        data = json.load(f)\n",
    "    solutions_filepath = filepath.replace('challenges.json', 'solutions.json')\n",
    "    if filepath != solutions_filepath and os.path.exists(solutions_filepath):\n",
    "        with open(solutions_filepath, 'r') as f:\n",
    "            solutions = json.load(f)\n",
    "        for sample_id, task in data.items():\n",
    "            for idx, sample in enumerate(task['test']):\n",
    "                sample['output'] = solutions[sample_id][idx]\n",
    "    else:\n",
    "        print('No solutions file found, the solutions should already be in the data')\n",
    "    return data"
   ]
  },
  {
   "cell_type": "markdown",
   "metadata": {},
   "source": [
    "### Plots"
   ]
  },
  {
   "cell_type": "code",
   "execution_count": null,
   "metadata": {},
   "outputs": [],
   "source": [
    "def plot_task(task):\n",
    "    samples = task['train'] + task['test']\n",
    "    for plot_idx, sample in enumerate(samples):\n",
    "        plt.subplot(2, len(samples), plot_idx + 1)\n",
    "        plot_grid(sample['input'])\n",
    "        if plot_idx < len(task['train']):\n",
    "            plt.title(f'Train {plot_idx}')\n",
    "        else:\n",
    "            plt.title(f'Test {plot_idx - len(task[\"train\"])}')\n",
    "        if 'output' in sample:\n",
    "            plt.subplot(2, len(samples), plot_idx + 1 + len(samples))\n",
    "            plot_grid(sample['output'])\n",
    "\n",
    "def plot_grids(grids):\n",
    "    for plot_idx, grid in enumerate(grids):\n",
    "        plt.subplot(1, len(grids), plot_idx + 1)\n",
    "        plot_grid(grid)\n",
    "\n",
    "def plot_grid(grid):\n",
    "    grid = np.array(grid)\n",
    "    cmap = colors.ListedColormap(\n",
    "        ['#000000', '#0074D9','#FF4136','#2ECC40','#FFDC00',\n",
    "         '#AAAAAA', '#F012BE', '#FF851B', '#7FDBFF', '#870C25'])\n",
    "    norm = colors.Normalize(vmin=0, vmax=9)\n",
    "    plt.imshow(grid, cmap=cmap, norm=norm)\n",
    "    plt.grid(True,which='both',color='lightgrey', linewidth=0.5)\n",
    "    plt.xticks(np.arange(-0.5, grid.shape[1]), [])\n",
    "    plt.yticks(np.arange(-0.5, grid.shape[0]), [])\n",
    "    plt.xlim(-0.5, grid.shape[1]-0.5)"
   ]
  },
  {
   "cell_type": "markdown",
   "metadata": {},
   "source": [
    "### Evaluation"
   ]
  },
  {
   "cell_type": "code",
   "execution_count": null,
   "metadata": {},
   "outputs": [],
   "source": [
    "def analyze_number_of_predictions_per_task(data, texts):\n",
    "    number_of_predictions = dict()\n",
    "    for task_id, task in data.items():\n",
    "        number_of_predictions[task_id] = len(texts[task_id]['responses'])/len(task['test'])\n",
    "    plt.title('Distribution of the number of predictions per task')\n",
    "    plt.hist(number_of_predictions.values(), bins=np.arange(1.5, 9))\n",
    "    plt.xlabel('number of predictions')\n",
    "    plt.ylabel('count')\n",
    "    return number_of_predictions"
   ]
  },
  {
   "cell_type": "code",
   "execution_count": null,
   "metadata": {},
   "outputs": [],
   "source": [
    "def evaluate(ground_truth, solutions):\n",
    "    \"\"\"\n",
    "    Computes the following metrics:\n",
    "\n",
    "    - Accuracy\n",
    "    - Correct pixels\n",
    "    - Correct size\n",
    "    \"\"\"\n",
    "    metrics = dict()\n",
    "    for task_id in solutions:\n",
    "        task_metrics = []\n",
    "        plot_task(ground_truth[task_id]); plt.suptitle(f'{task_id}'); plt.show()\n",
    "        for test_idx, test_sample in enumerate(ground_truth[task_id]['test']):\n",
    "            correct_grid = test_sample['output']\n",
    "            predicted_grids = list(solutions[task_id][test_idx].values())\n",
    "            predicted_grids = [grid for grid in predicted_grids if grid]\n",
    "\n",
    "            task_metrics.append(evaluate_grid(correct_grid, predicted_grids))\n",
    "            print_metrics(task_metrics[-1], f'{task_id}_{test_idx}')\n",
    "            plot_grids([correct_grid] + predicted_grids)\n",
    "            plt.suptitle(f'{task_id}_{test_idx}')\n",
    "            plt.show()\n",
    "        metrics[task_id] = average_metrics(task_metrics)\n",
    "    print('\\n'*3 + '# Aggregated metrics:')\n",
    "    global_metrics = average_metrics(list(metrics.values()))\n",
    "    print_metrics(global_metrics)\n",
    "    save_metrics(metrics, solutions)\n",
    "    #plot_metrics_distribution(metrics)\n",
    "    print_metrics(global_metrics)\n",
    "\n",
    "\n",
    "def evaluate(ground_truth, solutions):\n",
    "    \"\"\"\n",
    "    Computes the following metrics:\n",
    "\n",
    "    - Accuracy\n",
    "    - Correct pixels\n",
    "    - Correct size\n",
    "    \"\"\"\n",
    "    metrics = dict()\n",
    "    for task_id in solutions:\n",
    "        task_metrics = []\n",
    "        for test_idx, test_sample in enumerate(ground_truth[task_id]['test']):\n",
    "            correct_grid = test_sample['output']\n",
    "            predicted_grids = list(solutions[task_id][test_idx].values())\n",
    "            task_metrics.append(evaluate_grid(correct_grid, predicted_grids))\n",
    "            #print_metrics(task_metrics[-1], f'{task_id}_{test_idx}')\n",
    "        metrics[task_id] = average_metrics(task_metrics)\n",
    "    print_sorted_task_metrics(metrics)\n",
    "    print('\\n'*2 + '# Aggregated metrics:')\n",
    "    global_metrics = average_metrics(list(metrics.values()))\n",
    "    print_metrics(global_metrics)\n",
    "    save_metrics(metrics)\n",
    "    #plot_metrics_distribution(metrics)\n",
    "    print_metrics(global_metrics)\n",
    "\n",
    "\n",
    "def print_sorted_task_metrics(metrics):\n",
    "    task_ids = list(metrics.keys())\n",
    "    task_ids = sorted(task_ids, key=lambda x: (metrics[x]['accuracy'], metrics[x]['correct_pixels'], metrics[x]['correct_size']), reverse=True)\n",
    "    for task_id in task_ids:\n",
    "        print_metrics(metrics[task_id], f'Task {task_id} ')\n",
    "\n",
    "\n",
    "def plot_metrics_distribution(metrics):\n",
    "    for key in metrics[0]:\n",
    "        values = [x[key] for x in metrics]\n",
    "        plt.title(f'Distribution of {key}')\n",
    "        plt.hist(values, bins=np.linspace(0, 1, 10))\n",
    "        plt.xlabel(key)\n",
    "        plt.ylabel('count')\n",
    "        plt.show()\n",
    "\n",
    "def average_metrics(metrics):\n",
    "    averaged_metrics = dict()\n",
    "    for key in metrics[0]:\n",
    "        averaged_metrics[key] = np.mean([x[key] for x in metrics])\n",
    "    return averaged_metrics\n",
    "\n",
    "def save_metrics(metrics):\n",
    "    metrics['global_metrics'] = average_metrics(list(metrics.values()))\n",
    "    with open('metrics.json', 'w') as f:\n",
    "        json.dump(metrics, f)\n",
    "\n",
    "def print_metrics(metrics, prefix=''):\n",
    "    text = f'{prefix}'\n",
    "    for key, value in metrics.items():\n",
    "        text += f'{key}: {value*100:.1f}%\\t'\n",
    "    print(text)\n",
    "\n",
    "def evaluate_grid(correct_grid, predicted_grids):\n",
    "    correct_grid = np.array(correct_grid)\n",
    "    valid_predicted_grids = [grid for grid in predicted_grids if grid]\n",
    "    metrics = dict(accuracy=0, correct_pixels=0, correct_size=0, unanswered=(len(predicted_grids) - len(valid_predicted_grids))/len(predicted_grids))\n",
    "    for predicted_grid in valid_predicted_grids:\n",
    "        predicted_grid = np.array(predicted_grid)\n",
    "        if correct_grid.shape == predicted_grid.shape:\n",
    "            metrics['accuracy'] = max(metrics['accuracy'], np.all(predicted_grid == correct_grid))\n",
    "            metrics['correct_pixels'] = max(metrics['correct_pixels'], np.mean(predicted_grid == correct_grid))\n",
    "            metrics['correct_size'] = max(metrics['correct_size'], correct_grid.shape == predicted_grid.shape)\n",
    "    return metrics"
   ]
  },
  {
   "cell_type": "markdown",
   "metadata": {},
   "source": [
    "## Evaluation"
   ]
  },
  {
   "cell_type": "code",
   "execution_count": null,
   "metadata": {},
   "outputs": [],
   "source": [
    "with open(cfg.solutions_filepath, 'r') as f:\n",
    "    solutions = json.load(f)\n",
    "data = load_arc_data_with_solutions(cfg.dataset_filepath)"
   ]
  },
  {
   "cell_type": "code",
   "execution_count": null,
   "metadata": {},
   "outputs": [],
   "source": [
    "evaluate(data, solutions)"
   ]
  },
  {
   "cell_type": "markdown",
   "metadata": {},
   "source": [
    "## TODO"
   ]
  },
  {
   "cell_type": "markdown",
   "metadata": {},
   "source": [
    "- [x] Analyze number of succesfull predictions per task, that is the unanswered metric!\n",
    "- [ ] How the number of predictions affects the metrics\n",
    "- [ ] Sort the tasks by accuracy, correct pixels and correct size\n",
    "- [ ] Print shape of grid along the metrics, is there any relationship? Smaller tasks are solved more frequently?"
   ]
  }
 ],
 "metadata": {
  "kernelspec": {
   "display_name": "arc",
   "language": "python",
   "name": "python3"
  },
  "language_info": {
   "codemirror_mode": {
    "name": "ipython",
    "version": 3
   },
   "file_extension": ".py",
   "mimetype": "text/x-python",
   "name": "python",
   "nbconvert_exporter": "python",
   "pygments_lexer": "ipython3",
   "version": "3.10.14"
  }
 },
 "nbformat": 4,
 "nbformat_minor": 2
}
