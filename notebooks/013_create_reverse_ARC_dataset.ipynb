{
 "cells": [
  {
   "cell_type": "markdown",
   "metadata": {},
   "source": [
    "# Create reverse ARC dataset"
   ]
  },
  {
   "cell_type": "markdown",
   "metadata": {},
   "source": [
    "## Goal"
   ]
  },
  {
   "cell_type": "markdown",
   "metadata": {},
   "source": [
    "Loop over all the ARC tasks and tag the reversible tasks. Then create a new version of the dataset for training."
   ]
  },
  {
   "cell_type": "markdown",
   "metadata": {},
   "source": [
    "## Imports"
   ]
  },
  {
   "cell_type": "code",
   "execution_count": null,
   "metadata": {},
   "outputs": [],
   "source": [
    "import sys\n",
    "import os\n",
    "import json\n",
    "import time\n",
    "import textwrap\n",
    "import matplotlib.pyplot as plt\n",
    "import matplotlib as mpl\n",
    "\n",
    "import ipywidgets as widgets\n",
    "from IPython.display import display, clear_output\n",
    "from ipywidgets import HBox, VBox\n",
    "\n",
    "sys.path.append(os.path.realpath('../scripts/'))\n",
    "\n",
    "from evaluation import plot_task\n",
    "\n",
    "plt.plot()\n",
    "plt.close('all')\n",
    "plt.rcParams[\"figure.figsize\"] = (25, 4)\n",
    "mpl.rcParams['lines.linewidth'] = 3\n",
    "mpl.rcParams['font.size'] = 16"
   ]
  },
  {
   "cell_type": "markdown",
   "metadata": {},
   "source": [
    "## Task labelling"
   ]
  },
  {
   "cell_type": "markdown",
   "metadata": {},
   "source": [
    "Let's find all the tasks that can be reversed."
   ]
  },
  {
   "cell_type": "code",
   "execution_count": null,
   "metadata": {},
   "outputs": [],
   "source": [
    "labels_filepath = '/mnt/hdd0/Kaggle/arc24/data/reversed_arc/reversible_tasks.json'\n",
    "if os.path.exists(labels_filepath):\n",
    "    with open(labels_filepath, 'r') as f:\n",
    "        labels = set(json.load(f))\n",
    "    print(f'Loaded {len(labels)} labels')\n",
    "else:\n",
    "    print('No labels found')\n",
    "    labels = set()"
   ]
  },
  {
   "cell_type": "code",
   "execution_count": null,
   "metadata": {},
   "outputs": [],
   "source": [
    "with open('/mnt/hdd0/Kaggle/arc24/data/new_partitions/train_rs7.json', 'r') as f:\n",
    "    tasks = json.load(f)"
   ]
  },
  {
   "cell_type": "code",
   "execution_count": null,
   "metadata": {},
   "outputs": [],
   "source": [
    "# Initial index\n",
    "index = 0\n",
    "keys = list(tasks.keys())\n",
    "\n",
    "# Function to plot the image (your custom function)\n",
    "def plot_image(image):\n",
    "    # Replace with your actual image plotting code\n",
    "    print(f\"Displaying {image}\")\n",
    "\n",
    "# Function to update the image display\n",
    "def update_display():\n",
    "    global index\n",
    "    clear_output(wait=True)  # Clear previous output\n",
    "    task_id = keys[index]\n",
    "    plot_task(tasks[task_id])\n",
    "    label_text.value = f\"Current task: {task_id} ({index + 1}/{len(keys)}) Already labelled tasks as reversible: {len(reversible_tasks)}\"\n",
    "    if task_id in reversible_tasks:\n",
    "        reversible_button.description = 'Unlabel as reversible'\n",
    "        reversible_button.button_style = 'danger'\n",
    "    else:\n",
    "        reversible_button.description = 'Label as reversible'\n",
    "        reversible_button.button_style = 'success'\n",
    "    # Redraw the widgets after clearing the output\n",
    "    display(VBox([label_text, HBox([prev_button, next_button, reversible_button])]))\n",
    "\n",
    "\n",
    "# Next button click event handler\n",
    "def on_next_button_clicked(b):\n",
    "    global index\n",
    "    if index < len(keys) - 1:\n",
    "        index += 1\n",
    "    update_display()\n",
    "\n",
    "# Previous button click event handler\n",
    "def on_prev_button_clicked(b):\n",
    "    global index\n",
    "    if index > 0:\n",
    "        index -= 1\n",
    "    update_display()\n",
    "\n",
    "# Label as Reversible button click event handler\n",
    "def on_reversible_button_clicked(b):\n",
    "    global index, reversible_tasks\n",
    "    task_id = keys[index]\n",
    "    if task_id in reversible_tasks:\n",
    "        reversible_tasks.remove(task_id)\n",
    "    else:\n",
    "        reversible_tasks.add(task_id)\n",
    "    with open(labels_filepath, 'w') as f:\n",
    "        json.dump(list(reversible_tasks), f)\n",
    "    if index < len(keys) - 1:\n",
    "        index += 1\n",
    "    update_display()\n",
    "\n",
    "# Creating the widgets\n",
    "next_button = widgets.Button(description=\"Next\")\n",
    "prev_button = widgets.Button(description=\"Previous\")\n",
    "reversible_button = widgets.Button(description=\"Label as Reversible\")\n",
    "label_text = widgets.Label()\n",
    "\n",
    "# Assigning the event handlers\n",
    "next_button.on_click(on_next_button_clicked)\n",
    "prev_button.on_click(on_prev_button_clicked)\n",
    "reversible_button.on_click(on_reversible_button_clicked)\n",
    "\n",
    "# Initial display\n",
    "update_display()"
   ]
  },
  {
   "cell_type": "markdown",
   "metadata": {},
   "source": [
    "- 12:14 started\n",
    "- 13:04 249 tasks viewed\n",
    "- 13:41 485\n",
    "\n",
    "- 14:33 restart\n",
    "- 14:54 600\n",
    "- 15:08 700\n",
    "\n",
    "Thus I have labeled the 700 tasks in around 2 hours. That is around 6 tasks per minute.\n",
    "There were 338 reversible tasks.\n",
    "\n",
    "In general I believe the reversed task is easier than the original task."
   ]
  },
  {
   "cell_type": "markdown",
   "metadata": {},
   "source": [
    "## Create reversed dataset"
   ]
  },
  {
   "cell_type": "code",
   "execution_count": null,
   "metadata": {},
   "outputs": [],
   "source": [
    "def create_reversed_dataset(input_filepath, output_filepath):\n",
    "    with open(input_filepath, 'r') as f:\n",
    "        tasks = json.load(f)\n",
    "    with open(labels_filepath, 'r') as f:\n",
    "        reversible_tasks = set(json.load(f))\n",
    "    reversed_tasks = dict()\n",
    "    for task_id, task in tasks.items():\n",
    "        if task_id not in reversible_tasks:\n",
    "            continue\n",
    "        reversed_tasks[task_id] = reverse_task(task)\n",
    "    with open(output_filepath, 'w') as f:\n",
    "        json.dump(reversed_tasks, f)\n",
    "\n",
    "def reverse_task(task):\n",
    "    \"\"\" Changes the input for the output \"\"\"\n",
    "    new_task = dict()\n",
    "    for key, samples in task.items():\n",
    "        new_task[key] = []\n",
    "        for sample in samples:\n",
    "            new_task[key].append({\n",
    "                'input': sample['output'],\n",
    "                'output': sample['input']\n",
    "            })\n",
    "    return new_task"
   ]
  },
  {
   "cell_type": "code",
   "execution_count": null,
   "metadata": {},
   "outputs": [],
   "source": [
    "create_reversed_dataset('/mnt/hdd0/Kaggle/arc24/data/new_partitions/train_rs7.json', '/mnt/hdd0/Kaggle/arc24/data/reversed_arc/reversed_train_rs7.json')\n",
    "with open('/mnt/hdd0/Kaggle/arc24/data/reversed_arc/reversed_train_rs7.json', 'r') as f:\n",
    "    reversed_tasks = json.load(f)\n",
    "\n",
    "plot_task(list(reversed_tasks.values())[200])"
   ]
  },
  {
   "cell_type": "markdown",
   "metadata": {},
   "source": []
  }
 ],
 "metadata": {
  "kernelspec": {
   "display_name": "arc",
   "language": "python",
   "name": "python3"
  },
  "language_info": {
   "codemirror_mode": {
    "name": "ipython",
    "version": 3
   },
   "file_extension": ".py",
   "mimetype": "text/x-python",
   "name": "python",
   "nbconvert_exporter": "python",
   "pygments_lexer": "ipython3",
   "version": "3.10.14"
  }
 },
 "nbformat": 4,
 "nbformat_minor": 2
}
