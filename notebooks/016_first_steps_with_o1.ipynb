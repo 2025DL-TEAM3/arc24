{
 "cells": [
  {
   "cell_type": "markdown",
   "metadata": {},
   "source": [
    "# First steps with o1"
   ]
  },
  {
   "cell_type": "markdown",
   "metadata": {},
   "source": [
    "## Goal"
   ]
  },
  {
   "cell_type": "markdown",
   "metadata": {},
   "source": [
    "Let's see if the new OpenAI's o1 model can write python code to solve the challenges."
   ]
  },
  {
   "cell_type": "markdown",
   "metadata": {},
   "source": [
    "## Imports"
   ]
  },
  {
   "cell_type": "code",
   "execution_count": null,
   "metadata": {},
   "outputs": [],
   "source": [
    "import sys\n",
    "import os\n",
    "import glob\n",
    "import json\n",
    "import numpy as np\n",
    "import matplotlib.pyplot as plt\n",
    "import matplotlib as mpl\n",
    "import pandas as pd\n",
    "from tqdm.auto import tqdm\n",
    "\n",
    "\n",
    "# add path to python path\n",
    "sys.path.append(os.path.realpath('../scripts/'))\n",
    "\n",
    "\n",
    "from arc24.data import load_arc_data_with_solutions\n",
    "from evaluation import plot_grids, plot_task, plot_grid\n",
    "\n",
    "plt.plot()\n",
    "plt.close('all')\n",
    "plt.rcParams[\"figure.figsize\"] = (25, 4)\n",
    "mpl.rcParams['lines.linewidth'] = 3\n",
    "mpl.rcParams['font.size'] = 16"
   ]
  },
  {
   "cell_type": "markdown",
   "metadata": {},
   "source": [
    "## Load data"
   ]
  },
  {
   "cell_type": "code",
   "execution_count": null,
   "metadata": {},
   "outputs": [],
   "source": [
    "train_data = load_arc_data_with_solutions('/mnt/hdd0/Kaggle/arc24/data/new_partitions/train_rs7.json')\n",
    "val_data = load_arc_data_with_solutions('/mnt/hdd0/Kaggle/arc24/data/new_partitions/val_rs7.json')"
   ]
  },
  {
   "cell_type": "markdown",
   "metadata": {},
   "source": [
    "## Experiments"
   ]
  },
  {
   "cell_type": "code",
   "execution_count": null,
   "metadata": {},
   "outputs": [],
   "source": [
    "def create_prompt_for_o1(task):\n",
    "    prompt = f\"\"\"Please write python code to implement the transformation shown in the examples below.\n",
    "The examples are taken from the Abstraction and Reasoning challenge. Each example has an input and an output grid.\n",
    "The size of the grids can vary from 1x1 to 30x30. The grids can contain up to 10 different colors. The colors are represented by integers from 0 to 9.\n",
    "The transformations are always based on the following priors: objectness, goal-directed, numbers & counting, and basic geometry & topology.\n",
    "\n",
    "{task['train']}\n",
    "\"\"\"\n",
    "    return prompt"
   ]
  },
  {
   "cell_type": "code",
   "execution_count": null,
   "metadata": {},
   "outputs": [],
   "source": [
    "task_id = list(train_data.keys())[4]\n",
    "print(task_id)\n",
    "plot_task(train_data[task_id]); plt.suptitle(task_id); plt.show()\n",
    "print(create_prompt_for_o1(train_data[task_id]))"
   ]
  },
  {
   "cell_type": "markdown",
   "metadata": {},
   "source": [
    "- [00d62c1b](https://chatgpt.com/share/66e3f18b-3bd4-8012-9a39-8af9c706ab54), the description is correct, I have not checked the code\n",
    "- [025d127b](https://chatgpt.com/share/66e3f269-0b08-8012-a0f2-1b6433301ed1) It has failed to understand the problem.\n",
    "- [045e512c](https://chatgpt.com/share/66e3f3d5-bcb8-8012-9634-dbb226a04141), does not understand the task, hallucinates that it uses the code interpreter"
   ]
  },
  {
   "cell_type": "markdown",
   "metadata": {},
   "source": []
  },
  {
   "cell_type": "code",
   "execution_count": null,
   "metadata": {},
   "outputs": [],
   "source": [
    "import numpy as np\n",
    "\n",
    "def solve(input_grid):\n",
    "    grid = np.array(input_grid)\n",
    "    output_grid = grid.copy()\n",
    "    visited = np.zeros_like(grid, dtype=bool)\n",
    "    max_row, max_col = grid.shape\n",
    "\n",
    "    # Get all unique colors except background (0)\n",
    "    colors = [color for color in np.unique(grid) if color != 0]\n",
    "\n",
    "    for color in colors:\n",
    "        # Find positions of the current color\n",
    "        positions = np.argwhere(grid == color)\n",
    "        \n",
    "        # Skip if already processed\n",
    "        if visited[positions[0][0], positions[0][1]]:\n",
    "            continue\n",
    "\n",
    "        # Mark as visited\n",
    "        for pos in positions:\n",
    "            visited[pos[0], pos[1]] = True\n",
    "\n",
    "        # Get bounding box\n",
    "        min_row, min_col = positions.min(axis=0)\n",
    "        max_row_obj, max_col_obj = positions.max(axis=0)\n",
    "\n",
    "        # Extract the object\n",
    "        object_grid = grid[min_row:max_row_obj+1, min_col:max_col_obj+1]\n",
    "        object_mask = (object_grid == color).astype(int)\n",
    "\n",
    "        # Pad to make it square\n",
    "        rows, cols = object_mask.shape\n",
    "        size = max(rows, cols)\n",
    "        pad_rows = size - rows\n",
    "        pad_cols = size - cols\n",
    "        pad_top = pad_rows // 2\n",
    "        pad_bottom = pad_rows - pad_top\n",
    "        pad_left = pad_cols // 2\n",
    "        pad_right = pad_cols - pad_left\n",
    "        object_mask_padded = np.pad(object_mask, ((pad_top, pad_bottom), (pad_left, pad_right)), mode='constant')\n",
    "\n",
    "        # Generate rotations\n",
    "        rotated_masks = [object_mask_padded]\n",
    "        rotated_masks.append(np.rot90(object_mask_padded, 1))\n",
    "        rotated_masks.append(np.rot90(object_mask_padded, 2))\n",
    "        rotated_masks.append(np.rot90(object_mask_padded, 3))\n",
    "\n",
    "        # Merge rotations\n",
    "        merged_mask = np.zeros_like(object_mask_padded)\n",
    "        for mask in rotated_masks:\n",
    "            merged_mask = np.logical_or(merged_mask, mask)\n",
    "\n",
    "        # Remove padding\n",
    "        merged_rows, merged_cols = merged_mask.shape\n",
    "        unpad_top = pad_top\n",
    "        unpad_bottom = merged_rows - pad_bottom\n",
    "        unpad_left = pad_left\n",
    "        unpad_right = merged_cols - pad_right\n",
    "        merged_mask_unpadded = merged_mask[unpad_top:unpad_bottom, unpad_left:unpad_right]\n",
    "\n",
    "        # Place the merged object back into the output grid\n",
    "        out_rows = merged_mask_unpadded.shape[0]\n",
    "        out_cols = merged_mask_unpadded.shape[1]\n",
    "        mask_indices = np.where(merged_mask_unpadded)\n",
    "        output_grid[min_row:min_row+out_rows, min_col:min_col+out_cols][mask_indices] = color\n",
    "\n",
    "    return output_grid.tolist()\n",
    "\n",
    "\n",
    "plot_grid(solve(train_data[task_id]['train'][1]['input'])); plt.show()"
   ]
  },
  {
   "cell_type": "code",
   "execution_count": null,
   "metadata": {},
   "outputs": [],
   "source": [
    "def solve(task):\n",
    "    import sys\n",
    "    sys.setrecursionlimit(1000000)\n",
    "\n",
    "    def flood_fill_from_edges(zero_grid, height, width):\n",
    "        visited = [[False]*width for _ in range(height)]\n",
    "        from collections import deque\n",
    "        queue = deque()\n",
    "\n",
    "        # Enqueue all edge zeros\n",
    "        for x in range(width):\n",
    "            if zero_grid[0][x] == 0:\n",
    "                queue.append((0, x))\n",
    "                visited[0][x] = True\n",
    "            if zero_grid[height-1][x] == 0:\n",
    "                queue.append((height-1, x))\n",
    "                visited[height-1][x] = True\n",
    "        for y in range(height):\n",
    "            if zero_grid[y][0] == 0:\n",
    "                queue.append((y, 0))\n",
    "                visited[y][0] = True\n",
    "            if zero_grid[y][width-1] == 0:\n",
    "                queue.append((y, width-1))\n",
    "                visited[y][width-1] = True\n",
    "\n",
    "        # Flood fill zeros connected to edges\n",
    "        while queue:\n",
    "            y, x = queue.popleft()\n",
    "            for dy, dx in [(-1,0),(1,0),(0,-1),(0,1)]:\n",
    "                ny, nx = y + dy, x + dx\n",
    "                if 0 <= ny < height and 0 <= nx < width:\n",
    "                    if not visited[ny][nx] and zero_grid[ny][nx] == 0:\n",
    "                        visited[ny][nx] = True\n",
    "                        queue.append((ny, nx))\n",
    "        return visited\n",
    "\n",
    "    input_grid = task['input']\n",
    "    height = len(input_grid)\n",
    "    width = len(input_grid[0])\n",
    "\n",
    "    # Create a grid where zeros are zeros, others are ones\n",
    "    zero_grid = [[0 if cell == 0 else 1 for cell in row] for row in input_grid]\n",
    "\n",
    "    # Flood fill from edges to mark zeros connected to the edge\n",
    "    connected_to_edge = flood_fill_from_edges(zero_grid, height, width)\n",
    "\n",
    "    # Now, zeros not connected to edge are enclosed zeros\n",
    "    output_grid = [row[:] for row in input_grid]  # Deep copy of input grid\n",
    "\n",
    "    for y in range(height):\n",
    "        for x in range(width):\n",
    "            if zero_grid[y][x] == 0 and not connected_to_edge[y][x]:\n",
    "                # Enclosed zero, replace with 4\n",
    "                output_grid[y][x] = 4\n",
    "\n",
    "    return output_grid\n",
    "plot_grid(solve(train_data['00d62c1b']['train'][2])); plt.show()"
   ]
  },
  {
   "cell_type": "code",
   "execution_count": null,
   "metadata": {},
   "outputs": [],
   "source": []
  }
 ],
 "metadata": {
  "kernelspec": {
   "display_name": "arc",
   "language": "python",
   "name": "python3"
  },
  "language_info": {
   "codemirror_mode": {
    "name": "ipython",
    "version": 3
   },
   "file_extension": ".py",
   "mimetype": "text/x-python",
   "name": "python",
   "nbconvert_exporter": "python",
   "pygments_lexer": "ipython3",
   "version": "3.10.14"
  }
 },
 "nbformat": 4,
 "nbformat_minor": 2
}
