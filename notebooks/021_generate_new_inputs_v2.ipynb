{
 "cells": [
  {
   "cell_type": "markdown",
   "metadata": {},
   "source": [
    "# Generate new inputs v2"
   ]
  },
  {
   "cell_type": "markdown",
   "metadata": {},
   "source": [
    "## Goal"
   ]
  },
  {
   "cell_type": "markdown",
   "metadata": {},
   "source": [
    "On this second notebook the generation of inputs will be done using the `inference` script, I will use this notebook\n",
    "to visualize the generated inputs and optimize the data and parameters."
   ]
  },
  {
   "cell_type": "markdown",
   "metadata": {},
   "source": [
    "## Imports"
   ]
  },
  {
   "cell_type": "code",
   "execution_count": null,
   "metadata": {},
   "outputs": [],
   "source": [
    "import matplotlib.pyplot as plt\n",
    "import matplotlib as mpl\n",
    "import json\n",
    "import sys\n",
    "import os\n",
    "\n",
    "sys.path.append(os.path.realpath('../scripts/'))\n",
    "from evaluation import plot_grid\n",
    "from arc24.data import load_arc_data_with_solutions\n",
    "\n",
    "plt.plot()\n",
    "plt.close('all')\n",
    "plt.rcParams[\"figure.figsize\"] = (25, 4)\n",
    "mpl.rcParams['lines.linewidth'] = 3\n",
    "mpl.rcParams['font.size'] = 16"
   ]
  },
  {
   "cell_type": "markdown",
   "metadata": {},
   "source": [
    "## How to generate"
   ]
  },
  {
   "cell_type": "markdown",
   "metadata": {},
   "source": [
    "```bash\n",
    "python inference.py \\\n",
    "--model_path /mnt/hdd0/Kaggle/arc24/models/20240925_submission_models/06_continue-full-fine-tuning-Qwen2.5-0.5B-Instruct_lr1.5e-5_1e5steps_2gpus_8192msl/checkpoint-100000 \\\n",
    "--prompt_version input-from-inputs-v0 \\\n",
    "--dataset_path /mnt/hdd0/Kaggle/arc24/data/arc-agi_training_challenges.json \\\n",
    "--output_filepath /mnt/hdd0/Kaggle/arc24/input_generations/01_original_train_x8.json \\\n",
    "--predictions_per_task 8 \\\n",
    "--temperature 0.7 \\\n",
    "--n_tasks 10\n",
    "\n",
    "\n",
    "python inference.py \\\n",
    "--model_path /mnt/hdd0/Kaggle/arc24/models/20240925_submission_models/06_continue-full-fine-tuning-Qwen2.5-0.5B-Instruct_lr1.5e-5_1e5steps_2gpus_8192msl/checkpoint-100000 \\\n",
    "--prompt_version input-from-inputs-v0 \\\n",
    "--dataset_path /mnt/hdd0/Kaggle/arc24/data/all_inputs/training.json \\\n",
    "--output_filepath /mnt/hdd0/Kaggle/arc24/input_generations/02_all_inputs_train_x8_temp0.json \\\n",
    "--predictions_per_task 8 \\\n",
    "--temperature 0 \\\n",
    "--n_tasks 10\n",
    "\n",
    "python inference.py \\\n",
    "--model_path /mnt/hdd0/Kaggle/arc24/models/20240925_submission_models/06_continue-full-fine-tuning-Qwen2.5-0.5B-Instruct_lr1.5e-5_1e5steps_2gpus_8192msl/checkpoint-100000 \\\n",
    "--prompt_version input-from-inputs-v0 \\\n",
    "--dataset_path /mnt/hdd0/Kaggle/arc24/data/all_inputs/training.json \\\n",
    "--output_filepath /mnt/hdd0/Kaggle/arc24/input_generations/02_all_inputs_train_x8_temp5e-1.json \\\n",
    "--predictions_per_task 8 \\\n",
    "--temperature 0.5 \\\n",
    "--n_tasks 10\n",
    "\n",
    "\n",
    "python inference.py \\\n",
    "--model_path /mnt/hdd0/Kaggle/arc24/models/20240925_submission_models/06_continue-full-fine-tuning-Qwen2.5-0.5B-Instruct_lr1.5e-5_1e5steps_2gpus_8192msl/checkpoint-100000 \\\n",
    "--prompt_version input-from-inputs-v0 \\\n",
    "--dataset_path /mnt/hdd0/Kaggle/arc24/data/all_inputs/training.json \\\n",
    "--output_filepath /mnt/hdd0/Kaggle/arc24/input_generations/02_all_inputs_train_x8_temp7e-1.json \\\n",
    "--predictions_per_task 8 \\\n",
    "--temperature 0.7 \\\n",
    "--n_tasks 10\n",
    "\n",
    "python inference.py \\\n",
    "--model_path /mnt/hdd0/Kaggle/arc24/models/20240925_submission_models/06_continue-full-fine-tuning-Qwen2.5-0.5B-Instruct_lr1.5e-5_1e5steps_2gpus_8192msl/checkpoint-100000 \\\n",
    "--prompt_version input-from-inputs-v0 \\\n",
    "--dataset_path /mnt/hdd0/Kaggle/arc24/data/all_inputs/training.json \\\n",
    "--output_filepath /mnt/hdd0/Kaggle/arc24/input_generations/02_all_inputs_train_x8_temp9e-1.json \\\n",
    "--predictions_per_task 8 \\\n",
    "--temperature 0.9 \\\n",
    "--n_tasks 10\n",
    "```"
   ]
  },
  {
   "cell_type": "markdown",
   "metadata": {},
   "source": [
    "## Visualize generated inputs"
   ]
  },
  {
   "cell_type": "code",
   "execution_count": null,
   "metadata": {},
   "outputs": [],
   "source": [
    "def visualize_generated_inputs(filepath):\n",
    "    with open(filepath, 'r') as f:\n",
    "        data = json.load(f)\n",
    "    for task_id, task_generations in data.items():\n",
    "        print(task_id)\n",
    "        for sample_generations in task_generations:\n",
    "            for plot_idx, generation in enumerate(sample_generations.values(), 1):\n",
    "                plt.subplot(1, len(sample_generations), plot_idx)\n",
    "                plot_grid(generation)\n",
    "            plt.show()"
   ]
  },
  {
   "cell_type": "code",
   "execution_count": null,
   "metadata": {},
   "outputs": [],
   "source": [
    "visualize_generated_inputs('/mnt/hdd0/Kaggle/arc24/input_generations/02_all_inputs_train_x8_temp0.json')"
   ]
  },
  {
   "cell_type": "code",
   "execution_count": null,
   "metadata": {},
   "outputs": [],
   "source": [
    "visualize_generated_inputs('/mnt/hdd0/Kaggle/arc24/input_generations/02_all_inputs_train_x8_temp5e-1.json')"
   ]
  },
  {
   "cell_type": "code",
   "execution_count": null,
   "metadata": {},
   "outputs": [],
   "source": [
    "visualize_generated_inputs('/mnt/hdd0/Kaggle/arc24/input_generations/02_all_inputs_train_x8_temp7e-1.json')"
   ]
  },
  {
   "cell_type": "code",
   "execution_count": null,
   "metadata": {},
   "outputs": [],
   "source": [
    "visualize_generated_inputs('/mnt/hdd0/Kaggle/arc24/input_generations/02_all_inputs_train_x8_temp9e-1.json')"
   ]
  },
  {
   "cell_type": "markdown",
   "metadata": {},
   "source": [
    "## Create dataset with all the inputs"
   ]
  },
  {
   "cell_type": "markdown",
   "metadata": {},
   "source": [
    "Initial generations seem to overfit to the test input. If I add the test input to the inputs I will force the model to generate new inputs."
   ]
  },
  {
   "cell_type": "code",
   "execution_count": null,
   "metadata": {},
   "outputs": [],
   "source": [
    "training_data = load_arc_data_with_solutions('/mnt/hdd0/Kaggle/arc24/data/arc-agi_training_challenges.json')"
   ]
  },
  {
   "cell_type": "code",
   "execution_count": null,
   "metadata": {},
   "outputs": [],
   "source": [
    "def create_all_inputs_dataset(dataset):\n",
    "    all_inputs_dataset = {}\n",
    "    for task_id, task in dataset.items():\n",
    "        all_inputs_dataset[task_id] = dict(\n",
    "            train=task['train'] + task['test'],\n",
    "            test=task['test'][:1], # only one test sample\n",
    "        )\n",
    "    return all_inputs_dataset"
   ]
  },
  {
   "cell_type": "code",
   "execution_count": null,
   "metadata": {},
   "outputs": [],
   "source": [
    "training_all_inputs_dataset = create_all_inputs_dataset(training_data)"
   ]
  },
  {
   "cell_type": "code",
   "execution_count": null,
   "metadata": {},
   "outputs": [],
   "source": [
    "with open('/mnt/hdd0/Kaggle/arc24/data/all_inputs/training.json', 'w') as f:\n",
    "    json.dump(training_all_inputs_dataset, f)"
   ]
  }
 ],
 "metadata": {
  "kernelspec": {
   "display_name": "arc",
   "language": "python",
   "name": "python3"
  },
  "language_info": {
   "codemirror_mode": {
    "name": "ipython",
    "version": 3
   },
   "file_extension": ".py",
   "mimetype": "text/x-python",
   "name": "python",
   "nbconvert_exporter": "python",
   "pygments_lexer": "ipython3",
   "version": "3.10.14"
  }
 },
 "nbformat": 4,
 "nbformat_minor": 2
}
