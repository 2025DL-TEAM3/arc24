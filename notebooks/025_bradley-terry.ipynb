{
 "cells": [
  {
   "cell_type": "markdown",
   "metadata": {},
   "source": [
    "# Implement bradley-terry ranking system"
   ]
  },
  {
   "cell_type": "code",
   "execution_count": null,
   "metadata": {},
   "outputs": [],
   "source": [
    "import numpy as np\n",
    "import logging\n",
    "\n",
    "logger = logging.getLogger(__name__)\n",
    "\n",
    "def bradley_terry(w, max_iter=1000, tol=1e-3, epsilon=1e-5):\n",
    "    \"\"\"\n",
    "    Estimates the strength of the predictions using the Bradley-Terry model.\n",
    "    As input receives a wins matrix, with the wins in the rows and the loses in the columns.\n",
    "    https://en.wikipedia.org/wiki/Bradley%E2%80%93Terry_model\n",
    "    \"\"\"\n",
    "    p = np.ones(w.shape[0])\n",
    "    for iteration in range(max_iter):\n",
    "        p_old = p.copy()\n",
    "        for i in range(w.shape[0]):\n",
    "            p[i] = max(np.sum(w[i]*p/(p + p[i] + epsilon))/(np.sum(w[:, i]/(p + p[i] + epsilon)) + epsilon), epsilon)\n",
    "        normalization_factor = p.prod()**(1/len(p))\n",
    "        p /= normalization_factor\n",
    "        if np.linalg.norm(p - p_old) < tol:\n",
    "            logger.debug(f\"Converged after {iteration+1} iterations.\")\n",
    "            break\n",
    "    return p\n",
    "\n",
    "wins_matrix = [\n",
    "    [0, 2, 0, 1],\n",
    "    [3, 0, 5, 0],\n",
    "    [0, 3, 0, 1],\n",
    "    [4, 0, 3, 0]\n",
    "]\n",
    "wins_matrix = np.array(wins_matrix)\n",
    "bradley_terry(wins_matrix, max_iter=1000).round(3)\n",
    "# expected  [0.640, 1.043, 0.660, 2.270] as in wikipedia"
   ]
  },
  {
   "cell_type": "code",
   "execution_count": null,
   "metadata": {},
   "outputs": [],
   "source": [
    "# player 0 plays 10 time more matches with same ratios\n",
    "wins_matrix = [\n",
    "    [0, 20, 0, 10],\n",
    "    [30, 0, 5, 0],\n",
    "    [0, 3, 0, 1],\n",
    "    [40, 0, 3, 0]\n",
    "]\n",
    "wins_matrix = np.array(wins_matrix)\n",
    "bradley_terry(wins_matrix, max_iter=1000).round(3)"
   ]
  },
  {
   "cell_type": "code",
   "execution_count": null,
   "metadata": {},
   "outputs": [],
   "source": [
    "# player 1 plays 10 time more matches against player 2\n",
    "wins_matrix = [\n",
    "    [0, 2, 0, 1],\n",
    "    [3, 0, 50, 0],\n",
    "    [0, 30, 0, 1],\n",
    "    [4, 0, 3, 0]\n",
    "]\n",
    "wins_matrix = np.array(wins_matrix)\n",
    "bradley_terry(wins_matrix, max_iter=1000).round(3)"
   ]
  },
  {
   "cell_type": "code",
   "execution_count": null,
   "metadata": {},
   "outputs": [],
   "source": [
    "# case where one team is always losing\n",
    "wins_matrix = [\n",
    "    [0, 8],\n",
    "    [0, 0],\n",
    "]\n",
    "wins_matrix = np.array(wins_matrix)\n",
    "bradley_terry(wins_matrix, max_iter=1000).round(3)"
   ]
  }
 ],
 "metadata": {
  "kernelspec": {
   "display_name": "arc",
   "language": "python",
   "name": "python3"
  },
  "language_info": {
   "codemirror_mode": {
    "name": "ipython",
    "version": 3
   },
   "file_extension": ".py",
   "mimetype": "text/x-python",
   "name": "python",
   "nbconvert_exporter": "python",
   "pygments_lexer": "ipython3",
   "version": "3.10.14"
  }
 },
 "nbformat": 4,
 "nbformat_minor": 2
}
