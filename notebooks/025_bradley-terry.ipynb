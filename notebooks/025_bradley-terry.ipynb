{
 "cells": [
  {
   "cell_type": "markdown",
   "metadata": {},
   "source": [
    "# Implement bradley-terry ranking system"
   ]
  },
  {
   "cell_type": "code",
   "execution_count": 29,
   "metadata": {},
   "outputs": [
    {
     "name": "stdout",
     "output_type": "stream",
     "text": [
      "[0.51637379 1.41260876 0.67160933 2.04125468]\n",
      "[0.67734685 1.03368552 0.62447816 2.28708969]\n",
      "[0.64996562 1.02624863 0.65621883 2.28459032]\n",
      "[0.63867658 1.04248289 0.661457   2.27064091]\n",
      "[0.63921261 1.04416265 0.66012747 2.26964904]\n",
      "[0.63984841 1.04342369 0.65974738 2.27030673]\n",
      "Converged after 7 iterations.\n"
     ]
    },
    {
     "data": {
      "text/plain": [
       "array([0.64 , 1.043, 0.66 , 2.27 ])"
      ]
     },
     "execution_count": 29,
     "metadata": {},
     "output_type": "execute_result"
    }
   ],
   "source": [
    "import numpy as np\n",
    "\n",
    "def bradley_terry(w, max_iter=1000, tol=1e-3):\n",
    "    \"\"\"https://en.wikipedia.org/wiki/Bradley%E2%80%93Terry_model\"\"\"\n",
    "    p = np.ones(w.shape[0])\n",
    "    for iteration in range(max_iter):\n",
    "        p_old = p.copy()\n",
    "        for i in range(w.shape[0]):\n",
    "            p[i] = np.sum(w[i]*p/(p + p[i]))/np.sum(w[:, i]/(p + p[i]))\n",
    "            #print(p_new[i], w[i]*p/(p + p[i]), w[:, i]/(p + p[i]))\n",
    "        p /= p.prod()**(1/len(p))\n",
    "        if np.linalg.norm(p - p_old) < tol:\n",
    "            print(f\"Converged after {iteration+1} iterations.\")\n",
    "            break\n",
    "        print(p)\n",
    "    return p\n",
    "\n",
    "wins_matrix = [\n",
    "    [0, 2, 0, 1],\n",
    "    [3, 0, 5, 0],\n",
    "    [0, 3, 0, 1],\n",
    "    [4, 0, 3, 0]\n",
    "]\n",
    "wins_matrix = np.array(wins_matrix)\n",
    "bradley_terry(wins_matrix, max_iter=1000).round(3)\n",
    "# expected  [0.640, 1.043, 0.660, 2.270] as in wikipedia"
   ]
  }
 ],
 "metadata": {
  "kernelspec": {
   "display_name": "arc",
   "language": "python",
   "name": "python3"
  },
  "language_info": {
   "codemirror_mode": {
    "name": "ipython",
    "version": 3
   },
   "file_extension": ".py",
   "mimetype": "text/x-python",
   "name": "python",
   "nbconvert_exporter": "python",
   "pygments_lexer": "ipython3",
   "version": "3.10.14"
  }
 },
 "nbformat": 4,
 "nbformat_minor": 2
}
