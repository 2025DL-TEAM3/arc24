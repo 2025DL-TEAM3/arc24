{
 "cells": [
  {
   "cell_type": "markdown",
   "id": "66b51707",
   "metadata": {
    "papermill": {
     "duration": 0.015714,
     "end_time": "2024-07-25T15:36:10.116284",
     "exception": false,
     "start_time": "2024-07-25T15:36:10.100570",
     "status": "completed"
    },
    "tags": []
   },
   "source": [
    "# Few-shot prompting for ARC24 Challenge"
   ]
  },
  {
   "cell_type": "markdown",
   "id": "b1be217e",
   "metadata": {
    "papermill": {
     "duration": 0.014823,
     "end_time": "2024-07-25T15:36:10.146526",
     "exception": false,
     "start_time": "2024-07-25T15:36:10.131703",
     "status": "completed"
    },
    "tags": []
   },
   "source": [
    "## Goal"
   ]
  },
  {
   "cell_type": "markdown",
   "id": "2b31c69c",
   "metadata": {
    "papermill": {
     "duration": 0.016046,
     "end_time": "2024-07-25T15:36:10.177524",
     "exception": false,
     "start_time": "2024-07-25T15:36:10.161478",
     "status": "completed"
    },
    "tags": []
   },
   "source": [
    "How far can we get by simply using few-shot prompting with LLMs?"
   ]
  },
  {
   "cell_type": "markdown",
   "id": "920c6908",
   "metadata": {
    "papermill": {
     "duration": 0.014934,
     "end_time": "2024-07-25T15:36:10.207646",
     "exception": false,
     "start_time": "2024-07-25T15:36:10.192712",
     "status": "completed"
    },
    "tags": []
   },
   "source": [
    "Questions to answer:\n",
    "\n",
    "- **What is the maximum context lenght that we can use at inference?** 61k tokens when using VLLM and phi-3\n",
    "- **What is the best way to encode the grids?** Use a minimal encoding to reduce token usage\n",
    "- **What is the effect of using a bigger number of examples?** Phi-3 does not benefit from using few-shot prompting\n",
    "- **Does giving a text description of the task helps?** Phi-3 does not benefit from including text description in the few-shot examples\n",
    "- **What is the best LLM for this task?** So far Llama 3 has been the only model capable of solving one test task."
   ]
  },
  {
   "cell_type": "markdown",
   "id": "fbb1318a",
   "metadata": {
    "papermill": {
     "duration": 0.014752,
     "end_time": "2024-07-25T15:36:10.237070",
     "exception": false,
     "start_time": "2024-07-25T15:36:10.222318",
     "status": "completed"
    },
    "tags": []
   },
   "source": [
    "## Results\n",
    "\n",
    "### Zero-shot baseline\n",
    "\n",
    "On a first step I have tried a very simple baseline where I give input grids to the assistant and\n",
    "the assistant replies with the output for each grid. This is done with all the train samples until\n",
    "we give the test input and use the response of the model as the prediction.\n",
    "In addition I also use data augmentations (flips and rotations) to make up to two predictions for each task.\n",
    "The data augmentation is also useful because sometimes the prediction of the model is invalid, so we have to make multiple predictions to have 2 valid responses.\n",
    "\n",
    "| train | evaluation | test |\n",
    "|-------|------------|------|\n",
    "| 6.40% | 2.50%      | 0%   |\n",
    "\n",
    "This approach is able to solve some of the train and evaluation task, but it does not solve any of the test tasks.\n",
    "\n",
    "### Few-shot results\n",
    "\n",
    "Using samples from the evaluation dataset I have evaluated the effect of using few-shot prompting. In this case\n",
    "I have changed the prompt style: the user shows input-output pairs to the assistant and then requests the assistant\n",
    "to predict the output given some input.\n",
    "\n",
    "| n shots | accuracy | correct_pixels | correct_size | unanswered |\n",
    "|---------|----------|----------------|--------------|------------|\n",
    "| 0       | 5.80%    | 55.10%         | 73.50%       | 17.40%     |\n",
    "| 1       | 4.50%    | 44.80%         | 61.00%       | 23.60%     |\n",
    "| 2       | 4.80%    | 37.70%         | 54.40%       | 29.80%     |\n",
    "| 4       | 2.50%    | 22.40%         | 33.10%       | 33.10%     |\n",
    "| 8       | 2.30%    | 23.10%         | 35.50%       | 36.80%     |\n",
    "\n",
    "The results show that Phi-3 does not benefit from few-shot prompting with ARC tasks. As we give more\n",
    "examples the results get worse.\n",
    "\n",
    "### Add reasoning\n",
    "\n",
    "I have manually described with text the transformation of some of the evaluation tasks. Then repeat\n",
    "the few-shot experiment but adding the reasoning before creating the grid.\n",
    "\n",
    "| uses reasoning | accuracy | correct_pixels | correct_size | unanswered |\n",
    "|----------------|----------|----------------|--------------|------------|\n",
    "| No             | 2.50%    | 22.40%         | 33.10%       | 33.10%     |\n",
    "| Yes            | 1%       | 19%            | 30.70%       | 42.50%     |\n",
    "\n",
    "The model does not understand the puzzles. The examples and reasoning are not useful\n",
    "\n",
    "### Different models, zero-shot\n",
    "\n",
    "Since the best results were obtained for the 0-shot setup, I could try using different models.\n",
    "I can make submissions without using compute time, so I could see if some of the models is able\n",
    "to solve some task from the test set.\n",
    "\n",
    "| model      | test |\n",
    "|------------|------|\n",
    "| Phi-3      | 0    |\n",
    "| Mistral 7b | 0    |\n",
    "| Llama 3 8b | 1    |\n",
    "| Llama 3.1 8b | 0    |\n",
    "\n",
    "Llama 3 is able to solve one of the tasks from the test set. To better compare the models I should\n",
    "evaluate them on the public data, but I don't have Kaggle compute available.\n",
    "\n",
    "## Conclusion\n",
    "\n",
    "Few-shot or zero-shot inference with current LLMs is not the way to solve the ARC challenge.\n",
    "The performance is very poor."
   ]
  },
  {
   "cell_type": "markdown",
   "id": "df4d24c7",
   "metadata": {
    "papermill": {
     "duration": 0.015374,
     "end_time": "2024-07-25T15:36:10.267690",
     "exception": false,
     "start_time": "2024-07-25T15:36:10.252316",
     "status": "completed"
    },
    "tags": []
   },
   "source": [
    "## References"
   ]
  },
  {
   "cell_type": "markdown",
   "id": "2a4b1aad",
   "metadata": {
    "papermill": {
     "duration": 0.015071,
     "end_time": "2024-07-25T15:36:10.299172",
     "exception": false,
     "start_time": "2024-07-25T15:36:10.284101",
     "status": "completed"
    },
    "tags": []
   },
   "source": [
    "### Notebooks"
   ]
  },
  {
   "cell_type": "markdown",
   "id": "7f088bdd",
   "metadata": {
    "papermill": {
     "duration": 0.016016,
     "end_time": "2024-07-25T15:36:10.330945",
     "exception": false,
     "start_time": "2024-07-25T15:36:10.314929",
     "status": "completed"
    },
    "tags": []
   },
   "source": [
    "- https://www.kaggle.com/code/ironbar/2xvllm-with-code-interpreter\n",
    "- https://www.kaggle.com/code/ironbar/autobots-roll-out/notebook"
   ]
  },
  {
   "cell_type": "markdown",
   "id": "b6392cf1",
   "metadata": {
    "papermill": {
     "duration": 0.01454,
     "end_time": "2024-07-25T15:36:10.360459",
     "exception": false,
     "start_time": "2024-07-25T15:36:10.345919",
     "status": "completed"
    },
    "tags": []
   },
   "source": [
    "### Models"
   ]
  },
  {
   "cell_type": "markdown",
   "id": "53ae6e36",
   "metadata": {
    "papermill": {
     "duration": 0.01509,
     "end_time": "2024-07-25T15:36:10.390620",
     "exception": false,
     "start_time": "2024-07-25T15:36:10.375530",
     "status": "completed"
    },
    "tags": []
   },
   "source": [
    "- https://huggingface.co/microsoft/Phi-3-mini-128k-instruct\n",
    "- https://huggingface.co/blog/kv-cache-quantization\n",
    "- https://www.reddit.com/r/LocalLLaMA/comments/1e0kkgk/hardware_requirements_for_phi3_mini_and_phi3/\n",
    "- https://www.reddit.com/media?url=https%3A%2F%2Fpreview.redd.it%2Fmicrosoft-phi-3-3-8b-with-128k-context-released-on-hf-v0-h2xzg8vaigwc1.jpeg%3Fwidth%3D1734%26format%3Dpjpg%26auto%3Dwebp%26s%3Dec27de7bd97a90a4c44ff95c561ce8008ce7aed3\n",
    "- https://huggingface.co/docs/transformers/main/en/chat_templating"
   ]
  },
  {
   "cell_type": "markdown",
   "id": "77a18f81",
   "metadata": {
    "papermill": {
     "duration": 0.014844,
     "end_time": "2024-07-25T15:36:10.420277",
     "exception": false,
     "start_time": "2024-07-25T15:36:10.405433",
     "status": "completed"
    },
    "tags": []
   },
   "source": [
    "> The Phi-3-Mini-128K-Instruct is a 3.8 billion-parameter, lightweight, state-of-the-art open model trained using the Phi-3 datasets. "
   ]
  },
  {
   "cell_type": "markdown",
   "id": "f0106d33",
   "metadata": {
    "papermill": {
     "duration": 0.014947,
     "end_time": "2024-07-25T15:36:10.450298",
     "exception": false,
     "start_time": "2024-07-25T15:36:10.435351",
     "status": "completed"
    },
    "tags": []
   },
   "source": [
    "## Learnings"
   ]
  },
  {
   "cell_type": "markdown",
   "id": "e9f522fb",
   "metadata": {
    "papermill": {
     "duration": 0.014973,
     "end_time": "2024-07-25T15:36:10.480579",
     "exception": false,
     "start_time": "2024-07-25T15:36:10.465606",
     "status": "completed"
    },
    "tags": []
   },
   "source": [
    "### Phi-3 with transformers"
   ]
  },
  {
   "cell_type": "markdown",
   "id": "79931e4c",
   "metadata": {
    "papermill": {
     "duration": 0.014539,
     "end_time": "2024-07-25T15:36:10.509938",
     "exception": false,
     "start_time": "2024-07-25T15:36:10.495399",
     "status": "completed"
    },
    "tags": []
   },
   "source": [
    "If I load the phi-3 model with `torch_dtype=\"auto\"` and `device_map=\"balanced\"` it uses 3.7 GB of GPU memory on each device. It is able to handle an input of 4000 tokens using 13.4/15 GB of memory.\n",
    "\n",
    "This is a very small context window compared to the 128k that the model is able to handle."
   ]
  },
  {
   "cell_type": "markdown",
   "id": "1b0b283f",
   "metadata": {
    "papermill": {
     "duration": 0.015016,
     "end_time": "2024-07-25T15:36:10.540029",
     "exception": false,
     "start_time": "2024-07-25T15:36:10.525013",
     "status": "completed"
    },
    "tags": []
   },
   "source": [
    "> ValueError: This model does not support the quantized cache. If you want your model to support quantized cache, please open an issue."
   ]
  },
  {
   "cell_type": "markdown",
   "id": "51dfb2b0",
   "metadata": {
    "papermill": {
     "duration": 0.014903,
     "end_time": "2024-07-25T15:36:10.569637",
     "exception": false,
     "start_time": "2024-07-25T15:36:10.554734",
     "status": "completed"
    },
    "tags": []
   },
   "source": [
    "### Phi-3 with VLLM"
   ]
  },
  {
   "cell_type": "markdown",
   "id": "e8b519c7",
   "metadata": {
    "papermill": {
     "duration": 0.014675,
     "end_time": "2024-07-25T15:36:10.599092",
     "exception": false,
     "start_time": "2024-07-25T15:36:10.584417",
     "status": "completed"
    },
    "tags": []
   },
   "source": [
    "It works with `vllm=0.5.3.post1` and `vllm-0.5.1`"
   ]
  },
  {
   "cell_type": "markdown",
   "id": "241c6058",
   "metadata": {
    "papermill": {
     "duration": 0.014717,
     "end_time": "2024-07-25T15:36:10.628899",
     "exception": false,
     "start_time": "2024-07-25T15:36:10.614182",
     "status": "completed"
    },
    "tags": []
   },
   "source": [
    "I had to use `vllm-0.5.1` to make it work, other versions didn't worked so far. I was able to run VLLM with `Phi-3-mini-128k-instruct` and a context size of 61k by using `kv_cache_dtype='fp8_e5m2'`.\n",
    "\n",
    "That is far from the 128k context size of the model, but much better than the 4k tokens when using transformers. Futhermore this [plot](https://www.reddit.com/media?url=https%3A%2F%2Fpreview.redd.it%2Fmicrosoft-phi-3-3-8b-with-128k-context-released-on-hf-v0-h2xzg8vaigwc1.jpeg%3Fwidth%3D1734%26format%3Dpjpg%26auto%3Dwebp%26s%3Dec27de7bd97a90a4c44ff95c561ce8008ce7aed3) says that a context size bigger than 44k does not work well."
   ]
  },
  {
   "cell_type": "markdown",
   "id": "70703ff0",
   "metadata": {
    "papermill": {
     "duration": 0.015047,
     "end_time": "2024-07-25T15:36:10.659104",
     "exception": false,
     "start_time": "2024-07-25T15:36:10.644057",
     "status": "completed"
    },
    "tags": []
   },
   "source": [
    "#### What didn't work"
   ]
  },
  {
   "cell_type": "markdown",
   "id": "7c7acc68",
   "metadata": {
    "papermill": {
     "duration": 0.015831,
     "end_time": "2024-07-25T15:36:10.689900",
     "exception": false,
     "start_time": "2024-07-25T15:36:10.674069",
     "status": "completed"
    },
    "tags": []
   },
   "source": [
    "I can makek it work with `vllm==0.4.3` and `Phi-3-mini-4k-instruct` with 4000 input tokens. However with `Phi-3-mini-128k-instruct` I get this error: \n",
    "\n",
    "```\n",
    "File /opt/conda/lib/python3.10/site-packages/vllm/config.py:1224, in _get_and_verify_max_len(hf_config, max_model_len, disable_sliding_window, sliding_window_len)\n",
    "   1217 if disable_sliding_window:\n",
    "   1218     # TODO(robertgshaw): Find a model that supports rope_scaling\n",
    "   1219     # with sliding window to see if this case should be allowed.\n",
    "   1220     raise NotImplementedError(\n",
    "   1221         \"Disabling sliding window is not supported for models \"\n",
    "   1222         \"with rope_scaling. Please raise an issue so we can \"\n",
    "   1223         \"investigate.\")\n",
    "-> 1224 assert \"factor\" in rope_scaling\n",
    "   1225 scaling_factor = rope_scaling[\"factor\"]\n",
    "   1226 if rope_scaling[\"type\"] == \"yarn\":\n",
    "\n",
    "AssertionError: \n",
    "```"
   ]
  },
  {
   "cell_type": "markdown",
   "id": "68da7e2a",
   "metadata": {
    "papermill": {
     "duration": 0.014841,
     "end_time": "2024-07-25T15:36:10.721610",
     "exception": false,
     "start_time": "2024-07-25T15:36:10.706769",
     "status": "completed"
    },
    "tags": []
   },
   "source": [
    "If I use `vllm-0.5.2` I get the same error for both models:\n",
    "\n",
    "```\n",
    "AttributeError: '_OpNamespace' '_C' object has no attribute 'rms_norm'\n",
    "```"
   ]
  },
  {
   "cell_type": "markdown",
   "id": "d6d30ace",
   "metadata": {
    "papermill": {
     "duration": 0.017048,
     "end_time": "2024-07-25T15:36:10.795415",
     "exception": false,
     "start_time": "2024-07-25T15:36:10.778367",
     "status": "completed"
    },
    "tags": []
   },
   "source": [
    "If I use `vllm-0.5.1` it works for the 4k model. The 128k model gives OOM error.\n",
    "\n",
    "I try then using `tensor_parallel_size=2` and get this error:\n",
    "\n",
    "```\n",
    "# `tensor_parallel_size=2` \n",
    "ValueError: The model's max seq len (64000) is larger than the maximum number of tokens that can be stored in KV cache (30528). Try increasing `gpu_memory_utilization` or decreasing `max_model_len` when initializing the engine.\n",
    "# `tensor_parallel_size=2` and kv_cache_dtype='fp8_e5m2',\n",
    "ValueError: The model's max seq len (64000) is larger than the maximum number of tokens that can be stored in KV cache (61072). Try increasing `gpu_memory_utilization` or decreasing `max_model_len` when initializing the engine.\n",
    "```"
   ]
  },
  {
   "cell_type": "markdown",
   "id": "af491d70",
   "metadata": {
    "papermill": {
     "duration": 0.014749,
     "end_time": "2024-07-25T15:36:10.825764",
     "exception": false,
     "start_time": "2024-07-25T15:36:10.811015",
     "status": "completed"
    },
    "tags": []
   },
   "source": [
    "#### Getting the same output as with transformers\n",
    "\n",
    "I have verified that if I apply the chat template before calling the model, and if I don't use kv cache quantization I get the [exact same response](https://www.kaggle.com/code/ironbar/phi-3-sample-code?scriptVersionId=188682799) to the default messages in the model documentation:\n",
    "\n",
    "```\n",
    " To solve the equation 2x + 3 = 7, follow these steps:\n",
    "\n",
    "1. Subtract 3 from both sides of the equation:\n",
    "   2x + 3 - 3 = 7 - 3\n",
    "   2x = 4\n",
    "\n",
    "2. Divide both sides of the equation by 2:\n",
    "   2x/2 = 4/2\n",
    "   x = 2\n",
    "\n",
    "So, the solution to the equation 2x + 3 = 7 is x = 2.\n",
    "```"
   ]
  },
  {
   "cell_type": "markdown",
   "id": "f0dcacab",
   "metadata": {
    "papermill": {
     "duration": 0.015126,
     "end_time": "2024-07-25T15:36:10.856055",
     "exception": false,
     "start_time": "2024-07-25T15:36:10.840929",
     "status": "completed"
    },
    "tags": []
   },
   "source": [
    "### First experiments"
   ]
  },
  {
   "cell_type": "markdown",
   "id": "a08b4871",
   "metadata": {
    "papermill": {
     "duration": 0.015085,
     "end_time": "2024-07-25T15:36:10.886435",
     "exception": false,
     "start_time": "2024-07-25T15:36:10.871350",
     "status": "completed"
    },
    "tags": []
   },
   "source": [
    "Using a basic grid encoder already uses 8k tokens in the worst case. (`30x30x2x4=7200`)\n",
    "Thus an encoder that uses excel notation (A1, B2...) will use at least 3 times more tokens. "
   ]
  },
  {
   "cell_type": "markdown",
   "id": "e7ac24e7",
   "metadata": {
    "papermill": {
     "duration": 0.014462,
     "end_time": "2024-07-25T15:36:10.915731",
     "exception": false,
     "start_time": "2024-07-25T15:36:10.901269",
     "status": "completed"
    },
    "tags": []
   },
   "source": [
    "## Configuration"
   ]
  },
  {
   "cell_type": "code",
   "execution_count": null,
   "id": "5ff5a0f7",
   "metadata": {
    "execution": {
     "iopub.execute_input": "2024-07-25T15:36:10.947132Z",
     "iopub.status.busy": "2024-07-25T15:36:10.946765Z",
     "iopub.status.idle": "2024-07-25T15:36:10.959861Z",
     "shell.execute_reply": "2024-07-25T15:36:10.958961Z"
    },
    "papermill": {
     "duration": 0.031324,
     "end_time": "2024-07-25T15:36:10.961966",
     "exception": false,
     "start_time": "2024-07-25T15:36:10.930642",
     "status": "completed"
    },
    "tags": []
   },
   "outputs": [],
   "source": [
    "class cfg:\n",
    "    # Model\n",
    "    #model_path = '/kaggle/input/phi-3/transformers/phi-3-mini-128k-instruct/1/Phi-3-mini-128k-instruct'\n",
    "    #model_path = '/kaggle/input/mistral/pytorch/7b-instruct-v0.1-hf/1'\n",
    "    #model_path = '/kaggle/input/llama-3/transformers/8b-chat-hf/1'\n",
    "    # model_path = \"/home/gbarbadillo/data/Phi-3-mini-128k-instruct\"\n",
    "    # model_path = \"/home/gbarbadillo/data/Phi-3-count\"\n",
    "    # model_path = '/home/gbarbadillo/data/llama-3.1-transformers-8b-instruct-v1'\n",
    "    # model_path = '/home/gbarbadillo/data/llama-3.1-count'\n",
    "    model_path = \"/home/gbarbadillo/data/Phi-3-arc\"\n",
    "    max_model_len = 8192 #61000 for phi-3\n",
    "    # Dataset\n",
    "    # dataset_path = '/mnt/hdd0/Kaggle/arc24/data/arc-agi_training_challenges.json'\n",
    "    dataset_path = '/mnt/hdd0/Kaggle/arc24/data/arc-agi_evaluation_challenges.json'\n",
    "    #dataset_path = '/kaggle/input/arc-prize-2024/arc-agi_evaluation_challenges.json'\n",
    "    n_tasks = None # Optional parameter to limit the number of task in the inference, set it to None to use all the tasks\n",
    "    # Few-shot\n",
    "    few_shot_dataset_path = '/mnt/hdd0/Kaggle/arc24/data/arc-agi_evaluation_challenges.json'\n",
    "    n_shots = 0\n",
    "    # Inference params\n",
    "    max_predictions_per_task = 2 # \n",
    "    sampling_params = dict(temperature=0.0, max_tokens=1000) # https://docs.vllm.ai/en/latest/dev/sampling_params.html"
   ]
  },
  {
   "cell_type": "code",
   "execution_count": null,
   "id": "6e968d45",
   "metadata": {
    "execution": {
     "iopub.execute_input": "2024-07-25T15:36:10.993749Z",
     "iopub.status.busy": "2024-07-25T15:36:10.993482Z",
     "iopub.status.idle": "2024-07-25T15:36:10.998542Z",
     "shell.execute_reply": "2024-07-25T15:36:10.997652Z"
    },
    "papermill": {
     "duration": 0.023429,
     "end_time": "2024-07-25T15:36:11.000519",
     "exception": false,
     "start_time": "2024-07-25T15:36:10.977090",
     "status": "completed"
    },
    "tags": []
   },
   "outputs": [],
   "source": [
    "import os\n",
    "is_dry_run = cfg.dataset_path == '/kaggle/input/arc-prize-2024/arc-agi_test_challenges.json' and not os.getenv('KAGGLE_IS_COMPETITION_RERUN')\n",
    "if is_dry_run:\n",
    "    print('This is a dry run, no inference nor installation of packages will be done')"
   ]
  },
  {
   "cell_type": "markdown",
   "id": "89737bbf",
   "metadata": {
    "papermill": {
     "duration": 0.014776,
     "end_time": "2024-07-25T15:36:11.030304",
     "exception": false,
     "start_time": "2024-07-25T15:36:11.015528",
     "status": "completed"
    },
    "tags": []
   },
   "source": [
    "## Install"
   ]
  },
  {
   "cell_type": "code",
   "execution_count": null,
   "id": "d407bdaf",
   "metadata": {},
   "outputs": [],
   "source": [
    "import vllm\n",
    "from vllm import LLM, SamplingParams\n",
    "from vllm.lora.request import LoRARequest\n",
    "from transformers import AutoTokenizer"
   ]
  },
  {
   "cell_type": "markdown",
   "id": "6f542ce5",
   "metadata": {
    "papermill": {
     "duration": 0.015137,
     "end_time": "2024-07-25T15:36:11.100605",
     "exception": false,
     "start_time": "2024-07-25T15:36:11.085468",
     "status": "completed"
    },
    "tags": []
   },
   "source": [
    "## Imports"
   ]
  },
  {
   "cell_type": "code",
   "execution_count": null,
   "id": "6c7d0d1f",
   "metadata": {
    "execution": {
     "iopub.execute_input": "2024-07-25T15:36:11.132675Z",
     "iopub.status.busy": "2024-07-25T15:36:11.132414Z",
     "iopub.status.idle": "2024-07-25T15:36:11.284044Z",
     "shell.execute_reply": "2024-07-25T15:36:11.283301Z"
    },
    "papermill": {
     "duration": 0.169788,
     "end_time": "2024-07-25T15:36:11.285901",
     "exception": false,
     "start_time": "2024-07-25T15:36:11.116113",
     "status": "completed"
    },
    "tags": []
   },
   "outputs": [],
   "source": [
    "from abc import ABC, abstractmethod\n",
    "import json\n",
    "import os\n",
    "from tqdm.auto import tqdm\n",
    "import numpy as np\n",
    "from itertools import islice, product\n",
    "import matplotlib.pyplot as plt\n",
    "from matplotlib import colors\n",
    "from termcolor import colored"
   ]
  },
  {
   "cell_type": "markdown",
   "id": "c4cfed79",
   "metadata": {
    "papermill": {
     "duration": 0.016298,
     "end_time": "2024-07-25T15:36:11.317599",
     "exception": false,
     "start_time": "2024-07-25T15:36:11.301301",
     "status": "completed"
    },
    "tags": []
   },
   "source": [
    "## Code"
   ]
  },
  {
   "cell_type": "markdown",
   "id": "303f59b1",
   "metadata": {},
   "source": [
    "### Wait for gpu available"
   ]
  },
  {
   "cell_type": "code",
   "execution_count": null,
   "id": "0cdf8d80",
   "metadata": {},
   "outputs": [],
   "source": [
    "# import torch\n",
    "# import time\n",
    "\n",
    "# import logging\n",
    "\n",
    "# for handler in logging.root.handlers[:]:\n",
    "#     logging.root.removeHandler(handler)\n",
    "# logging.basicConfig(level=logging.INFO,\n",
    "#                     format='%(asctime)s - %(levelname)s - %(message)s')\n",
    "\n",
    "# def is_gpu_memory_available(required_memory=14):\n",
    "#     for device in range(torch.cuda.device_count()):\n",
    "#         available_memory = torch.cuda.mem_get_info(device)[0]/1024**3\n",
    "#         logging.info(f'Available memory on GPU {device} is {available_memory:.1f} GB')\n",
    "#         if available_memory < required_memory:\n",
    "#             return False\n",
    "#     return True\n",
    "\n",
    "# def wait_for_gpu_memory(wait_time=60, required_memory=14):\n",
    "#     while not is_gpu_memory_available(required_memory):\n",
    "#         logging.info(f'Waiting for GPU memory to be available...')\n",
    "#         time.sleep(wait_time)\n",
    "#     logging.info(f'GPU memory is available. Let\\'s go training!')\n",
    "#     time.sleep(1) # wait a bit more to ensure the server is ready\n",
    "\n",
    "# wait_for_gpu_memory(wait_time=360)"
   ]
  },
  {
   "cell_type": "markdown",
   "id": "01e0c454",
   "metadata": {
    "papermill": {
     "duration": 0.016207,
     "end_time": "2024-07-25T15:36:11.350797",
     "exception": false,
     "start_time": "2024-07-25T15:36:11.334590",
     "status": "completed"
    },
    "tags": []
   },
   "source": [
    "### Grid encoding"
   ]
  },
  {
   "cell_type": "markdown",
   "id": "5fd30020",
   "metadata": {
    "papermill": {
     "duration": 0.015934,
     "end_time": "2024-07-25T15:36:11.382598",
     "exception": false,
     "start_time": "2024-07-25T15:36:11.366664",
     "status": "completed"
    },
    "tags": []
   },
   "source": [
    "There are many ways to encode/format the grid as input to the LLM. In this section we are going to define several encoders so we can sistematically try them all."
   ]
  },
  {
   "cell_type": "code",
   "execution_count": null,
   "id": "b1f67227",
   "metadata": {
    "execution": {
     "iopub.execute_input": "2024-07-25T15:36:11.415745Z",
     "iopub.status.busy": "2024-07-25T15:36:11.415465Z",
     "iopub.status.idle": "2024-07-25T15:36:11.420193Z",
     "shell.execute_reply": "2024-07-25T15:36:11.419255Z"
    },
    "papermill": {
     "duration": 0.023631,
     "end_time": "2024-07-25T15:36:11.422251",
     "exception": false,
     "start_time": "2024-07-25T15:36:11.398620",
     "status": "completed"
    },
    "tags": []
   },
   "outputs": [],
   "source": [
    "class GridEncoder(ABC):\n",
    "    @abstractmethod\n",
    "    def to_text(self, grid):\n",
    "        pass\n",
    "    \n",
    "    @abstractmethod\n",
    "    def to_grid(self, text):\n",
    "        pass"
   ]
  },
  {
   "cell_type": "code",
   "execution_count": null,
   "id": "c1d2e828",
   "metadata": {
    "execution": {
     "iopub.execute_input": "2024-07-25T15:36:11.455383Z",
     "iopub.status.busy": "2024-07-25T15:36:11.455100Z",
     "iopub.status.idle": "2024-07-25T15:36:11.459739Z",
     "shell.execute_reply": "2024-07-25T15:36:11.458874Z"
    },
    "papermill": {
     "duration": 0.023595,
     "end_time": "2024-07-25T15:36:11.461730",
     "exception": false,
     "start_time": "2024-07-25T15:36:11.438135",
     "status": "completed"
    },
    "tags": []
   },
   "outputs": [],
   "source": [
    "sample_grid = np.eye(3, dtype=int).tolist()\n",
    "\n",
    "def test_translator(translator):\n",
    "    assert sample_grid == translator.to_grid(translator.to_text(sample_grid))\n",
    "    print(translator.to_text(sample_grid))"
   ]
  },
  {
   "cell_type": "code",
   "execution_count": null,
   "id": "e11aa8af",
   "metadata": {
    "execution": {
     "iopub.execute_input": "2024-07-25T15:36:11.494098Z",
     "iopub.status.busy": "2024-07-25T15:36:11.493304Z",
     "iopub.status.idle": "2024-07-25T15:36:11.499794Z",
     "shell.execute_reply": "2024-07-25T15:36:11.498956Z"
    },
    "papermill": {
     "duration": 0.024732,
     "end_time": "2024-07-25T15:36:11.501856",
     "exception": false,
     "start_time": "2024-07-25T15:36:11.477124",
     "status": "completed"
    },
    "tags": []
   },
   "outputs": [],
   "source": [
    "class MinimalGridEncoder(GridEncoder):\n",
    "    @staticmethod\n",
    "    def to_text(grid):\n",
    "        text = '\\n'.join([''.join([str(x) for x in line]) for line in grid])\n",
    "        return text\n",
    "    \n",
    "    @staticmethod\n",
    "    def to_grid(text):\n",
    "        lines = text.strip().splitlines()\n",
    "        grid = [[int(x) for x in line] for line in lines]\n",
    "        return grid\n",
    "        \n",
    "test_translator(MinimalGridEncoder())"
   ]
  },
  {
   "cell_type": "code",
   "execution_count": null,
   "id": "a31edce8",
   "metadata": {
    "execution": {
     "iopub.execute_input": "2024-07-25T15:36:11.533939Z",
     "iopub.status.busy": "2024-07-25T15:36:11.533676Z",
     "iopub.status.idle": "2024-07-25T15:36:11.540238Z",
     "shell.execute_reply": "2024-07-25T15:36:11.539404Z"
    },
    "papermill": {
     "duration": 0.025064,
     "end_time": "2024-07-25T15:36:11.542333",
     "exception": false,
     "start_time": "2024-07-25T15:36:11.517269",
     "status": "completed"
    },
    "tags": []
   },
   "outputs": [],
   "source": [
    "class GridWithSeparationEncoder(GridEncoder):\n",
    "    def __init__(self, split_symbol):\n",
    "        self.split_symbol = split_symbol\n",
    "\n",
    "    def to_text(self, grid):\n",
    "        text = '\\n'.join([self.split_symbol.join([str(x) for x in line]) for line in grid])\n",
    "        return text\n",
    "    \n",
    "    def to_grid(self, text):\n",
    "        lines = text.strip().splitlines()\n",
    "        grid = [[int(x) for x in line.split(self.split_symbol)] for line in lines]\n",
    "        return grid\n",
    "        \n",
    "test_translator(GridWithSeparationEncoder('|'))"
   ]
  },
  {
   "cell_type": "code",
   "execution_count": null,
   "id": "790cf200",
   "metadata": {
    "execution": {
     "iopub.execute_input": "2024-07-25T15:36:11.573869Z",
     "iopub.status.busy": "2024-07-25T15:36:11.573610Z",
     "iopub.status.idle": "2024-07-25T15:36:11.579993Z",
     "shell.execute_reply": "2024-07-25T15:36:11.579202Z"
    },
    "papermill": {
     "duration": 0.024544,
     "end_time": "2024-07-25T15:36:11.582160",
     "exception": false,
     "start_time": "2024-07-25T15:36:11.557616",
     "status": "completed"
    },
    "tags": []
   },
   "outputs": [],
   "source": [
    "class GridCodeBlockEncoder(GridEncoder):\n",
    "    def __init__(self, base_encoder):\n",
    "        self.encoder = base_encoder\n",
    "    \n",
    "    def to_text(self, grid):\n",
    "        text = f'```grid\\n{self.encoder.to_text(grid)}\\n```'\n",
    "        return text\n",
    "    \n",
    "    def to_grid(self, text):\n",
    "        grid_text = text.split('```grid\\n')[1].split('\\n```')[0]\n",
    "        grid = self.encoder.to_grid(grid_text)\n",
    "        return grid\n",
    "        \n",
    "test_translator(GridCodeBlockEncoder(MinimalGridEncoder()))\n",
    "\n",
    "test_translator(GridCodeBlockEncoder(GridWithSeparationEncoder('|')))"
   ]
  },
  {
   "cell_type": "markdown",
   "id": "8b14eaab",
   "metadata": {
    "papermill": {
     "duration": 0.015098,
     "end_time": "2024-07-25T15:36:11.612618",
     "exception": false,
     "start_time": "2024-07-25T15:36:11.597520",
     "status": "completed"
    },
    "tags": []
   },
   "source": [
    "### Prompting"
   ]
  },
  {
   "cell_type": "markdown",
   "id": "d7b91c10",
   "metadata": {
    "papermill": {
     "duration": 0.015266,
     "end_time": "2024-07-25T15:36:11.643311",
     "exception": false,
     "start_time": "2024-07-25T15:36:11.628045",
     "status": "completed"
    },
    "tags": []
   },
   "source": [
    "There are also many ways to build a prompt for the ARC challenge. The class that builds the prompt will receive a grid encoder as input, this way we can try different prompts with different grid encoders. \n",
    "The class that builds the prompts needs to be also capable of parsing the response from the model."
   ]
  },
  {
   "cell_type": "code",
   "execution_count": null,
   "id": "c059c5fd",
   "metadata": {
    "execution": {
     "iopub.execute_input": "2024-07-25T15:36:11.674964Z",
     "iopub.status.busy": "2024-07-25T15:36:11.674699Z",
     "iopub.status.idle": "2024-07-25T15:36:11.679236Z",
     "shell.execute_reply": "2024-07-25T15:36:11.678470Z"
    },
    "papermill": {
     "duration": 0.02246,
     "end_time": "2024-07-25T15:36:11.681253",
     "exception": false,
     "start_time": "2024-07-25T15:36:11.658793",
     "status": "completed"
    },
    "tags": []
   },
   "outputs": [],
   "source": [
    "class PromptCreator(ABC):\n",
    "    def __init__(self, grid_encoder: GridEncoder):\n",
    "        self.grid_encoder = grid_encoder\n",
    "    \n",
    "    @abstractmethod\n",
    "    def create_task_prompts(self, task):\n",
    "        pass\n",
    "    \n",
    "    @abstractmethod\n",
    "    def parse_response(self, text):\n",
    "        pass"
   ]
  },
  {
   "cell_type": "code",
   "execution_count": null,
   "id": "25c4c82a",
   "metadata": {
    "execution": {
     "iopub.execute_input": "2024-07-25T15:36:11.713632Z",
     "iopub.status.busy": "2024-07-25T15:36:11.713390Z",
     "iopub.status.idle": "2024-07-25T15:36:11.722220Z",
     "shell.execute_reply": "2024-07-25T15:36:11.721457Z"
    },
    "papermill": {
     "duration": 0.027199,
     "end_time": "2024-07-25T15:36:11.724183",
     "exception": false,
     "start_time": "2024-07-25T15:36:11.696984",
     "status": "completed"
    },
    "tags": []
   },
   "outputs": [],
   "source": [
    "class SimplePromptCreator(PromptCreator):\n",
    "\n",
    "    def create_task_prompts(self, task):\n",
    "        if cfg.model_path == '/kaggle/input/mistral/pytorch/7b-instruct-v0.1-hf/1':\n",
    "            # Mistral does not have system prompt\n",
    "            messages = []\n",
    "        else:\n",
    "            messages = [ \n",
    "                {\"role\": \"system\", \"content\": \"You are a helpful AI assistant. Your task is to answer to the user using always the same transformation of the user input.\"}, \n",
    "            ] \n",
    "        for sample in task['train']:\n",
    "            messages.append({\"role\": \"user\", \"content\": f\"Input:\\n{self.grid_encoder.to_text(sample['input'])}\"})\n",
    "            messages.append({\"role\": \"assistant\", \"content\": f\"Output:\\n{self.grid_encoder.to_text(sample['output'])}\"})\n",
    "\n",
    "        prompts = []\n",
    "        for test_sample in task['test']:\n",
    "            final_message = {\"role\": \"user\", \"content\": f\"Input:\\n{self.grid_encoder.to_text(test_sample['input'])}\"}\n",
    "            prompt = tokenizer.apply_chat_template(messages + [final_message],\n",
    "                                                   tokenize=False,\n",
    "                                                   add_generation_prompt=True)\n",
    "            prompts.append(prompt)\n",
    "        return prompts\n",
    "    \n",
    "    def parse_response(self, text):\n",
    "        grid_text = text.split('Output:\\n')[1]\n",
    "        return self.grid_encoder.to_grid(grid_text)"
   ]
  },
  {
   "cell_type": "code",
   "execution_count": null,
   "id": "f645feb5",
   "metadata": {
    "execution": {
     "iopub.execute_input": "2024-07-25T15:36:11.756489Z",
     "iopub.status.busy": "2024-07-25T15:36:11.756229Z",
     "iopub.status.idle": "2024-07-25T15:36:11.763461Z",
     "shell.execute_reply": "2024-07-25T15:36:11.762687Z"
    },
    "papermill": {
     "duration": 0.025694,
     "end_time": "2024-07-25T15:36:11.765363",
     "exception": false,
     "start_time": "2024-07-25T15:36:11.739669",
     "status": "completed"
    },
    "tags": []
   },
   "outputs": [],
   "source": [
    "puzzle_explanations = {\n",
    "    '00576224': \"\"\"The pattern of the input is repeated to generate the output.\n",
    "\n",
    "1. The first two rows are obtained by simply repeating the 2x2 pattern 3 times along the cols axis.\n",
    "2. The following two rows are obtained by flipping the pattern horizontally and repeating it 3 times\n",
    "3. The final two rows are identical to the first ones, simply repeat the 2x2 pattern 3 times.\n",
    "\n",
    "Thus the output is 3 times bigger than the input (6x6 vs 2x2) because the pattern is repeated 3 times in the row and col axis.\"\"\",\n",
    "    '009d5c81': \"\"\"To create the output we have to copy the input with two modifications:\n",
    "\n",
    "1. The object with color 1 is removed and replaced with the background color 0\n",
    "2. The color of the other object (there are only two objects in the grid) is modified.\n",
    "  The new color of this object depends on the shape of the object of color 1. There is a mapping\n",
    "  between shapes and colors. Just look at the train examples for an object of the same shape\n",
    "  and see the color that is applied on the output.\"\"\",\n",
    "    '00dbd492': \"\"\"The input shows a square with color 2 that is empty except from a point in the center.\n",
    "The output is created by colorizing the inside of the square. The color is chosen depending on the size of the squares.\n",
    "The larger square is painted with 3, the medium with 4 and the small with 8.\"\"\",\n",
    "    '03560426': \"\"\"The input shows objects of different colors at the bottom of the grid.\n",
    "The output is created by moving the objects to the top left corner. The objects are moved from left to right order.\n",
    "The first object is placed at the top left corner, the second object is placed at the lower right corner of the first object,\n",
    "the third object is placed at the lower right corner of the second object and so on. There is oclusion between the objects,\n",
    "in those oclusions we see the rightmost object.\"\"\",\n",
    "    '0607ce86': \"\"\"This is a denoising task. The input shows the same object repeated many times, but there are noisy pixels in the grid.\n",
    "The output is created by removing all the noise in the grid. The background should be completely 0.\n",
    "The real object without noise can be guessed because there are many repetitions of the object, so we simply have to\n",
    "look at the majority pixel on each location.\"\"\",\n",
    "    '0692e18c': \"\"\"The ouptut is created following this steps.\n",
    "\n",
    "1. The input is upscaled x3. So if the input is 3x3 the output should be an upscaled version of the input 9x9\n",
    "2. We apply an AND function in a sliding window fashion over the output using the inverted input pattern (take the input and swicth the background color 0 with the other color and viceversa)\n",
    "    \"\"\",\n",
    "    '070dd51e': \"\"\"The output is created by simply drawing horizontal and vertical lines between cells with the same color.\n",
    "If there is an intersection between lines the vertical line will be shown.\"\"\",\n",
    "    '08573cc6': \"\"\"The output is created by drawing an spiral that starts at the cell with color 1.\n",
    "The colors of the spiral are taken from the first two cells of the grid, which will be removed in the output.\"\"\",\n",
    "    '0a2355a6': \"\"\"The output is created by copying the input and changing the color of the objects.\n",
    "The new color will be chosen depending on the number of holes of the object. There is a mapping between number of holes and color that can be observed from the input examples.\"\"\",\n",
    "}"
   ]
  },
  {
   "cell_type": "code",
   "execution_count": null,
   "id": "9f9de25e",
   "metadata": {
    "execution": {
     "iopub.execute_input": "2024-07-25T15:36:11.797967Z",
     "iopub.status.busy": "2024-07-25T15:36:11.797702Z",
     "iopub.status.idle": "2024-07-25T15:36:11.812661Z",
     "shell.execute_reply": "2024-07-25T15:36:11.811889Z"
    },
    "papermill": {
     "duration": 0.033482,
     "end_time": "2024-07-25T15:36:11.814433",
     "exception": false,
     "start_time": "2024-07-25T15:36:11.780951",
     "status": "completed"
    },
    "tags": []
   },
   "outputs": [],
   "source": [
    "class FewShotPromptCreator(PromptCreator):\n",
    "    task_description = \"\"\"You are a helpful AI assistant. Your job is to solve tasks from the Abstraction and Reasoning Challenge (ARC). \n",
    "The user will present you with sample input and output grids for each task. \n",
    "Your job will be to understand the transformation between the input and the output and apply it to the last input grid given by the user. \n",
    "The puzzle-like inputs and outputs present a grid where each square can be one of ten colors. A grid can be any height or width between 1x1 and 30x30.\n",
    "The background of the grid is typically colored with 0.\n",
    "The tasks from ARC are based on the following priors:\n",
    "\n",
    "- Objectness: Objects persist and cannot appear or disappear without reason. Objects can interact or not depending on the circumstances.\n",
    "- Goal-directed: Objects can be animate or inanimate. Some objects are \"agents\" - they have intentions and they pursue goals.\n",
    "- Numbers & counting: Objects can be counted or sorted by their shape, appearance, or movement using basic mathematics like addition, subtraction, and comparison.\n",
    "- Basic geometry & topology: Objects can be shapes like rectangles, triangles, and circles which can be mirrored, rotated, translated, deformed, combined, repeated, etc. Differences in distances can be detected.\n",
    "\n",
    "The transformations between input and output should be based on these priors.\n",
    "\"\"\"\n",
    "    def __init__(self, grid_encoder):\n",
    "        super().__init__(grid_encoder)\n",
    "        with open(cfg.few_shot_dataset_path, 'r') as f:\n",
    "            self.few_shot_tasks = json.load(f)\n",
    "        with open(cfg.few_shot_dataset_path.replace('challenges.json', 'solutions.json'), 'r') as f:\n",
    "            self.few_shot_solutions = json.load(f)\n",
    "        self.few_shot_tasks = {task_id: self.few_shot_tasks[task_id] for task_id in puzzle_explanations}\n",
    "        self.few_shot_solutions = {task_id: self.few_shot_solutions[task_id] for task_id in puzzle_explanations}\n",
    "        self.few_shot_task_ids = list(self.few_shot_tasks.keys())\n",
    "        self.n_shots = cfg.n_shots\n",
    "    \n",
    "    def create_task_prompts(self, task):\n",
    "        messages = [{\"role\": \"system\", \"content\": self.task_description}]\n",
    "        \n",
    "        for task_id in np.random.choice(self.few_shot_task_ids, self.n_shots):\n",
    "            few_shot_task = self.few_shot_tasks[task_id]\n",
    "            user_message = self.create_user_message_for_train_examples(few_shot_task)\n",
    "            for test_idx, test_sample in enumerate(few_shot_task['test']):\n",
    "                user_message += self.create_input_message('Test case', test_sample)\n",
    "                messages.append({\"role\": \"user\", \"content\": user_message})\n",
    "                user_message = ''\n",
    "                assistant_message = f'{puzzle_explanations[task_id]}\\n\\n' + self.create_output_message(self.few_shot_solutions[task_id][test_idx])\n",
    "                messages.append({\"role\": \"assistant\", \"content\": assistant_message})\n",
    "\n",
    "        user_message = self.create_user_message_for_train_examples(task)        \n",
    "        prompts = []\n",
    "        for test_sample in task['test']:\n",
    "            user_message += self.create_input_message('Test case', test_sample)\n",
    "            messages.append({\"role\": \"user\", \"content\": user_message})\n",
    "            prompt = tokenizer.apply_chat_template(messages,\n",
    "                                                   tokenize=False,\n",
    "                                                   add_generation_prompt=True)\n",
    "            prompts.append(prompt)\n",
    "        return prompts\n",
    "    \n",
    "    def create_user_message_for_train_examples(self, task):\n",
    "        user_message = \"Let's see if you can solve this simple ARC task. These are some input-output grid examples that define the task.\\n\"\n",
    "        for example_idx, sample in enumerate(task['train']):\n",
    "            user_message += self.create_input_message(f'Example {example_idx}', sample)\n",
    "            user_message += '\\n' + self.create_output_message(sample['output'])\n",
    "        return user_message\n",
    "\n",
    "    def create_input_message(self, title, sample):\n",
    "        return f\"\\n## {title}\\n\\n### Input\\n\\n{self.grid_encoder.to_text(sample['input'])}\\n\"\n",
    "    \n",
    "    def create_output_message(self, grid):\n",
    "        return f\"### Output\\n\\n{self.grid_encoder.to_text(grid)}\\n\"\n",
    "    \n",
    "    def parse_response(self, text):\n",
    "        return self.grid_encoder.to_grid(text)"
   ]
  },
  {
   "cell_type": "code",
   "execution_count": null,
   "id": "8e8f0a9d",
   "metadata": {
    "execution": {
     "iopub.execute_input": "2024-07-25T15:36:11.846898Z",
     "iopub.status.busy": "2024-07-25T15:36:11.846612Z",
     "iopub.status.idle": "2024-07-25T15:36:11.853676Z",
     "shell.execute_reply": "2024-07-25T15:36:11.852861Z"
    },
    "papermill": {
     "duration": 0.025618,
     "end_time": "2024-07-25T15:36:11.855618",
     "exception": false,
     "start_time": "2024-07-25T15:36:11.830000",
     "status": "completed"
    },
    "tags": []
   },
   "outputs": [],
   "source": [
    "def print_sample_prompt(data, prompt_creator):\n",
    "    prompts = [prompt_creator.create_task_prompts(task)[0] for task in data.values()]\n",
    "    prompts = sorted(prompts, key=lambda x: len(x))\n",
    "    pretty_print_prompt(prompts[0])\n",
    "    \n",
    "def pretty_print_prompt(text, default_color='white'):\n",
    "    color = default_color\n",
    "    attrs = None\n",
    "    for line in text.splitlines():\n",
    "        if line.startswith('<|assistant|>'):\n",
    "            color = 'blue'\n",
    "        elif line.startswith('<|user|>'):\n",
    "            color = default_color\n",
    "        elif line.startswith('<|system|>'):\n",
    "            color = 'green'\n",
    "        if line.startswith('<'):\n",
    "            attrs = ['bold']\n",
    "        else:\n",
    "            attrs = None\n",
    "        print(colored(line, color, attrs=attrs))"
   ]
  },
  {
   "cell_type": "code",
   "execution_count": null,
   "id": "623e57f2",
   "metadata": {
    "execution": {
     "iopub.execute_input": "2024-07-25T15:36:11.888682Z",
     "iopub.status.busy": "2024-07-25T15:36:11.888441Z",
     "iopub.status.idle": "2024-07-25T15:36:11.893727Z",
     "shell.execute_reply": "2024-07-25T15:36:11.892873Z"
    },
    "papermill": {
     "duration": 0.023828,
     "end_time": "2024-07-25T15:36:11.895610",
     "exception": false,
     "start_time": "2024-07-25T15:36:11.871782",
     "status": "completed"
    },
    "tags": []
   },
   "outputs": [],
   "source": [
    "def plot_input_token_length_distribution(data, prompt_creator):\n",
    "    prompts = []\n",
    "    for task in data.values():\n",
    "        prompts.extend(prompt_creator.create_task_prompts(task))\n",
    "    token_length_distribution = [len(tokenizer.tokenize(prompt)) for prompt in tqdm(prompts)]\n",
    "    plt.title('Prompt token length distribution')\n",
    "    plt.hist(token_length_distribution)\n",
    "    plt.xlabel('n tokens')"
   ]
  },
  {
   "cell_type": "markdown",
   "id": "b71468e3",
   "metadata": {
    "papermill": {
     "duration": 0.015229,
     "end_time": "2024-07-25T15:36:11.926625",
     "exception": false,
     "start_time": "2024-07-25T15:36:11.911396",
     "status": "completed"
    },
    "tags": []
   },
   "source": [
    "### Model"
   ]
  },
  {
   "cell_type": "code",
   "execution_count": null,
   "id": "4244c5ed",
   "metadata": {
    "execution": {
     "iopub.execute_input": "2024-07-25T15:36:11.959299Z",
     "iopub.status.busy": "2024-07-25T15:36:11.958708Z",
     "iopub.status.idle": "2024-07-25T15:36:11.964159Z",
     "shell.execute_reply": "2024-07-25T15:36:11.963334Z"
    },
    "papermill": {
     "duration": 0.023781,
     "end_time": "2024-07-25T15:36:11.966054",
     "exception": false,
     "start_time": "2024-07-25T15:36:11.942273",
     "status": "completed"
    },
    "tags": []
   },
   "outputs": [],
   "source": [
    "if not is_dry_run:\n",
    "    llm = LLM(model=cfg.model_path,\n",
    "              trust_remote_code=True, \n",
    "              dtype='half', \n",
    "              tensor_parallel_size=2, # to use 2 gpus\n",
    "              max_model_len=cfg.max_model_len,\n",
    "            #   kv_cache_dtype='fp8_e5m2',\n",
    "              enforce_eager=True, # without this 13.9GB of memory is used on each GPU, with this is 13.3GB,\n",
    "              disable_log_stats=True,\n",
    "            #   enable_lora=True,\n",
    "            #   max_lora_rank=32,\n",
    "             )\n",
    "    tokenizer = AutoTokenizer.from_pretrained(cfg.model_path)\n",
    "    for number in '0123456789':\n",
    "        print(f'{number}: {[key for key in tokenizer.get_vocab().keys() if number in key and not key.startswith(\"<\")]}')"
   ]
  },
  {
   "cell_type": "markdown",
   "id": "a487c7f8",
   "metadata": {
    "papermill": {
     "duration": 0.016163,
     "end_time": "2024-07-25T15:36:11.998102",
     "exception": false,
     "start_time": "2024-07-25T15:36:11.981939",
     "status": "completed"
    },
    "tags": []
   },
   "source": [
    "The tokenizer from phi-3 encodes each digit indepently, it does not group numbers such as 10 or 100."
   ]
  },
  {
   "cell_type": "markdown",
   "id": "0772cc56",
   "metadata": {
    "papermill": {
     "duration": 0.016309,
     "end_time": "2024-07-25T15:36:12.031071",
     "exception": false,
     "start_time": "2024-07-25T15:36:12.014762",
     "status": "completed"
    },
    "tags": []
   },
   "source": [
    "### Data augmentation"
   ]
  },
  {
   "cell_type": "markdown",
   "id": "d131fed0",
   "metadata": {
    "papermill": {
     "duration": 0.016057,
     "end_time": "2024-07-25T15:36:12.063773",
     "exception": false,
     "start_time": "2024-07-25T15:36:12.047716",
     "status": "completed"
    },
    "tags": []
   },
   "source": [
    "We need data augmentation to make multiple predictions for each task."
   ]
  },
  {
   "cell_type": "code",
   "execution_count": null,
   "id": "1b556bb1",
   "metadata": {
    "execution": {
     "iopub.execute_input": "2024-07-25T15:36:12.098058Z",
     "iopub.status.busy": "2024-07-25T15:36:12.097741Z",
     "iopub.status.idle": "2024-07-25T15:36:12.109543Z",
     "shell.execute_reply": "2024-07-25T15:36:12.108859Z"
    },
    "papermill": {
     "duration": 0.031158,
     "end_time": "2024-07-25T15:36:12.111437",
     "exception": false,
     "start_time": "2024-07-25T15:36:12.080279",
     "status": "completed"
    },
    "tags": []
   },
   "outputs": [],
   "source": [
    "class DataAugmentation():\n",
    "    def __init__(self, flip, n_rot90):\n",
    "        self.flip = flip\n",
    "        self.n_rot90 = n_rot90\n",
    "        \n",
    "    def augment_task(self, task):\n",
    "        augmented_task = dict()\n",
    "        for partition, samples in task.items():\n",
    "            augmented_task[partition] = [{name:self.augment_grid(grid) for name,grid in sample.items()} for sample in samples]\n",
    "        return augmented_task\n",
    "    \n",
    "    def augment_grid(self, grid):\n",
    "        grid = np.array(grid)\n",
    "        if self.flip:\n",
    "            grid = np.flip(grid, axis=1)\n",
    "        grid = np.rot90(grid, k=self.n_rot90)\n",
    "        return grid.tolist()\n",
    "    \n",
    "    def revert_augmentation(self, grid):\n",
    "        grid = np.array(grid)\n",
    "        grid = np.rot90(grid, k=-self.n_rot90)\n",
    "        if self.flip:\n",
    "            grid = np.flip(grid, axis=1)\n",
    "        return grid.tolist()\n",
    "\n",
    "\n",
    "for flip in [True, False]:\n",
    "    for n_rot90 in range(4):\n",
    "        data_augmentation = DataAugmentation(flip, n_rot90)\n",
    "        assert sample_grid == data_augmentation.revert_augmentation(data_augmentation.augment_grid(sample_grid))"
   ]
  },
  {
   "cell_type": "markdown",
   "id": "21978194",
   "metadata": {
    "papermill": {
     "duration": 0.015282,
     "end_time": "2024-07-25T15:36:12.142221",
     "exception": false,
     "start_time": "2024-07-25T15:36:12.126939",
     "status": "completed"
    },
    "tags": []
   },
   "source": [
    "### Plots"
   ]
  },
  {
   "cell_type": "code",
   "execution_count": null,
   "id": "ec1d999f",
   "metadata": {
    "execution": {
     "iopub.execute_input": "2024-07-25T15:36:12.173937Z",
     "iopub.status.busy": "2024-07-25T15:36:12.173652Z",
     "iopub.status.idle": "2024-07-25T15:36:12.182795Z",
     "shell.execute_reply": "2024-07-25T15:36:12.182106Z"
    },
    "papermill": {
     "duration": 0.027098,
     "end_time": "2024-07-25T15:36:12.184685",
     "exception": false,
     "start_time": "2024-07-25T15:36:12.157587",
     "status": "completed"
    },
    "tags": []
   },
   "outputs": [],
   "source": [
    "def plot_task(task):\n",
    "    samples = task['train'] + task['test']\n",
    "    for plot_idx, sample in enumerate(samples):\n",
    "        plt.subplot(2, len(samples), plot_idx + 1)\n",
    "        plot_grid(sample['input'])\n",
    "        if 'output' in sample:\n",
    "            plt.subplot(2, len(samples), plot_idx + 1 + len(samples))\n",
    "            plot_grid(sample['output'])\n",
    "            \n",
    "def plot_grids(grids):\n",
    "    for plot_idx, grid in enumerate(grids):\n",
    "        plt.subplot(1, len(grids), plot_idx + 1)\n",
    "        plot_grid(grid)\n",
    "            \n",
    "def plot_grid(grid):\n",
    "    grid = np.array(grid)\n",
    "    cmap = colors.ListedColormap(\n",
    "        ['#000000', '#0074D9','#FF4136','#2ECC40','#FFDC00',\n",
    "         '#AAAAAA', '#F012BE', '#FF851B', '#7FDBFF', '#870C25'])\n",
    "    norm = colors.Normalize(vmin=0, vmax=9)\n",
    "    plt.imshow(grid, cmap=cmap, norm=norm)\n",
    "    plt.grid(True,which='both',color='lightgrey', linewidth=0.5) \n",
    "    plt.xticks(np.arange(-0.5, grid.shape[1]), [])\n",
    "    plt.yticks(np.arange(-0.5, grid.shape[0]), [])\n",
    "    plt.xlim(-0.5, grid.shape[1]-0.5)"
   ]
  },
  {
   "cell_type": "markdown",
   "id": "0a21ec21",
   "metadata": {
    "papermill": {
     "duration": 0.015322,
     "end_time": "2024-07-25T15:36:12.215488",
     "exception": false,
     "start_time": "2024-07-25T15:36:12.200166",
     "status": "completed"
    },
    "tags": []
   },
   "source": [
    "### Evaluation"
   ]
  },
  {
   "cell_type": "code",
   "execution_count": null,
   "id": "e4ba6035",
   "metadata": {
    "execution": {
     "iopub.execute_input": "2024-07-25T15:36:12.247909Z",
     "iopub.status.busy": "2024-07-25T15:36:12.247640Z",
     "iopub.status.idle": "2024-07-25T15:36:12.252866Z",
     "shell.execute_reply": "2024-07-25T15:36:12.252088Z"
    },
    "papermill": {
     "duration": 0.02335,
     "end_time": "2024-07-25T15:36:12.254692",
     "exception": false,
     "start_time": "2024-07-25T15:36:12.231342",
     "status": "completed"
    },
    "tags": []
   },
   "outputs": [],
   "source": [
    "def analyze_number_of_predictions_per_task(data, texts):\n",
    "    number_of_predictions = dict()\n",
    "    for task_id, task in data.items():\n",
    "        number_of_predictions[task_id] = len(texts[task_id]['responses'])/len(task['test'])\n",
    "    plt.title('Distribution of the number of predictions per task')\n",
    "    plt.hist(number_of_predictions.values(), bins=np.arange(1.5, 9))\n",
    "    plt.xlabel('number of predictions')\n",
    "    plt.ylabel('count')\n",
    "    return number_of_predictions"
   ]
  },
  {
   "cell_type": "code",
   "execution_count": null,
   "id": "b15a11ea",
   "metadata": {
    "execution": {
     "iopub.execute_input": "2024-07-25T15:36:12.287604Z",
     "iopub.status.busy": "2024-07-25T15:36:12.287353Z",
     "iopub.status.idle": "2024-07-25T15:36:12.303380Z",
     "shell.execute_reply": "2024-07-25T15:36:12.302627Z"
    },
    "papermill": {
     "duration": 0.035329,
     "end_time": "2024-07-25T15:36:12.305270",
     "exception": false,
     "start_time": "2024-07-25T15:36:12.269941",
     "status": "completed"
    },
    "tags": []
   },
   "outputs": [],
   "source": [
    "def evaluate(ground_truth, solutions):\n",
    "    \"\"\"\n",
    "    Computes the following metrics:\n",
    "    \n",
    "    - Accuracy\n",
    "    - Correct pixels\n",
    "    - Correct size\n",
    "    \"\"\"\n",
    "    metrics = []\n",
    "    accuracy, correct_pixels, correct_size = [], [], []\n",
    "    for task_id, task_ground_truth in ground_truth.items():\n",
    "        task_metrics = []\n",
    "        plot_task(data[task_id]); plt.suptitle(f'{task_id}'); plt.show()\n",
    "        for idx, correct_grid in enumerate(task_ground_truth):\n",
    "            predicted_grids = list(solutions[task_id][idx].values())\n",
    "            predicted_grids = [grid for grid in predicted_grids if grid]\n",
    "            \n",
    "            task_metrics.append(evaluate_grid(correct_grid, predicted_grids))\n",
    "            print_metrics(task_metrics[-1], f'{task_id}_{idx}')\n",
    "            plot_grids([correct_grid] + predicted_grids)\n",
    "            plt.suptitle(f'{task_id}_{idx}')\n",
    "            plt.show()\n",
    "        metrics.append(average_metrics(task_metrics))\n",
    "    print('\\n'*3 + '# Aggregated metrics:')\n",
    "    print_metrics(average_metrics(metrics))\n",
    "    save_metrics(metrics, solutions)\n",
    "    plot_metrics_distribution(metrics)\n",
    "    print_metrics(average_metrics(metrics))\n",
    "    return metrics\n",
    "    \n",
    "def plot_metrics_distribution(metrics):\n",
    "    for key in metrics[0]:\n",
    "        values = [x[key] for x in metrics]\n",
    "        plt.title(f'Distribution of {key}')\n",
    "        plt.hist(values, bins=np.linspace(0, 1, 10))\n",
    "        plt.xlabel(key)\n",
    "        plt.ylabel('count')\n",
    "        plt.show()\n",
    "    \n",
    "def average_metrics(metrics):\n",
    "    averaged_metrics = dict()\n",
    "    for key in metrics[0]:\n",
    "        averaged_metrics[key] = np.mean([x[key] for x in metrics])\n",
    "    return averaged_metrics\n",
    "        \n",
    "def save_metrics(metrics, solutions):\n",
    "    formatted_metrics = dict(global_metrics=average_metrics(metrics))\n",
    "    for task_id, task_metrics in zip(solutions, metrics):\n",
    "        formatted_metrics[task_id] = task_metrics\n",
    "    with open('metrics.json', 'w') as f:\n",
    "        json.dump(formatted_metrics, f)\n",
    "\n",
    "def print_metrics(metrics, prefix=''):\n",
    "    text = f'{prefix}'\n",
    "    for key, value in metrics.items():\n",
    "        text += f'{key}: {value*100:.1f}%\\t'\n",
    "    print(text)\n",
    "\n",
    "    \n",
    "def evaluate_grid(correct_grid, predicted_grids):\n",
    "    correct_grid = np.array(correct_grid)\n",
    "    metrics = dict(accuracy=0, correct_pixels=0, correct_size=0, unanswered=(2 - len(predicted_grids))/2)\n",
    "    for predicted_grid in predicted_grids:\n",
    "        predicted_grid = np.array(predicted_grid)\n",
    "        if correct_grid.shape == predicted_grid.shape:\n",
    "            metrics['accuracy'] = max(metrics['accuracy'], np.all(predicted_grid == correct_grid))\n",
    "            metrics['correct_pixels'] = max(metrics['correct_pixels'], np.mean(predicted_grid == correct_grid))\n",
    "            metrics['correct_size'] = max(metrics['correct_size'], correct_grid.shape == predicted_grid.shape)\n",
    "    return metrics"
   ]
  },
  {
   "cell_type": "markdown",
   "id": "ad9c57cf",
   "metadata": {
    "papermill": {
     "duration": 0.015554,
     "end_time": "2024-07-25T15:36:12.337197",
     "exception": false,
     "start_time": "2024-07-25T15:36:12.321643",
     "status": "completed"
    },
    "tags": []
   },
   "source": [
    "## Inference"
   ]
  },
  {
   "cell_type": "markdown",
   "id": "5a7f0302",
   "metadata": {
    "papermill": {
     "duration": 0.015347,
     "end_time": "2024-07-25T15:36:12.368386",
     "exception": false,
     "start_time": "2024-07-25T15:36:12.353039",
     "status": "completed"
    },
    "tags": []
   },
   "source": [
    "We need to generate 2 different predictions for each task. The model could fail to generate a prediction, or the parsing can fail... Thus we need a method that is robust to fails.\n",
    "\n",
    "One way to solve this would be to use data augmentation. By applying rotations and flips we could generate up to 8 variations of each task. So we could try with different data augmentations until we have 2 predictions for each task. Another alternative would be to make inference with the 8 variations and use majority voting."
   ]
  },
  {
   "cell_type": "code",
   "execution_count": null,
   "id": "dd0a2543",
   "metadata": {
    "execution": {
     "iopub.execute_input": "2024-07-25T15:36:12.400679Z",
     "iopub.status.busy": "2024-07-25T15:36:12.400421Z",
     "iopub.status.idle": "2024-07-25T15:36:12.411766Z",
     "shell.execute_reply": "2024-07-25T15:36:12.410954Z"
    },
    "papermill": {
     "duration": 0.029422,
     "end_time": "2024-07-25T15:36:12.413589",
     "exception": false,
     "start_time": "2024-07-25T15:36:12.384167",
     "status": "completed"
    },
    "tags": []
   },
   "outputs": [],
   "source": [
    "# TODO: lora\n",
    "# lora_request = LoRARequest(\"learn-to-count\", 1, '/mnt/hdd0/Kaggle/arc24/models/20240724_first_trainings/15_continue_training_phi3_4e5/checkpoint-22800')\n",
    "\n",
    "\n",
    "def solve_task(task_id, task, prompt_creator, sampling_params):\n",
    "    data_augmentation_params = product([False, True], [0, 1, 2, 3])\n",
    "    solution = {task_id:[{\"attempt_1\": [], \"attempt_2\": []} for _ in task['test']]}\n",
    "    texts = dict(prompts=[], responses=[], exceptions=[])\n",
    "    for flip, n_rot90 in islice(data_augmentation_params, cfg.max_predictions_per_task):\n",
    "        data_augmentation = DataAugmentation(flip, n_rot90)\n",
    "        augmented_task = data_augmentation.augment_task(task)\n",
    "        prompts = prompt_creator.create_task_prompts(augmented_task)\n",
    "        outputs = llm.generate(prompts, sampling_params) #TODO:, lora_request=lora_request)\n",
    "        responses = [output.outputs[0].text for output in outputs]\n",
    "        for idx, response in enumerate(responses):\n",
    "            try:\n",
    "                augmented_grid = prompt_creator.parse_response(response)\n",
    "                grid = data_augmentation.revert_augmentation(augmented_grid)\n",
    "                if not solution[task_id][idx][\"attempt_1\"]:\n",
    "                    solution[task_id][idx][\"attempt_1\"] = grid\n",
    "                elif solution[task_id][idx][\"attempt_1\"] != grid and not solution[task_id][idx][\"attempt_2\"]:\n",
    "                    solution[task_id][idx][\"attempt_2\"] = grid\n",
    "            except Exception as e:\n",
    "                print(f'Exception when parsing response from {task_id}: {e}')\n",
    "                texts['exceptions'].append(str(e))\n",
    "        texts['prompts'].append(prompts)\n",
    "        texts['responses'].append(responses)\n",
    "        if is_solution_done(solution):\n",
    "            break\n",
    "    return solution, {task_id:texts}\n",
    "\n",
    "def is_solution_done(solution):\n",
    "    for task_id, predictions in solution.items():\n",
    "        for prediction in predictions:\n",
    "            for grid in prediction.values():\n",
    "                if not grid:\n",
    "                    return False\n",
    "    return True"
   ]
  },
  {
   "cell_type": "code",
   "execution_count": null,
   "id": "260e09de",
   "metadata": {
    "execution": {
     "iopub.execute_input": "2024-07-25T15:36:12.445442Z",
     "iopub.status.busy": "2024-07-25T15:36:12.445184Z",
     "iopub.status.idle": "2024-07-25T15:36:12.450215Z",
     "shell.execute_reply": "2024-07-25T15:36:12.449405Z"
    },
    "papermill": {
     "duration": 0.023277,
     "end_time": "2024-07-25T15:36:12.452079",
     "exception": false,
     "start_time": "2024-07-25T15:36:12.428802",
     "status": "completed"
    },
    "tags": []
   },
   "outputs": [],
   "source": [
    "def inference(data, prompt_creator, sampling_params):\n",
    "    solutions, texts = dict(), dict()\n",
    "    for task_id, task in tqdm(data.items(), total=len(data), smoothing=0):\n",
    "        task_solution, task_texts = solve_task(task_id, task, prompt_creator, sampling_params)\n",
    "        solutions.update(task_solution)\n",
    "        texts.update(task_texts)\n",
    "    return solutions, texts"
   ]
  },
  {
   "cell_type": "code",
   "execution_count": null,
   "id": "fd093972",
   "metadata": {
    "execution": {
     "iopub.execute_input": "2024-07-25T15:36:12.485021Z",
     "iopub.status.busy": "2024-07-25T15:36:12.484525Z",
     "iopub.status.idle": "2024-07-25T15:36:12.521580Z",
     "shell.execute_reply": "2024-07-25T15:36:12.520619Z"
    },
    "papermill": {
     "duration": 0.055729,
     "end_time": "2024-07-25T15:36:12.523477",
     "exception": false,
     "start_time": "2024-07-25T15:36:12.467748",
     "status": "completed"
    },
    "tags": []
   },
   "outputs": [],
   "source": [
    "with open(cfg.dataset_path) as f:\n",
    "    data = json.load(f)\n",
    "if cfg.n_tasks is not None:\n",
    "    data = dict(islice(data.items(), cfg.n_tasks))\n",
    "print(f'There are {len(data)} tasks to solve.')"
   ]
  },
  {
   "cell_type": "code",
   "execution_count": null,
   "id": "1b497133",
   "metadata": {
    "execution": {
     "iopub.execute_input": "2024-07-25T15:36:12.558416Z",
     "iopub.status.busy": "2024-07-25T15:36:12.558136Z",
     "iopub.status.idle": "2024-07-25T15:36:12.562670Z",
     "shell.execute_reply": "2024-07-25T15:36:12.561864Z"
    },
    "papermill": {
     "duration": 0.024151,
     "end_time": "2024-07-25T15:36:12.564623",
     "exception": false,
     "start_time": "2024-07-25T15:36:12.540472",
     "status": "completed"
    },
    "tags": []
   },
   "outputs": [],
   "source": [
    "if not is_dry_run:\n",
    "    prompt_creator = FewShotPromptCreator(GridCodeBlockEncoder(MinimalGridEncoder()))\n",
    "    # prompt_creator = SimplePromptCreator(GridCodeBlockEncoder(MinimalGridEncoder()))\n",
    "    # prompt_creator = SimplePromptCreator(GridCodeBlockEncoder(GridWithSeparationEncoder('|')))\n",
    "    print_sample_prompt(data, prompt_creator)\n",
    "    plot_input_token_length_distribution(data, prompt_creator)"
   ]
  },
  {
   "cell_type": "code",
   "execution_count": null,
   "id": "bc66ed8d",
   "metadata": {
    "execution": {
     "iopub.execute_input": "2024-07-25T15:36:12.598840Z",
     "iopub.status.busy": "2024-07-25T15:36:12.598558Z",
     "iopub.status.idle": "2024-07-25T15:36:12.604116Z",
     "shell.execute_reply": "2024-07-25T15:36:12.603335Z"
    },
    "papermill": {
     "duration": 0.024852,
     "end_time": "2024-07-25T15:36:12.606103",
     "exception": false,
     "start_time": "2024-07-25T15:36:12.581251",
     "status": "completed"
    },
    "tags": []
   },
   "outputs": [],
   "source": [
    "if is_dry_run:\n",
    "    with open('submission.json', 'w') as f:\n",
    "        json.dump(dict(dry_run=True), f)\n",
    "else:\n",
    "    sampling_params = SamplingParams(**cfg.sampling_params)\n",
    "    solutions, texts = inference(data, prompt_creator, sampling_params)\n",
    "    with open('submission.json', 'w') as f:\n",
    "        json.dump(solutions, f)"
   ]
  },
  {
   "cell_type": "code",
   "execution_count": null,
   "id": "b8c13543",
   "metadata": {
    "execution": {
     "iopub.execute_input": "2024-07-25T15:36:12.640460Z",
     "iopub.status.busy": "2024-07-25T15:36:12.640195Z",
     "iopub.status.idle": "2024-07-25T15:36:12.644309Z",
     "shell.execute_reply": "2024-07-25T15:36:12.643462Z"
    },
    "papermill": {
     "duration": 0.023613,
     "end_time": "2024-07-25T15:36:12.646289",
     "exception": false,
     "start_time": "2024-07-25T15:36:12.622676",
     "status": "completed"
    },
    "tags": []
   },
   "outputs": [],
   "source": [
    "if not is_dry_run:\n",
    "    number_of_predictions_per_task = analyze_number_of_predictions_per_task(data, texts)\n",
    "    number_of_predictions_per_task"
   ]
  },
  {
   "cell_type": "markdown",
   "id": "e41cd4e4",
   "metadata": {
    "papermill": {
     "duration": 0.016189,
     "end_time": "2024-07-25T15:36:12.679110",
     "exception": false,
     "start_time": "2024-07-25T15:36:12.662921",
     "status": "completed"
    },
    "tags": []
   },
   "source": [
    "## Evaluation"
   ]
  },
  {
   "cell_type": "markdown",
   "id": "2ae63716",
   "metadata": {},
   "source": [
    "### Visualization"
   ]
  },
  {
   "cell_type": "code",
   "execution_count": null,
   "id": "0a292639",
   "metadata": {
    "execution": {
     "iopub.execute_input": "2024-07-25T15:36:12.712533Z",
     "iopub.status.busy": "2024-07-25T15:36:12.712274Z",
     "iopub.status.idle": "2024-07-25T15:36:12.720548Z",
     "shell.execute_reply": "2024-07-25T15:36:12.719724Z"
    },
    "papermill": {
     "duration": 0.026938,
     "end_time": "2024-07-25T15:36:12.722550",
     "exception": false,
     "start_time": "2024-07-25T15:36:12.695612",
     "status": "completed"
    },
    "tags": []
   },
   "outputs": [],
   "source": [
    "ground_truth_path = cfg.dataset_path.replace('challenges.json', 'solutions.json')\n",
    "if os.path.exists(ground_truth_path):\n",
    "    with open(ground_truth_path, 'r') as f:\n",
    "        ground_truth = json.load(f)\n",
    "    ground_truth = {key: ground_truth[key] for key in solutions}\n",
    "    metrics = evaluate(ground_truth, solutions)\n",
    "    \n",
    "    with open('texts.json', 'w') as f:\n",
    "        json.dump(texts, f)\n",
    "    with open('number_of_predictions_per_task.json', 'w') as f:\n",
    "        json.dump(number_of_predictions_per_task, f)"
   ]
  },
  {
   "cell_type": "markdown",
   "id": "03512846",
   "metadata": {},
   "source": [
    "### Just metrics"
   ]
  },
  {
   "cell_type": "code",
   "execution_count": null,
   "id": "455e85b9",
   "metadata": {},
   "outputs": [],
   "source": [
    "print_metrics(average_metrics(metrics))"
   ]
  },
  {
   "cell_type": "markdown",
   "id": "0b2e7d05",
   "metadata": {},
   "source": [
    "## Close"
   ]
  },
  {
   "cell_type": "code",
   "execution_count": null,
   "id": "8ab70c72",
   "metadata": {},
   "outputs": [],
   "source": [
    "def clear_vllm_gpu_memory():\n",
    "    global llm\n",
    "    # https://github.com/vllm-project/vllm/issues/1908\n",
    "    from vllm.distributed.parallel_state import destroy_model_parallel, destroy_distributed_environment\n",
    "    import torch\n",
    "    import gc\n",
    "    destroy_model_parallel()\n",
    "    destroy_distributed_environment()\n",
    "    del llm.llm_engine.model_executor\n",
    "    del llm\n",
    "    gc.collect()\n",
    "    torch.cuda.empty_cache()\n",
    "\n",
    "clear_vllm_gpu_memory()"
   ]
  },
  {
   "cell_type": "markdown",
   "id": "1d1f0937",
   "metadata": {
    "papermill": {
     "duration": 0.015372,
     "end_time": "2024-07-25T15:36:12.753459",
     "exception": false,
     "start_time": "2024-07-25T15:36:12.738087",
     "status": "completed"
    },
    "tags": []
   },
   "source": [
    "## TODO"
   ]
  },
  {
   "cell_type": "markdown",
   "id": "eb07eadc",
   "metadata": {
    "papermill": {
     "duration": 0.015375,
     "end_time": "2024-07-25T15:36:12.784663",
     "exception": false,
     "start_time": "2024-07-25T15:36:12.769288",
     "status": "completed"
    },
    "tags": []
   },
   "source": [
    "- [x] Do I have to apply the chat template before calling the model? Yes\n",
    "- [x] Implement a simple formatter and parser to go from ARC format to text and viceversa\n",
    "- [x] Function to format a sample and to parse the output\n",
    "- [x] Verify that the tokenizer does encode each cell independently. Using the tokenizer vocabulary I have verified that each number appears only once, thus separation between numbers is not necessary.\n",
    "- [x] Make inference in a whole dataset\n",
    "- [x] Evaluate dataset, I would like to see statistics about failed predictions and accuracy\n",
    "- [x] Visualization of the predictions\n",
    "- [x] Add a configuration object\n",
    "- [ ] Add logging\n",
    "- [x] Show a promtp as example\n",
    "- [x] Show the full task as reference\n",
    "- [x] Sampling parameters to configuration\n",
    "- [x] Improve saving of the metrics\n",
    "- [x] First evaluations with a smaller subset\n",
    "- [x] Token length distribution\n",
    "- [x] Dry run for submission, check on previous competitions how it is done. https://www.kaggle.com/discussions/product-feedback/315792\n",
    "- [x] Measure the number of predictions per task\n",
    "- [x] Better metrics\n",
    "- [x] Few shot prompts"
   ]
  }
 ],
 "metadata": {
  "kaggle": {
   "accelerator": "nvidiaTeslaT4",
   "dataSources": [
    {
     "databundleVersionId": 8951125,
     "sourceId": 67357,
     "sourceType": "competition"
    },
    {
     "sourceId": 189688667,
     "sourceType": "kernelVersion"
    },
    {
     "modelId": 1902,
     "modelInstanceId": 3900,
     "sourceId": 5112,
     "sourceType": "modelInstanceVersion"
    },
    {
     "modelId": 39106,
     "modelInstanceId": 28083,
     "sourceId": 33551,
     "sourceType": "modelInstanceVersion"
    },
    {
     "modelId": 90791,
     "modelInstanceId": 65946,
     "sourceId": 78461,
     "sourceType": "modelInstanceVersion"
    },
    {
     "modelId": 91102,
     "modelInstanceId": 68809,
     "sourceId": 81881,
     "sourceType": "modelInstanceVersion"
    }
   ],
   "dockerImageVersionId": 30747,
   "isGpuEnabled": true,
   "isInternetEnabled": false,
   "language": "python",
   "sourceType": "notebook"
  },
  "kernelspec": {
   "display_name": "Python 3",
   "language": "python",
   "name": "python3"
  },
  "language_info": {
   "codemirror_mode": {
    "name": "ipython",
    "version": 3
   },
   "file_extension": ".py",
   "mimetype": "text/x-python",
   "name": "python",
   "nbconvert_exporter": "python",
   "pygments_lexer": "ipython3",
   "version": "3.10.14"
  },
  "papermill": {
   "default_parameters": {},
   "duration": 6.886951,
   "end_time": "2024-07-25T15:36:13.018739",
   "environment_variables": {},
   "exception": null,
   "input_path": "__notebook__.ipynb",
   "output_path": "__notebook__.ipynb",
   "parameters": {},
   "start_time": "2024-07-25T15:36:06.131788",
   "version": "2.5.0"
  }
 },
 "nbformat": 4,
 "nbformat_minor": 5
}
